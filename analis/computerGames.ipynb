{
 "cells": [
  {
   "cell_type": "markdown",
   "metadata": {
    "id": "nxxY9AIPhdua"
   },
   "source": [
    "# Описание проекта\n",
    "\n",
    "Вы работаете в интернет-магазине, который продаёт по всему миру компьютерные игры. Из открытых источников доступны исторические данные о продажах игр, оценки пользователей и экспертов, жанры и платформы (например, Xbox или PlayStation). Вам нужно выявить определяющие успешность игры закономерности. Это позволит сделать ставку на потенциально популярный продукт и спланировать рекламные кампании."
   ]
  },
  {
   "cell_type": "markdown",
   "metadata": {
    "id": "oJ89yO-qiOtj"
   },
   "source": [
    "# Описание данных\n",
    "\n",
    "* *Name* — название игры\n",
    "* *Platform* — платформа\n",
    "* *Year_of_Release* — год выпуска\n",
    "* *Genre* — жанр игры\n",
    "* *NA_sales* — продажи в Северной Америке (миллионы проданных копий)\n",
    "* *EU_sales* — продажи в Европе (миллионы проданных копий)\n",
    "* *JP_sales* — продажи в Японии (миллионы проданных копий)\n",
    "* *Other_sales* — продажи в других странах (миллионы проданных копий)\n",
    "* *Critic_Score* — оценка критиков (максимум 100)\n",
    "* *User_Score* — оценка пользователей (максимум 10)\n",
    "* *Rating* — рейтинг от организации ESRB (англ. Entertainment Software Rating Board). Эта ассоциация определяет рейтинг компьютерных игр и присваивает им подходящую возрастную категорию."
   ]
  },
  {
   "cell_type": "markdown",
   "metadata": {
    "id": "4oVB1tIbK1JO"
   },
   "source": [
    "# 1. Откроем файл и изучим общую информацию."
   ]
  },
  {
   "cell_type": "code",
   "execution_count": 1,
   "metadata": {
    "id": "FLUFuGMPDETv"
   },
   "outputs": [],
   "source": [
    "import pandas as pd\n",
    "import numpy as np\n",
    "import matplotlib.pyplot as plt\n",
    "from scipy import stats as st\n"
   ]
  },
  {
   "cell_type": "code",
   "execution_count": 2,
   "metadata": {
    "id": "oGEqv_BHDeHA"
   },
   "outputs": [],
   "source": [
    "data = pd.read_csv('/datasets/games.csv')"
   ]
  },
  {
   "cell_type": "code",
   "execution_count": 3,
   "metadata": {
    "colab": {
     "base_uri": "https://localhost:8080/",
     "height": 206
    },
    "id": "kAD08gvZDs-b",
    "outputId": "101c5f95-d03d-4490-bf53-6101f0339d1e"
   },
   "outputs": [
    {
     "data": {
      "text/html": [
       "<div>\n",
       "<style scoped>\n",
       "    .dataframe tbody tr th:only-of-type {\n",
       "        vertical-align: middle;\n",
       "    }\n",
       "\n",
       "    .dataframe tbody tr th {\n",
       "        vertical-align: top;\n",
       "    }\n",
       "\n",
       "    .dataframe thead th {\n",
       "        text-align: right;\n",
       "    }\n",
       "</style>\n",
       "<table border=\"1\" class=\"dataframe\">\n",
       "  <thead>\n",
       "    <tr style=\"text-align: right;\">\n",
       "      <th></th>\n",
       "      <th>Name</th>\n",
       "      <th>Platform</th>\n",
       "      <th>Year_of_Release</th>\n",
       "      <th>Genre</th>\n",
       "      <th>NA_sales</th>\n",
       "      <th>EU_sales</th>\n",
       "      <th>JP_sales</th>\n",
       "      <th>Other_sales</th>\n",
       "      <th>Critic_Score</th>\n",
       "      <th>User_Score</th>\n",
       "      <th>Rating</th>\n",
       "    </tr>\n",
       "  </thead>\n",
       "  <tbody>\n",
       "    <tr>\n",
       "      <th>0</th>\n",
       "      <td>Wii Sports</td>\n",
       "      <td>Wii</td>\n",
       "      <td>2006.0</td>\n",
       "      <td>Sports</td>\n",
       "      <td>41.36</td>\n",
       "      <td>28.96</td>\n",
       "      <td>3.77</td>\n",
       "      <td>8.45</td>\n",
       "      <td>76.0</td>\n",
       "      <td>8</td>\n",
       "      <td>E</td>\n",
       "    </tr>\n",
       "    <tr>\n",
       "      <th>1</th>\n",
       "      <td>Super Mario Bros.</td>\n",
       "      <td>NES</td>\n",
       "      <td>1985.0</td>\n",
       "      <td>Platform</td>\n",
       "      <td>29.08</td>\n",
       "      <td>3.58</td>\n",
       "      <td>6.81</td>\n",
       "      <td>0.77</td>\n",
       "      <td>NaN</td>\n",
       "      <td>NaN</td>\n",
       "      <td>NaN</td>\n",
       "    </tr>\n",
       "    <tr>\n",
       "      <th>2</th>\n",
       "      <td>Mario Kart Wii</td>\n",
       "      <td>Wii</td>\n",
       "      <td>2008.0</td>\n",
       "      <td>Racing</td>\n",
       "      <td>15.68</td>\n",
       "      <td>12.76</td>\n",
       "      <td>3.79</td>\n",
       "      <td>3.29</td>\n",
       "      <td>82.0</td>\n",
       "      <td>8.3</td>\n",
       "      <td>E</td>\n",
       "    </tr>\n",
       "    <tr>\n",
       "      <th>3</th>\n",
       "      <td>Wii Sports Resort</td>\n",
       "      <td>Wii</td>\n",
       "      <td>2009.0</td>\n",
       "      <td>Sports</td>\n",
       "      <td>15.61</td>\n",
       "      <td>10.93</td>\n",
       "      <td>3.28</td>\n",
       "      <td>2.95</td>\n",
       "      <td>80.0</td>\n",
       "      <td>8</td>\n",
       "      <td>E</td>\n",
       "    </tr>\n",
       "    <tr>\n",
       "      <th>4</th>\n",
       "      <td>Pokemon Red/Pokemon Blue</td>\n",
       "      <td>GB</td>\n",
       "      <td>1996.0</td>\n",
       "      <td>Role-Playing</td>\n",
       "      <td>11.27</td>\n",
       "      <td>8.89</td>\n",
       "      <td>10.22</td>\n",
       "      <td>1.00</td>\n",
       "      <td>NaN</td>\n",
       "      <td>NaN</td>\n",
       "      <td>NaN</td>\n",
       "    </tr>\n",
       "  </tbody>\n",
       "</table>\n",
       "</div>"
      ],
      "text/plain": [
       "                       Name Platform  Year_of_Release         Genre  NA_sales  \\\n",
       "0                Wii Sports      Wii           2006.0        Sports     41.36   \n",
       "1         Super Mario Bros.      NES           1985.0      Platform     29.08   \n",
       "2            Mario Kart Wii      Wii           2008.0        Racing     15.68   \n",
       "3         Wii Sports Resort      Wii           2009.0        Sports     15.61   \n",
       "4  Pokemon Red/Pokemon Blue       GB           1996.0  Role-Playing     11.27   \n",
       "\n",
       "   EU_sales  JP_sales  Other_sales  Critic_Score User_Score Rating  \n",
       "0     28.96      3.77         8.45          76.0          8      E  \n",
       "1      3.58      6.81         0.77           NaN        NaN    NaN  \n",
       "2     12.76      3.79         3.29          82.0        8.3      E  \n",
       "3     10.93      3.28         2.95          80.0          8      E  \n",
       "4      8.89     10.22         1.00           NaN        NaN    NaN  "
      ]
     },
     "execution_count": 3,
     "metadata": {},
     "output_type": "execute_result"
    }
   ],
   "source": [
    "data.head()"
   ]
  },
  {
   "cell_type": "code",
   "execution_count": 4,
   "metadata": {
    "colab": {
     "base_uri": "https://localhost:8080/"
    },
    "id": "HbIXPQKqW8y_",
    "outputId": "4d95b5b2-78ce-434d-ff84-8a943ea2908e"
   },
   "outputs": [
    {
     "name": "stdout",
     "output_type": "stream",
     "text": [
      "<class 'pandas.core.frame.DataFrame'>\n",
      "RangeIndex: 16715 entries, 0 to 16714\n",
      "Data columns (total 11 columns):\n",
      " #   Column           Non-Null Count  Dtype  \n",
      "---  ------           --------------  -----  \n",
      " 0   Name             16713 non-null  object \n",
      " 1   Platform         16715 non-null  object \n",
      " 2   Year_of_Release  16446 non-null  float64\n",
      " 3   Genre            16713 non-null  object \n",
      " 4   NA_sales         16715 non-null  float64\n",
      " 5   EU_sales         16715 non-null  float64\n",
      " 6   JP_sales         16715 non-null  float64\n",
      " 7   Other_sales      16715 non-null  float64\n",
      " 8   Critic_Score     8137 non-null   float64\n",
      " 9   User_Score       10014 non-null  object \n",
      " 10  Rating           9949 non-null   object \n",
      "dtypes: float64(6), object(5)\n",
      "memory usage: 1.4+ MB\n"
     ]
    }
   ],
   "source": [
    "data.info()"
   ]
  },
  {
   "cell_type": "markdown",
   "metadata": {
    "id": "SYSzG8b7Y1RG"
   },
   "source": [
    "# 2. Подготовим данные"
   ]
  },
  {
   "cell_type": "markdown",
   "metadata": {
    "id": "bynKGEBbL3qG"
   },
   "source": [
    "Мне не нравится Year_of_Release и User_Score переведу их в int (год будет удобнее читаться, ну а оценки улобнее считать с числах, а не тексте)) Приведем названия стобцов к нижнему регистру."
   ]
  },
  {
   "cell_type": "code",
   "execution_count": 5,
   "metadata": {
    "colab": {
     "base_uri": "https://localhost:8080/"
    },
    "id": "S6zszORAMgyT",
    "outputId": "a1776835-013b-4871-fcae-6fac8577f683"
   },
   "outputs": [
    {
     "data": {
      "text/plain": [
       "Index(['name', 'platform', 'year_of_release', 'genre', 'na_sales', 'eu_sales',\n",
       "       'jp_sales', 'other_sales', 'critic_score', 'user_score', 'rating'],\n",
       "      dtype='object')"
      ]
     },
     "execution_count": 5,
     "metadata": {},
     "output_type": "execute_result"
    }
   ],
   "source": [
    "data.columns = data.columns.str.lower()\n",
    "data.columns #проверим"
   ]
  },
  {
   "cell_type": "code",
   "execution_count": 6,
   "metadata": {
    "id": "shtzRE8fNgHo"
   },
   "outputs": [],
   "source": [
    "# data = data.astype({'year_of_release':'int'})\n",
    "# пропуски мешают"
   ]
  },
  {
   "cell_type": "code",
   "execution_count": 7,
   "metadata": {
    "colab": {
     "base_uri": "https://localhost:8080/"
    },
    "id": "MhSWYtjF5uIj",
    "outputId": "039745fd-56ed-4f51-937f-cf2c0d83cb1d"
   },
   "outputs": [
    {
     "data": {
      "text/plain": [
       "name                  2\n",
       "platform              0\n",
       "year_of_release     269\n",
       "genre                 2\n",
       "na_sales              0\n",
       "eu_sales              0\n",
       "jp_sales              0\n",
       "other_sales           0\n",
       "critic_score       8578\n",
       "user_score         6701\n",
       "rating             6766\n",
       "dtype: int64"
      ]
     },
     "execution_count": 7,
     "metadata": {},
     "output_type": "execute_result"
    }
   ],
   "source": [
    "# посмотрим кол-во пропусков\n",
    "data.isna().sum() "
   ]
  },
  {
   "cell_type": "code",
   "execution_count": 8,
   "metadata": {
    "colab": {
     "base_uri": "https://localhost:8080/"
    },
    "id": "xHMaFTwiKlZS",
    "outputId": "942a07d3-3935-4829-bc08-3d9f423c2e5a"
   },
   "outputs": [
    {
     "data": {
      "text/plain": [
       "critic_score       51.319174\n",
       "rating             40.478612\n",
       "user_score         40.089740\n",
       "year_of_release     1.609333\n",
       "name                0.011965\n",
       "genre               0.011965\n",
       "platform            0.000000\n",
       "na_sales            0.000000\n",
       "eu_sales            0.000000\n",
       "jp_sales            0.000000\n",
       "other_sales         0.000000\n",
       "dtype: float64"
      ]
     },
     "execution_count": 8,
     "metadata": {},
     "output_type": "execute_result"
    }
   ],
   "source": [
    "# посмотрим на пропуски в процентном соотношении\n",
    "data.isnull().sum().sort_values(ascending = False) / data.shape[0] * 100"
   ]
  },
  {
   "cell_type": "markdown",
   "metadata": {
    "id": "AfWSvc7PZ8Iv"
   },
   "source": [
    "Пропуски в year_of_release всего 1.6%, заменять это медианами или какими-либо еще значениями будет не правильно. Удалить их будет, наверно, самым верным решением, так будет меньше искажений. В name и genre по 2 пропуска, так же избавимся от них"
   ]
  },
  {
   "cell_type": "code",
   "execution_count": 9,
   "metadata": {
    "colab": {
     "base_uri": "https://localhost:8080/"
    },
    "id": "-d0XQ-BQZjPB",
    "outputId": "6ccd84cf-3e25-4fd0-c1f0-253553668642"
   },
   "outputs": [
    {
     "data": {
      "text/plain": [
       "name                  0\n",
       "platform              0\n",
       "year_of_release       0\n",
       "genre                 0\n",
       "na_sales              0\n",
       "eu_sales              0\n",
       "jp_sales              0\n",
       "other_sales           0\n",
       "critic_score       8461\n",
       "user_score         6605\n",
       "rating             6676\n",
       "dtype: int64"
      ]
     },
     "execution_count": 9,
     "metadata": {},
     "output_type": "execute_result"
    }
   ],
   "source": [
    "data.dropna(subset = ['year_of_release'], inplace = True)\n",
    "data.dropna(subset = ['name'], inplace = True)\n",
    "data.dropna(subset = ['genre'], inplace = True)\n",
    "data.isna().sum()"
   ]
  },
  {
   "cell_type": "code",
   "execution_count": 10,
   "metadata": {
    "colab": {
     "base_uri": "https://localhost:8080/"
    },
    "id": "U8cTuOaRcmcV",
    "outputId": "c1271732-9830-4582-d368-1eb7d055b837"
   },
   "outputs": [
    {
     "name": "stdout",
     "output_type": "stream",
     "text": [
      "<class 'pandas.core.frame.DataFrame'>\n",
      "Int64Index: 16444 entries, 0 to 16714\n",
      "Data columns (total 11 columns):\n",
      " #   Column           Non-Null Count  Dtype  \n",
      "---  ------           --------------  -----  \n",
      " 0   name             16444 non-null  object \n",
      " 1   platform         16444 non-null  object \n",
      " 2   year_of_release  16444 non-null  int64  \n",
      " 3   genre            16444 non-null  object \n",
      " 4   na_sales         16444 non-null  float64\n",
      " 5   eu_sales         16444 non-null  float64\n",
      " 6   jp_sales         16444 non-null  float64\n",
      " 7   other_sales      16444 non-null  float64\n",
      " 8   critic_score     7983 non-null   float64\n",
      " 9   user_score       9839 non-null   object \n",
      " 10  rating           9768 non-null   object \n",
      "dtypes: float64(5), int64(1), object(5)\n",
      "memory usage: 1.5+ MB\n"
     ]
    }
   ],
   "source": [
    "# приведем даты к типу  int\n",
    "data = data.astype({'year_of_release':'int'})\n",
    "data.info() #проверим"
   ]
  },
  {
   "cell_type": "markdown",
   "metadata": {
    "id": "Usr-FLJZeXk9"
   },
   "source": [
    "В user_score пропусков слишком много, трогать их не будем, но это мешает привести к типу int, что ж float нам тоже подойдет."
   ]
  },
  {
   "cell_type": "code",
   "execution_count": 11,
   "metadata": {
    "id": "FQryZAaodbUH"
   },
   "outputs": [],
   "source": [
    "#data = data.astype({'user_score':'float'})\n",
    "# снова здорова! теперь 'tbd' мешает, посмотрим что это"
   ]
  },
  {
   "cell_type": "code",
   "execution_count": 12,
   "metadata": {
    "colab": {
     "base_uri": "https://localhost:8080/"
    },
    "id": "4Z41Z6pYem1U",
    "outputId": "010b10f5-4620-4ecc-da74-5711b8359a25"
   },
   "outputs": [
    {
     "data": {
      "text/plain": [
       "array(['8', nan, '8.3', '8.5', '6.6', '8.4', '8.6', '7.7', '6.3', '7.4',\n",
       "       '8.2', '9', '7.9', '8.1', '8.7', '7.1', '3.4', '5.3', '4.8', '3.2',\n",
       "       '8.9', '6.4', '7.8', '7.5', '2.6', '7.2', '9.2', '7', '7.3', '4.3',\n",
       "       '7.6', '5.7', '5', '9.1', '6.5', 'tbd', '8.8', '6.9', '9.4', '6.8',\n",
       "       '6.1', '6.7', '5.4', '4', '4.9', '4.5', '9.3', '6.2', '4.2', '6',\n",
       "       '3.7', '4.1', '5.8', '5.6', '5.5', '4.4', '4.6', '5.9', '3.9',\n",
       "       '3.1', '2.9', '5.2', '3.3', '4.7', '5.1', '3.5', '2.5', '1.9', '3',\n",
       "       '2.7', '2.2', '2', '9.5', '2.1', '3.6', '2.8', '1.8', '3.8', '0',\n",
       "       '1.6', '9.6', '2.4', '1.7', '1.1', '0.3', '1.5', '0.7', '1.2',\n",
       "       '2.3', '0.5', '1.3', '0.2', '0.6', '1.4', '0.9', '1', '9.7'],\n",
       "      dtype=object)"
      ]
     },
     "execution_count": 12,
     "metadata": {},
     "output_type": "execute_result"
    }
   ],
   "source": [
    "data['user_score'].unique()"
   ]
  },
  {
   "cell_type": "code",
   "execution_count": 13,
   "metadata": {
    "colab": {
     "base_uri": "https://localhost:8080/"
    },
    "id": "QZCfY4DWfzPr",
    "outputId": "1b3216cc-9cda-43a9-d101-9a08d7f2721e"
   },
   "outputs": [
    {
     "data": {
      "text/plain": [
       "2376"
      ]
     },
     "execution_count": 13,
     "metadata": {},
     "output_type": "execute_result"
    }
   ],
   "source": [
    "data[data['user_score'] == 'tbd']['user_score'].count()"
   ]
  },
  {
   "cell_type": "markdown",
   "metadata": {
    "id": "WGeqRHLpg3UG"
   },
   "source": [
    "Из надежных источников узнала, что tbd значит \"to be defined\" т.е. \"не определен\", а раз не определен - пускай будет nan."
   ]
  },
  {
   "cell_type": "code",
   "execution_count": 14,
   "metadata": {
    "colab": {
     "base_uri": "https://localhost:8080/"
    },
    "id": "Ko1gkeeYhOjN",
    "outputId": "58003937-293a-476d-8c50-bf1b69e782d9"
   },
   "outputs": [
    {
     "name": "stdout",
     "output_type": "stream",
     "text": [
      "<class 'pandas.core.frame.DataFrame'>\n",
      "Int64Index: 16444 entries, 0 to 16714\n",
      "Data columns (total 11 columns):\n",
      " #   Column           Non-Null Count  Dtype  \n",
      "---  ------           --------------  -----  \n",
      " 0   name             16444 non-null  object \n",
      " 1   platform         16444 non-null  object \n",
      " 2   year_of_release  16444 non-null  int64  \n",
      " 3   genre            16444 non-null  object \n",
      " 4   na_sales         16444 non-null  float64\n",
      " 5   eu_sales         16444 non-null  float64\n",
      " 6   jp_sales         16444 non-null  float64\n",
      " 7   other_sales      16444 non-null  float64\n",
      " 8   critic_score     7983 non-null   float64\n",
      " 9   user_score       7463 non-null   float64\n",
      " 10  rating           9768 non-null   object \n",
      "dtypes: float64(6), int64(1), object(4)\n",
      "memory usage: 1.5+ MB\n"
     ]
    }
   ],
   "source": [
    "#заменим 'tbd' на nan\n",
    "data.loc[data['user_score'] == 'tbd', 'user_score'] = float('nan')\n",
    "data = data.astype({'user_score':'float'}) # приводим к типу float\n",
    "data.info() #проверим"
   ]
  },
  {
   "cell_type": "code",
   "execution_count": 15,
   "metadata": {
    "colab": {
     "base_uri": "https://localhost:8080/"
    },
    "id": "rto80ZZsGuCx",
    "outputId": "fcf5cce4-c3d2-4be5-807b-83392f2b4ce2"
   },
   "outputs": [
    {
     "data": {
      "text/plain": [
       "name                  0\n",
       "platform              0\n",
       "year_of_release       0\n",
       "genre                 0\n",
       "na_sales              0\n",
       "eu_sales              0\n",
       "jp_sales              0\n",
       "other_sales           0\n",
       "critic_score       8461\n",
       "user_score         8981\n",
       "rating                0\n",
       "dtype: int64"
      ]
     },
     "execution_count": 15,
     "metadata": {},
     "output_type": "execute_result"
    }
   ],
   "source": [
    "data['rating'] = data['rating'].fillna('not defined')\n",
    "data.isna().sum()"
   ]
  },
  {
   "cell_type": "markdown",
   "metadata": {
    "id": "ty5PMj9NNC82"
   },
   "source": [
    "Добавим столбец с суммарными продажами по всем регионам."
   ]
  },
  {
   "cell_type": "code",
   "execution_count": 16,
   "metadata": {
    "colab": {
     "base_uri": "https://localhost:8080/",
     "height": 206
    },
    "id": "rMUpz_jqNMWL",
    "outputId": "0ad6b560-3c4e-4756-ad64-a51f5811957d"
   },
   "outputs": [
    {
     "data": {
      "text/html": [
       "<div>\n",
       "<style scoped>\n",
       "    .dataframe tbody tr th:only-of-type {\n",
       "        vertical-align: middle;\n",
       "    }\n",
       "\n",
       "    .dataframe tbody tr th {\n",
       "        vertical-align: top;\n",
       "    }\n",
       "\n",
       "    .dataframe thead th {\n",
       "        text-align: right;\n",
       "    }\n",
       "</style>\n",
       "<table border=\"1\" class=\"dataframe\">\n",
       "  <thead>\n",
       "    <tr style=\"text-align: right;\">\n",
       "      <th></th>\n",
       "      <th>name</th>\n",
       "      <th>platform</th>\n",
       "      <th>year_of_release</th>\n",
       "      <th>genre</th>\n",
       "      <th>na_sales</th>\n",
       "      <th>eu_sales</th>\n",
       "      <th>jp_sales</th>\n",
       "      <th>other_sales</th>\n",
       "      <th>critic_score</th>\n",
       "      <th>user_score</th>\n",
       "      <th>rating</th>\n",
       "      <th>total_sales</th>\n",
       "    </tr>\n",
       "  </thead>\n",
       "  <tbody>\n",
       "    <tr>\n",
       "      <th>0</th>\n",
       "      <td>Wii Sports</td>\n",
       "      <td>Wii</td>\n",
       "      <td>2006</td>\n",
       "      <td>Sports</td>\n",
       "      <td>41.36</td>\n",
       "      <td>28.96</td>\n",
       "      <td>3.77</td>\n",
       "      <td>8.45</td>\n",
       "      <td>76.0</td>\n",
       "      <td>8.0</td>\n",
       "      <td>E</td>\n",
       "      <td>82.54</td>\n",
       "    </tr>\n",
       "    <tr>\n",
       "      <th>1</th>\n",
       "      <td>Super Mario Bros.</td>\n",
       "      <td>NES</td>\n",
       "      <td>1985</td>\n",
       "      <td>Platform</td>\n",
       "      <td>29.08</td>\n",
       "      <td>3.58</td>\n",
       "      <td>6.81</td>\n",
       "      <td>0.77</td>\n",
       "      <td>NaN</td>\n",
       "      <td>NaN</td>\n",
       "      <td>not defined</td>\n",
       "      <td>40.24</td>\n",
       "    </tr>\n",
       "    <tr>\n",
       "      <th>2</th>\n",
       "      <td>Mario Kart Wii</td>\n",
       "      <td>Wii</td>\n",
       "      <td>2008</td>\n",
       "      <td>Racing</td>\n",
       "      <td>15.68</td>\n",
       "      <td>12.76</td>\n",
       "      <td>3.79</td>\n",
       "      <td>3.29</td>\n",
       "      <td>82.0</td>\n",
       "      <td>8.3</td>\n",
       "      <td>E</td>\n",
       "      <td>35.52</td>\n",
       "    </tr>\n",
       "    <tr>\n",
       "      <th>3</th>\n",
       "      <td>Wii Sports Resort</td>\n",
       "      <td>Wii</td>\n",
       "      <td>2009</td>\n",
       "      <td>Sports</td>\n",
       "      <td>15.61</td>\n",
       "      <td>10.93</td>\n",
       "      <td>3.28</td>\n",
       "      <td>2.95</td>\n",
       "      <td>80.0</td>\n",
       "      <td>8.0</td>\n",
       "      <td>E</td>\n",
       "      <td>32.77</td>\n",
       "    </tr>\n",
       "    <tr>\n",
       "      <th>4</th>\n",
       "      <td>Pokemon Red/Pokemon Blue</td>\n",
       "      <td>GB</td>\n",
       "      <td>1996</td>\n",
       "      <td>Role-Playing</td>\n",
       "      <td>11.27</td>\n",
       "      <td>8.89</td>\n",
       "      <td>10.22</td>\n",
       "      <td>1.00</td>\n",
       "      <td>NaN</td>\n",
       "      <td>NaN</td>\n",
       "      <td>not defined</td>\n",
       "      <td>31.38</td>\n",
       "    </tr>\n",
       "  </tbody>\n",
       "</table>\n",
       "</div>"
      ],
      "text/plain": [
       "                       name platform  year_of_release         genre  na_sales  \\\n",
       "0                Wii Sports      Wii             2006        Sports     41.36   \n",
       "1         Super Mario Bros.      NES             1985      Platform     29.08   \n",
       "2            Mario Kart Wii      Wii             2008        Racing     15.68   \n",
       "3         Wii Sports Resort      Wii             2009        Sports     15.61   \n",
       "4  Pokemon Red/Pokemon Blue       GB             1996  Role-Playing     11.27   \n",
       "\n",
       "   eu_sales  jp_sales  other_sales  critic_score  user_score       rating  \\\n",
       "0     28.96      3.77         8.45          76.0         8.0            E   \n",
       "1      3.58      6.81         0.77           NaN         NaN  not defined   \n",
       "2     12.76      3.79         3.29          82.0         8.3            E   \n",
       "3     10.93      3.28         2.95          80.0         8.0            E   \n",
       "4      8.89     10.22         1.00           NaN         NaN  not defined   \n",
       "\n",
       "   total_sales  \n",
       "0        82.54  \n",
       "1        40.24  \n",
       "2        35.52  \n",
       "3        32.77  \n",
       "4        31.38  "
      ]
     },
     "execution_count": 16,
     "metadata": {},
     "output_type": "execute_result"
    }
   ],
   "source": [
    "data['total_sales'] = data['na_sales'] + data['eu_sales'] + data['jp_sales'] + data['other_sales']\n",
    "data.head() #проверим"
   ]
  },
  {
   "cell_type": "markdown",
   "metadata": {
    "id": "ZbzEvdxt1o8q"
   },
   "source": [
    "# Проведем исследовательский анализ данных"
   ]
  },
  {
   "cell_type": "markdown",
   "metadata": {
    "id": "mRocU6Vc3Rb5"
   },
   "source": [
    "## 1. Посмотрите, сколько игр выпускалось в разные годы. Важны ли данные за все периоды?"
   ]
  },
  {
   "cell_type": "code",
   "execution_count": 17,
   "metadata": {
    "colab": {
     "base_uri": "https://localhost:8080/",
     "height": 366
    },
    "id": "fi9VX-WCNeQe",
    "outputId": "39c50f0f-21ea-45ad-93b2-b43d3f8ed439"
   },
   "outputs": [
    {
     "data": {
      "image/png": "[encoded data removed]",
      "text/plain": [
       "<Figure size 1080x360 with 1 Axes>"
      ]
     },
     "metadata": {
      "needs_background": "light"
     },
     "output_type": "display_data"
    }
   ],
   "source": [
    "plt.figure(figsize = (15, 5))\n",
    "data.groupby('year_of_release')['year_of_release'].count().plot(kind='bar', rot=45)\n",
    "plt.title('Распределение по годам релиза');"
   ]
  },
  {
   "cell_type": "markdown",
   "metadata": {
    "id": "nVqsXJf6cTE4"
   },
   "source": [
    "У нас есть данные начиная с 1980г. Тем не менее до 90х игры выходили в очень малых количествах. С 94г виден более активный рост и кол-во выпускаемых игр можно исчислять сотнями. В 2008 и 2009гг - пик выпуска игр, затем виден явный спад, особенно между 2011 и 2012 годами. Нет смысла рассматривать все периоды, игры в 80х и 10х - небо и земля. С каждым годом игры становятся сложнее, на создание игр уходит по нескольку лет, игры становятся дороже + появляются конкуренты на мобильных платформах. Я бы рассматривала период не более 10 лет - с 2006 до 2016, достаточный период затрагивает и пик и спад выпуска игр."
   ]
  },
  {
   "cell_type": "markdown",
   "metadata": {
    "id": "E9sXIdybhXzx"
   },
   "source": [
    "## 2. Посмотрите, как менялись продажи по платформам. Выберите платформы с наибольшими суммарными продажами и постройте распределение по годам. За какой характерный срок появляются новые и исчезают старые платформы."
   ]
  },
  {
   "cell_type": "code",
   "execution_count": 18,
   "metadata": {
    "id": "BufQptzQ3YB9"
   },
   "outputs": [],
   "source": [
    "# выберем топ 10\n",
    "top_10 = data.groupby('platform').agg({'total_sales': 'sum'}).sort_values(by = 'total_sales').tail(10).index"
   ]
  },
  {
   "cell_type": "code",
   "execution_count": 19,
   "metadata": {
    "colab": {
     "base_uri": "https://localhost:8080/"
    },
    "id": "-M5DlMj3UlaY",
    "outputId": "f34100fa-5aa3-4f4b-e79e-35fa1c0947bb"
   },
   "outputs": [
    {
     "data": {
      "text/plain": [
       "Index(['3DS', 'PSP', 'GBA', 'PS4', 'PS', 'DS', 'Wii', 'PS3', 'X360', 'PS2'], dtype='object', name='platform')"
      ]
     },
     "execution_count": 19,
     "metadata": {},
     "output_type": "execute_result"
    }
   ],
   "source": [
    "top_10"
   ]
  },
  {
   "cell_type": "code",
   "execution_count": 20,
   "metadata": {
    "colab": {
     "base_uri": "https://localhost:8080/",
     "height": 335
    },
    "id": "GX4ea5Cgp0pt",
    "outputId": "0d8446c2-e418-439a-a8ae-7552de4bdcde"
   },
   "outputs": [
    {
     "data": {
      "image/png": "[encoded data removed]",
      "text/plain": [
       "<Figure size 1080x360 with 1 Axes>"
      ]
     },
     "metadata": {
      "needs_background": "light"
     },
     "output_type": "display_data"
    }
   ],
   "source": [
    "# построим график продаж у top_10\n",
    "data.query('platform in @top_10').pivot_table(index='year_of_release', columns='platform',\n",
    "                                              values='total_sales', aggfunc='sum').plot(figsize = (15, 5));"
   ]
  },
  {
   "cell_type": "markdown",
   "metadata": {
    "id": "h-4syM1xZYKX"
   },
   "source": [
    "Чисто визуально кажется, что средний срок жизни платформ около 10 лет. Но нам нужно знать более точно."
   ]
  },
  {
   "cell_type": "code",
   "execution_count": 21,
   "metadata": {
    "colab": {
     "base_uri": "https://localhost:8080/"
    },
    "id": "AjGo8qWbzRq9",
    "outputId": "8fbf42f8-3061-41dd-fc6e-dfceaa982e4c"
   },
   "outputs": [
    {
     "name": "stdout",
     "output_type": "stream",
     "text": [
      "Срок жизни платформы 3DS 5 лет, максимум продаж через 0 лет\n",
      "Срок жизни платформы PSP 11 лет, максимум продаж через 2 лет\n",
      "Срок жизни платформы GBA 7 лет, максимум продаж через 4 лет\n",
      "Срок жизни платформы PS4 3 лет, максимум продаж через 2 лет\n",
      "Срок жизни платформы PS 9 лет, максимум продаж через 4 лет\n",
      "Срок жизни платформы DS 28 лет, максимум продаж через 22 лет\n",
      "Срок жизни платформы Wii 10 лет, максимум продаж через 3 лет\n",
      "Срок жизни платформы PS3 10 лет, максимум продаж через 5 лет\n",
      "Срок жизни платформы X360 11 лет, максимум продаж через 5 лет\n",
      "Срок жизни платформы PS2 11 лет, максимум продаж через 4 лет\n"
     ]
    }
   ],
   "source": [
    "df = data.copy() # на всякий пожарный сделаем копию исходного фрейма \n",
    "pivot = df.pivot_table(index='platform', columns='year_of_release', values='total_sales', aggfunc='sum').T\n",
    "\n",
    "live_times = pivot[top_10].T.stack().reset_index()\n",
    "\n",
    "for platform in top_10: # напишем функию для срока жизни платформ\n",
    "    current_platform = live_times.query('platform == @platform')\n",
    "    live_time = current_platform['year_of_release'].max() - current_platform['year_of_release'].min() # срок жизни\n",
    "    top_sales = current_platform[0].max() # максимальные продажи\n",
    "    top_sales_year = current_platform[current_platform[0] == top_sales]['year_of_release'].values[0] \\\n",
    "                                      - current_platform['year_of_release'].min() # год максимальных продаж для платформы\n",
    "    print(f'Срок жизни платформы {platform} {live_time} лет, максимум продаж через {top_sales_year} лет')"
   ]
  },
  {
   "cell_type": "markdown",
   "metadata": {
    "id": "ndULfuDIiaem"
   },
   "source": [
    "Ну что же, визуальный осмотр был правильным) Если не брать во внимание фантастически долгую жизнь DS и короткую PS4(она еще живет), то в среднем платформы актуальны 10 лет, а максимум продаж приходится на 2-4 года продаж."
   ]
  },
  {
   "cell_type": "markdown",
   "metadata": {
    "id": "uyCX3WNKj4zl"
   },
   "source": [
    "## 3. Возьмите данные за соответствующий актуальный период. Актуальный период определите самостоятельно в результате исследования предыдущих вопросов. Основной фактор - эти данные помогут построить прогноз на 2017 год. Не учитывайте в работе данные за предыдущие годы.\n"
   ]
  },
  {
   "cell_type": "markdown",
   "metadata": {
    "id": "APb4XifGq7HL"
   },
   "source": [
    "Итак, нас интересует актуальный период. Логичнее выпускать игры для платформы пока она на пике, в первой половине жизни платформы. По графику у нас всего 2 платформы более или менее живые - 3DS и PS4. Мне этого мало. До этого мы так же вычислили, что максимальных продаж платформа достигает через 2-4 года, возьмем среднее 3 года. Будем изучать данные за последние 3 года - с 2013 по 2016."
   ]
  },
  {
   "cell_type": "code",
   "execution_count": 22,
   "metadata": {
    "colab": {
     "base_uri": "https://localhost:8080/"
    },
    "id": "lmX9YO3TkT37",
    "outputId": "b0ea5e91-f2ed-44ab-9b59-0b0711392477"
   },
   "outputs": [
    {
     "data": {
      "text/plain": [
       "array(['PS3', 'X360', 'PS4', '3DS', 'XOne', 'WiiU', 'Wii', 'PC', 'PSV',\n",
       "       'DS', 'PSP'], dtype=object)"
      ]
     },
     "execution_count": 22,
     "metadata": {},
     "output_type": "execute_result"
    }
   ],
   "source": [
    "# создаем новый фрейм для платформ, продающих с 2013  по 2016 года\n",
    "data_new = data.query('year_of_release >= 2013')\n",
    "data_new['platform'].unique() #посмотрим какие платформы вошли"
   ]
  },
  {
   "cell_type": "markdown",
   "metadata": {
    "id": "MCOnTjLX3YnB"
   },
   "source": [
    "## 4.Какие платформы лидируют по продажам, растут или падают? Выберите несколько потенциально прибыльных платформ."
   ]
  },
  {
   "cell_type": "code",
   "execution_count": 23,
   "metadata": {
    "colab": {
     "base_uri": "https://localhost:8080/",
     "height": 498
    },
    "id": "eUa-dFPAxtxM",
    "outputId": "0843697e-5184-4c4e-dd6b-ba62d8e193cf"
   },
   "outputs": [
    {
     "data": {
      "image/png": "[encoded data removed]",
      "text/plain": [
       "<Figure size 1080x576 with 1 Axes>"
      ]
     },
     "metadata": {
      "needs_background": "light"
     },
     "output_type": "display_data"
    }
   ],
   "source": [
    "# посмотрим на графике, что тут по продажам.\n",
    "data_new.pivot_table(index='year_of_release', columns='platform',\n",
    "                     values='total_sales', aggfunc='sum').plot(figsize = (15, 8));"
   ]
  },
  {
   "cell_type": "markdown",
   "metadata": {
    "id": "Ayn7-D_Q3x1I"
   },
   "source": [
    "В целом весь график удручает, продажи падают везде. PS4, XOne - новые платформы, они только начали свой путь, и у 3DS еще есть шансы, они недавно выпущены и их жизненный цикл еще не подходит к концу.  Одни и те же игры выходят одновременно на нескольких платформах, как новых так и старых, именно это еще поддерживает старые платформы на плаву. Хочу выделить топ 5 платформ за это время."
   ]
  },
  {
   "cell_type": "code",
   "execution_count": 24,
   "metadata": {
    "colab": {
     "base_uri": "https://localhost:8080/"
    },
    "id": "m5ePuMofyM_E",
    "outputId": "ced9efc2-f36d-4ac6-a309-851d14fa29f8"
   },
   "outputs": [
    {
     "data": {
      "text/plain": [
       "Index(['X360', '3DS', 'XOne', 'PS3', 'PS4'], dtype='object', name='platform')"
      ]
     },
     "execution_count": 24,
     "metadata": {},
     "output_type": "execute_result"
    }
   ],
   "source": [
    "# выделим топ 5 платформ, по ним и будем работать.\n",
    "top_5 = data_new.groupby('platform').agg({'total_sales': 'sum'}).sort_values(by = 'total_sales').tail(5).index\n",
    "top_5"
   ]
  },
  {
   "cell_type": "code",
   "execution_count": 25,
   "metadata": {
    "colab": {
     "base_uri": "https://localhost:8080/",
     "height": 206
    },
    "id": "DLf7JT7vQYQr",
    "outputId": "0ed7ebe8-bc83-46b0-9733-9a73e834f95a"
   },
   "outputs": [
    {
     "data": {
      "text/html": [
       "<div>\n",
       "<style scoped>\n",
       "    .dataframe tbody tr th:only-of-type {\n",
       "        vertical-align: middle;\n",
       "    }\n",
       "\n",
       "    .dataframe tbody tr th {\n",
       "        vertical-align: top;\n",
       "    }\n",
       "\n",
       "    .dataframe thead th {\n",
       "        text-align: right;\n",
       "    }\n",
       "</style>\n",
       "<table border=\"1\" class=\"dataframe\">\n",
       "  <thead>\n",
       "    <tr style=\"text-align: right;\">\n",
       "      <th></th>\n",
       "      <th>name</th>\n",
       "      <th>platform</th>\n",
       "      <th>year_of_release</th>\n",
       "      <th>genre</th>\n",
       "      <th>na_sales</th>\n",
       "      <th>eu_sales</th>\n",
       "      <th>jp_sales</th>\n",
       "      <th>other_sales</th>\n",
       "      <th>critic_score</th>\n",
       "      <th>user_score</th>\n",
       "      <th>rating</th>\n",
       "      <th>total_sales</th>\n",
       "    </tr>\n",
       "  </thead>\n",
       "  <tbody>\n",
       "    <tr>\n",
       "      <th>16</th>\n",
       "      <td>Grand Theft Auto V</td>\n",
       "      <td>PS3</td>\n",
       "      <td>2013</td>\n",
       "      <td>Action</td>\n",
       "      <td>7.02</td>\n",
       "      <td>9.09</td>\n",
       "      <td>0.98</td>\n",
       "      <td>3.96</td>\n",
       "      <td>97.0</td>\n",
       "      <td>8.2</td>\n",
       "      <td>M</td>\n",
       "      <td>21.05</td>\n",
       "    </tr>\n",
       "    <tr>\n",
       "      <th>23</th>\n",
       "      <td>Grand Theft Auto V</td>\n",
       "      <td>X360</td>\n",
       "      <td>2013</td>\n",
       "      <td>Action</td>\n",
       "      <td>9.66</td>\n",
       "      <td>5.14</td>\n",
       "      <td>0.06</td>\n",
       "      <td>1.41</td>\n",
       "      <td>97.0</td>\n",
       "      <td>8.1</td>\n",
       "      <td>M</td>\n",
       "      <td>16.27</td>\n",
       "    </tr>\n",
       "    <tr>\n",
       "      <th>31</th>\n",
       "      <td>Call of Duty: Black Ops 3</td>\n",
       "      <td>PS4</td>\n",
       "      <td>2015</td>\n",
       "      <td>Shooter</td>\n",
       "      <td>6.03</td>\n",
       "      <td>5.86</td>\n",
       "      <td>0.36</td>\n",
       "      <td>2.38</td>\n",
       "      <td>NaN</td>\n",
       "      <td>NaN</td>\n",
       "      <td>not defined</td>\n",
       "      <td>14.63</td>\n",
       "    </tr>\n",
       "    <tr>\n",
       "      <th>33</th>\n",
       "      <td>Pokemon X/Pokemon Y</td>\n",
       "      <td>3DS</td>\n",
       "      <td>2013</td>\n",
       "      <td>Role-Playing</td>\n",
       "      <td>5.28</td>\n",
       "      <td>4.19</td>\n",
       "      <td>4.35</td>\n",
       "      <td>0.78</td>\n",
       "      <td>NaN</td>\n",
       "      <td>NaN</td>\n",
       "      <td>not defined</td>\n",
       "      <td>14.60</td>\n",
       "    </tr>\n",
       "    <tr>\n",
       "      <th>42</th>\n",
       "      <td>Grand Theft Auto V</td>\n",
       "      <td>PS4</td>\n",
       "      <td>2014</td>\n",
       "      <td>Action</td>\n",
       "      <td>3.96</td>\n",
       "      <td>6.31</td>\n",
       "      <td>0.38</td>\n",
       "      <td>1.97</td>\n",
       "      <td>97.0</td>\n",
       "      <td>8.3</td>\n",
       "      <td>M</td>\n",
       "      <td>12.62</td>\n",
       "    </tr>\n",
       "  </tbody>\n",
       "</table>\n",
       "</div>"
      ],
      "text/plain": [
       "                         name platform  year_of_release         genre  \\\n",
       "16         Grand Theft Auto V      PS3             2013        Action   \n",
       "23         Grand Theft Auto V     X360             2013        Action   \n",
       "31  Call of Duty: Black Ops 3      PS4             2015       Shooter   \n",
       "33        Pokemon X/Pokemon Y      3DS             2013  Role-Playing   \n",
       "42         Grand Theft Auto V      PS4             2014        Action   \n",
       "\n",
       "    na_sales  eu_sales  jp_sales  other_sales  critic_score  user_score  \\\n",
       "16      7.02      9.09      0.98         3.96          97.0         8.2   \n",
       "23      9.66      5.14      0.06         1.41          97.0         8.1   \n",
       "31      6.03      5.86      0.36         2.38           NaN         NaN   \n",
       "33      5.28      4.19      4.35         0.78           NaN         NaN   \n",
       "42      3.96      6.31      0.38         1.97          97.0         8.3   \n",
       "\n",
       "         rating  total_sales  \n",
       "16            M        21.05  \n",
       "23            M        16.27  \n",
       "31  not defined        14.63  \n",
       "33  not defined        14.60  \n",
       "42            M        12.62  "
      ]
     },
     "execution_count": 25,
     "metadata": {},
     "output_type": "execute_result"
    }
   ],
   "source": [
    "top_5_platform = data_new[data_new['platform'].isin(top_5)] #создаем фрейм с выбранными платформами\n",
    "top_5_platform.head() #проверим"
   ]
  },
  {
   "cell_type": "markdown",
   "metadata": {
    "id": "NVMZCidRFPHz"
   },
   "source": [
    "Если мне не изменяет память, то именно эти платформы и были актуальны в то время, так что меня этот список платформ устраивает."
   ]
  },
  {
   "cell_type": "markdown",
   "metadata": {
    "id": "jbGkW9K2HLUH"
   },
   "source": [
    "## 5.Постройте график «ящик с усами» по глобальным продажам игр в разбивке по платформам. Опишите результат."
   ]
  },
  {
   "cell_type": "code",
   "execution_count": 26,
   "metadata": {
    "colab": {
     "base_uri": "https://localhost:8080/",
     "height": 713
    },
    "id": "u0Cv5q20zk2S",
    "outputId": "4c17aa4a-ccc5-45d0-fbfa-71a8712901cc"
   },
   "outputs": [
    {
     "data": {
      "image/png": "[encoded data removed]",
      "text/plain": [
       "<Figure size 720x720 with 1 Axes>"
      ]
     },
     "metadata": {
      "needs_background": "light"
     },
     "output_type": "display_data"
    }
   ],
   "source": [
    "# построим \"ящик с усами\" по глобальным продажам игр\n",
    "top_5_platform.boxplot(column='total_sales', by='platform', figsize=(10, 10))\n",
    "plt.ylim(0, 2)\n",
    "plt.title('Ящик с усами')\n",
    "plt.xlabel('Платформа')\n",
    "plt.ylabel('Глобальные продажи');"
   ]
  },
  {
   "cell_type": "markdown",
   "metadata": {
    "id": "NjbksPiFYa3Z"
   },
   "source": [
    "Больше всего игр продается на Х360 (тут ничего удивительного, это можно сказать культовая консоль), далее новые и самые актуальные консоли PS4 и XOne. Хуже из этой пятерки продаются игры к 3DS, ее вообще скорее всего вытягивает азиатский рынок, но не будем забегать вперед."
   ]
  },
  {
   "cell_type": "markdown",
   "metadata": {
    "id": "Q02VdqBQgYBZ"
   },
   "source": [
    "## 6. Посмотрите, как влияют на продажи внутри одной популярной платформы отзывы пользователей и критиков. Постройте диаграмму рассеяния и посчитайте корреляцию между отзывами и продажами. Сформулируйте выводы."
   ]
  },
  {
   "cell_type": "markdown",
   "metadata": {
    "id": "uJ0fA7aimUOX"
   },
   "source": [
    "Изучим PS4. "
   ]
  },
  {
   "cell_type": "code",
   "execution_count": 27,
   "metadata": {
    "colab": {
     "base_uri": "https://localhost:8080/",
     "height": 579
    },
    "id": "UhHgAoV8kUal",
    "outputId": "ab424d5b-f295-46e2-b431-d81f64902bcc"
   },
   "outputs": [
    {
     "name": "stdout",
     "output_type": "stream",
     "text": [
      "0.406567902061781\n",
      "-0.031957110204556376\n"
     ]
    },
    {
     "data": {
      "image/png": "[encoded data removed]",
      "text/plain": [
       "<Figure size 432x288 with 1 Axes>"
      ]
     },
     "metadata": {
      "needs_background": "light"
     },
     "output_type": "display_data"
    },
    {
     "data": {
      "image/png": "[encoded data removed]",
      "text/plain": [
       "<Figure size 432x288 with 1 Axes>"
      ]
     },
     "metadata": {
      "needs_background": "light"
     },
     "output_type": "display_data"
    }
   ],
   "source": [
    "name = 'PS4'\n",
    "print(top_5_platform.query('platform == @name')['total_sales']\\\n",
    "      .corr(top_5_platform.query('platform == @name')['critic_score']))\n",
    "top_5_platform.query('platform == @name').plot(x = 'total_sales',\n",
    "                                               y = 'critic_score', kind = 'scatter');\n",
    "print(top_5_platform.query('platform == @name')['total_sales']\\\n",
    "      .corr(top_5_platform.query('platform == @name')['user_score']))\n",
    "top_5_platform.query('platform == @name').plot(x = 'total_sales',\n",
    "                                               y = 'user_score', kind = 'scatter');"
   ]
  },
  {
   "cell_type": "markdown",
   "metadata": {
    "id": "GjitO6Y4myud"
   },
   "source": [
    "Оценка критиков довольно сильно влияет на продажи. На диагарамме рассеяния виден явный треугольник, показывающий, чем выше оценка - тем больше продаж.\n",
    "\n",
    "А вот оценка пользователей никак не влияет на продажи. Есть отличные продажи у игр, получивших оценку даже ниже 5.\n",
    "\n",
    "Если выбирать на чьи оценки ориентироваться, то это безусловно критики."
   ]
  },
  {
   "cell_type": "markdown",
   "metadata": {
    "id": "Cf_MJ8xnofVW"
   },
   "source": [
    "## 7.Соотнесите выводы с продажами игр на других платформах."
   ]
  },
  {
   "cell_type": "code",
   "execution_count": 28,
   "metadata": {
    "colab": {
     "base_uri": "https://localhost:8080/",
     "height": 1000
    },
    "id": "4UjCDUl6oVIW",
    "outputId": "4ea4459c-376f-4b42-c4f3-a0fe4be1c4dd"
   },
   "outputs": [
    {
     "data": {
      "image/png": "[encoded data removed]",
      "text/plain": [
       "<Figure size 432x288 with 1 Axes>"
      ]
     },
     "metadata": {
      "needs_background": "light"
     },
     "output_type": "display_data"
    },
    {
     "name": "stdout",
     "output_type": "stream",
     "text": [
      "0.3342853393371919\n"
     ]
    },
    {
     "data": {
      "image/png": "[encoded data removed]",
      "text/plain": [
       "<Figure size 432x288 with 1 Axes>"
      ]
     },
     "metadata": {
      "needs_background": "light"
     },
     "output_type": "display_data"
    },
    {
     "name": "stdout",
     "output_type": "stream",
     "text": [
      "0.0023944027357566925\n"
     ]
    },
    {
     "data": {
      "image/png": "[encoded data removed]",
      "text/plain": [
       "<Figure size 432x288 with 1 Axes>"
      ]
     },
     "metadata": {
      "needs_background": "light"
     },
     "output_type": "display_data"
    },
    {
     "name": "stdout",
     "output_type": "stream",
     "text": [
      "0.3503445460228664\n"
     ]
    },
    {
     "data": {
      "image/png": "[encoded data removed]",
      "text/plain": [
       "<Figure size 432x288 with 1 Axes>"
      ]
     },
     "metadata": {
      "needs_background": "light"
     },
     "output_type": "display_data"
    },
    {
     "name": "stdout",
     "output_type": "stream",
     "text": [
      "-0.011742185147181342\n"
     ]
    },
    {
     "data": {
      "image/png": "[encoded data removed]",
      "text/plain": [
       "<Figure size 432x288 with 1 Axes>"
      ]
     },
     "metadata": {
      "needs_background": "light"
     },
     "output_type": "display_data"
    },
    {
     "name": "stdout",
     "output_type": "stream",
     "text": [
      "0.406567902061781\n"
     ]
    },
    {
     "data": {
      "image/png": "[encoded data removed]",
      "text/plain": [
       "<Figure size 432x288 with 1 Axes>"
      ]
     },
     "metadata": {
      "needs_background": "light"
     },
     "output_type": "display_data"
    },
    {
     "name": "stdout",
     "output_type": "stream",
     "text": [
      "-0.031957110204556376\n"
     ]
    },
    {
     "data": {
      "image/png": "[encoded data removed]",
      "text/plain": [
       "<Figure size 432x288 with 1 Axes>"
      ]
     },
     "metadata": {
      "needs_background": "light"
     },
     "output_type": "display_data"
    },
    {
     "name": "stdout",
     "output_type": "stream",
     "text": [
      "0.35705661422881035\n"
     ]
    },
    {
     "data": {
      "image/png": "[encoded data removed]",
      "text/plain": [
       "<Figure size 432x288 with 1 Axes>"
      ]
     },
     "metadata": {
      "needs_background": "light"
     },
     "output_type": "display_data"
    },
    {
     "name": "stdout",
     "output_type": "stream",
     "text": [
      "0.24150411773563016\n"
     ]
    },
    {
     "data": {
      "image/png": "[encoded data removed]",
      "text/plain": [
       "<Figure size 432x288 with 1 Axes>"
      ]
     },
     "metadata": {
      "needs_background": "light"
     },
     "output_type": "display_data"
    },
    {
     "name": "stdout",
     "output_type": "stream",
     "text": [
      "0.41699832800840175\n"
     ]
    },
    {
     "data": {
      "image/png": "[encoded data removed]",
      "text/plain": [
       "<Figure size 432x288 with 1 Axes>"
      ]
     },
     "metadata": {
      "needs_background": "light"
     },
     "output_type": "display_data"
    },
    {
     "name": "stdout",
     "output_type": "stream",
     "text": [
      "-0.06892505328279412\n"
     ]
    }
   ],
   "source": [
    "other_names = ['X360', '3DS', 'XOne', 'PS3']\n",
    "for platform in top_5_platform['platform'].unique():\n",
    "    top_5_platform.query('platform == @platform')\\\n",
    "    .plot(x = 'total_sales', y = 'critic_score', kind = 'scatter')\n",
    "    plt.title(platform)\n",
    "    plt.show()\n",
    "    print(top_5_platform.query('platform == @platform')['total_sales']\\\n",
    "          .corr(top_5_platform.query('platform == @platform')['critic_score']))\n",
    "    top_5_platform.query('platform == @platform')\\\n",
    "    .plot(x = 'total_sales', y = 'user_score', kind = 'scatter')\n",
    "    plt.title(platform);\n",
    "    plt.show()\n",
    "    print(top_5_platform.query('platform == @platform')['total_sales']\\\n",
    "          .corr(top_5_platform.query('platform == @platform')['user_score']))"
   ]
  },
  {
   "cell_type": "markdown",
   "metadata": {
    "id": "74g11ca9qTBI"
   },
   "source": [
    "Для всех платформ картина повторяется: чем выше оценка критиков - тем больше продаж. Некоторым исключением является 3DS - там оценки критиков и игроков видимо больше похожи друг на друга, но все же у критиков корреляция больше."
   ]
  },
  {
   "cell_type": "markdown",
   "metadata": {
    "id": "w2FBBItd8Y69"
   },
   "source": [
    "## 8.Посмотрите на общее распределение игр по жанрам. Что можно сказать о самых прибыльных жанрах? Выделяются ли жанры с высокими и низкими продажами?"
   ]
  },
  {
   "cell_type": "markdown",
   "metadata": {
    "id": "DbSo23dTBdiw"
   },
   "source": [
    "Построим ящик с усами по каждому жанру"
   ]
  },
  {
   "cell_type": "code",
   "execution_count": 29,
   "metadata": {
    "colab": {
     "base_uri": "https://localhost:8080/",
     "height": 713
    },
    "id": "U1y2Au005lTb",
    "outputId": "ee8d4ce2-f885-42ef-f0f5-995e8036150e"
   },
   "outputs": [
    {
     "data": {
      "image/png": "[encoded data removed]",
      "text/plain": [
       "<Figure size 1080x720 with 1 Axes>"
      ]
     },
     "metadata": {
      "needs_background": "light"
     },
     "output_type": "display_data"
    }
   ],
   "source": [
    "top_5_platform.boxplot(column='total_sales', by='genre', figsize=(15, 10))\n",
    "plt.ylim(0, 5)\n",
    "plt.title('продажи игр по жанрам')\n",
    "plt.xlabel('Жанр')\n",
    "plt.ylabel('Глобальные продажи');"
   ]
  },
  {
   "cell_type": "markdown",
   "metadata": {
    "id": "5dISC2Y3ZyJo"
   },
   "source": [
    "Очень сильно выделяются шутеры.Так же можно выделить спорт, ролевые и гонки. А вот головоломки популярностью не пользуются. "
   ]
  },
  {
   "cell_type": "code",
   "execution_count": 30,
   "metadata": {
    "colab": {
     "base_uri": "https://localhost:8080/",
     "height": 513
    },
    "id": "SfCO2rohD7yL",
    "outputId": "4bcd6e57-027b-46e6-a469-09112c3c2fcc"
   },
   "outputs": [
    {
     "data": {
      "image/png": "[encoded data removed]",
      "text/plain": [
       "<Figure size 1080x576 with 1 Axes>"
      ]
     },
     "metadata": {
      "needs_background": "light"
     },
     "output_type": "display_data"
    }
   ],
   "source": [
    "top_5_platform.pivot_table(index='year_of_release', columns='genre',\n",
    "                     values='total_sales', aggfunc='sum').plot(figsize = (15, 8))\n",
    "plt.title('продажи игр по жанрам по годам')\n",
    "plt.xlabel('года')\n",
    "plt.ylabel('Продажи');"
   ]
  },
  {
   "cell_type": "markdown",
   "metadata": {
    "id": "GDGAw1XJamXZ"
   },
   "source": [
    "На графике видна явная 4 лидеров по продажам: экшн, шутеры, спорт и ролевые."
   ]
  },
  {
   "cell_type": "code",
   "execution_count": 31,
   "metadata": {
    "colab": {
     "base_uri": "https://localhost:8080/",
     "height": 347
    },
    "id": "El-854QBEjlE",
    "outputId": "e99e7474-e793-4574-a2d2-e4760d833dd2"
   },
   "outputs": [
    {
     "data": {
      "image/png": "[encoded data removed]",
      "text/plain": [
       "<Figure size 432x288 with 1 Axes>"
      ]
     },
     "metadata": {
      "needs_background": "light"
     },
     "output_type": "display_data"
    }
   ],
   "source": [
    "top_5_platform.groupby('genre')['genre'].count().plot(kind='bar')\n",
    "plt.title('Кол-во игр по жанрам')\n",
    "plt.xlabel('Жанр');\n"
   ]
  },
  {
   "cell_type": "markdown",
   "metadata": {
    "id": "_oFwvimnYyIH"
   },
   "source": [
    "А вот тут экшн в разы превосходит другие жанры (скорее всего кол-ом игр и достиглись верхние позиции в предыдущем графике). Затем можно выделить ролевые, спортивные и шутеры."
   ]
  },
  {
   "cell_type": "markdown",
   "metadata": {
    "id": "TzK03ohPcAu2"
   },
   "source": [
    "Высокие продажи у экшена достигались за счет выпуска большого кол-ва игр. А вот шутеров выпускаются в 2 раза меньше, но продаж больше, в 2016г шутеры по сумме обогнали экшен. Спортивные и ролевые игры - хороший середнячок. Остальные игры, особенно головоломки, выглядят менее привлекательными."
   ]
  },
  {
   "cell_type": "markdown",
   "metadata": {
    "id": "-8z79qftc5Xu"
   },
   "source": [
    "# 4. Составьте портрет пользователя каждого региона"
   ]
  },
  {
   "cell_type": "markdown",
   "metadata": {
    "id": "RIvzSojQdX81"
   },
   "source": [
    "## 1. Определите для пользователя каждого региона (NA, EU, JP) самые популярные платформы (топ-5). Опишите различия в долях продаж."
   ]
  },
  {
   "cell_type": "code",
   "execution_count": 32,
   "metadata": {
    "colab": {
     "base_uri": "https://localhost:8080/",
     "height": 206
    },
    "id": "lXTsEnDuk7IR",
    "outputId": "a8560e1c-55b2-431f-db7f-b5d3010246a5"
   },
   "outputs": [
    {
     "data": {
      "text/html": [
       "<div>\n",
       "<style scoped>\n",
       "    .dataframe tbody tr th:only-of-type {\n",
       "        vertical-align: middle;\n",
       "    }\n",
       "\n",
       "    .dataframe tbody tr th {\n",
       "        vertical-align: top;\n",
       "    }\n",
       "\n",
       "    .dataframe thead th {\n",
       "        text-align: right;\n",
       "    }\n",
       "</style>\n",
       "<table border=\"1\" class=\"dataframe\">\n",
       "  <thead>\n",
       "    <tr style=\"text-align: right;\">\n",
       "      <th></th>\n",
       "      <th>name</th>\n",
       "      <th>platform</th>\n",
       "      <th>year_of_release</th>\n",
       "      <th>genre</th>\n",
       "      <th>na_sales</th>\n",
       "      <th>eu_sales</th>\n",
       "      <th>jp_sales</th>\n",
       "      <th>other_sales</th>\n",
       "      <th>critic_score</th>\n",
       "      <th>user_score</th>\n",
       "      <th>rating</th>\n",
       "      <th>total_sales</th>\n",
       "    </tr>\n",
       "  </thead>\n",
       "  <tbody>\n",
       "    <tr>\n",
       "      <th>16</th>\n",
       "      <td>Grand Theft Auto V</td>\n",
       "      <td>PS3</td>\n",
       "      <td>2013</td>\n",
       "      <td>Action</td>\n",
       "      <td>7.02</td>\n",
       "      <td>9.09</td>\n",
       "      <td>0.98</td>\n",
       "      <td>3.96</td>\n",
       "      <td>97.0</td>\n",
       "      <td>8.2</td>\n",
       "      <td>M</td>\n",
       "      <td>21.05</td>\n",
       "    </tr>\n",
       "    <tr>\n",
       "      <th>23</th>\n",
       "      <td>Grand Theft Auto V</td>\n",
       "      <td>X360</td>\n",
       "      <td>2013</td>\n",
       "      <td>Action</td>\n",
       "      <td>9.66</td>\n",
       "      <td>5.14</td>\n",
       "      <td>0.06</td>\n",
       "      <td>1.41</td>\n",
       "      <td>97.0</td>\n",
       "      <td>8.1</td>\n",
       "      <td>M</td>\n",
       "      <td>16.27</td>\n",
       "    </tr>\n",
       "    <tr>\n",
       "      <th>31</th>\n",
       "      <td>Call of Duty: Black Ops 3</td>\n",
       "      <td>PS4</td>\n",
       "      <td>2015</td>\n",
       "      <td>Shooter</td>\n",
       "      <td>6.03</td>\n",
       "      <td>5.86</td>\n",
       "      <td>0.36</td>\n",
       "      <td>2.38</td>\n",
       "      <td>NaN</td>\n",
       "      <td>NaN</td>\n",
       "      <td>not defined</td>\n",
       "      <td>14.63</td>\n",
       "    </tr>\n",
       "    <tr>\n",
       "      <th>33</th>\n",
       "      <td>Pokemon X/Pokemon Y</td>\n",
       "      <td>3DS</td>\n",
       "      <td>2013</td>\n",
       "      <td>Role-Playing</td>\n",
       "      <td>5.28</td>\n",
       "      <td>4.19</td>\n",
       "      <td>4.35</td>\n",
       "      <td>0.78</td>\n",
       "      <td>NaN</td>\n",
       "      <td>NaN</td>\n",
       "      <td>not defined</td>\n",
       "      <td>14.60</td>\n",
       "    </tr>\n",
       "    <tr>\n",
       "      <th>42</th>\n",
       "      <td>Grand Theft Auto V</td>\n",
       "      <td>PS4</td>\n",
       "      <td>2014</td>\n",
       "      <td>Action</td>\n",
       "      <td>3.96</td>\n",
       "      <td>6.31</td>\n",
       "      <td>0.38</td>\n",
       "      <td>1.97</td>\n",
       "      <td>97.0</td>\n",
       "      <td>8.3</td>\n",
       "      <td>M</td>\n",
       "      <td>12.62</td>\n",
       "    </tr>\n",
       "  </tbody>\n",
       "</table>\n",
       "</div>"
      ],
      "text/plain": [
       "                         name platform  year_of_release         genre  \\\n",
       "16         Grand Theft Auto V      PS3             2013        Action   \n",
       "23         Grand Theft Auto V     X360             2013        Action   \n",
       "31  Call of Duty: Black Ops 3      PS4             2015       Shooter   \n",
       "33        Pokemon X/Pokemon Y      3DS             2013  Role-Playing   \n",
       "42         Grand Theft Auto V      PS4             2014        Action   \n",
       "\n",
       "    na_sales  eu_sales  jp_sales  other_sales  critic_score  user_score  \\\n",
       "16      7.02      9.09      0.98         3.96          97.0         8.2   \n",
       "23      9.66      5.14      0.06         1.41          97.0         8.1   \n",
       "31      6.03      5.86      0.36         2.38           NaN         NaN   \n",
       "33      5.28      4.19      4.35         0.78           NaN         NaN   \n",
       "42      3.96      6.31      0.38         1.97          97.0         8.3   \n",
       "\n",
       "         rating  total_sales  \n",
       "16            M        21.05  \n",
       "23            M        16.27  \n",
       "31  not defined        14.63  \n",
       "33  not defined        14.60  \n",
       "42            M        12.62  "
      ]
     },
     "execution_count": 32,
     "metadata": {},
     "output_type": "execute_result"
    }
   ],
   "source": [
    "data_new.head()"
   ]
  },
  {
   "cell_type": "code",
   "execution_count": 33,
   "metadata": {
    "colab": {
     "base_uri": "https://localhost:8080/",
     "height": 739
    },
    "id": "9cciE5pn0NE4",
    "outputId": "c81c7691-bfb9-4d66-c65f-93bc68631077"
   },
   "outputs": [
    {
     "data": {
      "text/html": [
       "<div>\n",
       "<style scoped>\n",
       "    .dataframe tbody tr th:only-of-type {\n",
       "        vertical-align: middle;\n",
       "    }\n",
       "\n",
       "    .dataframe tbody tr th {\n",
       "        vertical-align: top;\n",
       "    }\n",
       "\n",
       "    .dataframe thead th {\n",
       "        text-align: right;\n",
       "    }\n",
       "</style>\n",
       "<table border=\"1\" class=\"dataframe\">\n",
       "  <thead>\n",
       "    <tr style=\"text-align: right;\">\n",
       "      <th></th>\n",
       "      <th>na_sales</th>\n",
       "      <th>eu_sales</th>\n",
       "      <th>jp_sales</th>\n",
       "    </tr>\n",
       "    <tr>\n",
       "      <th>platform</th>\n",
       "      <th></th>\n",
       "      <th></th>\n",
       "      <th></th>\n",
       "    </tr>\n",
       "  </thead>\n",
       "  <tbody>\n",
       "    <tr>\n",
       "      <th>3DS</th>\n",
       "      <td>38.20</td>\n",
       "      <td>30.96</td>\n",
       "      <td>67.81</td>\n",
       "    </tr>\n",
       "    <tr>\n",
       "      <th>PS3</th>\n",
       "      <td>63.50</td>\n",
       "      <td>67.81</td>\n",
       "      <td>23.35</td>\n",
       "    </tr>\n",
       "    <tr>\n",
       "      <th>PS4</th>\n",
       "      <td>108.74</td>\n",
       "      <td>141.09</td>\n",
       "      <td>15.96</td>\n",
       "    </tr>\n",
       "    <tr>\n",
       "      <th>X360</th>\n",
       "      <td>81.66</td>\n",
       "      <td>42.52</td>\n",
       "      <td>0.51</td>\n",
       "    </tr>\n",
       "    <tr>\n",
       "      <th>XOne</th>\n",
       "      <td>93.12</td>\n",
       "      <td>51.59</td>\n",
       "      <td>0.34</td>\n",
       "    </tr>\n",
       "  </tbody>\n",
       "</table>\n",
       "</div>"
      ],
      "text/plain": [
       "          na_sales  eu_sales  jp_sales\n",
       "platform                              \n",
       "3DS          38.20     30.96     67.81\n",
       "PS3          63.50     67.81     23.35\n",
       "PS4         108.74    141.09     15.96\n",
       "X360         81.66     42.52      0.51\n",
       "XOne         93.12     51.59      0.34"
      ]
     },
     "metadata": {},
     "output_type": "display_data"
    },
    {
     "data": {
      "text/html": [
       "<div>\n",
       "<style scoped>\n",
       "    .dataframe tbody tr th:only-of-type {\n",
       "        vertical-align: middle;\n",
       "    }\n",
       "\n",
       "    .dataframe tbody tr th {\n",
       "        vertical-align: top;\n",
       "    }\n",
       "\n",
       "    .dataframe thead th {\n",
       "        text-align: right;\n",
       "    }\n",
       "</style>\n",
       "<table border=\"1\" class=\"dataframe\">\n",
       "  <thead>\n",
       "    <tr style=\"text-align: right;\">\n",
       "      <th></th>\n",
       "      <th>na_sales</th>\n",
       "      <th>eu_sales</th>\n",
       "      <th>jp_sales</th>\n",
       "    </tr>\n",
       "    <tr>\n",
       "      <th>platform</th>\n",
       "      <th></th>\n",
       "      <th></th>\n",
       "      <th></th>\n",
       "    </tr>\n",
       "  </thead>\n",
       "  <tbody>\n",
       "    <tr>\n",
       "      <th>3DS</th>\n",
       "      <td>0.099164</td>\n",
       "      <td>0.092703</td>\n",
       "      <td>0.628045</td>\n",
       "    </tr>\n",
       "    <tr>\n",
       "      <th>PS3</th>\n",
       "      <td>0.164841</td>\n",
       "      <td>0.203042</td>\n",
       "      <td>0.216264</td>\n",
       "    </tr>\n",
       "    <tr>\n",
       "      <th>PS4</th>\n",
       "      <td>0.282280</td>\n",
       "      <td>0.422463</td>\n",
       "      <td>0.147819</td>\n",
       "    </tr>\n",
       "    <tr>\n",
       "      <th>X360</th>\n",
       "      <td>0.211983</td>\n",
       "      <td>0.127317</td>\n",
       "      <td>0.004724</td>\n",
       "    </tr>\n",
       "    <tr>\n",
       "      <th>XOne</th>\n",
       "      <td>0.241732</td>\n",
       "      <td>0.154475</td>\n",
       "      <td>0.003149</td>\n",
       "    </tr>\n",
       "  </tbody>\n",
       "</table>\n",
       "</div>"
      ],
      "text/plain": [
       "          na_sales  eu_sales  jp_sales\n",
       "platform                              \n",
       "3DS       0.099164  0.092703  0.628045\n",
       "PS3       0.164841  0.203042  0.216264\n",
       "PS4       0.282280  0.422463  0.147819\n",
       "X360      0.211983  0.127317  0.004724\n",
       "XOne      0.241732  0.154475  0.003149"
      ]
     },
     "metadata": {},
     "output_type": "display_data"
    },
    {
     "data": {
      "image/png": "[encoded data removed]",
      "text/plain": [
       "<Figure size 432x288 with 1 Axes>"
      ]
     },
     "metadata": {
      "needs_background": "light"
     },
     "output_type": "display_data"
    }
   ],
   "source": [
    "top = data_new.groupby('platform').agg({'total_sales':'sum'}).sort_values(by='total_sales').tail(5).index\n",
    "report = data_new.query('platform in @top').groupby('platform')[['na_sales', 'eu_sales', 'jp_sales']].sum()\n",
    "display(report.head(5))\n",
    "\n",
    "for col in report.columns:\n",
    "    report[col] = report[col] / report[col].sum()\n",
    "display(report.head(5))\n",
    "report.T.plot(kind='bar', stacked = True);"
   ]
  },
  {
   "cell_type": "markdown",
   "metadata": {
    "id": "5EDXj1QautUq"
   },
   "source": [
    "Американский и европейский рынок более или менее одинаков. PS4 - явный лидер на европейском рынке (42%). Американский рынок более ровный, XOne(24%) немного успупает(28% у PS4), но в все-таки боксы - американской фирмы (Microsoft), так что их большая доля на американском рынке вполне логична. Японский рынок - это нечто! Можно сказать, что там только топ3. Как я и предполагала 3DS именно они вытянули - доля 62%!, далее тоже японские плойки (21% у PS3 и  14% y PS4), так что они патриоты) "
   ]
  },
  {
   "cell_type": "markdown",
   "metadata": {
    "id": "pVU-MzSEp5i6"
   },
   "source": [
    "## 2. Самые популярные жанры (топ-5). Поясните разницу."
   ]
  },
  {
   "cell_type": "code",
   "execution_count": 34,
   "metadata": {
    "colab": {
     "base_uri": "https://localhost:8080/",
     "height": 739
    },
    "id": "-WA1Pt0I2juQ",
    "outputId": "18c1125a-2472-4d00-9611-a51eaf986a31"
   },
   "outputs": [
    {
     "data": {
      "text/html": [
       "<div>\n",
       "<style scoped>\n",
       "    .dataframe tbody tr th:only-of-type {\n",
       "        vertical-align: middle;\n",
       "    }\n",
       "\n",
       "    .dataframe tbody tr th {\n",
       "        vertical-align: top;\n",
       "    }\n",
       "\n",
       "    .dataframe thead th {\n",
       "        text-align: right;\n",
       "    }\n",
       "</style>\n",
       "<table border=\"1\" class=\"dataframe\">\n",
       "  <thead>\n",
       "    <tr style=\"text-align: right;\">\n",
       "      <th></th>\n",
       "      <th>na_sales</th>\n",
       "      <th>eu_sales</th>\n",
       "      <th>jp_sales</th>\n",
       "    </tr>\n",
       "    <tr>\n",
       "      <th>genre</th>\n",
       "      <th></th>\n",
       "      <th></th>\n",
       "      <th></th>\n",
       "    </tr>\n",
       "  </thead>\n",
       "  <tbody>\n",
       "    <tr>\n",
       "      <th>Action</th>\n",
       "      <td>126.05</td>\n",
       "      <td>118.13</td>\n",
       "      <td>40.49</td>\n",
       "    </tr>\n",
       "    <tr>\n",
       "      <th>Misc</th>\n",
       "      <td>27.49</td>\n",
       "      <td>20.04</td>\n",
       "      <td>9.20</td>\n",
       "    </tr>\n",
       "    <tr>\n",
       "      <th>Role-Playing</th>\n",
       "      <td>46.40</td>\n",
       "      <td>36.97</td>\n",
       "      <td>51.04</td>\n",
       "    </tr>\n",
       "    <tr>\n",
       "      <th>Shooter</th>\n",
       "      <td>109.74</td>\n",
       "      <td>87.86</td>\n",
       "      <td>6.61</td>\n",
       "    </tr>\n",
       "    <tr>\n",
       "      <th>Sports</th>\n",
       "      <td>65.27</td>\n",
       "      <td>60.52</td>\n",
       "      <td>5.41</td>\n",
       "    </tr>\n",
       "  </tbody>\n",
       "</table>\n",
       "</div>"
      ],
      "text/plain": [
       "              na_sales  eu_sales  jp_sales\n",
       "genre                                     \n",
       "Action          126.05    118.13     40.49\n",
       "Misc             27.49     20.04      9.20\n",
       "Role-Playing     46.40     36.97     51.04\n",
       "Shooter         109.74     87.86      6.61\n",
       "Sports           65.27     60.52      5.41"
      ]
     },
     "metadata": {},
     "output_type": "display_data"
    },
    {
     "data": {
      "text/html": [
       "<div>\n",
       "<style scoped>\n",
       "    .dataframe tbody tr th:only-of-type {\n",
       "        vertical-align: middle;\n",
       "    }\n",
       "\n",
       "    .dataframe tbody tr th {\n",
       "        vertical-align: top;\n",
       "    }\n",
       "\n",
       "    .dataframe thead th {\n",
       "        text-align: right;\n",
       "    }\n",
       "</style>\n",
       "<table border=\"1\" class=\"dataframe\">\n",
       "  <thead>\n",
       "    <tr style=\"text-align: right;\">\n",
       "      <th></th>\n",
       "      <th>na_sales</th>\n",
       "      <th>eu_sales</th>\n",
       "      <th>jp_sales</th>\n",
       "    </tr>\n",
       "    <tr>\n",
       "      <th>genre</th>\n",
       "      <th></th>\n",
       "      <th></th>\n",
       "      <th></th>\n",
       "    </tr>\n",
       "  </thead>\n",
       "  <tbody>\n",
       "    <tr>\n",
       "      <th>Action</th>\n",
       "      <td>0.336178</td>\n",
       "      <td>0.365140</td>\n",
       "      <td>0.359113</td>\n",
       "    </tr>\n",
       "    <tr>\n",
       "      <th>Misc</th>\n",
       "      <td>0.073316</td>\n",
       "      <td>0.061944</td>\n",
       "      <td>0.081596</td>\n",
       "    </tr>\n",
       "    <tr>\n",
       "      <th>Role-Playing</th>\n",
       "      <td>0.123750</td>\n",
       "      <td>0.114274</td>\n",
       "      <td>0.452683</td>\n",
       "    </tr>\n",
       "    <tr>\n",
       "      <th>Shooter</th>\n",
       "      <td>0.292679</td>\n",
       "      <td>0.271575</td>\n",
       "      <td>0.058625</td>\n",
       "    </tr>\n",
       "    <tr>\n",
       "      <th>Sports</th>\n",
       "      <td>0.174077</td>\n",
       "      <td>0.187067</td>\n",
       "      <td>0.047982</td>\n",
       "    </tr>\n",
       "  </tbody>\n",
       "</table>\n",
       "</div>"
      ],
      "text/plain": [
       "              na_sales  eu_sales  jp_sales\n",
       "genre                                     \n",
       "Action        0.336178  0.365140  0.359113\n",
       "Misc          0.073316  0.061944  0.081596\n",
       "Role-Playing  0.123750  0.114274  0.452683\n",
       "Shooter       0.292679  0.271575  0.058625\n",
       "Sports        0.174077  0.187067  0.047982"
      ]
     },
     "metadata": {},
     "output_type": "display_data"
    },
    {
     "data": {
      "image/png": "[encoded data removed]",
      "text/plain": [
       "<Figure size 432x288 with 1 Axes>"
      ]
     },
     "metadata": {
      "needs_background": "light"
     },
     "output_type": "display_data"
    }
   ],
   "source": [
    "top_genre = data_new.groupby('genre').agg({'total_sales':'sum'}).sort_values(by='total_sales').tail(5).index\n",
    "report = data_new.query('genre in @top_genre').groupby('genre')[['na_sales', 'eu_sales', 'jp_sales']].sum()\n",
    "display(report.head(5))\n",
    "\n",
    "for col in report.columns:\n",
    "    report[col] = report[col] / report[col].sum()\n",
    "display(report.head(5))\n",
    "report.T.plot(kind='bar', stacked = True);"
   ]
  },
  {
   "cell_type": "markdown",
   "metadata": {
    "id": "nhTAGEhxyYSt"
   },
   "source": [
    "Здесь картина тоже похожа на предыдущую. Американский и европейский рынок имеют минимальные различия. Самый популярный жанр - экшн (33 и 36% соответственно), затем шутеры (29 и 27%) и спортивные (17 и 18%). А вот японский рынок снова выделяется. Здесь 45% у ролевых, затем экшн (35%) и музыкальные (8%). Такое различие скорее всего так же из-за 3DS"
   ]
  },
  {
   "cell_type": "markdown",
   "metadata": {
    "id": "AopINIw6qBij"
   },
   "source": [
    "## 3. Влияет ли рейтинг ESRB на продажи в отдельном регионе?"
   ]
  },
  {
   "cell_type": "code",
   "execution_count": 35,
   "metadata": {
    "colab": {
     "base_uri": "https://localhost:8080/"
    },
    "id": "NrZoc5MPsgo-",
    "outputId": "0dbc3d63-54d9-41df-91e6-4e8c347bbc58"
   },
   "outputs": [
    {
     "data": {
      "text/plain": [
       "array(['M', 'not defined', 'E', 'T', 'E10+'], dtype=object)"
      ]
     },
     "execution_count": 35,
     "metadata": {},
     "output_type": "execute_result"
    }
   ],
   "source": [
    "data_new['rating'].unique() # посмотрим на рейтинги"
   ]
  },
  {
   "cell_type": "code",
   "execution_count": 36,
   "metadata": {
    "colab": {
     "base_uri": "https://localhost:8080/",
     "height": 739
    },
    "id": "jrBTd_lemHT4",
    "outputId": "4eb87190-400d-446c-ecfe-db0d4eae2985"
   },
   "outputs": [
    {
     "data": {
      "text/html": [
       "<div>\n",
       "<style scoped>\n",
       "    .dataframe tbody tr th:only-of-type {\n",
       "        vertical-align: middle;\n",
       "    }\n",
       "\n",
       "    .dataframe tbody tr th {\n",
       "        vertical-align: top;\n",
       "    }\n",
       "\n",
       "    .dataframe thead th {\n",
       "        text-align: right;\n",
       "    }\n",
       "</style>\n",
       "<table border=\"1\" class=\"dataframe\">\n",
       "  <thead>\n",
       "    <tr style=\"text-align: right;\">\n",
       "      <th></th>\n",
       "      <th>na_sales</th>\n",
       "      <th>eu_sales</th>\n",
       "      <th>jp_sales</th>\n",
       "    </tr>\n",
       "    <tr>\n",
       "      <th>rating</th>\n",
       "      <th></th>\n",
       "      <th></th>\n",
       "      <th></th>\n",
       "    </tr>\n",
       "  </thead>\n",
       "  <tbody>\n",
       "    <tr>\n",
       "      <th>E</th>\n",
       "      <td>79.05</td>\n",
       "      <td>83.36</td>\n",
       "      <td>15.14</td>\n",
       "    </tr>\n",
       "    <tr>\n",
       "      <th>E10+</th>\n",
       "      <td>54.24</td>\n",
       "      <td>42.69</td>\n",
       "      <td>5.89</td>\n",
       "    </tr>\n",
       "    <tr>\n",
       "      <th>M</th>\n",
       "      <td>165.21</td>\n",
       "      <td>145.32</td>\n",
       "      <td>14.11</td>\n",
       "    </tr>\n",
       "    <tr>\n",
       "      <th>T</th>\n",
       "      <td>49.79</td>\n",
       "      <td>41.95</td>\n",
       "      <td>20.59</td>\n",
       "    </tr>\n",
       "    <tr>\n",
       "      <th>not defined</th>\n",
       "      <td>89.42</td>\n",
       "      <td>78.91</td>\n",
       "      <td>85.05</td>\n",
       "    </tr>\n",
       "  </tbody>\n",
       "</table>\n",
       "</div>"
      ],
      "text/plain": [
       "             na_sales  eu_sales  jp_sales\n",
       "rating                                   \n",
       "E               79.05     83.36     15.14\n",
       "E10+            54.24     42.69      5.89\n",
       "M              165.21    145.32     14.11\n",
       "T               49.79     41.95     20.59\n",
       "not defined     89.42     78.91     85.05"
      ]
     },
     "metadata": {},
     "output_type": "display_data"
    },
    {
     "data": {
      "text/html": [
       "<div>\n",
       "<style scoped>\n",
       "    .dataframe tbody tr th:only-of-type {\n",
       "        vertical-align: middle;\n",
       "    }\n",
       "\n",
       "    .dataframe tbody tr th {\n",
       "        vertical-align: top;\n",
       "    }\n",
       "\n",
       "    .dataframe thead th {\n",
       "        text-align: right;\n",
       "    }\n",
       "</style>\n",
       "<table border=\"1\" class=\"dataframe\">\n",
       "  <thead>\n",
       "    <tr style=\"text-align: right;\">\n",
       "      <th></th>\n",
       "      <th>na_sales</th>\n",
       "      <th>eu_sales</th>\n",
       "      <th>jp_sales</th>\n",
       "    </tr>\n",
       "    <tr>\n",
       "      <th>rating</th>\n",
       "      <th></th>\n",
       "      <th></th>\n",
       "      <th></th>\n",
       "    </tr>\n",
       "  </thead>\n",
       "  <tbody>\n",
       "    <tr>\n",
       "      <th>E</th>\n",
       "      <td>0.180599</td>\n",
       "      <td>0.212528</td>\n",
       "      <td>0.107544</td>\n",
       "    </tr>\n",
       "    <tr>\n",
       "      <th>E10+</th>\n",
       "      <td>0.123918</td>\n",
       "      <td>0.108839</td>\n",
       "      <td>0.041838</td>\n",
       "    </tr>\n",
       "    <tr>\n",
       "      <th>M</th>\n",
       "      <td>0.377442</td>\n",
       "      <td>0.370497</td>\n",
       "      <td>0.100227</td>\n",
       "    </tr>\n",
       "    <tr>\n",
       "      <th>T</th>\n",
       "      <td>0.113751</td>\n",
       "      <td>0.106953</td>\n",
       "      <td>0.146257</td>\n",
       "    </tr>\n",
       "    <tr>\n",
       "      <th>not defined</th>\n",
       "      <td>0.204291</td>\n",
       "      <td>0.201183</td>\n",
       "      <td>0.604134</td>\n",
       "    </tr>\n",
       "  </tbody>\n",
       "</table>\n",
       "</div>"
      ],
      "text/plain": [
       "             na_sales  eu_sales  jp_sales\n",
       "rating                                   \n",
       "E            0.180599  0.212528  0.107544\n",
       "E10+         0.123918  0.108839  0.041838\n",
       "M            0.377442  0.370497  0.100227\n",
       "T            0.113751  0.106953  0.146257\n",
       "not defined  0.204291  0.201183  0.604134"
      ]
     },
     "metadata": {},
     "output_type": "display_data"
    },
    {
     "data": {
      "image/png": "[encoded data removed]",
      "text/plain": [
       "<Figure size 432x288 with 1 Axes>"
      ]
     },
     "metadata": {
      "needs_background": "light"
     },
     "output_type": "display_data"
    }
   ],
   "source": [
    "top_rating = data_new.groupby('rating').agg({'total_sales':'sum'}).sort_values(by='total_sales').tail(5).index\n",
    "report = data_new.query('rating in @top_rating').groupby('rating')[['na_sales', 'eu_sales', 'jp_sales']].sum()\n",
    "display(report.head(5))\n",
    "\n",
    "for col in report.columns:\n",
    "    report[col] = report[col] / report[col].sum()\n",
    "display(report.head(5))\n",
    "report.T.plot(kind='bar', stacked = True);"
   ]
  },
  {
   "cell_type": "markdown",
   "metadata": {
    "id": "rWA_gWXb1yCp"
   },
   "source": [
    "Ну что же! Снова американский и европейский рынки очень похожи. Самые популярные рейтига М(для всех старше 17лет) по 37%. по 20% у неопределенных рейтингов, 18% и 21% у Е(для всех от 6 лет). Замыкают пятерку Е10+(для всех от 10 лет) по 12% и 10% и Т(для лиц от 13 лет) по 11% и 10%. И снова японцы отличились. 60% у неизвестного рейтинга. Скорее всего это игры, выпускаемые только на азиатский рынок и имеющие свою классификацию). Т - 14%, М и Е по 10%, Е10+ - 4%. Рейтинг опреденно влияет на продажи, большие продажи у игр для взрослых. Но прежде чем заходить на японский рынок, нужно изучить их рейтинги."
   ]
  },
  {
   "cell_type": "markdown",
   "metadata": {
    "id": "cZRxZZv680SJ"
   },
   "source": [
    "# 5. Проверьте гипотезы"
   ]
  },
  {
   "cell_type": "markdown",
   "metadata": {
    "id": "UjcTlpfH80Yy"
   },
   "source": [
    "## 1. Средние пользовательские рейтинги платформ Xbox One и PC одинаковые;"
   ]
  },
  {
   "cell_type": "markdown",
   "metadata": {
    "id": "6_dI2dnunpoJ"
   },
   "source": [
    "**Гипотезы**\n",
    "\n",
    "* H0: средний пользовательский рейтинг платформ Xbox One и PC одинаковый\n",
    "* H1: средний пользовательский рейтинг платформ Xbox One и PC различается"
   ]
  },
  {
   "cell_type": "markdown",
   "metadata": {
    "id": "YQkJwPs5oqNt"
   },
   "source": [
    "Будем использовать t-критерий Стьюдента, так как сравниваемые выборки независимы между собой."
   ]
  },
  {
   "cell_type": "code",
   "execution_count": 37,
   "metadata": {
    "colab": {
     "base_uri": "https://localhost:8080/"
    },
    "id": "EftQAlrF8hgF",
    "outputId": "38208728-1af5-4b05-d904-30d417bb61a4"
   },
   "outputs": [
    {
     "name": "stdout",
     "output_type": "stream",
     "text": [
      "p-значение: 0.14012658403611647\n",
      "Не получилось отвергнуть нулевую гипотезу\n"
     ]
    }
   ],
   "source": [
    "alpha = 0.05 #стандартное пороговое значение \n",
    "\n",
    "xbox = data_new[(data_new['platform'] == 'XOne') & (data_new['user_score'] > 0)]['user_score']\n",
    "pc = data_new[(data_new['platform'] == 'PC') & (data_new['user_score'] > 0)]['user_score']\n",
    "\n",
    "results = st.ttest_ind(xbox, pc)\n",
    "\n",
    "print('p-значение:', results.pvalue)\n",
    "\n",
    "if (results.pvalue < alpha):\n",
    "    print(\"Отвергаем нулевую гипотезу\")\n",
    "else:\n",
    "    print(\"Не получилось отвергнуть нулевую гипотезу\")"
   ]
  },
  {
   "cell_type": "markdown",
   "metadata": {
    "id": "9Ajy9o4Hr5GP"
   },
   "source": [
    "**Гипотезы**\n",
    "\n",
    "* H0: средний пользовательский рейтинг жанров Action и Sports одинаковый\n",
    "\n",
    "* H1: средний пользовательский рейтинг жанров Action и Sports различается"
   ]
  },
  {
   "cell_type": "markdown",
   "metadata": {
    "id": "zRAnj9FAsiBC"
   },
   "source": [
    "Будем использовать t-критерий Стьюдента, так как сравниваемые выборки независимы между собой."
   ]
  },
  {
   "cell_type": "code",
   "execution_count": 38,
   "metadata": {
    "colab": {
     "base_uri": "https://localhost:8080/"
    },
    "id": "qiOWBctQpuLq",
    "outputId": "e7b10f95-974b-4c9a-b9d8-33439be4679c"
   },
   "outputs": [
    {
     "name": "stdout",
     "output_type": "stream",
     "text": [
      "p-значение: 1.0517832389140023e-27\n",
      "Отвергаем нулевую гипотезу\n"
     ]
    }
   ],
   "source": [
    "alpha = 0.05 #стандартное пороговое значение \n",
    "\n",
    "action = data_new[(data_new['genre'] == 'Action') & (data_new['user_score'] > 0)]['user_score']\n",
    "sports = data_new[(data_new['genre'] == 'Sports') & (data_new['user_score'] > 0)]['user_score']\n",
    "\n",
    "results = st.ttest_ind(action, sports)\n",
    "\n",
    "print('p-значение:', results.pvalue)\n",
    "\n",
    "if (results.pvalue < alpha):\n",
    "    print(\"Отвергаем нулевую гипотезу\")\n",
    "else:\n",
    "    print(\"Не получилось отвергнуть нулевую гипотезу\")"
   ]
  },
  {
   "cell_type": "markdown",
   "metadata": {
    "id": "-AFLrBYQ0B3_"
   },
   "source": [
    "# 6. Общий вывод."
   ]
  },
  {
   "cell_type": "markdown",
   "metadata": {
    "id": "8ocyUEme0JIB"
   },
   "source": [
    "У игровой индустрии не лучшие времена, к созданию игры нужно подходить обстоятельно.\n",
    "\n",
    "1. Для начала платформа. Создавать игру нужно на новых платформах - они самые перспективные (XOne и PS4). Если делать эксклюзив - то определенно PS4, таким образом будут покрыты все рынки. Но и лишать себя потенциальных 20% рынка Америки и Европы не логично. Так что, если это не сильно ударит по бютжету, то создавать игру на 2х платформах, максимально покрывая потенциальны рынок.\n",
    "\n",
    "2. Жанр. 2 самых популярных жанра - экшн и шутер. Тут и думать нечего, круче всего вообще объединить их, это не так и сложно)\n",
    "\n",
    "3. По рейтингу. Тут тоже вполне логично: больше всего покупаются игры для людей старше 17 лет, да и шутеры скорее всего имеют это ограничение. Так что нечего, как и в киноиндустрии бояться высокого рейтинга, основные потребители игр сейчас - взрослые люди, которые выросли на играх в 90х и 00х.\n",
    "\n"
   ]
  }
 ],
 "metadata": {
  "ExecuteTimeLog": [
   {
    "duration": 998,
    "start_time": "2022-03-28T20:43:42.149Z"
   },
   {
    "duration": 125,
    "start_time": "2022-03-28T20:43:43.149Z"
   },
   {
    "duration": 17,
    "start_time": "2022-03-28T20:43:43.276Z"
   },
   {
    "duration": 13,
    "start_time": "2022-03-28T20:43:43.294Z"
   },
   {
    "duration": 4,
    "start_time": "2022-03-28T20:43:43.309Z"
   },
   {
    "duration": 4,
    "start_time": "2022-03-28T20:43:43.314Z"
   },
   {
    "duration": 12,
    "start_time": "2022-03-28T20:43:43.319Z"
   },
   {
    "duration": 10,
    "start_time": "2022-03-28T20:43:43.332Z"
   },
   {
    "duration": 18,
    "start_time": "2022-03-28T20:43:43.344Z"
   },
   {
    "duration": 16,
    "start_time": "2022-03-28T20:43:43.365Z"
   },
   {
    "duration": 2,
    "start_time": "2022-03-28T20:43:43.409Z"
   },
   {
    "duration": 7,
    "start_time": "2022-03-28T20:43:43.413Z"
   },
   {
    "duration": 10,
    "start_time": "2022-03-28T20:43:43.421Z"
   },
   {
    "duration": 21,
    "start_time": "2022-03-28T20:43:43.432Z"
   },
   {
    "duration": 10,
    "start_time": "2022-03-28T20:43:43.455Z"
   },
   {
    "duration": 52,
    "start_time": "2022-03-28T20:43:43.466Z"
   },
   {
    "duration": 316,
    "start_time": "2022-03-28T20:43:43.520Z"
   },
   {
    "duration": 6,
    "start_time": "2022-03-28T20:43:43.838Z"
   },
   {
    "duration": 4,
    "start_time": "2022-03-28T20:43:43.845Z"
   },
   {
    "duration": 279,
    "start_time": "2022-03-28T20:43:43.850Z"
   },
   {
    "duration": 41,
    "start_time": "2022-03-28T20:43:44.130Z"
   },
   {
    "duration": 7,
    "start_time": "2022-03-28T20:43:44.173Z"
   },
   {
    "duration": 278,
    "start_time": "2022-03-28T20:43:44.181Z"
   },
   {
    "duration": 9,
    "start_time": "2022-03-28T20:43:44.461Z"
   },
   {
    "duration": 15,
    "start_time": "2022-03-28T20:43:44.472Z"
   },
   {
    "duration": 210,
    "start_time": "2022-03-28T20:43:44.489Z"
   },
   {
    "duration": 279,
    "start_time": "2022-03-28T20:43:44.709Z"
   },
   {
    "duration": 1423,
    "start_time": "2022-03-28T20:43:44.992Z"
   },
   {
    "duration": 279,
    "start_time": "2022-03-28T20:43:46.417Z"
   },
   {
    "duration": 289,
    "start_time": "2022-03-28T20:43:46.698Z"
   },
   {
    "duration": 160,
    "start_time": "2022-03-28T20:43:46.988Z"
   },
   {
    "duration": 14,
    "start_time": "2022-03-28T20:43:47.150Z"
   },
   {
    "duration": 188,
    "start_time": "2022-03-28T20:43:47.166Z"
   },
   {
    "duration": 246,
    "start_time": "2022-03-28T20:43:47.356Z"
   },
   {
    "duration": 8,
    "start_time": "2022-03-28T20:43:47.603Z"
   },
   {
    "duration": 182,
    "start_time": "2022-03-28T20:43:47.612Z"
   },
   {
    "duration": 14,
    "start_time": "2022-03-28T20:43:47.796Z"
   },
   {
    "duration": 10,
    "start_time": "2022-03-28T20:43:47.812Z"
   },
   {
    "duration": 4,
    "start_time": "2022-03-28T20:43:47.823Z"
   },
   {
    "duration": 1293,
    "start_time": "2022-03-29T09:12:09.404Z"
   },
   {
    "duration": 186,
    "start_time": "2022-03-29T09:12:10.699Z"
   },
   {
    "duration": 17,
    "start_time": "2022-03-29T09:12:10.886Z"
   },
   {
    "duration": 15,
    "start_time": "2022-03-29T09:12:10.905Z"
   },
   {
    "duration": 5,
    "start_time": "2022-03-29T09:12:10.922Z"
   },
   {
    "duration": 9,
    "start_time": "2022-03-29T09:12:10.928Z"
   },
   {
    "duration": 12,
    "start_time": "2022-03-29T09:12:10.939Z"
   },
   {
    "duration": 14,
    "start_time": "2022-03-29T09:12:10.953Z"
   },
   {
    "duration": 20,
    "start_time": "2022-03-29T09:12:10.968Z"
   },
   {
    "duration": 18,
    "start_time": "2022-03-29T09:12:10.991Z"
   },
   {
    "duration": 27,
    "start_time": "2022-03-29T09:12:11.011Z"
   },
   {
    "duration": 21,
    "start_time": "2022-03-29T09:12:11.041Z"
   },
   {
    "duration": 10,
    "start_time": "2022-03-29T09:12:11.064Z"
   },
   {
    "duration": 20,
    "start_time": "2022-03-29T09:12:11.075Z"
   },
   {
    "duration": 10,
    "start_time": "2022-03-29T09:12:11.096Z"
   },
   {
    "duration": 36,
    "start_time": "2022-03-29T09:12:11.108Z"
   },
   {
    "duration": 327,
    "start_time": "2022-03-29T09:12:11.145Z"
   },
   {
    "duration": 7,
    "start_time": "2022-03-29T09:12:11.474Z"
   },
   {
    "duration": 8,
    "start_time": "2022-03-29T09:12:11.483Z"
   },
   {
    "duration": 277,
    "start_time": "2022-03-29T09:12:11.493Z"
   },
   {
    "duration": 41,
    "start_time": "2022-03-29T09:12:11.772Z"
   },
   {
    "duration": 7,
    "start_time": "2022-03-29T09:12:11.815Z"
   },
   {
    "duration": 279,
    "start_time": "2022-03-29T09:12:11.824Z"
   },
   {
    "duration": 8,
    "start_time": "2022-03-29T09:12:12.104Z"
   },
   {
    "duration": 29,
    "start_time": "2022-03-29T09:12:12.114Z"
   },
   {
    "duration": 210,
    "start_time": "2022-03-29T09:12:12.144Z"
   },
   {
    "duration": 290,
    "start_time": "2022-03-29T09:12:12.356Z"
   },
   {
    "duration": 1420,
    "start_time": "2022-03-29T09:12:12.649Z"
   },
   {
    "duration": 285,
    "start_time": "2022-03-29T09:12:14.070Z"
   },
   {
    "duration": 282,
    "start_time": "2022-03-29T09:12:14.356Z"
   },
   {
    "duration": 146,
    "start_time": "2022-03-29T09:12:14.639Z"
   },
   {
    "duration": 14,
    "start_time": "2022-03-29T09:12:14.786Z"
   },
   {
    "duration": 217,
    "start_time": "2022-03-29T09:12:14.801Z"
   },
   {
    "duration": 287,
    "start_time": "2022-03-29T09:12:15.021Z"
   },
   {
    "duration": 5,
    "start_time": "2022-03-29T09:12:15.309Z"
   },
   {
    "duration": 205,
    "start_time": "2022-03-29T09:12:15.315Z"
   },
   {
    "duration": 17,
    "start_time": "2022-03-29T09:12:15.522Z"
   },
   {
    "duration": 8,
    "start_time": "2022-03-29T09:12:15.541Z"
   },
   {
    "duration": 7,
    "start_time": "2022-03-29T09:12:15.550Z"
   }
  ],
  "colab": {
   "collapsed_sections": [],
   "name": "notebook.ipynb",
   "provenance": []
  },
  "kernelspec": {
   "display_name": "Python 3 (ipykernel)",
   "language": "python",
   "name": "python3"
  },
  "language_info": {
   "codemirror_mode": {
    "name": "ipython",
    "version": 3
   },
   "file_extension": ".py",
   "mimetype": "text/x-python",
   "name": "python",
   "nbconvert_exporter": "python",
   "pygments_lexer": "ipython3",
   "version": "3.9.7"
  },
  "toc": {
   "base_numbering": 1,
   "nav_menu": {},
   "number_sections": true,
   "sideBar": true,
   "skip_h1_title": true,
   "title_cell": "Table of Contents",
   "title_sidebar": "Contents",
   "toc_cell": false,
   "toc_position": {},
   "toc_section_display": true,
   "toc_window_display": false
  }
 },
 "nbformat": 4,
 "nbformat_minor": 1
}
