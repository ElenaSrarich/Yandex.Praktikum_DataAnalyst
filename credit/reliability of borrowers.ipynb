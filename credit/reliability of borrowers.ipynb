{
 "cells": [
  {
   "cell_type": "markdown",
   "metadata": {},
   "source": [
    "# Исследование надёжности заёмщиков\n",
    "\n",
    "Заказчик — кредитный отдел банка. Нужно разобраться, влияет ли семейное положение и количество детей клиента на факт погашения кредита в срок. Входные данные от банка — статистика о платёжеспособности клиентов.\n",
    "\n",
    "Результаты исследования будут учтены при построении модели **кредитного скоринга** — специальной системы, которая оценивает способность потенциального заёмщика вернуть кредит банку."
   ]
  },
  {
   "cell_type": "markdown",
   "metadata": {},
   "source": [
    "## Шаг 1. Откройте файл с данными и изучите общую информацию"
   ]
  },
  {
   "cell_type": "code",
   "execution_count": 1,
   "metadata": {
    "scrolled": true
   },
   "outputs": [
    {
     "data": {
      "text/html": [
       "<div>\n",
       "<style scoped>\n",
       "    .dataframe tbody tr th:only-of-type {\n",
       "        vertical-align: middle;\n",
       "    }\n",
       "\n",
       "    .dataframe tbody tr th {\n",
       "        vertical-align: top;\n",
       "    }\n",
       "\n",
       "    .dataframe thead th {\n",
       "        text-align: right;\n",
       "    }\n",
       "</style>\n",
       "<table border=\"1\" class=\"dataframe\">\n",
       "  <thead>\n",
       "    <tr style=\"text-align: right;\">\n",
       "      <th></th>\n",
       "      <th>children</th>\n",
       "      <th>days_employed</th>\n",
       "      <th>dob_years</th>\n",
       "      <th>education</th>\n",
       "      <th>education_id</th>\n",
       "      <th>family_status</th>\n",
       "      <th>family_status_id</th>\n",
       "      <th>gender</th>\n",
       "      <th>income_type</th>\n",
       "      <th>debt</th>\n",
       "      <th>total_income</th>\n",
       "      <th>purpose</th>\n",
       "    </tr>\n",
       "  </thead>\n",
       "  <tbody>\n",
       "    <tr>\n",
       "      <td>0</td>\n",
       "      <td>1</td>\n",
       "      <td>-8437.673028</td>\n",
       "      <td>42</td>\n",
       "      <td>высшее</td>\n",
       "      <td>0</td>\n",
       "      <td>женат / замужем</td>\n",
       "      <td>0</td>\n",
       "      <td>F</td>\n",
       "      <td>сотрудник</td>\n",
       "      <td>0</td>\n",
       "      <td>253875.639453</td>\n",
       "      <td>покупка жилья</td>\n",
       "    </tr>\n",
       "    <tr>\n",
       "      <td>1</td>\n",
       "      <td>1</td>\n",
       "      <td>-4024.803754</td>\n",
       "      <td>36</td>\n",
       "      <td>среднее</td>\n",
       "      <td>1</td>\n",
       "      <td>женат / замужем</td>\n",
       "      <td>0</td>\n",
       "      <td>F</td>\n",
       "      <td>сотрудник</td>\n",
       "      <td>0</td>\n",
       "      <td>112080.014102</td>\n",
       "      <td>приобретение автомобиля</td>\n",
       "    </tr>\n",
       "    <tr>\n",
       "      <td>2</td>\n",
       "      <td>0</td>\n",
       "      <td>-5623.422610</td>\n",
       "      <td>33</td>\n",
       "      <td>Среднее</td>\n",
       "      <td>1</td>\n",
       "      <td>женат / замужем</td>\n",
       "      <td>0</td>\n",
       "      <td>M</td>\n",
       "      <td>сотрудник</td>\n",
       "      <td>0</td>\n",
       "      <td>145885.952297</td>\n",
       "      <td>покупка жилья</td>\n",
       "    </tr>\n",
       "    <tr>\n",
       "      <td>3</td>\n",
       "      <td>3</td>\n",
       "      <td>-4124.747207</td>\n",
       "      <td>32</td>\n",
       "      <td>среднее</td>\n",
       "      <td>1</td>\n",
       "      <td>женат / замужем</td>\n",
       "      <td>0</td>\n",
       "      <td>M</td>\n",
       "      <td>сотрудник</td>\n",
       "      <td>0</td>\n",
       "      <td>267628.550329</td>\n",
       "      <td>дополнительное образование</td>\n",
       "    </tr>\n",
       "    <tr>\n",
       "      <td>4</td>\n",
       "      <td>0</td>\n",
       "      <td>340266.072047</td>\n",
       "      <td>53</td>\n",
       "      <td>среднее</td>\n",
       "      <td>1</td>\n",
       "      <td>гражданский брак</td>\n",
       "      <td>1</td>\n",
       "      <td>F</td>\n",
       "      <td>пенсионер</td>\n",
       "      <td>0</td>\n",
       "      <td>158616.077870</td>\n",
       "      <td>сыграть свадьбу</td>\n",
       "    </tr>\n",
       "    <tr>\n",
       "      <td>5</td>\n",
       "      <td>0</td>\n",
       "      <td>-926.185831</td>\n",
       "      <td>27</td>\n",
       "      <td>высшее</td>\n",
       "      <td>0</td>\n",
       "      <td>гражданский брак</td>\n",
       "      <td>1</td>\n",
       "      <td>M</td>\n",
       "      <td>компаньон</td>\n",
       "      <td>0</td>\n",
       "      <td>255763.565419</td>\n",
       "      <td>покупка жилья</td>\n",
       "    </tr>\n",
       "    <tr>\n",
       "      <td>6</td>\n",
       "      <td>0</td>\n",
       "      <td>-2879.202052</td>\n",
       "      <td>43</td>\n",
       "      <td>высшее</td>\n",
       "      <td>0</td>\n",
       "      <td>женат / замужем</td>\n",
       "      <td>0</td>\n",
       "      <td>F</td>\n",
       "      <td>компаньон</td>\n",
       "      <td>0</td>\n",
       "      <td>240525.971920</td>\n",
       "      <td>операции с жильем</td>\n",
       "    </tr>\n",
       "    <tr>\n",
       "      <td>7</td>\n",
       "      <td>0</td>\n",
       "      <td>-152.779569</td>\n",
       "      <td>50</td>\n",
       "      <td>СРЕДНЕЕ</td>\n",
       "      <td>1</td>\n",
       "      <td>женат / замужем</td>\n",
       "      <td>0</td>\n",
       "      <td>M</td>\n",
       "      <td>сотрудник</td>\n",
       "      <td>0</td>\n",
       "      <td>135823.934197</td>\n",
       "      <td>образование</td>\n",
       "    </tr>\n",
       "    <tr>\n",
       "      <td>8</td>\n",
       "      <td>2</td>\n",
       "      <td>-6929.865299</td>\n",
       "      <td>35</td>\n",
       "      <td>ВЫСШЕЕ</td>\n",
       "      <td>0</td>\n",
       "      <td>гражданский брак</td>\n",
       "      <td>1</td>\n",
       "      <td>F</td>\n",
       "      <td>сотрудник</td>\n",
       "      <td>0</td>\n",
       "      <td>95856.832424</td>\n",
       "      <td>на проведение свадьбы</td>\n",
       "    </tr>\n",
       "    <tr>\n",
       "      <td>9</td>\n",
       "      <td>0</td>\n",
       "      <td>-2188.756445</td>\n",
       "      <td>41</td>\n",
       "      <td>среднее</td>\n",
       "      <td>1</td>\n",
       "      <td>женат / замужем</td>\n",
       "      <td>0</td>\n",
       "      <td>M</td>\n",
       "      <td>сотрудник</td>\n",
       "      <td>0</td>\n",
       "      <td>144425.938277</td>\n",
       "      <td>покупка жилья для семьи</td>\n",
       "    </tr>\n",
       "  </tbody>\n",
       "</table>\n",
       "</div>"
      ],
      "text/plain": [
       "   children  days_employed  dob_years education  education_id  \\\n",
       "0         1   -8437.673028         42    высшее             0   \n",
       "1         1   -4024.803754         36   среднее             1   \n",
       "2         0   -5623.422610         33   Среднее             1   \n",
       "3         3   -4124.747207         32   среднее             1   \n",
       "4         0  340266.072047         53   среднее             1   \n",
       "5         0    -926.185831         27    высшее             0   \n",
       "6         0   -2879.202052         43    высшее             0   \n",
       "7         0    -152.779569         50   СРЕДНЕЕ             1   \n",
       "8         2   -6929.865299         35    ВЫСШЕЕ             0   \n",
       "9         0   -2188.756445         41   среднее             1   \n",
       "\n",
       "      family_status  family_status_id gender income_type  debt   total_income  \\\n",
       "0   женат / замужем                 0      F   сотрудник     0  253875.639453   \n",
       "1   женат / замужем                 0      F   сотрудник     0  112080.014102   \n",
       "2   женат / замужем                 0      M   сотрудник     0  145885.952297   \n",
       "3   женат / замужем                 0      M   сотрудник     0  267628.550329   \n",
       "4  гражданский брак                 1      F   пенсионер     0  158616.077870   \n",
       "5  гражданский брак                 1      M   компаньон     0  255763.565419   \n",
       "6   женат / замужем                 0      F   компаньон     0  240525.971920   \n",
       "7   женат / замужем                 0      M   сотрудник     0  135823.934197   \n",
       "8  гражданский брак                 1      F   сотрудник     0   95856.832424   \n",
       "9   женат / замужем                 0      M   сотрудник     0  144425.938277   \n",
       "\n",
       "                      purpose  \n",
       "0               покупка жилья  \n",
       "1     приобретение автомобиля  \n",
       "2               покупка жилья  \n",
       "3  дополнительное образование  \n",
       "4             сыграть свадьбу  \n",
       "5               покупка жилья  \n",
       "6           операции с жильем  \n",
       "7                 образование  \n",
       "8       на проведение свадьбы  \n",
       "9     покупка жилья для семьи  "
      ]
     },
     "execution_count": 1,
     "metadata": {},
     "output_type": "execute_result"
    }
   ],
   "source": [
    "import pandas as pd\n",
    "data = pd.read_csv('/datasets/data.csv')\n",
    "data.head(10)"
   ]
  },
  {
   "cell_type": "code",
   "execution_count": 2,
   "metadata": {},
   "outputs": [
    {
     "data": {
      "text/html": [
       "<div>\n",
       "<style scoped>\n",
       "    .dataframe tbody tr th:only-of-type {\n",
       "        vertical-align: middle;\n",
       "    }\n",
       "\n",
       "    .dataframe tbody tr th {\n",
       "        vertical-align: top;\n",
       "    }\n",
       "\n",
       "    .dataframe thead th {\n",
       "        text-align: right;\n",
       "    }\n",
       "</style>\n",
       "<table border=\"1\" class=\"dataframe\">\n",
       "  <thead>\n",
       "    <tr style=\"text-align: right;\">\n",
       "      <th></th>\n",
       "      <th>children</th>\n",
       "      <th>days_employed</th>\n",
       "      <th>dob_years</th>\n",
       "      <th>education</th>\n",
       "      <th>education_id</th>\n",
       "      <th>family_status</th>\n",
       "      <th>family_status_id</th>\n",
       "      <th>gender</th>\n",
       "      <th>income_type</th>\n",
       "      <th>debt</th>\n",
       "      <th>total_income</th>\n",
       "      <th>purpose</th>\n",
       "    </tr>\n",
       "  </thead>\n",
       "  <tbody>\n",
       "    <tr>\n",
       "      <td>21515</td>\n",
       "      <td>1</td>\n",
       "      <td>-467.685130</td>\n",
       "      <td>28</td>\n",
       "      <td>среднее</td>\n",
       "      <td>1</td>\n",
       "      <td>женат / замужем</td>\n",
       "      <td>0</td>\n",
       "      <td>F</td>\n",
       "      <td>сотрудник</td>\n",
       "      <td>1</td>\n",
       "      <td>109486.327999</td>\n",
       "      <td>заняться образованием</td>\n",
       "    </tr>\n",
       "    <tr>\n",
       "      <td>21516</td>\n",
       "      <td>0</td>\n",
       "      <td>-914.391429</td>\n",
       "      <td>42</td>\n",
       "      <td>высшее</td>\n",
       "      <td>0</td>\n",
       "      <td>женат / замужем</td>\n",
       "      <td>0</td>\n",
       "      <td>F</td>\n",
       "      <td>компаньон</td>\n",
       "      <td>0</td>\n",
       "      <td>322807.776603</td>\n",
       "      <td>покупка своего жилья</td>\n",
       "    </tr>\n",
       "    <tr>\n",
       "      <td>21517</td>\n",
       "      <td>0</td>\n",
       "      <td>-404.679034</td>\n",
       "      <td>42</td>\n",
       "      <td>высшее</td>\n",
       "      <td>0</td>\n",
       "      <td>гражданский брак</td>\n",
       "      <td>1</td>\n",
       "      <td>F</td>\n",
       "      <td>компаньон</td>\n",
       "      <td>0</td>\n",
       "      <td>178059.553491</td>\n",
       "      <td>на покупку своего автомобиля</td>\n",
       "    </tr>\n",
       "    <tr>\n",
       "      <td>21518</td>\n",
       "      <td>0</td>\n",
       "      <td>373995.710838</td>\n",
       "      <td>59</td>\n",
       "      <td>СРЕДНЕЕ</td>\n",
       "      <td>1</td>\n",
       "      <td>женат / замужем</td>\n",
       "      <td>0</td>\n",
       "      <td>F</td>\n",
       "      <td>пенсионер</td>\n",
       "      <td>0</td>\n",
       "      <td>153864.650328</td>\n",
       "      <td>сделка с автомобилем</td>\n",
       "    </tr>\n",
       "    <tr>\n",
       "      <td>21519</td>\n",
       "      <td>1</td>\n",
       "      <td>-2351.431934</td>\n",
       "      <td>37</td>\n",
       "      <td>ученая степень</td>\n",
       "      <td>4</td>\n",
       "      <td>в разводе</td>\n",
       "      <td>3</td>\n",
       "      <td>M</td>\n",
       "      <td>сотрудник</td>\n",
       "      <td>0</td>\n",
       "      <td>115949.039788</td>\n",
       "      <td>покупка коммерческой недвижимости</td>\n",
       "    </tr>\n",
       "    <tr>\n",
       "      <td>21520</td>\n",
       "      <td>1</td>\n",
       "      <td>-4529.316663</td>\n",
       "      <td>43</td>\n",
       "      <td>среднее</td>\n",
       "      <td>1</td>\n",
       "      <td>гражданский брак</td>\n",
       "      <td>1</td>\n",
       "      <td>F</td>\n",
       "      <td>компаньон</td>\n",
       "      <td>0</td>\n",
       "      <td>224791.862382</td>\n",
       "      <td>операции с жильем</td>\n",
       "    </tr>\n",
       "    <tr>\n",
       "      <td>21521</td>\n",
       "      <td>0</td>\n",
       "      <td>343937.404131</td>\n",
       "      <td>67</td>\n",
       "      <td>среднее</td>\n",
       "      <td>1</td>\n",
       "      <td>женат / замужем</td>\n",
       "      <td>0</td>\n",
       "      <td>F</td>\n",
       "      <td>пенсионер</td>\n",
       "      <td>0</td>\n",
       "      <td>155999.806512</td>\n",
       "      <td>сделка с автомобилем</td>\n",
       "    </tr>\n",
       "    <tr>\n",
       "      <td>21522</td>\n",
       "      <td>1</td>\n",
       "      <td>-2113.346888</td>\n",
       "      <td>38</td>\n",
       "      <td>среднее</td>\n",
       "      <td>1</td>\n",
       "      <td>гражданский брак</td>\n",
       "      <td>1</td>\n",
       "      <td>M</td>\n",
       "      <td>сотрудник</td>\n",
       "      <td>1</td>\n",
       "      <td>89672.561153</td>\n",
       "      <td>недвижимость</td>\n",
       "    </tr>\n",
       "    <tr>\n",
       "      <td>21523</td>\n",
       "      <td>3</td>\n",
       "      <td>-3112.481705</td>\n",
       "      <td>38</td>\n",
       "      <td>среднее</td>\n",
       "      <td>1</td>\n",
       "      <td>женат / замужем</td>\n",
       "      <td>0</td>\n",
       "      <td>M</td>\n",
       "      <td>сотрудник</td>\n",
       "      <td>1</td>\n",
       "      <td>244093.050500</td>\n",
       "      <td>на покупку своего автомобиля</td>\n",
       "    </tr>\n",
       "    <tr>\n",
       "      <td>21524</td>\n",
       "      <td>2</td>\n",
       "      <td>-1984.507589</td>\n",
       "      <td>40</td>\n",
       "      <td>среднее</td>\n",
       "      <td>1</td>\n",
       "      <td>женат / замужем</td>\n",
       "      <td>0</td>\n",
       "      <td>F</td>\n",
       "      <td>сотрудник</td>\n",
       "      <td>0</td>\n",
       "      <td>82047.418899</td>\n",
       "      <td>на покупку автомобиля</td>\n",
       "    </tr>\n",
       "  </tbody>\n",
       "</table>\n",
       "</div>"
      ],
      "text/plain": [
       "       children  days_employed  dob_years       education  education_id  \\\n",
       "21515         1    -467.685130         28         среднее             1   \n",
       "21516         0    -914.391429         42          высшее             0   \n",
       "21517         0    -404.679034         42          высшее             0   \n",
       "21518         0  373995.710838         59         СРЕДНЕЕ             1   \n",
       "21519         1   -2351.431934         37  ученая степень             4   \n",
       "21520         1   -4529.316663         43         среднее             1   \n",
       "21521         0  343937.404131         67         среднее             1   \n",
       "21522         1   -2113.346888         38         среднее             1   \n",
       "21523         3   -3112.481705         38         среднее             1   \n",
       "21524         2   -1984.507589         40         среднее             1   \n",
       "\n",
       "          family_status  family_status_id gender income_type  debt  \\\n",
       "21515   женат / замужем                 0      F   сотрудник     1   \n",
       "21516   женат / замужем                 0      F   компаньон     0   \n",
       "21517  гражданский брак                 1      F   компаньон     0   \n",
       "21518   женат / замужем                 0      F   пенсионер     0   \n",
       "21519         в разводе                 3      M   сотрудник     0   \n",
       "21520  гражданский брак                 1      F   компаньон     0   \n",
       "21521   женат / замужем                 0      F   пенсионер     0   \n",
       "21522  гражданский брак                 1      M   сотрудник     1   \n",
       "21523   женат / замужем                 0      M   сотрудник     1   \n",
       "21524   женат / замужем                 0      F   сотрудник     0   \n",
       "\n",
       "        total_income                            purpose  \n",
       "21515  109486.327999              заняться образованием  \n",
       "21516  322807.776603               покупка своего жилья  \n",
       "21517  178059.553491       на покупку своего автомобиля  \n",
       "21518  153864.650328               сделка с автомобилем  \n",
       "21519  115949.039788  покупка коммерческой недвижимости  \n",
       "21520  224791.862382                  операции с жильем  \n",
       "21521  155999.806512               сделка с автомобилем  \n",
       "21522   89672.561153                       недвижимость  \n",
       "21523  244093.050500       на покупку своего автомобиля  \n",
       "21524   82047.418899              на покупку автомобиля  "
      ]
     },
     "execution_count": 2,
     "metadata": {},
     "output_type": "execute_result"
    }
   ],
   "source": [
    "data.tail(10)"
   ]
  },
  {
   "cell_type": "code",
   "execution_count": 3,
   "metadata": {},
   "outputs": [
    {
     "name": "stdout",
     "output_type": "stream",
     "text": [
      "<class 'pandas.core.frame.DataFrame'>\n",
      "RangeIndex: 21525 entries, 0 to 21524\n",
      "Data columns (total 12 columns):\n",
      "children            21525 non-null int64\n",
      "days_employed       19351 non-null float64\n",
      "dob_years           21525 non-null int64\n",
      "education           21525 non-null object\n",
      "education_id        21525 non-null int64\n",
      "family_status       21525 non-null object\n",
      "family_status_id    21525 non-null int64\n",
      "gender              21525 non-null object\n",
      "income_type         21525 non-null object\n",
      "debt                21525 non-null int64\n",
      "total_income        19351 non-null float64\n",
      "purpose             21525 non-null object\n",
      "dtypes: float64(2), int64(5), object(5)\n",
      "memory usage: 2.0+ MB\n"
     ]
    }
   ],
   "source": [
    "data.info()"
   ]
  },
  {
   "cell_type": "code",
   "execution_count": 4,
   "metadata": {},
   "outputs": [
    {
     "data": {
      "text/html": [
       "<div>\n",
       "<style scoped>\n",
       "    .dataframe tbody tr th:only-of-type {\n",
       "        vertical-align: middle;\n",
       "    }\n",
       "\n",
       "    .dataframe tbody tr th {\n",
       "        vertical-align: top;\n",
       "    }\n",
       "\n",
       "    .dataframe thead th {\n",
       "        text-align: right;\n",
       "    }\n",
       "</style>\n",
       "<table border=\"1\" class=\"dataframe\">\n",
       "  <thead>\n",
       "    <tr style=\"text-align: right;\">\n",
       "      <th></th>\n",
       "      <th>children</th>\n",
       "      <th>days_employed</th>\n",
       "      <th>dob_years</th>\n",
       "      <th>education_id</th>\n",
       "      <th>family_status_id</th>\n",
       "      <th>debt</th>\n",
       "      <th>total_income</th>\n",
       "    </tr>\n",
       "  </thead>\n",
       "  <tbody>\n",
       "    <tr>\n",
       "      <td>count</td>\n",
       "      <td>21525.000000</td>\n",
       "      <td>19351.000000</td>\n",
       "      <td>21525.000000</td>\n",
       "      <td>21525.000000</td>\n",
       "      <td>21525.000000</td>\n",
       "      <td>21525.000000</td>\n",
       "      <td>1.935100e+04</td>\n",
       "    </tr>\n",
       "    <tr>\n",
       "      <td>mean</td>\n",
       "      <td>0.538908</td>\n",
       "      <td>63046.497661</td>\n",
       "      <td>43.293380</td>\n",
       "      <td>0.817236</td>\n",
       "      <td>0.972544</td>\n",
       "      <td>0.080883</td>\n",
       "      <td>1.674223e+05</td>\n",
       "    </tr>\n",
       "    <tr>\n",
       "      <td>std</td>\n",
       "      <td>1.381587</td>\n",
       "      <td>140827.311974</td>\n",
       "      <td>12.574584</td>\n",
       "      <td>0.548138</td>\n",
       "      <td>1.420324</td>\n",
       "      <td>0.272661</td>\n",
       "      <td>1.029716e+05</td>\n",
       "    </tr>\n",
       "    <tr>\n",
       "      <td>min</td>\n",
       "      <td>-1.000000</td>\n",
       "      <td>-18388.949901</td>\n",
       "      <td>0.000000</td>\n",
       "      <td>0.000000</td>\n",
       "      <td>0.000000</td>\n",
       "      <td>0.000000</td>\n",
       "      <td>2.066726e+04</td>\n",
       "    </tr>\n",
       "    <tr>\n",
       "      <td>25%</td>\n",
       "      <td>0.000000</td>\n",
       "      <td>-2747.423625</td>\n",
       "      <td>33.000000</td>\n",
       "      <td>1.000000</td>\n",
       "      <td>0.000000</td>\n",
       "      <td>0.000000</td>\n",
       "      <td>1.030532e+05</td>\n",
       "    </tr>\n",
       "    <tr>\n",
       "      <td>50%</td>\n",
       "      <td>0.000000</td>\n",
       "      <td>-1203.369529</td>\n",
       "      <td>42.000000</td>\n",
       "      <td>1.000000</td>\n",
       "      <td>0.000000</td>\n",
       "      <td>0.000000</td>\n",
       "      <td>1.450179e+05</td>\n",
       "    </tr>\n",
       "    <tr>\n",
       "      <td>75%</td>\n",
       "      <td>1.000000</td>\n",
       "      <td>-291.095954</td>\n",
       "      <td>53.000000</td>\n",
       "      <td>1.000000</td>\n",
       "      <td>1.000000</td>\n",
       "      <td>0.000000</td>\n",
       "      <td>2.034351e+05</td>\n",
       "    </tr>\n",
       "    <tr>\n",
       "      <td>max</td>\n",
       "      <td>20.000000</td>\n",
       "      <td>401755.400475</td>\n",
       "      <td>75.000000</td>\n",
       "      <td>4.000000</td>\n",
       "      <td>4.000000</td>\n",
       "      <td>1.000000</td>\n",
       "      <td>2.265604e+06</td>\n",
       "    </tr>\n",
       "  </tbody>\n",
       "</table>\n",
       "</div>"
      ],
      "text/plain": [
       "           children  days_employed     dob_years  education_id  \\\n",
       "count  21525.000000   19351.000000  21525.000000  21525.000000   \n",
       "mean       0.538908   63046.497661     43.293380      0.817236   \n",
       "std        1.381587  140827.311974     12.574584      0.548138   \n",
       "min       -1.000000  -18388.949901      0.000000      0.000000   \n",
       "25%        0.000000   -2747.423625     33.000000      1.000000   \n",
       "50%        0.000000   -1203.369529     42.000000      1.000000   \n",
       "75%        1.000000    -291.095954     53.000000      1.000000   \n",
       "max       20.000000  401755.400475     75.000000      4.000000   \n",
       "\n",
       "       family_status_id          debt  total_income  \n",
       "count      21525.000000  21525.000000  1.935100e+04  \n",
       "mean           0.972544      0.080883  1.674223e+05  \n",
       "std            1.420324      0.272661  1.029716e+05  \n",
       "min            0.000000      0.000000  2.066726e+04  \n",
       "25%            0.000000      0.000000  1.030532e+05  \n",
       "50%            0.000000      0.000000  1.450179e+05  \n",
       "75%            1.000000      0.000000  2.034351e+05  \n",
       "max            4.000000      1.000000  2.265604e+06  "
      ]
     },
     "execution_count": 4,
     "metadata": {},
     "output_type": "execute_result"
    }
   ],
   "source": [
    "data.describe()"
   ]
  },
  {
   "cell_type": "markdown",
   "metadata": {},
   "source": [
    "**Вывод**"
   ]
  },
  {
   "cell_type": "markdown",
   "metadata": {},
   "source": [
    "- в education прыгает регистр;\n",
    "- в days_employed много отрицательных значений, так же есть очень большие значения, вероятнее всего в часах, а не днях;\n",
    "- в children нашелся -1 ребенок);\n",
    "- в days_employed и total_income одинаковое кол-во пропусков, либо клиенты никогда не работали, либо пропуски данных;\n",
    "- в dob_years минимальное значение 0\n"
   ]
  },
  {
   "cell_type": "markdown",
   "metadata": {},
   "source": [
    "## Шаг 2. Предобработка данных"
   ]
  },
  {
   "cell_type": "markdown",
   "metadata": {},
   "source": [
    "### Обработка пропусков"
   ]
  },
  {
   "cell_type": "code",
   "execution_count": 5,
   "metadata": {},
   "outputs": [
    {
     "data": {
      "text/plain": [
       "children               0\n",
       "days_employed       2174\n",
       "dob_years              0\n",
       "education              0\n",
       "education_id           0\n",
       "family_status          0\n",
       "family_status_id       0\n",
       "gender                 0\n",
       "income_type            0\n",
       "debt                   0\n",
       "total_income        2174\n",
       "purpose                0\n",
       "dtype: int64"
      ]
     },
     "execution_count": 5,
     "metadata": {},
     "output_type": "execute_result"
    }
   ],
   "source": [
    "# посмотрим кол-во пропусков \n",
    "data.isna().sum()"
   ]
  },
  {
   "cell_type": "markdown",
   "metadata": {},
   "source": [
    "Заполним пропуски медианой."
   ]
  },
  {
   "cell_type": "code",
   "execution_count": 6,
   "metadata": {},
   "outputs": [],
   "source": [
    "data.loc[data['days_employed'].isna(), 'days_employed'] = data['days_employed'].median()"
   ]
  },
  {
   "cell_type": "code",
   "execution_count": 7,
   "metadata": {},
   "outputs": [],
   "source": [
    "data.loc[data['total_income'].isna(), 'total_income'] = data['total_income'].median()"
   ]
  },
  {
   "cell_type": "code",
   "execution_count": 8,
   "metadata": {},
   "outputs": [
    {
     "data": {
      "text/plain": [
       "children            0\n",
       "days_employed       0\n",
       "dob_years           0\n",
       "education           0\n",
       "education_id        0\n",
       "family_status       0\n",
       "family_status_id    0\n",
       "gender              0\n",
       "income_type         0\n",
       "debt                0\n",
       "total_income        0\n",
       "purpose             0\n",
       "dtype: int64"
      ]
     },
     "execution_count": 8,
     "metadata": {},
     "output_type": "execute_result"
    }
   ],
   "source": [
    "# проверим кол-во пропусков \n",
    "data.isna().sum()"
   ]
  },
  {
   "cell_type": "markdown",
   "metadata": {},
   "source": [
    "**Вывод**"
   ]
  },
  {
   "cell_type": "markdown",
   "metadata": {},
   "source": [
    "Пропуски были в 2х столбцах,показывающих стаж и заработок. Можно было бы предположить, что эти люди не работали совсем, но тогда логичнее было бы при сборе данных указывать 0. Скорее всего здесь произошли ошибки при выгрузке данных."
   ]
  },
  {
   "cell_type": "markdown",
   "metadata": {},
   "source": [
    "### Замена типа данных"
   ]
  },
  {
   "cell_type": "markdown",
   "metadata": {},
   "source": [
    "Приведем стаж из вещественного к целочисленному значению. \n",
    "Для начала уберем отрицательные значения."
   ]
  },
  {
   "cell_type": "code",
   "execution_count": 9,
   "metadata": {},
   "outputs": [],
   "source": [
    "data['days_employed'] = data['days_employed'].apply(abs)"
   ]
  },
  {
   "cell_type": "code",
   "execution_count": 10,
   "metadata": {},
   "outputs": [
    {
     "data": {
      "text/plain": [
       "0          8437.673028\n",
       "1          4024.803754\n",
       "2          5623.422610\n",
       "3          4124.747207\n",
       "4        340266.072047\n",
       "             ...      \n",
       "21520      4529.316663\n",
       "21521    343937.404131\n",
       "21522      2113.346888\n",
       "21523      3112.481705\n",
       "21524      1984.507589\n",
       "Name: days_employed, Length: 21525, dtype: float64"
      ]
     },
     "execution_count": 10,
     "metadata": {},
     "output_type": "execute_result"
    }
   ],
   "source": [
    "#проверим \n",
    "data['days_employed']"
   ]
  },
  {
   "cell_type": "markdown",
   "metadata": {},
   "source": [
    "Теперь приводим к целочисленному с помощью astype"
   ]
  },
  {
   "cell_type": "code",
   "execution_count": 11,
   "metadata": {},
   "outputs": [],
   "source": [
    "data['days_employed'] = data['days_employed'].astype(int)"
   ]
  },
  {
   "cell_type": "code",
   "execution_count": 12,
   "metadata": {},
   "outputs": [
    {
     "name": "stdout",
     "output_type": "stream",
     "text": [
      "<class 'pandas.core.frame.DataFrame'>\n",
      "RangeIndex: 21525 entries, 0 to 21524\n",
      "Data columns (total 12 columns):\n",
      "children            21525 non-null int64\n",
      "days_employed       21525 non-null int64\n",
      "dob_years           21525 non-null int64\n",
      "education           21525 non-null object\n",
      "education_id        21525 non-null int64\n",
      "family_status       21525 non-null object\n",
      "family_status_id    21525 non-null int64\n",
      "gender              21525 non-null object\n",
      "income_type         21525 non-null object\n",
      "debt                21525 non-null int64\n",
      "total_income        21525 non-null float64\n",
      "purpose             21525 non-null object\n",
      "dtypes: float64(1), int64(6), object(5)\n",
      "memory usage: 2.0+ MB\n"
     ]
    }
   ],
   "source": [
    "#проверим\n",
    "data.info()"
   ]
  },
  {
   "cell_type": "code",
   "execution_count": 13,
   "metadata": {},
   "outputs": [],
   "source": [
    "#переведем дни в годы,добавим новый столбец\n",
    "data['years_employed'] = data['days_employed'] / 365"
   ]
  },
  {
   "cell_type": "code",
   "execution_count": 14,
   "metadata": {},
   "outputs": [],
   "source": [
    "data['years_employed'] = data['years_employed'].astype(int)"
   ]
  },
  {
   "cell_type": "code",
   "execution_count": 15,
   "metadata": {},
   "outputs": [
    {
     "data": {
      "text/html": [
       "<div>\n",
       "<style scoped>\n",
       "    .dataframe tbody tr th:only-of-type {\n",
       "        vertical-align: middle;\n",
       "    }\n",
       "\n",
       "    .dataframe tbody tr th {\n",
       "        vertical-align: top;\n",
       "    }\n",
       "\n",
       "    .dataframe thead th {\n",
       "        text-align: right;\n",
       "    }\n",
       "</style>\n",
       "<table border=\"1\" class=\"dataframe\">\n",
       "  <thead>\n",
       "    <tr style=\"text-align: right;\">\n",
       "      <th></th>\n",
       "      <th>children</th>\n",
       "      <th>days_employed</th>\n",
       "      <th>dob_years</th>\n",
       "      <th>education</th>\n",
       "      <th>education_id</th>\n",
       "      <th>family_status</th>\n",
       "      <th>family_status_id</th>\n",
       "      <th>gender</th>\n",
       "      <th>income_type</th>\n",
       "      <th>debt</th>\n",
       "      <th>total_income</th>\n",
       "      <th>purpose</th>\n",
       "      <th>years_employed</th>\n",
       "    </tr>\n",
       "  </thead>\n",
       "  <tbody>\n",
       "    <tr>\n",
       "      <td>0</td>\n",
       "      <td>1</td>\n",
       "      <td>8437</td>\n",
       "      <td>42</td>\n",
       "      <td>высшее</td>\n",
       "      <td>0</td>\n",
       "      <td>женат / замужем</td>\n",
       "      <td>0</td>\n",
       "      <td>F</td>\n",
       "      <td>сотрудник</td>\n",
       "      <td>0</td>\n",
       "      <td>253875.639453</td>\n",
       "      <td>покупка жилья</td>\n",
       "      <td>23</td>\n",
       "    </tr>\n",
       "    <tr>\n",
       "      <td>1</td>\n",
       "      <td>1</td>\n",
       "      <td>4024</td>\n",
       "      <td>36</td>\n",
       "      <td>среднее</td>\n",
       "      <td>1</td>\n",
       "      <td>женат / замужем</td>\n",
       "      <td>0</td>\n",
       "      <td>F</td>\n",
       "      <td>сотрудник</td>\n",
       "      <td>0</td>\n",
       "      <td>112080.014102</td>\n",
       "      <td>приобретение автомобиля</td>\n",
       "      <td>11</td>\n",
       "    </tr>\n",
       "    <tr>\n",
       "      <td>2</td>\n",
       "      <td>0</td>\n",
       "      <td>5623</td>\n",
       "      <td>33</td>\n",
       "      <td>Среднее</td>\n",
       "      <td>1</td>\n",
       "      <td>женат / замужем</td>\n",
       "      <td>0</td>\n",
       "      <td>M</td>\n",
       "      <td>сотрудник</td>\n",
       "      <td>0</td>\n",
       "      <td>145885.952297</td>\n",
       "      <td>покупка жилья</td>\n",
       "      <td>15</td>\n",
       "    </tr>\n",
       "    <tr>\n",
       "      <td>3</td>\n",
       "      <td>3</td>\n",
       "      <td>4124</td>\n",
       "      <td>32</td>\n",
       "      <td>среднее</td>\n",
       "      <td>1</td>\n",
       "      <td>женат / замужем</td>\n",
       "      <td>0</td>\n",
       "      <td>M</td>\n",
       "      <td>сотрудник</td>\n",
       "      <td>0</td>\n",
       "      <td>267628.550329</td>\n",
       "      <td>дополнительное образование</td>\n",
       "      <td>11</td>\n",
       "    </tr>\n",
       "    <tr>\n",
       "      <td>4</td>\n",
       "      <td>0</td>\n",
       "      <td>340266</td>\n",
       "      <td>53</td>\n",
       "      <td>среднее</td>\n",
       "      <td>1</td>\n",
       "      <td>гражданский брак</td>\n",
       "      <td>1</td>\n",
       "      <td>F</td>\n",
       "      <td>пенсионер</td>\n",
       "      <td>0</td>\n",
       "      <td>158616.077870</td>\n",
       "      <td>сыграть свадьбу</td>\n",
       "      <td>932</td>\n",
       "    </tr>\n",
       "    <tr>\n",
       "      <td>5</td>\n",
       "      <td>0</td>\n",
       "      <td>926</td>\n",
       "      <td>27</td>\n",
       "      <td>высшее</td>\n",
       "      <td>0</td>\n",
       "      <td>гражданский брак</td>\n",
       "      <td>1</td>\n",
       "      <td>M</td>\n",
       "      <td>компаньон</td>\n",
       "      <td>0</td>\n",
       "      <td>255763.565419</td>\n",
       "      <td>покупка жилья</td>\n",
       "      <td>2</td>\n",
       "    </tr>\n",
       "    <tr>\n",
       "      <td>6</td>\n",
       "      <td>0</td>\n",
       "      <td>2879</td>\n",
       "      <td>43</td>\n",
       "      <td>высшее</td>\n",
       "      <td>0</td>\n",
       "      <td>женат / замужем</td>\n",
       "      <td>0</td>\n",
       "      <td>F</td>\n",
       "      <td>компаньон</td>\n",
       "      <td>0</td>\n",
       "      <td>240525.971920</td>\n",
       "      <td>операции с жильем</td>\n",
       "      <td>7</td>\n",
       "    </tr>\n",
       "    <tr>\n",
       "      <td>7</td>\n",
       "      <td>0</td>\n",
       "      <td>152</td>\n",
       "      <td>50</td>\n",
       "      <td>СРЕДНЕЕ</td>\n",
       "      <td>1</td>\n",
       "      <td>женат / замужем</td>\n",
       "      <td>0</td>\n",
       "      <td>M</td>\n",
       "      <td>сотрудник</td>\n",
       "      <td>0</td>\n",
       "      <td>135823.934197</td>\n",
       "      <td>образование</td>\n",
       "      <td>0</td>\n",
       "    </tr>\n",
       "    <tr>\n",
       "      <td>8</td>\n",
       "      <td>2</td>\n",
       "      <td>6929</td>\n",
       "      <td>35</td>\n",
       "      <td>ВЫСШЕЕ</td>\n",
       "      <td>0</td>\n",
       "      <td>гражданский брак</td>\n",
       "      <td>1</td>\n",
       "      <td>F</td>\n",
       "      <td>сотрудник</td>\n",
       "      <td>0</td>\n",
       "      <td>95856.832424</td>\n",
       "      <td>на проведение свадьбы</td>\n",
       "      <td>18</td>\n",
       "    </tr>\n",
       "    <tr>\n",
       "      <td>9</td>\n",
       "      <td>0</td>\n",
       "      <td>2188</td>\n",
       "      <td>41</td>\n",
       "      <td>среднее</td>\n",
       "      <td>1</td>\n",
       "      <td>женат / замужем</td>\n",
       "      <td>0</td>\n",
       "      <td>M</td>\n",
       "      <td>сотрудник</td>\n",
       "      <td>0</td>\n",
       "      <td>144425.938277</td>\n",
       "      <td>покупка жилья для семьи</td>\n",
       "      <td>5</td>\n",
       "    </tr>\n",
       "  </tbody>\n",
       "</table>\n",
       "</div>"
      ],
      "text/plain": [
       "   children  days_employed  dob_years education  education_id  \\\n",
       "0         1           8437         42    высшее             0   \n",
       "1         1           4024         36   среднее             1   \n",
       "2         0           5623         33   Среднее             1   \n",
       "3         3           4124         32   среднее             1   \n",
       "4         0         340266         53   среднее             1   \n",
       "5         0            926         27    высшее             0   \n",
       "6         0           2879         43    высшее             0   \n",
       "7         0            152         50   СРЕДНЕЕ             1   \n",
       "8         2           6929         35    ВЫСШЕЕ             0   \n",
       "9         0           2188         41   среднее             1   \n",
       "\n",
       "      family_status  family_status_id gender income_type  debt   total_income  \\\n",
       "0   женат / замужем                 0      F   сотрудник     0  253875.639453   \n",
       "1   женат / замужем                 0      F   сотрудник     0  112080.014102   \n",
       "2   женат / замужем                 0      M   сотрудник     0  145885.952297   \n",
       "3   женат / замужем                 0      M   сотрудник     0  267628.550329   \n",
       "4  гражданский брак                 1      F   пенсионер     0  158616.077870   \n",
       "5  гражданский брак                 1      M   компаньон     0  255763.565419   \n",
       "6   женат / замужем                 0      F   компаньон     0  240525.971920   \n",
       "7   женат / замужем                 0      M   сотрудник     0  135823.934197   \n",
       "8  гражданский брак                 1      F   сотрудник     0   95856.832424   \n",
       "9   женат / замужем                 0      M   сотрудник     0  144425.938277   \n",
       "\n",
       "                      purpose  years_employed  \n",
       "0               покупка жилья              23  \n",
       "1     приобретение автомобиля              11  \n",
       "2               покупка жилья              15  \n",
       "3  дополнительное образование              11  \n",
       "4             сыграть свадьбу             932  \n",
       "5               покупка жилья               2  \n",
       "6           операции с жильем               7  \n",
       "7                 образование               0  \n",
       "8       на проведение свадьбы              18  \n",
       "9     покупка жилья для семьи               5  "
      ]
     },
     "execution_count": 15,
     "metadata": {},
     "output_type": "execute_result"
    }
   ],
   "source": [
    "data.head(10)"
   ]
  },
  {
   "cell_type": "markdown",
   "metadata": {},
   "source": [
    "Ого! Кто-то поработал 932 года,очень круто, вероятно данные были в часах. Слишком большие значения нужно будет поделить на 24."
   ]
  },
  {
   "cell_type": "code",
   "execution_count": 16,
   "metadata": {},
   "outputs": [
    {
     "data": {
      "text/plain": [
       "<matplotlib.axes._subplots.AxesSubplot at 0x7f926b16c890>"
      ]
     },
     "execution_count": 16,
     "metadata": {},
     "output_type": "execute_result"
    },
    {
     "data": {
      "image/png": "[encoded data removed]",
      "text/plain": [
       "<Figure size 432x288 with 1 Axes>"
      ]
     },
     "metadata": {
      "needs_background": "light"
     },
     "output_type": "display_data"
    }
   ],
   "source": [
    "#попробуем найти порог лет, после которого надо делить на 24.\n",
    "import numpy as np\n",
    "data['years_employed'].hist()"
   ]
  },
  {
   "cell_type": "code",
   "execution_count": 17,
   "metadata": {},
   "outputs": [
    {
     "data": {
      "text/plain": [
       "<matplotlib.axes._subplots.AxesSubplot at 0x7f9262749e10>"
      ]
     },
     "execution_count": 17,
     "metadata": {},
     "output_type": "execute_result"
    },
    {
     "data": {
      "image/png": "[encoded data removed]",
      "text/plain": [
       "<Figure size 432x288 with 1 Axes>"
      ]
     },
     "metadata": {
      "needs_background": "light"
     },
     "output_type": "display_data"
    }
   ],
   "source": [
    "#час от часу не легче! 100 лет. Попробуем сделать больше интервал\n",
    "data['years_employed'].hist(bins = 20)"
   ]
  },
  {
   "cell_type": "code",
   "execution_count": 18,
   "metadata": {},
   "outputs": [],
   "source": [
    "#вот, уже лучше, приблизительно 50 лет. Все, что больше 50 лет будем делить на 24.\n",
    "data.loc[data['years_employed'] > 50, 'years_employed'] = data.loc[data['years_employed'] > 50, 'years_employed'] / 24 "
   ]
  },
  {
   "cell_type": "code",
   "execution_count": 19,
   "metadata": {},
   "outputs": [],
   "source": [
    "#снова приводим к целоцисленному значению и проверяем,что получилось.\n",
    "data['years_employed'] = data['years_employed'].astype(int)"
   ]
  },
  {
   "cell_type": "code",
   "execution_count": 20,
   "metadata": {},
   "outputs": [
    {
     "data": {
      "text/html": [
       "<div>\n",
       "<style scoped>\n",
       "    .dataframe tbody tr th:only-of-type {\n",
       "        vertical-align: middle;\n",
       "    }\n",
       "\n",
       "    .dataframe tbody tr th {\n",
       "        vertical-align: top;\n",
       "    }\n",
       "\n",
       "    .dataframe thead th {\n",
       "        text-align: right;\n",
       "    }\n",
       "</style>\n",
       "<table border=\"1\" class=\"dataframe\">\n",
       "  <thead>\n",
       "    <tr style=\"text-align: right;\">\n",
       "      <th></th>\n",
       "      <th>children</th>\n",
       "      <th>days_employed</th>\n",
       "      <th>dob_years</th>\n",
       "      <th>education</th>\n",
       "      <th>education_id</th>\n",
       "      <th>family_status</th>\n",
       "      <th>family_status_id</th>\n",
       "      <th>gender</th>\n",
       "      <th>income_type</th>\n",
       "      <th>debt</th>\n",
       "      <th>total_income</th>\n",
       "      <th>purpose</th>\n",
       "      <th>years_employed</th>\n",
       "    </tr>\n",
       "  </thead>\n",
       "  <tbody>\n",
       "    <tr>\n",
       "      <td>0</td>\n",
       "      <td>1</td>\n",
       "      <td>8437</td>\n",
       "      <td>42</td>\n",
       "      <td>высшее</td>\n",
       "      <td>0</td>\n",
       "      <td>женат / замужем</td>\n",
       "      <td>0</td>\n",
       "      <td>F</td>\n",
       "      <td>сотрудник</td>\n",
       "      <td>0</td>\n",
       "      <td>253875.639453</td>\n",
       "      <td>покупка жилья</td>\n",
       "      <td>23</td>\n",
       "    </tr>\n",
       "    <tr>\n",
       "      <td>1</td>\n",
       "      <td>1</td>\n",
       "      <td>4024</td>\n",
       "      <td>36</td>\n",
       "      <td>среднее</td>\n",
       "      <td>1</td>\n",
       "      <td>женат / замужем</td>\n",
       "      <td>0</td>\n",
       "      <td>F</td>\n",
       "      <td>сотрудник</td>\n",
       "      <td>0</td>\n",
       "      <td>112080.014102</td>\n",
       "      <td>приобретение автомобиля</td>\n",
       "      <td>11</td>\n",
       "    </tr>\n",
       "    <tr>\n",
       "      <td>2</td>\n",
       "      <td>0</td>\n",
       "      <td>5623</td>\n",
       "      <td>33</td>\n",
       "      <td>Среднее</td>\n",
       "      <td>1</td>\n",
       "      <td>женат / замужем</td>\n",
       "      <td>0</td>\n",
       "      <td>M</td>\n",
       "      <td>сотрудник</td>\n",
       "      <td>0</td>\n",
       "      <td>145885.952297</td>\n",
       "      <td>покупка жилья</td>\n",
       "      <td>15</td>\n",
       "    </tr>\n",
       "    <tr>\n",
       "      <td>3</td>\n",
       "      <td>3</td>\n",
       "      <td>4124</td>\n",
       "      <td>32</td>\n",
       "      <td>среднее</td>\n",
       "      <td>1</td>\n",
       "      <td>женат / замужем</td>\n",
       "      <td>0</td>\n",
       "      <td>M</td>\n",
       "      <td>сотрудник</td>\n",
       "      <td>0</td>\n",
       "      <td>267628.550329</td>\n",
       "      <td>дополнительное образование</td>\n",
       "      <td>11</td>\n",
       "    </tr>\n",
       "    <tr>\n",
       "      <td>4</td>\n",
       "      <td>0</td>\n",
       "      <td>340266</td>\n",
       "      <td>53</td>\n",
       "      <td>среднее</td>\n",
       "      <td>1</td>\n",
       "      <td>гражданский брак</td>\n",
       "      <td>1</td>\n",
       "      <td>F</td>\n",
       "      <td>пенсионер</td>\n",
       "      <td>0</td>\n",
       "      <td>158616.077870</td>\n",
       "      <td>сыграть свадьбу</td>\n",
       "      <td>38</td>\n",
       "    </tr>\n",
       "    <tr>\n",
       "      <td>5</td>\n",
       "      <td>0</td>\n",
       "      <td>926</td>\n",
       "      <td>27</td>\n",
       "      <td>высшее</td>\n",
       "      <td>0</td>\n",
       "      <td>гражданский брак</td>\n",
       "      <td>1</td>\n",
       "      <td>M</td>\n",
       "      <td>компаньон</td>\n",
       "      <td>0</td>\n",
       "      <td>255763.565419</td>\n",
       "      <td>покупка жилья</td>\n",
       "      <td>2</td>\n",
       "    </tr>\n",
       "    <tr>\n",
       "      <td>6</td>\n",
       "      <td>0</td>\n",
       "      <td>2879</td>\n",
       "      <td>43</td>\n",
       "      <td>высшее</td>\n",
       "      <td>0</td>\n",
       "      <td>женат / замужем</td>\n",
       "      <td>0</td>\n",
       "      <td>F</td>\n",
       "      <td>компаньон</td>\n",
       "      <td>0</td>\n",
       "      <td>240525.971920</td>\n",
       "      <td>операции с жильем</td>\n",
       "      <td>7</td>\n",
       "    </tr>\n",
       "    <tr>\n",
       "      <td>7</td>\n",
       "      <td>0</td>\n",
       "      <td>152</td>\n",
       "      <td>50</td>\n",
       "      <td>СРЕДНЕЕ</td>\n",
       "      <td>1</td>\n",
       "      <td>женат / замужем</td>\n",
       "      <td>0</td>\n",
       "      <td>M</td>\n",
       "      <td>сотрудник</td>\n",
       "      <td>0</td>\n",
       "      <td>135823.934197</td>\n",
       "      <td>образование</td>\n",
       "      <td>0</td>\n",
       "    </tr>\n",
       "    <tr>\n",
       "      <td>8</td>\n",
       "      <td>2</td>\n",
       "      <td>6929</td>\n",
       "      <td>35</td>\n",
       "      <td>ВЫСШЕЕ</td>\n",
       "      <td>0</td>\n",
       "      <td>гражданский брак</td>\n",
       "      <td>1</td>\n",
       "      <td>F</td>\n",
       "      <td>сотрудник</td>\n",
       "      <td>0</td>\n",
       "      <td>95856.832424</td>\n",
       "      <td>на проведение свадьбы</td>\n",
       "      <td>18</td>\n",
       "    </tr>\n",
       "    <tr>\n",
       "      <td>9</td>\n",
       "      <td>0</td>\n",
       "      <td>2188</td>\n",
       "      <td>41</td>\n",
       "      <td>среднее</td>\n",
       "      <td>1</td>\n",
       "      <td>женат / замужем</td>\n",
       "      <td>0</td>\n",
       "      <td>M</td>\n",
       "      <td>сотрудник</td>\n",
       "      <td>0</td>\n",
       "      <td>144425.938277</td>\n",
       "      <td>покупка жилья для семьи</td>\n",
       "      <td>5</td>\n",
       "    </tr>\n",
       "  </tbody>\n",
       "</table>\n",
       "</div>"
      ],
      "text/plain": [
       "   children  days_employed  dob_years education  education_id  \\\n",
       "0         1           8437         42    высшее             0   \n",
       "1         1           4024         36   среднее             1   \n",
       "2         0           5623         33   Среднее             1   \n",
       "3         3           4124         32   среднее             1   \n",
       "4         0         340266         53   среднее             1   \n",
       "5         0            926         27    высшее             0   \n",
       "6         0           2879         43    высшее             0   \n",
       "7         0            152         50   СРЕДНЕЕ             1   \n",
       "8         2           6929         35    ВЫСШЕЕ             0   \n",
       "9         0           2188         41   среднее             1   \n",
       "\n",
       "      family_status  family_status_id gender income_type  debt   total_income  \\\n",
       "0   женат / замужем                 0      F   сотрудник     0  253875.639453   \n",
       "1   женат / замужем                 0      F   сотрудник     0  112080.014102   \n",
       "2   женат / замужем                 0      M   сотрудник     0  145885.952297   \n",
       "3   женат / замужем                 0      M   сотрудник     0  267628.550329   \n",
       "4  гражданский брак                 1      F   пенсионер     0  158616.077870   \n",
       "5  гражданский брак                 1      M   компаньон     0  255763.565419   \n",
       "6   женат / замужем                 0      F   компаньон     0  240525.971920   \n",
       "7   женат / замужем                 0      M   сотрудник     0  135823.934197   \n",
       "8  гражданский брак                 1      F   сотрудник     0   95856.832424   \n",
       "9   женат / замужем                 0      M   сотрудник     0  144425.938277   \n",
       "\n",
       "                      purpose  years_employed  \n",
       "0               покупка жилья              23  \n",
       "1     приобретение автомобиля              11  \n",
       "2               покупка жилья              15  \n",
       "3  дополнительное образование              11  \n",
       "4             сыграть свадьбу              38  \n",
       "5               покупка жилья               2  \n",
       "6           операции с жильем               7  \n",
       "7                 образование               0  \n",
       "8       на проведение свадьбы              18  \n",
       "9     покупка жилья для семьи               5  "
      ]
     },
     "execution_count": 20,
     "metadata": {},
     "output_type": "execute_result"
    }
   ],
   "source": [
    "data.head(10)"
   ]
  },
  {
   "cell_type": "code",
   "execution_count": 21,
   "metadata": {},
   "outputs": [
    {
     "data": {
      "text/plain": [
       "count    21525.000000\n",
       "mean        11.283066\n",
       "std         14.186869\n",
       "min          0.000000\n",
       "25%          2.000000\n",
       "50%          4.000000\n",
       "75%         13.000000\n",
       "max         50.000000\n",
       "Name: years_employed, dtype: float64"
      ]
     },
     "execution_count": 21,
     "metadata": {},
     "output_type": "execute_result"
    }
   ],
   "source": [
    "data['years_employed'].describe()"
   ]
  },
  {
   "cell_type": "markdown",
   "metadata": {},
   "source": [
    "ОК. Максимально 50 лет, меня это устраивает. Особенно при условии,что мы не рассматриваем как стаж влияет на возврат кредита. "
   ]
  },
  {
   "cell_type": "code",
   "execution_count": 22,
   "metadata": {},
   "outputs": [],
   "source": [
    "#теперь приведем к цельночисленгому знгачению доход.\n",
    "#В какой-бы валюте он не был собран (рубли,доллары, евро....) шестью знаками после запятой можно пренебречь\n",
    "data['total_income'] = data['total_income'].astype(int)"
   ]
  },
  {
   "cell_type": "code",
   "execution_count": 23,
   "metadata": {},
   "outputs": [
    {
     "data": {
      "text/html": [
       "<div>\n",
       "<style scoped>\n",
       "    .dataframe tbody tr th:only-of-type {\n",
       "        vertical-align: middle;\n",
       "    }\n",
       "\n",
       "    .dataframe tbody tr th {\n",
       "        vertical-align: top;\n",
       "    }\n",
       "\n",
       "    .dataframe thead th {\n",
       "        text-align: right;\n",
       "    }\n",
       "</style>\n",
       "<table border=\"1\" class=\"dataframe\">\n",
       "  <thead>\n",
       "    <tr style=\"text-align: right;\">\n",
       "      <th></th>\n",
       "      <th>children</th>\n",
       "      <th>days_employed</th>\n",
       "      <th>dob_years</th>\n",
       "      <th>education</th>\n",
       "      <th>education_id</th>\n",
       "      <th>family_status</th>\n",
       "      <th>family_status_id</th>\n",
       "      <th>gender</th>\n",
       "      <th>income_type</th>\n",
       "      <th>debt</th>\n",
       "      <th>total_income</th>\n",
       "      <th>purpose</th>\n",
       "      <th>years_employed</th>\n",
       "    </tr>\n",
       "  </thead>\n",
       "  <tbody>\n",
       "    <tr>\n",
       "      <td>0</td>\n",
       "      <td>1</td>\n",
       "      <td>8437</td>\n",
       "      <td>42</td>\n",
       "      <td>высшее</td>\n",
       "      <td>0</td>\n",
       "      <td>женат / замужем</td>\n",
       "      <td>0</td>\n",
       "      <td>F</td>\n",
       "      <td>сотрудник</td>\n",
       "      <td>0</td>\n",
       "      <td>253875</td>\n",
       "      <td>покупка жилья</td>\n",
       "      <td>23</td>\n",
       "    </tr>\n",
       "    <tr>\n",
       "      <td>1</td>\n",
       "      <td>1</td>\n",
       "      <td>4024</td>\n",
       "      <td>36</td>\n",
       "      <td>среднее</td>\n",
       "      <td>1</td>\n",
       "      <td>женат / замужем</td>\n",
       "      <td>0</td>\n",
       "      <td>F</td>\n",
       "      <td>сотрудник</td>\n",
       "      <td>0</td>\n",
       "      <td>112080</td>\n",
       "      <td>приобретение автомобиля</td>\n",
       "      <td>11</td>\n",
       "    </tr>\n",
       "    <tr>\n",
       "      <td>2</td>\n",
       "      <td>0</td>\n",
       "      <td>5623</td>\n",
       "      <td>33</td>\n",
       "      <td>Среднее</td>\n",
       "      <td>1</td>\n",
       "      <td>женат / замужем</td>\n",
       "      <td>0</td>\n",
       "      <td>M</td>\n",
       "      <td>сотрудник</td>\n",
       "      <td>0</td>\n",
       "      <td>145885</td>\n",
       "      <td>покупка жилья</td>\n",
       "      <td>15</td>\n",
       "    </tr>\n",
       "    <tr>\n",
       "      <td>3</td>\n",
       "      <td>3</td>\n",
       "      <td>4124</td>\n",
       "      <td>32</td>\n",
       "      <td>среднее</td>\n",
       "      <td>1</td>\n",
       "      <td>женат / замужем</td>\n",
       "      <td>0</td>\n",
       "      <td>M</td>\n",
       "      <td>сотрудник</td>\n",
       "      <td>0</td>\n",
       "      <td>267628</td>\n",
       "      <td>дополнительное образование</td>\n",
       "      <td>11</td>\n",
       "    </tr>\n",
       "    <tr>\n",
       "      <td>4</td>\n",
       "      <td>0</td>\n",
       "      <td>340266</td>\n",
       "      <td>53</td>\n",
       "      <td>среднее</td>\n",
       "      <td>1</td>\n",
       "      <td>гражданский брак</td>\n",
       "      <td>1</td>\n",
       "      <td>F</td>\n",
       "      <td>пенсионер</td>\n",
       "      <td>0</td>\n",
       "      <td>158616</td>\n",
       "      <td>сыграть свадьбу</td>\n",
       "      <td>38</td>\n",
       "    </tr>\n",
       "    <tr>\n",
       "      <td>5</td>\n",
       "      <td>0</td>\n",
       "      <td>926</td>\n",
       "      <td>27</td>\n",
       "      <td>высшее</td>\n",
       "      <td>0</td>\n",
       "      <td>гражданский брак</td>\n",
       "      <td>1</td>\n",
       "      <td>M</td>\n",
       "      <td>компаньон</td>\n",
       "      <td>0</td>\n",
       "      <td>255763</td>\n",
       "      <td>покупка жилья</td>\n",
       "      <td>2</td>\n",
       "    </tr>\n",
       "    <tr>\n",
       "      <td>6</td>\n",
       "      <td>0</td>\n",
       "      <td>2879</td>\n",
       "      <td>43</td>\n",
       "      <td>высшее</td>\n",
       "      <td>0</td>\n",
       "      <td>женат / замужем</td>\n",
       "      <td>0</td>\n",
       "      <td>F</td>\n",
       "      <td>компаньон</td>\n",
       "      <td>0</td>\n",
       "      <td>240525</td>\n",
       "      <td>операции с жильем</td>\n",
       "      <td>7</td>\n",
       "    </tr>\n",
       "    <tr>\n",
       "      <td>7</td>\n",
       "      <td>0</td>\n",
       "      <td>152</td>\n",
       "      <td>50</td>\n",
       "      <td>СРЕДНЕЕ</td>\n",
       "      <td>1</td>\n",
       "      <td>женат / замужем</td>\n",
       "      <td>0</td>\n",
       "      <td>M</td>\n",
       "      <td>сотрудник</td>\n",
       "      <td>0</td>\n",
       "      <td>135823</td>\n",
       "      <td>образование</td>\n",
       "      <td>0</td>\n",
       "    </tr>\n",
       "    <tr>\n",
       "      <td>8</td>\n",
       "      <td>2</td>\n",
       "      <td>6929</td>\n",
       "      <td>35</td>\n",
       "      <td>ВЫСШЕЕ</td>\n",
       "      <td>0</td>\n",
       "      <td>гражданский брак</td>\n",
       "      <td>1</td>\n",
       "      <td>F</td>\n",
       "      <td>сотрудник</td>\n",
       "      <td>0</td>\n",
       "      <td>95856</td>\n",
       "      <td>на проведение свадьбы</td>\n",
       "      <td>18</td>\n",
       "    </tr>\n",
       "    <tr>\n",
       "      <td>9</td>\n",
       "      <td>0</td>\n",
       "      <td>2188</td>\n",
       "      <td>41</td>\n",
       "      <td>среднее</td>\n",
       "      <td>1</td>\n",
       "      <td>женат / замужем</td>\n",
       "      <td>0</td>\n",
       "      <td>M</td>\n",
       "      <td>сотрудник</td>\n",
       "      <td>0</td>\n",
       "      <td>144425</td>\n",
       "      <td>покупка жилья для семьи</td>\n",
       "      <td>5</td>\n",
       "    </tr>\n",
       "  </tbody>\n",
       "</table>\n",
       "</div>"
      ],
      "text/plain": [
       "   children  days_employed  dob_years education  education_id  \\\n",
       "0         1           8437         42    высшее             0   \n",
       "1         1           4024         36   среднее             1   \n",
       "2         0           5623         33   Среднее             1   \n",
       "3         3           4124         32   среднее             1   \n",
       "4         0         340266         53   среднее             1   \n",
       "5         0            926         27    высшее             0   \n",
       "6         0           2879         43    высшее             0   \n",
       "7         0            152         50   СРЕДНЕЕ             1   \n",
       "8         2           6929         35    ВЫСШЕЕ             0   \n",
       "9         0           2188         41   среднее             1   \n",
       "\n",
       "      family_status  family_status_id gender income_type  debt  total_income  \\\n",
       "0   женат / замужем                 0      F   сотрудник     0        253875   \n",
       "1   женат / замужем                 0      F   сотрудник     0        112080   \n",
       "2   женат / замужем                 0      M   сотрудник     0        145885   \n",
       "3   женат / замужем                 0      M   сотрудник     0        267628   \n",
       "4  гражданский брак                 1      F   пенсионер     0        158616   \n",
       "5  гражданский брак                 1      M   компаньон     0        255763   \n",
       "6   женат / замужем                 0      F   компаньон     0        240525   \n",
       "7   женат / замужем                 0      M   сотрудник     0        135823   \n",
       "8  гражданский брак                 1      F   сотрудник     0         95856   \n",
       "9   женат / замужем                 0      M   сотрудник     0        144425   \n",
       "\n",
       "                      purpose  years_employed  \n",
       "0               покупка жилья              23  \n",
       "1     приобретение автомобиля              11  \n",
       "2               покупка жилья              15  \n",
       "3  дополнительное образование              11  \n",
       "4             сыграть свадьбу              38  \n",
       "5               покупка жилья               2  \n",
       "6           операции с жильем               7  \n",
       "7                 образование               0  \n",
       "8       на проведение свадьбы              18  \n",
       "9     покупка жилья для семьи               5  "
      ]
     },
     "execution_count": 23,
     "metadata": {},
     "output_type": "execute_result"
    }
   ],
   "source": [
    "#проверим\n",
    "data.head(10)"
   ]
  },
  {
   "cell_type": "markdown",
   "metadata": {},
   "source": [
    "**Вывод**"
   ]
  },
  {
   "cell_type": "markdown",
   "metadata": {},
   "source": [
    "Со стажем поработали знатно. Ну для начала не надо собирать данные в днях, это ж адовый ад. Я даже не могу предстваить как эти данные еще и в часах появились. Определенно данные собраны из разных источников, как минимум из двух, и один зачем-то собирает эти данные в часах. Я бы советовала собирать эти данные в месяцах или годах.\n"
   ]
  },
  {
   "cell_type": "markdown",
   "metadata": {},
   "source": [
    "### Обработка дубликатов"
   ]
  },
  {
   "cell_type": "markdown",
   "metadata": {},
   "source": [
    "Проверим наличие явных дубликатов."
   ]
  },
  {
   "cell_type": "code",
   "execution_count": 24,
   "metadata": {},
   "outputs": [
    {
     "data": {
      "text/plain": [
       "54"
      ]
     },
     "execution_count": 24,
     "metadata": {},
     "output_type": "execute_result"
    }
   ],
   "source": [
    "data.duplicated().sum()"
   ]
  },
  {
   "cell_type": "markdown",
   "metadata": {},
   "source": [
    "Мы помним, что в столбце \"образование\" плавающий регистр, приведем его к единому значению."
   ]
  },
  {
   "cell_type": "code",
   "execution_count": 25,
   "metadata": {},
   "outputs": [],
   "source": [
    "data['education'] = data['education'].str.lower()"
   ]
  },
  {
   "cell_type": "code",
   "execution_count": 26,
   "metadata": {},
   "outputs": [
    {
     "data": {
      "text/html": [
       "<div>\n",
       "<style scoped>\n",
       "    .dataframe tbody tr th:only-of-type {\n",
       "        vertical-align: middle;\n",
       "    }\n",
       "\n",
       "    .dataframe tbody tr th {\n",
       "        vertical-align: top;\n",
       "    }\n",
       "\n",
       "    .dataframe thead th {\n",
       "        text-align: right;\n",
       "    }\n",
       "</style>\n",
       "<table border=\"1\" class=\"dataframe\">\n",
       "  <thead>\n",
       "    <tr style=\"text-align: right;\">\n",
       "      <th></th>\n",
       "      <th>children</th>\n",
       "      <th>days_employed</th>\n",
       "      <th>dob_years</th>\n",
       "      <th>education</th>\n",
       "      <th>education_id</th>\n",
       "      <th>family_status</th>\n",
       "      <th>family_status_id</th>\n",
       "      <th>gender</th>\n",
       "      <th>income_type</th>\n",
       "      <th>debt</th>\n",
       "      <th>total_income</th>\n",
       "      <th>purpose</th>\n",
       "      <th>years_employed</th>\n",
       "    </tr>\n",
       "  </thead>\n",
       "  <tbody>\n",
       "    <tr>\n",
       "      <td>0</td>\n",
       "      <td>1</td>\n",
       "      <td>8437</td>\n",
       "      <td>42</td>\n",
       "      <td>высшее</td>\n",
       "      <td>0</td>\n",
       "      <td>женат / замужем</td>\n",
       "      <td>0</td>\n",
       "      <td>F</td>\n",
       "      <td>сотрудник</td>\n",
       "      <td>0</td>\n",
       "      <td>253875</td>\n",
       "      <td>покупка жилья</td>\n",
       "      <td>23</td>\n",
       "    </tr>\n",
       "    <tr>\n",
       "      <td>1</td>\n",
       "      <td>1</td>\n",
       "      <td>4024</td>\n",
       "      <td>36</td>\n",
       "      <td>среднее</td>\n",
       "      <td>1</td>\n",
       "      <td>женат / замужем</td>\n",
       "      <td>0</td>\n",
       "      <td>F</td>\n",
       "      <td>сотрудник</td>\n",
       "      <td>0</td>\n",
       "      <td>112080</td>\n",
       "      <td>приобретение автомобиля</td>\n",
       "      <td>11</td>\n",
       "    </tr>\n",
       "    <tr>\n",
       "      <td>2</td>\n",
       "      <td>0</td>\n",
       "      <td>5623</td>\n",
       "      <td>33</td>\n",
       "      <td>среднее</td>\n",
       "      <td>1</td>\n",
       "      <td>женат / замужем</td>\n",
       "      <td>0</td>\n",
       "      <td>M</td>\n",
       "      <td>сотрудник</td>\n",
       "      <td>0</td>\n",
       "      <td>145885</td>\n",
       "      <td>покупка жилья</td>\n",
       "      <td>15</td>\n",
       "    </tr>\n",
       "    <tr>\n",
       "      <td>3</td>\n",
       "      <td>3</td>\n",
       "      <td>4124</td>\n",
       "      <td>32</td>\n",
       "      <td>среднее</td>\n",
       "      <td>1</td>\n",
       "      <td>женат / замужем</td>\n",
       "      <td>0</td>\n",
       "      <td>M</td>\n",
       "      <td>сотрудник</td>\n",
       "      <td>0</td>\n",
       "      <td>267628</td>\n",
       "      <td>дополнительное образование</td>\n",
       "      <td>11</td>\n",
       "    </tr>\n",
       "    <tr>\n",
       "      <td>4</td>\n",
       "      <td>0</td>\n",
       "      <td>340266</td>\n",
       "      <td>53</td>\n",
       "      <td>среднее</td>\n",
       "      <td>1</td>\n",
       "      <td>гражданский брак</td>\n",
       "      <td>1</td>\n",
       "      <td>F</td>\n",
       "      <td>пенсионер</td>\n",
       "      <td>0</td>\n",
       "      <td>158616</td>\n",
       "      <td>сыграть свадьбу</td>\n",
       "      <td>38</td>\n",
       "    </tr>\n",
       "    <tr>\n",
       "      <td>5</td>\n",
       "      <td>0</td>\n",
       "      <td>926</td>\n",
       "      <td>27</td>\n",
       "      <td>высшее</td>\n",
       "      <td>0</td>\n",
       "      <td>гражданский брак</td>\n",
       "      <td>1</td>\n",
       "      <td>M</td>\n",
       "      <td>компаньон</td>\n",
       "      <td>0</td>\n",
       "      <td>255763</td>\n",
       "      <td>покупка жилья</td>\n",
       "      <td>2</td>\n",
       "    </tr>\n",
       "    <tr>\n",
       "      <td>6</td>\n",
       "      <td>0</td>\n",
       "      <td>2879</td>\n",
       "      <td>43</td>\n",
       "      <td>высшее</td>\n",
       "      <td>0</td>\n",
       "      <td>женат / замужем</td>\n",
       "      <td>0</td>\n",
       "      <td>F</td>\n",
       "      <td>компаньон</td>\n",
       "      <td>0</td>\n",
       "      <td>240525</td>\n",
       "      <td>операции с жильем</td>\n",
       "      <td>7</td>\n",
       "    </tr>\n",
       "    <tr>\n",
       "      <td>7</td>\n",
       "      <td>0</td>\n",
       "      <td>152</td>\n",
       "      <td>50</td>\n",
       "      <td>среднее</td>\n",
       "      <td>1</td>\n",
       "      <td>женат / замужем</td>\n",
       "      <td>0</td>\n",
       "      <td>M</td>\n",
       "      <td>сотрудник</td>\n",
       "      <td>0</td>\n",
       "      <td>135823</td>\n",
       "      <td>образование</td>\n",
       "      <td>0</td>\n",
       "    </tr>\n",
       "    <tr>\n",
       "      <td>8</td>\n",
       "      <td>2</td>\n",
       "      <td>6929</td>\n",
       "      <td>35</td>\n",
       "      <td>высшее</td>\n",
       "      <td>0</td>\n",
       "      <td>гражданский брак</td>\n",
       "      <td>1</td>\n",
       "      <td>F</td>\n",
       "      <td>сотрудник</td>\n",
       "      <td>0</td>\n",
       "      <td>95856</td>\n",
       "      <td>на проведение свадьбы</td>\n",
       "      <td>18</td>\n",
       "    </tr>\n",
       "    <tr>\n",
       "      <td>9</td>\n",
       "      <td>0</td>\n",
       "      <td>2188</td>\n",
       "      <td>41</td>\n",
       "      <td>среднее</td>\n",
       "      <td>1</td>\n",
       "      <td>женат / замужем</td>\n",
       "      <td>0</td>\n",
       "      <td>M</td>\n",
       "      <td>сотрудник</td>\n",
       "      <td>0</td>\n",
       "      <td>144425</td>\n",
       "      <td>покупка жилья для семьи</td>\n",
       "      <td>5</td>\n",
       "    </tr>\n",
       "  </tbody>\n",
       "</table>\n",
       "</div>"
      ],
      "text/plain": [
       "   children  days_employed  dob_years education  education_id  \\\n",
       "0         1           8437         42    высшее             0   \n",
       "1         1           4024         36   среднее             1   \n",
       "2         0           5623         33   среднее             1   \n",
       "3         3           4124         32   среднее             1   \n",
       "4         0         340266         53   среднее             1   \n",
       "5         0            926         27    высшее             0   \n",
       "6         0           2879         43    высшее             0   \n",
       "7         0            152         50   среднее             1   \n",
       "8         2           6929         35    высшее             0   \n",
       "9         0           2188         41   среднее             1   \n",
       "\n",
       "      family_status  family_status_id gender income_type  debt  total_income  \\\n",
       "0   женат / замужем                 0      F   сотрудник     0        253875   \n",
       "1   женат / замужем                 0      F   сотрудник     0        112080   \n",
       "2   женат / замужем                 0      M   сотрудник     0        145885   \n",
       "3   женат / замужем                 0      M   сотрудник     0        267628   \n",
       "4  гражданский брак                 1      F   пенсионер     0        158616   \n",
       "5  гражданский брак                 1      M   компаньон     0        255763   \n",
       "6   женат / замужем                 0      F   компаньон     0        240525   \n",
       "7   женат / замужем                 0      M   сотрудник     0        135823   \n",
       "8  гражданский брак                 1      F   сотрудник     0         95856   \n",
       "9   женат / замужем                 0      M   сотрудник     0        144425   \n",
       "\n",
       "                      purpose  years_employed  \n",
       "0               покупка жилья              23  \n",
       "1     приобретение автомобиля              11  \n",
       "2               покупка жилья              15  \n",
       "3  дополнительное образование              11  \n",
       "4             сыграть свадьбу              38  \n",
       "5               покупка жилья               2  \n",
       "6           операции с жильем               7  \n",
       "7                 образование               0  \n",
       "8       на проведение свадьбы              18  \n",
       "9     покупка жилья для семьи               5  "
      ]
     },
     "execution_count": 26,
     "metadata": {},
     "output_type": "execute_result"
    }
   ],
   "source": [
    "#проверим\n",
    "data.head(10)"
   ]
  },
  {
   "cell_type": "markdown",
   "metadata": {},
   "source": [
    "Отлично. Снова посмотрим кол-во явных дубликатов и удалим их."
   ]
  },
  {
   "cell_type": "code",
   "execution_count": 27,
   "metadata": {},
   "outputs": [
    {
     "data": {
      "text/plain": [
       "71"
      ]
     },
     "execution_count": 27,
     "metadata": {},
     "output_type": "execute_result"
    }
   ],
   "source": [
    "data.duplicated().sum()"
   ]
  },
  {
   "cell_type": "code",
   "execution_count": 28,
   "metadata": {},
   "outputs": [],
   "source": [
    "data = data.drop_duplicates().reset_index(drop=True)"
   ]
  },
  {
   "cell_type": "code",
   "execution_count": 29,
   "metadata": {},
   "outputs": [
    {
     "data": {
      "text/plain": [
       "0"
      ]
     },
     "execution_count": 29,
     "metadata": {},
     "output_type": "execute_result"
    }
   ],
   "source": [
    "#проверим\n",
    "data.duplicated().sum()"
   ]
  },
  {
   "cell_type": "markdown",
   "metadata": {},
   "source": [
    "**Вывод**"
   ]
  },
  {
   "cell_type": "markdown",
   "metadata": {},
   "source": [
    "Удалили явные дубликаты, их было не много - это хорошо. Возможно они появились из-за ошибки при вынрузке, может данные собирали из разных источников."
   ]
  },
  {
   "cell_type": "markdown",
   "metadata": {},
   "source": [
    "### Лемматизация"
   ]
  },
  {
   "cell_type": "code",
   "execution_count": 30,
   "metadata": {},
   "outputs": [],
   "source": [
    "from pymystem3 import Mystem\n",
    "m = Mystem() "
   ]
  },
  {
   "cell_type": "code",
   "execution_count": 31,
   "metadata": {},
   "outputs": [
    {
     "data": {
      "text/plain": [
       "array(['покупка жилья', 'приобретение автомобиля',\n",
       "       'дополнительное образование', 'сыграть свадьбу',\n",
       "       'операции с жильем', 'образование', 'на проведение свадьбы',\n",
       "       'покупка жилья для семьи', 'покупка недвижимости',\n",
       "       'покупка коммерческой недвижимости', 'покупка жилой недвижимости',\n",
       "       'строительство собственной недвижимости', 'недвижимость',\n",
       "       'строительство недвижимости', 'на покупку подержанного автомобиля',\n",
       "       'на покупку своего автомобиля',\n",
       "       'операции с коммерческой недвижимостью',\n",
       "       'строительство жилой недвижимости', 'жилье',\n",
       "       'операции со своей недвижимостью', 'автомобили',\n",
       "       'заняться образованием', 'сделка с подержанным автомобилем',\n",
       "       'получение образования', 'автомобиль', 'свадьба',\n",
       "       'получение дополнительного образования', 'покупка своего жилья',\n",
       "       'операции с недвижимостью', 'получение высшего образования',\n",
       "       'свой автомобиль', 'сделка с автомобилем',\n",
       "       'профильное образование', 'высшее образование',\n",
       "       'покупка жилья для сдачи', 'на покупку автомобиля', 'ремонт жилью',\n",
       "       'заняться высшим образованием'], dtype=object)"
      ]
     },
     "execution_count": 31,
     "metadata": {},
     "output_type": "execute_result"
    }
   ],
   "source": [
    "#найдем уникальные значения\n",
    "unique_purpose = data['purpose'].unique()\n",
    "unique_purpose"
   ]
  },
  {
   "cell_type": "code",
   "execution_count": 32,
   "metadata": {},
   "outputs": [
    {
     "data": {
      "text/plain": [
       "'покупка жилья;приобретение автомобиля;дополнительное образование;сыграть свадьбу;операции с жильем;образование;на проведение свадьбы;покупка жилья для семьи;покупка недвижимости;покупка коммерческой недвижимости;покупка жилой недвижимости;строительство собственной недвижимости;недвижимость;строительство недвижимости;на покупку подержанного автомобиля;на покупку своего автомобиля;операции с коммерческой недвижимостью;строительство жилой недвижимости;жилье;операции со своей недвижимостью;автомобили;заняться образованием;сделка с подержанным автомобилем;получение образования;автомобиль;свадьба;получение дополнительного образования;покупка своего жилья;операции с недвижимостью;получение высшего образования;свой автомобиль;сделка с автомобилем;профильное образование;высшее образование;покупка жилья для сдачи;на покупку автомобиля;ремонт жилью;заняться высшим образованием'"
      ]
     },
     "execution_count": 32,
     "metadata": {},
     "output_type": "execute_result"
    }
   ],
   "source": [
    "unique_credit_purpose = ';'.join(unique_purpose)\n",
    "unique_credit_purpose"
   ]
  },
  {
   "cell_type": "code",
   "execution_count": 1,
   "metadata": {},
   "outputs": [],
   "source": [
    "#вызываем Counter для подсчета лемматизировнных слов\n",
    "from pymystem3 import Mystem\n",
    "m = Mystem() "
   ]
  },
  {
   "cell_type": "code",
   "execution_count": 34,
   "metadata": {},
   "outputs": [
    {
     "name": "stdout",
     "output_type": "stream",
     "text": [
      "Counter({' ': 59, ';': 37, 'покупка': 10, 'недвижимость': 10, 'автомобиль': 9, 'образование': 9, 'жилье': 7, 'с': 5, 'операция': 4, 'на': 4, 'свой': 4, 'свадьба': 3, 'строительство': 3, 'получение': 3, 'высокий': 3, 'дополнительный': 2, 'для': 2, 'коммерческий': 2, 'жилой': 2, 'подержать': 2, 'заниматься': 2, 'сделка': 2, 'приобретение': 1, 'сыграть': 1, 'проведение': 1, 'семья': 1, 'собственный': 1, 'со': 1, 'профильный': 1, 'сдача': 1, 'ремонт': 1, '\\n': 1})\n"
     ]
    }
   ],
   "source": [
    "lemmas = m.lemmatize(unique_credit_purpose)\n",
    "print(Counter(lemmas))"
   ]
  },
  {
   "cell_type": "markdown",
   "metadata": {},
   "source": [
    "Из всего списка можно выделить несколько главных целей: \"недвижимость\" и \"жилье\" можно объединить в одно, автомобиль, свадьба и образование. Создадим новый столбец, возвращающий эти цели."
   ]
  },
  {
   "cell_type": "code",
   "execution_count": 35,
   "metadata": {},
   "outputs": [],
   "source": [
    "# создадим функцию для нового столбца,где будет перебор по ячейкам purpose  и проверять, какая из категорий обнаруживается в лемматизированном варианте\n",
    "def categorize(purpose):\n",
    "    purpose_lemmas = m.lemmatize(purpose)\n",
    "    if 'недвижимость' in purpose_lemmas or 'жилье' in purpose_lemmas:\n",
    "        return 'недвижимость'\n",
    "    if 'автомобиль' in purpose_lemmas:\n",
    "        return 'автомобиль'\n",
    "    if 'образование' in purpose_lemmas:\n",
    "        return 'образование'\n",
    "    if 'свадьба' in purpose_lemmas:\n",
    "        return 'свадьба'\n",
    "    return 'прочее'\n",
    "\n",
    "data['category'] = data['purpose'].apply(categorize)"
   ]
  },
  {
   "cell_type": "code",
   "execution_count": 36,
   "metadata": {},
   "outputs": [
    {
     "data": {
      "text/html": [
       "<div>\n",
       "<style scoped>\n",
       "    .dataframe tbody tr th:only-of-type {\n",
       "        vertical-align: middle;\n",
       "    }\n",
       "\n",
       "    .dataframe tbody tr th {\n",
       "        vertical-align: top;\n",
       "    }\n",
       "\n",
       "    .dataframe thead th {\n",
       "        text-align: right;\n",
       "    }\n",
       "</style>\n",
       "<table border=\"1\" class=\"dataframe\">\n",
       "  <thead>\n",
       "    <tr style=\"text-align: right;\">\n",
       "      <th></th>\n",
       "      <th>children</th>\n",
       "      <th>days_employed</th>\n",
       "      <th>dob_years</th>\n",
       "      <th>education</th>\n",
       "      <th>education_id</th>\n",
       "      <th>family_status</th>\n",
       "      <th>family_status_id</th>\n",
       "      <th>gender</th>\n",
       "      <th>income_type</th>\n",
       "      <th>debt</th>\n",
       "      <th>total_income</th>\n",
       "      <th>purpose</th>\n",
       "      <th>years_employed</th>\n",
       "      <th>category</th>\n",
       "    </tr>\n",
       "  </thead>\n",
       "  <tbody>\n",
       "    <tr>\n",
       "      <td>0</td>\n",
       "      <td>1</td>\n",
       "      <td>8437</td>\n",
       "      <td>42</td>\n",
       "      <td>высшее</td>\n",
       "      <td>0</td>\n",
       "      <td>женат / замужем</td>\n",
       "      <td>0</td>\n",
       "      <td>F</td>\n",
       "      <td>сотрудник</td>\n",
       "      <td>0</td>\n",
       "      <td>253875</td>\n",
       "      <td>покупка жилья</td>\n",
       "      <td>23</td>\n",
       "      <td>недвижимость</td>\n",
       "    </tr>\n",
       "    <tr>\n",
       "      <td>1</td>\n",
       "      <td>1</td>\n",
       "      <td>4024</td>\n",
       "      <td>36</td>\n",
       "      <td>среднее</td>\n",
       "      <td>1</td>\n",
       "      <td>женат / замужем</td>\n",
       "      <td>0</td>\n",
       "      <td>F</td>\n",
       "      <td>сотрудник</td>\n",
       "      <td>0</td>\n",
       "      <td>112080</td>\n",
       "      <td>приобретение автомобиля</td>\n",
       "      <td>11</td>\n",
       "      <td>автомобиль</td>\n",
       "    </tr>\n",
       "    <tr>\n",
       "      <td>2</td>\n",
       "      <td>0</td>\n",
       "      <td>5623</td>\n",
       "      <td>33</td>\n",
       "      <td>среднее</td>\n",
       "      <td>1</td>\n",
       "      <td>женат / замужем</td>\n",
       "      <td>0</td>\n",
       "      <td>M</td>\n",
       "      <td>сотрудник</td>\n",
       "      <td>0</td>\n",
       "      <td>145885</td>\n",
       "      <td>покупка жилья</td>\n",
       "      <td>15</td>\n",
       "      <td>недвижимость</td>\n",
       "    </tr>\n",
       "    <tr>\n",
       "      <td>3</td>\n",
       "      <td>3</td>\n",
       "      <td>4124</td>\n",
       "      <td>32</td>\n",
       "      <td>среднее</td>\n",
       "      <td>1</td>\n",
       "      <td>женат / замужем</td>\n",
       "      <td>0</td>\n",
       "      <td>M</td>\n",
       "      <td>сотрудник</td>\n",
       "      <td>0</td>\n",
       "      <td>267628</td>\n",
       "      <td>дополнительное образование</td>\n",
       "      <td>11</td>\n",
       "      <td>образование</td>\n",
       "    </tr>\n",
       "    <tr>\n",
       "      <td>4</td>\n",
       "      <td>0</td>\n",
       "      <td>340266</td>\n",
       "      <td>53</td>\n",
       "      <td>среднее</td>\n",
       "      <td>1</td>\n",
       "      <td>гражданский брак</td>\n",
       "      <td>1</td>\n",
       "      <td>F</td>\n",
       "      <td>пенсионер</td>\n",
       "      <td>0</td>\n",
       "      <td>158616</td>\n",
       "      <td>сыграть свадьбу</td>\n",
       "      <td>38</td>\n",
       "      <td>свадьба</td>\n",
       "    </tr>\n",
       "    <tr>\n",
       "      <td>5</td>\n",
       "      <td>0</td>\n",
       "      <td>926</td>\n",
       "      <td>27</td>\n",
       "      <td>высшее</td>\n",
       "      <td>0</td>\n",
       "      <td>гражданский брак</td>\n",
       "      <td>1</td>\n",
       "      <td>M</td>\n",
       "      <td>компаньон</td>\n",
       "      <td>0</td>\n",
       "      <td>255763</td>\n",
       "      <td>покупка жилья</td>\n",
       "      <td>2</td>\n",
       "      <td>недвижимость</td>\n",
       "    </tr>\n",
       "    <tr>\n",
       "      <td>6</td>\n",
       "      <td>0</td>\n",
       "      <td>2879</td>\n",
       "      <td>43</td>\n",
       "      <td>высшее</td>\n",
       "      <td>0</td>\n",
       "      <td>женат / замужем</td>\n",
       "      <td>0</td>\n",
       "      <td>F</td>\n",
       "      <td>компаньон</td>\n",
       "      <td>0</td>\n",
       "      <td>240525</td>\n",
       "      <td>операции с жильем</td>\n",
       "      <td>7</td>\n",
       "      <td>недвижимость</td>\n",
       "    </tr>\n",
       "    <tr>\n",
       "      <td>7</td>\n",
       "      <td>0</td>\n",
       "      <td>152</td>\n",
       "      <td>50</td>\n",
       "      <td>среднее</td>\n",
       "      <td>1</td>\n",
       "      <td>женат / замужем</td>\n",
       "      <td>0</td>\n",
       "      <td>M</td>\n",
       "      <td>сотрудник</td>\n",
       "      <td>0</td>\n",
       "      <td>135823</td>\n",
       "      <td>образование</td>\n",
       "      <td>0</td>\n",
       "      <td>образование</td>\n",
       "    </tr>\n",
       "    <tr>\n",
       "      <td>8</td>\n",
       "      <td>2</td>\n",
       "      <td>6929</td>\n",
       "      <td>35</td>\n",
       "      <td>высшее</td>\n",
       "      <td>0</td>\n",
       "      <td>гражданский брак</td>\n",
       "      <td>1</td>\n",
       "      <td>F</td>\n",
       "      <td>сотрудник</td>\n",
       "      <td>0</td>\n",
       "      <td>95856</td>\n",
       "      <td>на проведение свадьбы</td>\n",
       "      <td>18</td>\n",
       "      <td>свадьба</td>\n",
       "    </tr>\n",
       "    <tr>\n",
       "      <td>9</td>\n",
       "      <td>0</td>\n",
       "      <td>2188</td>\n",
       "      <td>41</td>\n",
       "      <td>среднее</td>\n",
       "      <td>1</td>\n",
       "      <td>женат / замужем</td>\n",
       "      <td>0</td>\n",
       "      <td>M</td>\n",
       "      <td>сотрудник</td>\n",
       "      <td>0</td>\n",
       "      <td>144425</td>\n",
       "      <td>покупка жилья для семьи</td>\n",
       "      <td>5</td>\n",
       "      <td>недвижимость</td>\n",
       "    </tr>\n",
       "  </tbody>\n",
       "</table>\n",
       "</div>"
      ],
      "text/plain": [
       "   children  days_employed  dob_years education  education_id  \\\n",
       "0         1           8437         42    высшее             0   \n",
       "1         1           4024         36   среднее             1   \n",
       "2         0           5623         33   среднее             1   \n",
       "3         3           4124         32   среднее             1   \n",
       "4         0         340266         53   среднее             1   \n",
       "5         0            926         27    высшее             0   \n",
       "6         0           2879         43    высшее             0   \n",
       "7         0            152         50   среднее             1   \n",
       "8         2           6929         35    высшее             0   \n",
       "9         0           2188         41   среднее             1   \n",
       "\n",
       "      family_status  family_status_id gender income_type  debt  total_income  \\\n",
       "0   женат / замужем                 0      F   сотрудник     0        253875   \n",
       "1   женат / замужем                 0      F   сотрудник     0        112080   \n",
       "2   женат / замужем                 0      M   сотрудник     0        145885   \n",
       "3   женат / замужем                 0      M   сотрудник     0        267628   \n",
       "4  гражданский брак                 1      F   пенсионер     0        158616   \n",
       "5  гражданский брак                 1      M   компаньон     0        255763   \n",
       "6   женат / замужем                 0      F   компаньон     0        240525   \n",
       "7   женат / замужем                 0      M   сотрудник     0        135823   \n",
       "8  гражданский брак                 1      F   сотрудник     0         95856   \n",
       "9   женат / замужем                 0      M   сотрудник     0        144425   \n",
       "\n",
       "                      purpose  years_employed      category  \n",
       "0               покупка жилья              23  недвижимость  \n",
       "1     приобретение автомобиля              11    автомобиль  \n",
       "2               покупка жилья              15  недвижимость  \n",
       "3  дополнительное образование              11   образование  \n",
       "4             сыграть свадьбу              38       свадьба  \n",
       "5               покупка жилья               2  недвижимость  \n",
       "6           операции с жильем               7  недвижимость  \n",
       "7                 образование               0   образование  \n",
       "8       на проведение свадьбы              18       свадьба  \n",
       "9     покупка жилья для семьи               5  недвижимость  "
      ]
     },
     "execution_count": 36,
     "metadata": {},
     "output_type": "execute_result"
    }
   ],
   "source": [
    "#проверим\n",
    "data.head(10)"
   ]
  },
  {
   "cell_type": "markdown",
   "metadata": {},
   "source": [
    "**Вывод**"
   ]
  },
  {
   "cell_type": "markdown",
   "metadata": {},
   "source": [
    "Добавили новый столбец, где четко отражена категория. Я бы посоветовала сразу при сборе информации выбирать из данных категорий,и только в случае \"прочее\" объяснять подробнее."
   ]
  },
  {
   "cell_type": "markdown",
   "metadata": {},
   "source": [
    "### Категоризация данных"
   ]
  },
  {
   "cell_type": "markdown",
   "metadata": {},
   "source": [
    "Поработаем с children"
   ]
  },
  {
   "cell_type": "code",
   "execution_count": 37,
   "metadata": {},
   "outputs": [
    {
     "data": {
      "text/plain": [
       "array([ 1,  0,  3,  2, -1,  4, 20,  5])"
      ]
     },
     "execution_count": 37,
     "metadata": {},
     "output_type": "execute_result"
    }
   ],
   "source": [
    "data['children'].unique()"
   ]
  },
  {
   "cell_type": "code",
   "execution_count": 38,
   "metadata": {},
   "outputs": [
    {
     "data": {
      "text/plain": [
       "47"
      ]
     },
     "execution_count": 38,
     "metadata": {},
     "output_type": "execute_result"
    }
   ],
   "source": [
    "#есть странные значения: -1 и 20, посмотрим сколько их и на этом основании бкдем решать, что делать с ними\n",
    "data[data['children'] == -1]['children'].count()"
   ]
  },
  {
   "cell_type": "code",
   "execution_count": 39,
   "metadata": {},
   "outputs": [],
   "source": [
    "#ок, буду считать,что \"-\" - тире, которое поставили перед единицей.\n",
    "#Для меня странна логика,где отсутвие детей обозначалось бы \"-1\", а почему тогда не \"-2\" и т.д....\n",
    "#Заменим -1 на 1"
   ]
  },
  {
   "cell_type": "code",
   "execution_count": 40,
   "metadata": {},
   "outputs": [],
   "source": [
    "data['children'] = data['children'].replace(-1, 1)"
   ]
  },
  {
   "cell_type": "code",
   "execution_count": 41,
   "metadata": {},
   "outputs": [
    {
     "data": {
      "text/plain": [
       "76"
      ]
     },
     "execution_count": 41,
     "metadata": {},
     "output_type": "execute_result"
    }
   ],
   "source": [
    "#теперь очередь 20 детей\n",
    "data[data['children'] == 20]['children'].count()"
   ]
  },
  {
   "cell_type": "code",
   "execution_count": 42,
   "metadata": {},
   "outputs": [],
   "source": [
    "#слишком круто, чтобы было правдой. Заменим 20 на 2\n",
    "data['children'] = data['children'].replace(20, 2)"
   ]
  },
  {
   "cell_type": "code",
   "execution_count": 43,
   "metadata": {},
   "outputs": [
    {
     "data": {
      "text/plain": [
       "array([1, 0, 3, 2, 4, 5])"
      ]
     },
     "execution_count": 43,
     "metadata": {},
     "output_type": "execute_result"
    }
   ],
   "source": [
    "#проверм\n",
    "data['children'].unique()"
   ]
  },
  {
   "cell_type": "markdown",
   "metadata": {},
   "source": [
    "Дальше можно работатьс категоризацией. У нас стоит вопрос о зависимости наличия детей и возвратом, поэтому сделаем категоризацию по наличию или отсутсвию детей."
   ]
  },
  {
   "cell_type": "code",
   "execution_count": 44,
   "metadata": {},
   "outputs": [],
   "source": [
    "#создадим функцию, которая при значении 0 возвращает \"нет детей\", иначе \"есть дети\"\n",
    "def children_group(children):\n",
    "    if children == 0:\n",
    "        return 'нет детей'\n",
    "    return 'есть дети'\n",
    "\n",
    "data['children_category'] = data['children'].apply(children_group)"
   ]
  },
  {
   "cell_type": "code",
   "execution_count": 45,
   "metadata": {
    "scrolled": true
   },
   "outputs": [
    {
     "data": {
      "text/html": [
       "<div>\n",
       "<style scoped>\n",
       "    .dataframe tbody tr th:only-of-type {\n",
       "        vertical-align: middle;\n",
       "    }\n",
       "\n",
       "    .dataframe tbody tr th {\n",
       "        vertical-align: top;\n",
       "    }\n",
       "\n",
       "    .dataframe thead th {\n",
       "        text-align: right;\n",
       "    }\n",
       "</style>\n",
       "<table border=\"1\" class=\"dataframe\">\n",
       "  <thead>\n",
       "    <tr style=\"text-align: right;\">\n",
       "      <th></th>\n",
       "      <th>children</th>\n",
       "      <th>days_employed</th>\n",
       "      <th>dob_years</th>\n",
       "      <th>education</th>\n",
       "      <th>education_id</th>\n",
       "      <th>family_status</th>\n",
       "      <th>family_status_id</th>\n",
       "      <th>gender</th>\n",
       "      <th>income_type</th>\n",
       "      <th>debt</th>\n",
       "      <th>total_income</th>\n",
       "      <th>purpose</th>\n",
       "      <th>years_employed</th>\n",
       "      <th>category</th>\n",
       "      <th>children_category</th>\n",
       "    </tr>\n",
       "  </thead>\n",
       "  <tbody>\n",
       "    <tr>\n",
       "      <td>0</td>\n",
       "      <td>1</td>\n",
       "      <td>8437</td>\n",
       "      <td>42</td>\n",
       "      <td>высшее</td>\n",
       "      <td>0</td>\n",
       "      <td>женат / замужем</td>\n",
       "      <td>0</td>\n",
       "      <td>F</td>\n",
       "      <td>сотрудник</td>\n",
       "      <td>0</td>\n",
       "      <td>253875</td>\n",
       "      <td>покупка жилья</td>\n",
       "      <td>23</td>\n",
       "      <td>недвижимость</td>\n",
       "      <td>есть дети</td>\n",
       "    </tr>\n",
       "    <tr>\n",
       "      <td>1</td>\n",
       "      <td>1</td>\n",
       "      <td>4024</td>\n",
       "      <td>36</td>\n",
       "      <td>среднее</td>\n",
       "      <td>1</td>\n",
       "      <td>женат / замужем</td>\n",
       "      <td>0</td>\n",
       "      <td>F</td>\n",
       "      <td>сотрудник</td>\n",
       "      <td>0</td>\n",
       "      <td>112080</td>\n",
       "      <td>приобретение автомобиля</td>\n",
       "      <td>11</td>\n",
       "      <td>автомобиль</td>\n",
       "      <td>есть дети</td>\n",
       "    </tr>\n",
       "    <tr>\n",
       "      <td>2</td>\n",
       "      <td>0</td>\n",
       "      <td>5623</td>\n",
       "      <td>33</td>\n",
       "      <td>среднее</td>\n",
       "      <td>1</td>\n",
       "      <td>женат / замужем</td>\n",
       "      <td>0</td>\n",
       "      <td>M</td>\n",
       "      <td>сотрудник</td>\n",
       "      <td>0</td>\n",
       "      <td>145885</td>\n",
       "      <td>покупка жилья</td>\n",
       "      <td>15</td>\n",
       "      <td>недвижимость</td>\n",
       "      <td>нет детей</td>\n",
       "    </tr>\n",
       "    <tr>\n",
       "      <td>3</td>\n",
       "      <td>3</td>\n",
       "      <td>4124</td>\n",
       "      <td>32</td>\n",
       "      <td>среднее</td>\n",
       "      <td>1</td>\n",
       "      <td>женат / замужем</td>\n",
       "      <td>0</td>\n",
       "      <td>M</td>\n",
       "      <td>сотрудник</td>\n",
       "      <td>0</td>\n",
       "      <td>267628</td>\n",
       "      <td>дополнительное образование</td>\n",
       "      <td>11</td>\n",
       "      <td>образование</td>\n",
       "      <td>есть дети</td>\n",
       "    </tr>\n",
       "    <tr>\n",
       "      <td>4</td>\n",
       "      <td>0</td>\n",
       "      <td>340266</td>\n",
       "      <td>53</td>\n",
       "      <td>среднее</td>\n",
       "      <td>1</td>\n",
       "      <td>гражданский брак</td>\n",
       "      <td>1</td>\n",
       "      <td>F</td>\n",
       "      <td>пенсионер</td>\n",
       "      <td>0</td>\n",
       "      <td>158616</td>\n",
       "      <td>сыграть свадьбу</td>\n",
       "      <td>38</td>\n",
       "      <td>свадьба</td>\n",
       "      <td>нет детей</td>\n",
       "    </tr>\n",
       "    <tr>\n",
       "      <td>5</td>\n",
       "      <td>0</td>\n",
       "      <td>926</td>\n",
       "      <td>27</td>\n",
       "      <td>высшее</td>\n",
       "      <td>0</td>\n",
       "      <td>гражданский брак</td>\n",
       "      <td>1</td>\n",
       "      <td>M</td>\n",
       "      <td>компаньон</td>\n",
       "      <td>0</td>\n",
       "      <td>255763</td>\n",
       "      <td>покупка жилья</td>\n",
       "      <td>2</td>\n",
       "      <td>недвижимость</td>\n",
       "      <td>нет детей</td>\n",
       "    </tr>\n",
       "    <tr>\n",
       "      <td>6</td>\n",
       "      <td>0</td>\n",
       "      <td>2879</td>\n",
       "      <td>43</td>\n",
       "      <td>высшее</td>\n",
       "      <td>0</td>\n",
       "      <td>женат / замужем</td>\n",
       "      <td>0</td>\n",
       "      <td>F</td>\n",
       "      <td>компаньон</td>\n",
       "      <td>0</td>\n",
       "      <td>240525</td>\n",
       "      <td>операции с жильем</td>\n",
       "      <td>7</td>\n",
       "      <td>недвижимость</td>\n",
       "      <td>нет детей</td>\n",
       "    </tr>\n",
       "    <tr>\n",
       "      <td>7</td>\n",
       "      <td>0</td>\n",
       "      <td>152</td>\n",
       "      <td>50</td>\n",
       "      <td>среднее</td>\n",
       "      <td>1</td>\n",
       "      <td>женат / замужем</td>\n",
       "      <td>0</td>\n",
       "      <td>M</td>\n",
       "      <td>сотрудник</td>\n",
       "      <td>0</td>\n",
       "      <td>135823</td>\n",
       "      <td>образование</td>\n",
       "      <td>0</td>\n",
       "      <td>образование</td>\n",
       "      <td>нет детей</td>\n",
       "    </tr>\n",
       "    <tr>\n",
       "      <td>8</td>\n",
       "      <td>2</td>\n",
       "      <td>6929</td>\n",
       "      <td>35</td>\n",
       "      <td>высшее</td>\n",
       "      <td>0</td>\n",
       "      <td>гражданский брак</td>\n",
       "      <td>1</td>\n",
       "      <td>F</td>\n",
       "      <td>сотрудник</td>\n",
       "      <td>0</td>\n",
       "      <td>95856</td>\n",
       "      <td>на проведение свадьбы</td>\n",
       "      <td>18</td>\n",
       "      <td>свадьба</td>\n",
       "      <td>есть дети</td>\n",
       "    </tr>\n",
       "    <tr>\n",
       "      <td>9</td>\n",
       "      <td>0</td>\n",
       "      <td>2188</td>\n",
       "      <td>41</td>\n",
       "      <td>среднее</td>\n",
       "      <td>1</td>\n",
       "      <td>женат / замужем</td>\n",
       "      <td>0</td>\n",
       "      <td>M</td>\n",
       "      <td>сотрудник</td>\n",
       "      <td>0</td>\n",
       "      <td>144425</td>\n",
       "      <td>покупка жилья для семьи</td>\n",
       "      <td>5</td>\n",
       "      <td>недвижимость</td>\n",
       "      <td>нет детей</td>\n",
       "    </tr>\n",
       "  </tbody>\n",
       "</table>\n",
       "</div>"
      ],
      "text/plain": [
       "   children  days_employed  dob_years education  education_id  \\\n",
       "0         1           8437         42    высшее             0   \n",
       "1         1           4024         36   среднее             1   \n",
       "2         0           5623         33   среднее             1   \n",
       "3         3           4124         32   среднее             1   \n",
       "4         0         340266         53   среднее             1   \n",
       "5         0            926         27    высшее             0   \n",
       "6         0           2879         43    высшее             0   \n",
       "7         0            152         50   среднее             1   \n",
       "8         2           6929         35    высшее             0   \n",
       "9         0           2188         41   среднее             1   \n",
       "\n",
       "      family_status  family_status_id gender income_type  debt  total_income  \\\n",
       "0   женат / замужем                 0      F   сотрудник     0        253875   \n",
       "1   женат / замужем                 0      F   сотрудник     0        112080   \n",
       "2   женат / замужем                 0      M   сотрудник     0        145885   \n",
       "3   женат / замужем                 0      M   сотрудник     0        267628   \n",
       "4  гражданский брак                 1      F   пенсионер     0        158616   \n",
       "5  гражданский брак                 1      M   компаньон     0        255763   \n",
       "6   женат / замужем                 0      F   компаньон     0        240525   \n",
       "7   женат / замужем                 0      M   сотрудник     0        135823   \n",
       "8  гражданский брак                 1      F   сотрудник     0         95856   \n",
       "9   женат / замужем                 0      M   сотрудник     0        144425   \n",
       "\n",
       "                      purpose  years_employed      category children_category  \n",
       "0               покупка жилья              23  недвижимость         есть дети  \n",
       "1     приобретение автомобиля              11    автомобиль         есть дети  \n",
       "2               покупка жилья              15  недвижимость         нет детей  \n",
       "3  дополнительное образование              11   образование         есть дети  \n",
       "4             сыграть свадьбу              38       свадьба         нет детей  \n",
       "5               покупка жилья               2  недвижимость         нет детей  \n",
       "6           операции с жильем               7  недвижимость         нет детей  \n",
       "7                 образование               0   образование         нет детей  \n",
       "8       на проведение свадьбы              18       свадьба         есть дети  \n",
       "9     покупка жилья для семьи               5  недвижимость         нет детей  "
      ]
     },
     "execution_count": 45,
     "metadata": {},
     "output_type": "execute_result"
    }
   ],
   "source": [
    "data.head(10)"
   ]
  },
  {
   "cell_type": "code",
   "execution_count": 46,
   "metadata": {},
   "outputs": [
    {
     "data": {
      "text/plain": [
       "нет детей    14091\n",
       "есть дети     7363\n",
       "Name: children_category, dtype: int64"
      ]
     },
     "execution_count": 46,
     "metadata": {},
     "output_type": "execute_result"
    }
   ],
   "source": [
    "data['children_category'].value_counts()"
   ]
  },
  {
   "cell_type": "markdown",
   "metadata": {},
   "source": [
    "Далее разберемся с семейным положением."
   ]
  },
  {
   "cell_type": "code",
   "execution_count": 47,
   "metadata": {},
   "outputs": [
    {
     "data": {
      "text/html": [
       "<div>\n",
       "<style scoped>\n",
       "    .dataframe tbody tr th:only-of-type {\n",
       "        vertical-align: middle;\n",
       "    }\n",
       "\n",
       "    .dataframe tbody tr th {\n",
       "        vertical-align: top;\n",
       "    }\n",
       "\n",
       "    .dataframe thead th {\n",
       "        text-align: right;\n",
       "    }\n",
       "</style>\n",
       "<table border=\"1\" class=\"dataframe\">\n",
       "  <thead>\n",
       "    <tr style=\"text-align: right;\">\n",
       "      <th></th>\n",
       "      <th>family_status</th>\n",
       "    </tr>\n",
       "  </thead>\n",
       "  <tbody>\n",
       "    <tr>\n",
       "      <td>0</td>\n",
       "      <td>женат / замужем</td>\n",
       "    </tr>\n",
       "    <tr>\n",
       "      <td>4</td>\n",
       "      <td>гражданский брак</td>\n",
       "    </tr>\n",
       "    <tr>\n",
       "      <td>18</td>\n",
       "      <td>вдовец / вдова</td>\n",
       "    </tr>\n",
       "    <tr>\n",
       "      <td>19</td>\n",
       "      <td>в разводе</td>\n",
       "    </tr>\n",
       "    <tr>\n",
       "      <td>24</td>\n",
       "      <td>Не женат / не замужем</td>\n",
       "    </tr>\n",
       "  </tbody>\n",
       "</table>\n",
       "</div>"
      ],
      "text/plain": [
       "            family_status\n",
       "0         женат / замужем\n",
       "4        гражданский брак\n",
       "18         вдовец / вдова\n",
       "19              в разводе\n",
       "24  Не женат / не замужем"
      ]
     },
     "execution_count": 47,
     "metadata": {},
     "output_type": "execute_result"
    }
   ],
   "source": [
    "data[['family_status']].drop_duplicates()"
   ]
  },
  {
   "cell_type": "code",
   "execution_count": 48,
   "metadata": {},
   "outputs": [
    {
     "data": {
      "text/plain": [
       "женат / замужем          12339\n",
       "гражданский брак          4151\n",
       "Не женат / не замужем     2810\n",
       "в разводе                 1195\n",
       "вдовец / вдова             959\n",
       "Name: family_status, dtype: int64"
      ]
     },
     "execution_count": 48,
     "metadata": {},
     "output_type": "execute_result"
    }
   ],
   "source": [
    "data['family_status'].value_counts()"
   ]
  },
  {
   "cell_type": "markdown",
   "metadata": {},
   "source": [
    "Далее поработаем с уровнем дохода"
   ]
  },
  {
   "cell_type": "code",
   "execution_count": 50,
   "metadata": {},
   "outputs": [
    {
     "data": {
      "text/plain": [
       "0.25    107623.00\n",
       "0.50    145017.00\n",
       "0.75    195813.25\n",
       "Name: total_income, dtype: float64"
      ]
     },
     "execution_count": 50,
     "metadata": {},
     "output_type": "execute_result"
    }
   ],
   "source": [
    "#Поделим данные на 4 квартиля\n",
    "data['total_income'].quantile([0.25,0.5,0.75])"
   ]
  },
  {
   "cell_type": "code",
   "execution_count": 51,
   "metadata": {},
   "outputs": [],
   "source": [
    "# создадим функцию для 4 уровней дохода\n",
    "def incone_groupe(total_income):\n",
    "    if total_income <=107623:\n",
    "        return 'низкий доход'\n",
    "    if total_income <= 145017:\n",
    "        return 'средний доход'\n",
    "    if total_income <= 195813:\n",
    "        return 'высокий доход'\n",
    "    return 'очень высокий доход'\n",
    "\n",
    "data['income_categoraze'] = data['total_income'].apply(incone_groupe)"
   ]
  },
  {
   "cell_type": "code",
   "execution_count": 52,
   "metadata": {
    "scrolled": true
   },
   "outputs": [
    {
     "data": {
      "text/html": [
       "<div>\n",
       "<style scoped>\n",
       "    .dataframe tbody tr th:only-of-type {\n",
       "        vertical-align: middle;\n",
       "    }\n",
       "\n",
       "    .dataframe tbody tr th {\n",
       "        vertical-align: top;\n",
       "    }\n",
       "\n",
       "    .dataframe thead th {\n",
       "        text-align: right;\n",
       "    }\n",
       "</style>\n",
       "<table border=\"1\" class=\"dataframe\">\n",
       "  <thead>\n",
       "    <tr style=\"text-align: right;\">\n",
       "      <th></th>\n",
       "      <th>children</th>\n",
       "      <th>days_employed</th>\n",
       "      <th>dob_years</th>\n",
       "      <th>education</th>\n",
       "      <th>education_id</th>\n",
       "      <th>family_status</th>\n",
       "      <th>family_status_id</th>\n",
       "      <th>gender</th>\n",
       "      <th>income_type</th>\n",
       "      <th>debt</th>\n",
       "      <th>total_income</th>\n",
       "      <th>purpose</th>\n",
       "      <th>years_employed</th>\n",
       "      <th>category</th>\n",
       "      <th>children_category</th>\n",
       "      <th>income_categoraze</th>\n",
       "    </tr>\n",
       "  </thead>\n",
       "  <tbody>\n",
       "    <tr>\n",
       "      <td>0</td>\n",
       "      <td>1</td>\n",
       "      <td>8437</td>\n",
       "      <td>42</td>\n",
       "      <td>высшее</td>\n",
       "      <td>0</td>\n",
       "      <td>женат / замужем</td>\n",
       "      <td>0</td>\n",
       "      <td>F</td>\n",
       "      <td>сотрудник</td>\n",
       "      <td>0</td>\n",
       "      <td>253875</td>\n",
       "      <td>покупка жилья</td>\n",
       "      <td>23</td>\n",
       "      <td>недвижимость</td>\n",
       "      <td>есть дети</td>\n",
       "      <td>очень высокий доход</td>\n",
       "    </tr>\n",
       "    <tr>\n",
       "      <td>1</td>\n",
       "      <td>1</td>\n",
       "      <td>4024</td>\n",
       "      <td>36</td>\n",
       "      <td>среднее</td>\n",
       "      <td>1</td>\n",
       "      <td>женат / замужем</td>\n",
       "      <td>0</td>\n",
       "      <td>F</td>\n",
       "      <td>сотрудник</td>\n",
       "      <td>0</td>\n",
       "      <td>112080</td>\n",
       "      <td>приобретение автомобиля</td>\n",
       "      <td>11</td>\n",
       "      <td>автомобиль</td>\n",
       "      <td>есть дети</td>\n",
       "      <td>средний доход</td>\n",
       "    </tr>\n",
       "    <tr>\n",
       "      <td>2</td>\n",
       "      <td>0</td>\n",
       "      <td>5623</td>\n",
       "      <td>33</td>\n",
       "      <td>среднее</td>\n",
       "      <td>1</td>\n",
       "      <td>женат / замужем</td>\n",
       "      <td>0</td>\n",
       "      <td>M</td>\n",
       "      <td>сотрудник</td>\n",
       "      <td>0</td>\n",
       "      <td>145885</td>\n",
       "      <td>покупка жилья</td>\n",
       "      <td>15</td>\n",
       "      <td>недвижимость</td>\n",
       "      <td>нет детей</td>\n",
       "      <td>высокий доход</td>\n",
       "    </tr>\n",
       "    <tr>\n",
       "      <td>3</td>\n",
       "      <td>3</td>\n",
       "      <td>4124</td>\n",
       "      <td>32</td>\n",
       "      <td>среднее</td>\n",
       "      <td>1</td>\n",
       "      <td>женат / замужем</td>\n",
       "      <td>0</td>\n",
       "      <td>M</td>\n",
       "      <td>сотрудник</td>\n",
       "      <td>0</td>\n",
       "      <td>267628</td>\n",
       "      <td>дополнительное образование</td>\n",
       "      <td>11</td>\n",
       "      <td>образование</td>\n",
       "      <td>есть дети</td>\n",
       "      <td>очень высокий доход</td>\n",
       "    </tr>\n",
       "    <tr>\n",
       "      <td>4</td>\n",
       "      <td>0</td>\n",
       "      <td>340266</td>\n",
       "      <td>53</td>\n",
       "      <td>среднее</td>\n",
       "      <td>1</td>\n",
       "      <td>гражданский брак</td>\n",
       "      <td>1</td>\n",
       "      <td>F</td>\n",
       "      <td>пенсионер</td>\n",
       "      <td>0</td>\n",
       "      <td>158616</td>\n",
       "      <td>сыграть свадьбу</td>\n",
       "      <td>38</td>\n",
       "      <td>свадьба</td>\n",
       "      <td>нет детей</td>\n",
       "      <td>высокий доход</td>\n",
       "    </tr>\n",
       "    <tr>\n",
       "      <td>5</td>\n",
       "      <td>0</td>\n",
       "      <td>926</td>\n",
       "      <td>27</td>\n",
       "      <td>высшее</td>\n",
       "      <td>0</td>\n",
       "      <td>гражданский брак</td>\n",
       "      <td>1</td>\n",
       "      <td>M</td>\n",
       "      <td>компаньон</td>\n",
       "      <td>0</td>\n",
       "      <td>255763</td>\n",
       "      <td>покупка жилья</td>\n",
       "      <td>2</td>\n",
       "      <td>недвижимость</td>\n",
       "      <td>нет детей</td>\n",
       "      <td>очень высокий доход</td>\n",
       "    </tr>\n",
       "    <tr>\n",
       "      <td>6</td>\n",
       "      <td>0</td>\n",
       "      <td>2879</td>\n",
       "      <td>43</td>\n",
       "      <td>высшее</td>\n",
       "      <td>0</td>\n",
       "      <td>женат / замужем</td>\n",
       "      <td>0</td>\n",
       "      <td>F</td>\n",
       "      <td>компаньон</td>\n",
       "      <td>0</td>\n",
       "      <td>240525</td>\n",
       "      <td>операции с жильем</td>\n",
       "      <td>7</td>\n",
       "      <td>недвижимость</td>\n",
       "      <td>нет детей</td>\n",
       "      <td>очень высокий доход</td>\n",
       "    </tr>\n",
       "    <tr>\n",
       "      <td>7</td>\n",
       "      <td>0</td>\n",
       "      <td>152</td>\n",
       "      <td>50</td>\n",
       "      <td>среднее</td>\n",
       "      <td>1</td>\n",
       "      <td>женат / замужем</td>\n",
       "      <td>0</td>\n",
       "      <td>M</td>\n",
       "      <td>сотрудник</td>\n",
       "      <td>0</td>\n",
       "      <td>135823</td>\n",
       "      <td>образование</td>\n",
       "      <td>0</td>\n",
       "      <td>образование</td>\n",
       "      <td>нет детей</td>\n",
       "      <td>средний доход</td>\n",
       "    </tr>\n",
       "    <tr>\n",
       "      <td>8</td>\n",
       "      <td>2</td>\n",
       "      <td>6929</td>\n",
       "      <td>35</td>\n",
       "      <td>высшее</td>\n",
       "      <td>0</td>\n",
       "      <td>гражданский брак</td>\n",
       "      <td>1</td>\n",
       "      <td>F</td>\n",
       "      <td>сотрудник</td>\n",
       "      <td>0</td>\n",
       "      <td>95856</td>\n",
       "      <td>на проведение свадьбы</td>\n",
       "      <td>18</td>\n",
       "      <td>свадьба</td>\n",
       "      <td>есть дети</td>\n",
       "      <td>низкий доход</td>\n",
       "    </tr>\n",
       "    <tr>\n",
       "      <td>9</td>\n",
       "      <td>0</td>\n",
       "      <td>2188</td>\n",
       "      <td>41</td>\n",
       "      <td>среднее</td>\n",
       "      <td>1</td>\n",
       "      <td>женат / замужем</td>\n",
       "      <td>0</td>\n",
       "      <td>M</td>\n",
       "      <td>сотрудник</td>\n",
       "      <td>0</td>\n",
       "      <td>144425</td>\n",
       "      <td>покупка жилья для семьи</td>\n",
       "      <td>5</td>\n",
       "      <td>недвижимость</td>\n",
       "      <td>нет детей</td>\n",
       "      <td>средний доход</td>\n",
       "    </tr>\n",
       "  </tbody>\n",
       "</table>\n",
       "</div>"
      ],
      "text/plain": [
       "   children  days_employed  dob_years education  education_id  \\\n",
       "0         1           8437         42    высшее             0   \n",
       "1         1           4024         36   среднее             1   \n",
       "2         0           5623         33   среднее             1   \n",
       "3         3           4124         32   среднее             1   \n",
       "4         0         340266         53   среднее             1   \n",
       "5         0            926         27    высшее             0   \n",
       "6         0           2879         43    высшее             0   \n",
       "7         0            152         50   среднее             1   \n",
       "8         2           6929         35    высшее             0   \n",
       "9         0           2188         41   среднее             1   \n",
       "\n",
       "      family_status  family_status_id gender income_type  debt  total_income  \\\n",
       "0   женат / замужем                 0      F   сотрудник     0        253875   \n",
       "1   женат / замужем                 0      F   сотрудник     0        112080   \n",
       "2   женат / замужем                 0      M   сотрудник     0        145885   \n",
       "3   женат / замужем                 0      M   сотрудник     0        267628   \n",
       "4  гражданский брак                 1      F   пенсионер     0        158616   \n",
       "5  гражданский брак                 1      M   компаньон     0        255763   \n",
       "6   женат / замужем                 0      F   компаньон     0        240525   \n",
       "7   женат / замужем                 0      M   сотрудник     0        135823   \n",
       "8  гражданский брак                 1      F   сотрудник     0         95856   \n",
       "9   женат / замужем                 0      M   сотрудник     0        144425   \n",
       "\n",
       "                      purpose  years_employed      category children_category  \\\n",
       "0               покупка жилья              23  недвижимость         есть дети   \n",
       "1     приобретение автомобиля              11    автомобиль         есть дети   \n",
       "2               покупка жилья              15  недвижимость         нет детей   \n",
       "3  дополнительное образование              11   образование         есть дети   \n",
       "4             сыграть свадьбу              38       свадьба         нет детей   \n",
       "5               покупка жилья               2  недвижимость         нет детей   \n",
       "6           операции с жильем               7  недвижимость         нет детей   \n",
       "7                 образование               0   образование         нет детей   \n",
       "8       на проведение свадьбы              18       свадьба         есть дети   \n",
       "9     покупка жилья для семьи               5  недвижимость         нет детей   \n",
       "\n",
       "     income_categoraze  \n",
       "0  очень высокий доход  \n",
       "1        средний доход  \n",
       "2        высокий доход  \n",
       "3  очень высокий доход  \n",
       "4        высокий доход  \n",
       "5  очень высокий доход  \n",
       "6  очень высокий доход  \n",
       "7        средний доход  \n",
       "8         низкий доход  \n",
       "9        средний доход  "
      ]
     },
     "execution_count": 52,
     "metadata": {},
     "output_type": "execute_result"
    }
   ],
   "source": [
    "data.head(10)"
   ]
  },
  {
   "cell_type": "code",
   "execution_count": 53,
   "metadata": {},
   "outputs": [
    {
     "data": {
      "text/plain": [
       "средний доход          6415\n",
       "очень высокий доход    5364\n",
       "низкий доход           5364\n",
       "высокий доход          4311\n",
       "Name: income_categoraze, dtype: int64"
      ]
     },
     "execution_count": 53,
     "metadata": {},
     "output_type": "execute_result"
    }
   ],
   "source": [
    "data['income_categoraze'].value_counts()"
   ]
  },
  {
   "cell_type": "markdown",
   "metadata": {},
   "source": [
    "Категоризация цели кредита была сделана ранее - это сктолбец category."
   ]
  },
  {
   "cell_type": "markdown",
   "metadata": {},
   "source": [
    "Теперь посмотрим на debt"
   ]
  },
  {
   "cell_type": "code",
   "execution_count": 54,
   "metadata": {},
   "outputs": [
    {
     "data": {
      "text/html": [
       "<div>\n",
       "<style scoped>\n",
       "    .dataframe tbody tr th:only-of-type {\n",
       "        vertical-align: middle;\n",
       "    }\n",
       "\n",
       "    .dataframe tbody tr th {\n",
       "        vertical-align: top;\n",
       "    }\n",
       "\n",
       "    .dataframe thead th {\n",
       "        text-align: right;\n",
       "    }\n",
       "</style>\n",
       "<table border=\"1\" class=\"dataframe\">\n",
       "  <thead>\n",
       "    <tr style=\"text-align: right;\">\n",
       "      <th></th>\n",
       "      <th>debt</th>\n",
       "    </tr>\n",
       "  </thead>\n",
       "  <tbody>\n",
       "    <tr>\n",
       "      <td>0</td>\n",
       "      <td>0</td>\n",
       "    </tr>\n",
       "    <tr>\n",
       "      <td>14</td>\n",
       "      <td>1</td>\n",
       "    </tr>\n",
       "  </tbody>\n",
       "</table>\n",
       "</div>"
      ],
      "text/plain": [
       "    debt\n",
       "0      0\n",
       "14     1"
      ]
     },
     "execution_count": 54,
     "metadata": {},
     "output_type": "execute_result"
    }
   ],
   "source": [
    "data[['debt']].drop_duplicates()"
   ]
  },
  {
   "cell_type": "markdown",
   "metadata": {},
   "source": [
    "Хорошо,тут тоже все понятно 0 - нет задолжностей, 1 - есть."
   ]
  },
  {
   "cell_type": "markdown",
   "metadata": {},
   "source": [
    "**Вывод**"
   ]
  },
  {
   "cell_type": "markdown",
   "metadata": {},
   "source": [
    "Категоризация была сделана по необходимым для ответа на вопросы столбцам: дети, уровень дохода, семейное положение и уровень дохода и задолжности."
   ]
  },
  {
   "cell_type": "markdown",
   "metadata": {},
   "source": [
    "## Шаг 3. Ответьте на вопросы"
   ]
  },
  {
   "cell_type": "markdown",
   "metadata": {},
   "source": [
    "- Есть ли зависимость между наличием детей и возвратом кредита в срок?"
   ]
  },
  {
   "cell_type": "code",
   "execution_count": 55,
   "metadata": {},
   "outputs": [
    {
     "data": {
      "text/html": [
       "<div>\n",
       "<style scoped>\n",
       "    .dataframe tbody tr th:only-of-type {\n",
       "        vertical-align: middle;\n",
       "    }\n",
       "\n",
       "    .dataframe tbody tr th {\n",
       "        vertical-align: top;\n",
       "    }\n",
       "\n",
       "    .dataframe thead th {\n",
       "        text-align: right;\n",
       "    }\n",
       "</style>\n",
       "<table border=\"1\" class=\"dataframe\">\n",
       "  <thead>\n",
       "    <tr style=\"text-align: right;\">\n",
       "      <th></th>\n",
       "      <th>debt_no</th>\n",
       "      <th>debt_yes</th>\n",
       "      <th>percents</th>\n",
       "    </tr>\n",
       "    <tr>\n",
       "      <th>children_category</th>\n",
       "      <th></th>\n",
       "      <th></th>\n",
       "      <th></th>\n",
       "    </tr>\n",
       "  </thead>\n",
       "  <tbody>\n",
       "    <tr>\n",
       "      <td>есть дети</td>\n",
       "      <td>6685</td>\n",
       "      <td>678</td>\n",
       "      <td>9.208203</td>\n",
       "    </tr>\n",
       "    <tr>\n",
       "      <td>нет детей</td>\n",
       "      <td>13028</td>\n",
       "      <td>1063</td>\n",
       "      <td>7.543822</td>\n",
       "    </tr>\n",
       "  </tbody>\n",
       "</table>\n",
       "</div>"
      ],
      "text/plain": [
       "                   debt_no  debt_yes  percents\n",
       "children_category                             \n",
       "есть дети             6685       678  9.208203\n",
       "нет детей            13028      1063  7.543822"
      ]
     },
     "metadata": {},
     "output_type": "display_data"
    }
   ],
   "source": [
    "children_debt = data.pivot_table(index = 'children_category', columns = 'debt', values = 'total_income', aggfunc = 'count')\n",
    "children_debt.set_axis(['debt_no', 'debt_yes'], axis = 1, inplace = True)\n",
    "children_debt['percents'] = (children_debt['debt_yes'] / (children_debt['debt_yes'] + children_debt['debt_no'])) * 100\n",
    "children_debt.style.format({'percents':'{:.1%}'})\n",
    "children_debt = children_debt.sort_values(by = 'percents', ascending = False)\n",
    "display(children_debt)"
   ]
  },
  {
   "cell_type": "markdown",
   "metadata": {},
   "source": [
    "**Вывод**"
   ]
  },
  {
   "cell_type": "markdown",
   "metadata": {},
   "source": [
    "У 9% клиентов с детьми есть проблемы с возвратом кредитов, в то время, как у клиентов без - всего 7%. "
   ]
  },
  {
   "cell_type": "markdown",
   "metadata": {},
   "source": [
    "- Есть ли зависимость между семейным положением и возвратом кредита в срок?"
   ]
  },
  {
   "cell_type": "code",
   "execution_count": 56,
   "metadata": {},
   "outputs": [
    {
     "data": {
      "text/html": [
       "<div>\n",
       "<style scoped>\n",
       "    .dataframe tbody tr th:only-of-type {\n",
       "        vertical-align: middle;\n",
       "    }\n",
       "\n",
       "    .dataframe tbody tr th {\n",
       "        vertical-align: top;\n",
       "    }\n",
       "\n",
       "    .dataframe thead th {\n",
       "        text-align: right;\n",
       "    }\n",
       "</style>\n",
       "<table border=\"1\" class=\"dataframe\">\n",
       "  <thead>\n",
       "    <tr style=\"text-align: right;\">\n",
       "      <th></th>\n",
       "      <th>debt_no</th>\n",
       "      <th>debt_yes</th>\n",
       "      <th>percents</th>\n",
       "    </tr>\n",
       "    <tr>\n",
       "      <th>family_status</th>\n",
       "      <th></th>\n",
       "      <th></th>\n",
       "      <th></th>\n",
       "    </tr>\n",
       "  </thead>\n",
       "  <tbody>\n",
       "    <tr>\n",
       "      <td>Не женат / не замужем</td>\n",
       "      <td>2536</td>\n",
       "      <td>274</td>\n",
       "      <td>9.750890</td>\n",
       "    </tr>\n",
       "    <tr>\n",
       "      <td>гражданский брак</td>\n",
       "      <td>3763</td>\n",
       "      <td>388</td>\n",
       "      <td>9.347145</td>\n",
       "    </tr>\n",
       "    <tr>\n",
       "      <td>женат / замужем</td>\n",
       "      <td>11408</td>\n",
       "      <td>931</td>\n",
       "      <td>7.545182</td>\n",
       "    </tr>\n",
       "    <tr>\n",
       "      <td>в разводе</td>\n",
       "      <td>1110</td>\n",
       "      <td>85</td>\n",
       "      <td>7.112971</td>\n",
       "    </tr>\n",
       "    <tr>\n",
       "      <td>вдовец / вдова</td>\n",
       "      <td>896</td>\n",
       "      <td>63</td>\n",
       "      <td>6.569343</td>\n",
       "    </tr>\n",
       "  </tbody>\n",
       "</table>\n",
       "</div>"
      ],
      "text/plain": [
       "                       debt_no  debt_yes  percents\n",
       "family_status                                     \n",
       "Не женат / не замужем     2536       274  9.750890\n",
       "гражданский брак          3763       388  9.347145\n",
       "женат / замужем          11408       931  7.545182\n",
       "в разводе                 1110        85  7.112971\n",
       "вдовец / вдова             896        63  6.569343"
      ]
     },
     "metadata": {},
     "output_type": "display_data"
    }
   ],
   "source": [
    "family_debt = data.pivot_table(index = 'family_status', columns = 'debt', values = 'total_income', aggfunc = 'count')\n",
    "family_debt.set_axis(['debt_no', 'debt_yes'], axis = 1, inplace = True)\n",
    "family_debt['percents'] = (family_debt['debt_yes'] / (family_debt['debt_yes'] + family_debt['debt_no'])) * 100\n",
    "family_debt = family_debt.sort_values(by = 'percents', ascending = False)\n",
    "display(family_debt)"
   ]
  },
  {
   "cell_type": "markdown",
   "metadata": {},
   "source": [
    "**Вывод**"
   ]
  },
  {
   "cell_type": "markdown",
   "metadata": {},
   "source": [
    "Почти у 10% (9,75%) не состоящих в браке клиентов имели задолжности, немногим меньше 9,34% у клиентов в гражданском браке. Штамп в паспорте улучшает ситуацию на 2%, всего 7,5% семейных клиентов имеют задолжности. У людей в разводе еще меньше - 7,11%. Вдовцы возвращают кредиты лучше всех. По этой статистике я бы спокойно выдавала кредиты на свадьбу))) посмотрим,что будет дальше."
   ]
  },
  {
   "cell_type": "markdown",
   "metadata": {},
   "source": [
    "- Есть ли зависимость между уровнем дохода и возвратом кредита в срок?"
   ]
  },
  {
   "cell_type": "code",
   "execution_count": 57,
   "metadata": {},
   "outputs": [
    {
     "data": {
      "text/html": [
       "<div>\n",
       "<style scoped>\n",
       "    .dataframe tbody tr th:only-of-type {\n",
       "        vertical-align: middle;\n",
       "    }\n",
       "\n",
       "    .dataframe tbody tr th {\n",
       "        vertical-align: top;\n",
       "    }\n",
       "\n",
       "    .dataframe thead th {\n",
       "        text-align: right;\n",
       "    }\n",
       "</style>\n",
       "<table border=\"1\" class=\"dataframe\">\n",
       "  <thead>\n",
       "    <tr style=\"text-align: right;\">\n",
       "      <th></th>\n",
       "      <th>debt_no</th>\n",
       "      <th>debt_yes</th>\n",
       "      <th>percents</th>\n",
       "    </tr>\n",
       "    <tr>\n",
       "      <th>income_categoraze</th>\n",
       "      <th></th>\n",
       "      <th></th>\n",
       "      <th></th>\n",
       "    </tr>\n",
       "  </thead>\n",
       "  <tbody>\n",
       "    <tr>\n",
       "      <td>высокий доход</td>\n",
       "      <td>3927</td>\n",
       "      <td>384</td>\n",
       "      <td>8.907446</td>\n",
       "    </tr>\n",
       "    <tr>\n",
       "      <td>средний доход</td>\n",
       "      <td>5868</td>\n",
       "      <td>547</td>\n",
       "      <td>8.526890</td>\n",
       "    </tr>\n",
       "    <tr>\n",
       "      <td>низкий доход</td>\n",
       "      <td>4937</td>\n",
       "      <td>427</td>\n",
       "      <td>7.960477</td>\n",
       "    </tr>\n",
       "    <tr>\n",
       "      <td>очень высокий доход</td>\n",
       "      <td>4981</td>\n",
       "      <td>383</td>\n",
       "      <td>7.140194</td>\n",
       "    </tr>\n",
       "  </tbody>\n",
       "</table>\n",
       "</div>"
      ],
      "text/plain": [
       "                     debt_no  debt_yes  percents\n",
       "income_categoraze                               \n",
       "высокий доход           3927       384  8.907446\n",
       "средний доход           5868       547  8.526890\n",
       "низкий доход            4937       427  7.960477\n",
       "очень высокий доход     4981       383  7.140194"
      ]
     },
     "metadata": {},
     "output_type": "display_data"
    }
   ],
   "source": [
    "income_debt = data.pivot_table(index = 'income_categoraze', columns = 'debt', values = 'total_income', aggfunc = 'count')\n",
    "income_debt.set_axis(['debt_no', 'debt_yes'], axis = 1, inplace = True)\n",
    "income_debt['percents'] = (income_debt['debt_yes'] / (income_debt['debt_yes'] + income_debt['debt_no'])) * 100\n",
    "income_debt = income_debt.sort_values(by = 'percents', ascending = False)\n",
    "display(income_debt)"
   ]
  },
  {
   "cell_type": "markdown",
   "metadata": {},
   "source": [
    "**Вывод**"
   ]
  },
  {
   "cell_type": "markdown",
   "metadata": {},
   "source": [
    "А вот тут неожиданно! Люди с высоким и средним доходом имели задолжости в 8.9% и 8.5% соответсвенно. Люди с низким доходом выплачивают лучше, у них задолжности имели только 7,9%. У людей с очень высоким доходом все лучше, только у 7,1% были проблемы с погашением кредита. "
   ]
  },
  {
   "cell_type": "markdown",
   "metadata": {},
   "source": [
    "- Как разные цели кредита влияют на его возврат в срок?"
   ]
  },
  {
   "cell_type": "code",
   "execution_count": 58,
   "metadata": {},
   "outputs": [
    {
     "data": {
      "text/html": [
       "<div>\n",
       "<style scoped>\n",
       "    .dataframe tbody tr th:only-of-type {\n",
       "        vertical-align: middle;\n",
       "    }\n",
       "\n",
       "    .dataframe tbody tr th {\n",
       "        vertical-align: top;\n",
       "    }\n",
       "\n",
       "    .dataframe thead th {\n",
       "        text-align: right;\n",
       "    }\n",
       "</style>\n",
       "<table border=\"1\" class=\"dataframe\">\n",
       "  <thead>\n",
       "    <tr style=\"text-align: right;\">\n",
       "      <th></th>\n",
       "      <th>debt_no</th>\n",
       "      <th>debt_yes</th>\n",
       "      <th>percents</th>\n",
       "    </tr>\n",
       "    <tr>\n",
       "      <th>category</th>\n",
       "      <th></th>\n",
       "      <th></th>\n",
       "      <th></th>\n",
       "    </tr>\n",
       "  </thead>\n",
       "  <tbody>\n",
       "    <tr>\n",
       "      <td>автомобиль</td>\n",
       "      <td>3903</td>\n",
       "      <td>403</td>\n",
       "      <td>9.359034</td>\n",
       "    </tr>\n",
       "    <tr>\n",
       "      <td>образование</td>\n",
       "      <td>3643</td>\n",
       "      <td>370</td>\n",
       "      <td>9.220035</td>\n",
       "    </tr>\n",
       "    <tr>\n",
       "      <td>свадьба</td>\n",
       "      <td>2138</td>\n",
       "      <td>186</td>\n",
       "      <td>8.003442</td>\n",
       "    </tr>\n",
       "    <tr>\n",
       "      <td>недвижимость</td>\n",
       "      <td>10029</td>\n",
       "      <td>782</td>\n",
       "      <td>7.233373</td>\n",
       "    </tr>\n",
       "  </tbody>\n",
       "</table>\n",
       "</div>"
      ],
      "text/plain": [
       "              debt_no  debt_yes  percents\n",
       "category                                 \n",
       "автомобиль       3903       403  9.359034\n",
       "образование      3643       370  9.220035\n",
       "свадьба          2138       186  8.003442\n",
       "недвижимость    10029       782  7.233373"
      ]
     },
     "metadata": {},
     "output_type": "display_data"
    }
   ],
   "source": [
    "category_debt = data.pivot_table(index = 'category', columns = 'debt', values = 'total_income', aggfunc = 'count')\n",
    "category_debt.set_axis(['debt_no', 'debt_yes'], axis = 1, inplace = True)\n",
    "category_debt['percents'] = (category_debt['debt_yes'] / (category_debt['debt_yes'] + category_debt['debt_no'])) * 100\n",
    "category_debt = category_debt.sort_values(by = 'percents', ascending = False)\n",
    "display(category_debt)"
   ]
  },
  {
   "cell_type": "markdown",
   "metadata": {},
   "source": [
    "**Вывод**"
   ]
  },
  {
   "cell_type": "markdown",
   "metadata": {},
   "source": [
    "Кредиты на автомобили и образование берут почти одинаковое кол-во раз и так же очень похоже их выплачивают(одинаково плохо))) 9,3% заемщиков имеют проблемы с выплатами кредитов на автомобили и 9,2% - на образование. На свадьбу выплачивают лучше, всего 8% имели задолжности. На недвижимость кредитов берут больше, чем на другие категории вместе взятые - и выплачивают также лучше, только 7,2% имели задолжности."
   ]
  },
  {
   "cell_type": "markdown",
   "metadata": {},
   "source": [
    "## Шаг 4. Общий вывод"
   ]
  },
  {
   "cell_type": "markdown",
   "metadata": {},
   "source": [
    "При исследовании были сделаны как очевидные, так и неочевидные выводы.\n",
    "К очевидным можно отнести то, что заемщики с детьми хуже возвращают кредит, ведь на детей уходит завидная часть бютжета.\n",
    "Из неочевидных - это то, что клиенты с высоким и средним уровнем дохода хуже всего возвращают кредиты.\n",
    "Кредиты на недвижимость выглядят самыми привлекательными для банка: их берут больше всего и лучше всего возвращают. \n",
    "Заемщики, состоящие в браке, ответсвеннее возвращают заем в отличие от тех, кто не состоит в браке, видимо совместный бютжет проще распланировать. "
   ]
  }
 ],
 "metadata": {
  "ExecuteTimeLog": [
   {
    "duration": 823,
    "start_time": "2021-12-24T18:00:24.474Z"
   },
   {
    "duration": 667,
    "start_time": "2021-12-24T18:00:42.842Z"
   },
   {
    "duration": 60,
    "start_time": "2021-12-24T18:01:00.529Z"
   },
   {
    "duration": 56,
    "start_time": "2021-12-24T18:02:07.695Z"
   },
   {
    "duration": 57,
    "start_time": "2021-12-24T18:17:10.441Z"
   },
   {
    "duration": 59,
    "start_time": "2021-12-24T18:20:39.814Z"
   },
   {
    "duration": 57,
    "start_time": "2021-12-24T18:21:13.836Z"
   },
   {
    "duration": 56,
    "start_time": "2021-12-24T18:21:33.899Z"
   },
   {
    "duration": 63,
    "start_time": "2021-12-24T18:21:52.153Z"
   },
   {
    "duration": 62,
    "start_time": "2021-12-24T18:22:49.059Z"
   },
   {
    "duration": 55,
    "start_time": "2021-12-24T18:25:42.786Z"
   },
   {
    "duration": 63,
    "start_time": "2021-12-24T18:33:36.952Z"
   },
   {
    "duration": 62,
    "start_time": "2021-12-24T18:33:57.497Z"
   },
   {
    "duration": 59,
    "start_time": "2021-12-24T18:35:23.940Z"
   },
   {
    "duration": 68,
    "start_time": "2021-12-24T18:37:49.000Z"
   },
   {
    "duration": 59,
    "start_time": "2021-12-24T18:38:06.638Z"
   },
   {
    "duration": 657,
    "start_time": "2021-12-26T09:54:55.324Z"
   },
   {
    "duration": 68,
    "start_time": "2021-12-26T09:55:20.483Z"
   },
   {
    "duration": 11,
    "start_time": "2021-12-26T09:55:43.850Z"
   },
   {
    "duration": 394,
    "start_time": "2021-12-28T08:18:37.363Z"
   },
   {
    "duration": 297,
    "start_time": "2021-12-28T08:18:44.532Z"
   },
   {
    "duration": 323,
    "start_time": "2021-12-28T08:19:21.901Z"
   },
   {
    "duration": 450,
    "start_time": "2021-12-28T08:19:36.022Z"
   },
   {
    "duration": 836,
    "start_time": "2021-12-28T08:19:45.320Z"
   },
   {
    "duration": 15,
    "start_time": "2021-12-28T08:19:46.159Z"
   },
   {
    "duration": 69,
    "start_time": "2021-12-28T08:19:46.177Z"
   },
   {
    "duration": 306,
    "start_time": "2022-01-06T16:20:37.761Z"
   },
   {
    "duration": 821,
    "start_time": "2022-01-06T16:20:50.190Z"
   },
   {
    "duration": 20,
    "start_time": "2022-01-06T16:20:51.015Z"
   },
   {
    "duration": 36,
    "start_time": "2022-01-06T16:20:51.037Z"
   },
   {
    "duration": 48,
    "start_time": "2022-01-06T16:20:51.075Z"
   },
   {
    "duration": 125,
    "start_time": "2022-01-06T19:09:02.448Z"
   },
   {
    "duration": 598,
    "start_time": "2022-01-06T19:09:29.728Z"
   },
   {
    "duration": 861,
    "start_time": "2022-01-06T19:09:40.496Z"
   },
   {
    "duration": 25,
    "start_time": "2022-01-06T19:09:41.360Z"
   },
   {
    "duration": 17,
    "start_time": "2022-01-06T19:09:41.387Z"
   },
   {
    "duration": 78,
    "start_time": "2022-01-06T19:09:41.406Z"
   },
   {
    "duration": 10436,
    "start_time": "2022-01-06T19:09:41.487Z"
   },
   {
    "duration": 8,
    "start_time": "2022-01-06T19:10:23.671Z"
   },
   {
    "duration": 115,
    "start_time": "2022-01-06T19:10:39.298Z"
   },
   {
    "duration": 105,
    "start_time": "2022-01-06T19:10:49.231Z"
   },
   {
    "duration": 7,
    "start_time": "2022-01-06T19:11:30.197Z"
   },
   {
    "duration": 122,
    "start_time": "2022-01-06T19:11:41.521Z"
   },
   {
    "duration": 8,
    "start_time": "2022-01-06T19:12:08.971Z"
   },
   {
    "duration": 13,
    "start_time": "2022-01-06T19:15:04.921Z"
   },
   {
    "duration": 14,
    "start_time": "2022-01-06T19:19:45.381Z"
   },
   {
    "duration": 8,
    "start_time": "2022-01-06T19:20:28.822Z"
   },
   {
    "duration": 13,
    "start_time": "2022-01-06T19:20:48.599Z"
   },
   {
    "duration": 13,
    "start_time": "2022-01-06T19:21:20.433Z"
   },
   {
    "duration": 316,
    "start_time": "2022-01-07T17:13:18.554Z"
   },
   {
    "duration": 622,
    "start_time": "2022-01-07T17:13:27.112Z"
   },
   {
    "duration": 10,
    "start_time": "2022-01-07T17:13:27.735Z"
   },
   {
    "duration": 26,
    "start_time": "2022-01-07T17:13:27.747Z"
   },
   {
    "duration": 32,
    "start_time": "2022-01-07T17:13:27.774Z"
   },
   {
    "duration": 6,
    "start_time": "2022-01-07T17:13:27.808Z"
   },
   {
    "duration": 6,
    "start_time": "2022-01-07T17:13:27.816Z"
   },
   {
    "duration": 15,
    "start_time": "2022-01-07T17:13:27.823Z"
   },
   {
    "duration": 7,
    "start_time": "2022-01-07T17:13:27.840Z"
   },
   {
    "duration": 5,
    "start_time": "2022-01-07T17:13:27.849Z"
   },
   {
    "duration": 6,
    "start_time": "2022-01-07T17:13:35.820Z"
   },
   {
    "duration": 6,
    "start_time": "2022-01-07T17:13:48.654Z"
   },
   {
    "duration": 337,
    "start_time": "2022-01-07T17:14:23.628Z"
   },
   {
    "duration": 9,
    "start_time": "2022-01-07T17:14:32.334Z"
   },
   {
    "duration": 603,
    "start_time": "2022-01-07T17:14:57.531Z"
   },
   {
    "duration": 10,
    "start_time": "2022-01-07T17:14:58.136Z"
   },
   {
    "duration": 14,
    "start_time": "2022-01-07T17:14:58.147Z"
   },
   {
    "duration": 31,
    "start_time": "2022-01-07T17:14:58.162Z"
   },
   {
    "duration": 8,
    "start_time": "2022-01-07T17:14:58.194Z"
   },
   {
    "duration": 12,
    "start_time": "2022-01-07T17:14:58.203Z"
   },
   {
    "duration": 11,
    "start_time": "2022-01-07T17:14:58.216Z"
   },
   {
    "duration": 8,
    "start_time": "2022-01-07T17:14:58.228Z"
   },
   {
    "duration": 6,
    "start_time": "2022-01-07T17:14:58.237Z"
   },
   {
    "duration": 10,
    "start_time": "2022-01-07T17:14:58.244Z"
   },
   {
    "duration": 9,
    "start_time": "2022-01-07T17:15:06.625Z"
   },
   {
    "duration": 6,
    "start_time": "2022-01-07T17:15:09.148Z"
   },
   {
    "duration": 7,
    "start_time": "2022-01-07T17:15:10.517Z"
   },
   {
    "duration": 608,
    "start_time": "2022-01-07T17:15:30.218Z"
   },
   {
    "duration": 10,
    "start_time": "2022-01-07T17:15:30.828Z"
   },
   {
    "duration": 10,
    "start_time": "2022-01-07T17:15:30.843Z"
   },
   {
    "duration": 28,
    "start_time": "2022-01-07T17:15:30.855Z"
   },
   {
    "duration": 8,
    "start_time": "2022-01-07T17:15:30.884Z"
   },
   {
    "duration": 17,
    "start_time": "2022-01-07T17:15:30.893Z"
   },
   {
    "duration": 18,
    "start_time": "2022-01-07T17:15:30.912Z"
   },
   {
    "duration": 18,
    "start_time": "2022-01-07T17:15:30.931Z"
   },
   {
    "duration": 23,
    "start_time": "2022-01-07T17:15:30.950Z"
   },
   {
    "duration": 10,
    "start_time": "2022-01-07T17:15:30.974Z"
   },
   {
    "duration": 11,
    "start_time": "2022-01-07T17:15:48.205Z"
   },
   {
    "duration": 4,
    "start_time": "2022-01-07T17:16:27.670Z"
   },
   {
    "duration": 4,
    "start_time": "2022-01-07T17:16:52.766Z"
   },
   {
    "duration": 4,
    "start_time": "2022-01-07T17:22:12.294Z"
   },
   {
    "duration": 10,
    "start_time": "2022-01-07T17:22:54.791Z"
   },
   {
    "duration": 9,
    "start_time": "2022-01-07T17:23:34.542Z"
   },
   {
    "duration": 5920,
    "start_time": "2022-01-07T17:35:08.591Z"
   },
   {
    "duration": 282,
    "start_time": "2022-01-07T17:35:29.567Z"
   },
   {
    "duration": 618,
    "start_time": "2022-01-07T17:35:38.435Z"
   },
   {
    "duration": 14,
    "start_time": "2022-01-07T17:35:39.055Z"
   },
   {
    "duration": 17,
    "start_time": "2022-01-07T17:35:39.071Z"
   },
   {
    "duration": 43,
    "start_time": "2022-01-07T17:35:39.090Z"
   },
   {
    "duration": 10,
    "start_time": "2022-01-07T17:35:39.135Z"
   },
   {
    "duration": 9,
    "start_time": "2022-01-07T17:35:39.147Z"
   },
   {
    "duration": 6,
    "start_time": "2022-01-07T17:35:39.158Z"
   },
   {
    "duration": 10,
    "start_time": "2022-01-07T17:35:39.166Z"
   },
   {
    "duration": 8,
    "start_time": "2022-01-07T17:35:39.178Z"
   },
   {
    "duration": 4,
    "start_time": "2022-01-07T17:35:39.187Z"
   },
   {
    "duration": 4,
    "start_time": "2022-01-07T17:35:39.193Z"
   },
   {
    "duration": 53,
    "start_time": "2022-01-07T17:35:39.199Z"
   },
   {
    "duration": 372,
    "start_time": "2022-01-07T17:35:39.254Z"
   },
   {
    "duration": 12,
    "start_time": "2022-01-07T17:46:40.356Z"
   },
   {
    "duration": 270,
    "start_time": "2022-01-07T17:53:34.113Z"
   },
   {
    "duration": 15,
    "start_time": "2022-01-07T17:54:17.187Z"
   },
   {
    "duration": 479,
    "start_time": "2022-01-07T17:57:54.912Z"
   },
   {
    "duration": 10,
    "start_time": "2022-01-07T17:58:51.123Z"
   },
   {
    "duration": 10,
    "start_time": "2022-01-07T17:59:17.636Z"
   },
   {
    "duration": 143,
    "start_time": "2022-01-07T18:49:54.360Z"
   },
   {
    "duration": 89,
    "start_time": "2022-01-07T18:50:08.218Z"
   },
   {
    "duration": 16,
    "start_time": "2022-01-07T18:50:20.692Z"
   },
   {
    "duration": 29,
    "start_time": "2022-01-07T18:51:51.293Z"
   },
   {
    "duration": 30,
    "start_time": "2022-01-07T19:02:00.376Z"
   },
   {
    "duration": 7,
    "start_time": "2022-01-08T14:37:25.522Z"
   },
   {
    "duration": 691,
    "start_time": "2022-01-08T14:37:33.680Z"
   },
   {
    "duration": 12,
    "start_time": "2022-01-08T14:37:34.373Z"
   },
   {
    "duration": 19,
    "start_time": "2022-01-08T14:37:34.387Z"
   },
   {
    "duration": 43,
    "start_time": "2022-01-08T14:37:34.408Z"
   },
   {
    "duration": 12,
    "start_time": "2022-01-08T14:37:34.453Z"
   },
   {
    "duration": 9,
    "start_time": "2022-01-08T14:37:34.467Z"
   },
   {
    "duration": 6,
    "start_time": "2022-01-08T14:37:34.478Z"
   },
   {
    "duration": 10,
    "start_time": "2022-01-08T14:37:34.485Z"
   },
   {
    "duration": 6,
    "start_time": "2022-01-08T14:37:34.496Z"
   },
   {
    "duration": 33,
    "start_time": "2022-01-08T14:37:34.503Z"
   },
   {
    "duration": 16,
    "start_time": "2022-01-08T14:37:34.538Z"
   },
   {
    "duration": 18,
    "start_time": "2022-01-08T14:37:34.556Z"
   },
   {
    "duration": 12,
    "start_time": "2022-01-08T14:37:34.576Z"
   },
   {
    "duration": 10,
    "start_time": "2022-01-08T14:37:34.589Z"
   },
   {
    "duration": 13,
    "start_time": "2022-01-08T14:37:34.600Z"
   },
   {
    "duration": 23,
    "start_time": "2022-01-08T14:37:34.614Z"
   },
   {
    "duration": 43,
    "start_time": "2022-01-08T14:37:34.639Z"
   },
   {
    "duration": 7,
    "start_time": "2022-01-08T14:37:34.684Z"
   },
   {
    "duration": 345,
    "start_time": "2022-01-08T14:41:12.703Z"
   },
   {
    "duration": 3,
    "start_time": "2022-01-08T14:48:11.202Z"
   },
   {
    "duration": 6,
    "start_time": "2022-01-08T14:48:31.618Z"
   },
   {
    "duration": 282,
    "start_time": "2022-01-08T14:51:50.358Z"
   },
   {
    "duration": 4,
    "start_time": "2022-01-08T14:52:14.778Z"
   },
   {
    "duration": 4,
    "start_time": "2022-01-08T14:52:26.585Z"
   },
   {
    "duration": 4,
    "start_time": "2022-01-08T14:52:34.048Z"
   },
   {
    "duration": 4,
    "start_time": "2022-01-08T14:52:36.695Z"
   },
   {
    "duration": 3,
    "start_time": "2022-01-08T14:52:44.733Z"
   },
   {
    "duration": 3,
    "start_time": "2022-01-08T14:53:42.920Z"
   },
   {
    "duration": 3,
    "start_time": "2022-01-08T14:54:02.331Z"
   },
   {
    "duration": 614,
    "start_time": "2022-01-08T14:56:07.000Z"
   },
   {
    "duration": 48,
    "start_time": "2022-01-08T14:56:13.484Z"
   },
   {
    "duration": 578,
    "start_time": "2022-01-08T14:56:30.760Z"
   },
   {
    "duration": 11,
    "start_time": "2022-01-08T14:56:31.340Z"
   },
   {
    "duration": 10,
    "start_time": "2022-01-08T14:56:31.353Z"
   },
   {
    "duration": 27,
    "start_time": "2022-01-08T14:56:31.365Z"
   },
   {
    "duration": 34,
    "start_time": "2022-01-08T14:56:31.394Z"
   },
   {
    "duration": 6,
    "start_time": "2022-01-08T14:56:31.429Z"
   },
   {
    "duration": 5,
    "start_time": "2022-01-08T14:56:31.437Z"
   },
   {
    "duration": 8,
    "start_time": "2022-01-08T14:56:31.445Z"
   },
   {
    "duration": 7,
    "start_time": "2022-01-08T14:56:31.455Z"
   },
   {
    "duration": 5,
    "start_time": "2022-01-08T14:56:31.463Z"
   },
   {
    "duration": 4,
    "start_time": "2022-01-08T14:56:31.470Z"
   },
   {
    "duration": 11,
    "start_time": "2022-01-08T14:56:31.475Z"
   },
   {
    "duration": 50,
    "start_time": "2022-01-08T14:56:31.487Z"
   },
   {
    "duration": 9,
    "start_time": "2022-01-08T14:56:31.538Z"
   },
   {
    "duration": 17,
    "start_time": "2022-01-08T14:56:31.548Z"
   },
   {
    "duration": 15,
    "start_time": "2022-01-08T14:56:31.567Z"
   },
   {
    "duration": 45,
    "start_time": "2022-01-08T14:56:31.583Z"
   },
   {
    "duration": 5,
    "start_time": "2022-01-08T14:56:31.630Z"
   },
   {
    "duration": 346,
    "start_time": "2022-01-08T14:56:31.637Z"
   },
   {
    "duration": 7,
    "start_time": "2022-01-08T14:57:16.690Z"
   },
   {
    "duration": 5,
    "start_time": "2022-01-08T14:57:18.126Z"
   },
   {
    "duration": 480,
    "start_time": "2022-01-08T14:57:22.655Z"
   },
   {
    "duration": 2330,
    "start_time": "2022-01-08T14:57:37.495Z"
   },
   {
    "duration": 10,
    "start_time": "2022-01-08T14:57:39.827Z"
   },
   {
    "duration": 10,
    "start_time": "2022-01-08T14:57:39.839Z"
   },
   {
    "duration": 27,
    "start_time": "2022-01-08T14:57:39.851Z"
   },
   {
    "duration": 8,
    "start_time": "2022-01-08T14:57:39.879Z"
   },
   {
    "duration": 5,
    "start_time": "2022-01-08T14:57:39.888Z"
   },
   {
    "duration": 32,
    "start_time": "2022-01-08T14:57:39.895Z"
   },
   {
    "duration": 8,
    "start_time": "2022-01-08T14:57:39.929Z"
   },
   {
    "duration": 7,
    "start_time": "2022-01-08T14:57:39.938Z"
   },
   {
    "duration": 6,
    "start_time": "2022-01-08T14:57:39.947Z"
   },
   {
    "duration": 5,
    "start_time": "2022-01-08T14:57:39.955Z"
   },
   {
    "duration": 15,
    "start_time": "2022-01-08T14:57:39.962Z"
   },
   {
    "duration": 17,
    "start_time": "2022-01-08T14:57:39.979Z"
   },
   {
    "duration": 39,
    "start_time": "2022-01-08T14:57:39.998Z"
   },
   {
    "duration": 13,
    "start_time": "2022-01-08T14:57:40.039Z"
   },
   {
    "duration": 21,
    "start_time": "2022-01-08T14:57:40.053Z"
   },
   {
    "duration": 26,
    "start_time": "2022-01-08T14:57:40.075Z"
   },
   {
    "duration": 7,
    "start_time": "2022-01-08T14:57:40.103Z"
   },
   {
    "duration": 22,
    "start_time": "2022-01-08T14:57:40.112Z"
   },
   {
    "duration": 345,
    "start_time": "2022-01-08T14:57:40.136Z"
   },
   {
    "duration": 272,
    "start_time": "2022-01-08T14:58:41.031Z"
   },
   {
    "duration": 309,
    "start_time": "2022-01-08T15:02:22.824Z"
   },
   {
    "duration": 85,
    "start_time": "2022-01-08T15:02:39.051Z"
   },
   {
    "duration": 286,
    "start_time": "2022-01-08T15:03:09.316Z"
   },
   {
    "duration": 271,
    "start_time": "2022-01-08T15:03:35.036Z"
   },
   {
    "duration": 4,
    "start_time": "2022-01-08T15:05:19.900Z"
   },
   {
    "duration": 2,
    "start_time": "2022-01-08T15:07:28.281Z"
   },
   {
    "duration": 566,
    "start_time": "2022-01-08T15:09:10.239Z"
   },
   {
    "duration": 2908,
    "start_time": "2022-01-08T15:15:47.383Z"
   },
   {
    "duration": 13,
    "start_time": "2022-01-08T15:16:12.534Z"
   },
   {
    "duration": 12,
    "start_time": "2022-01-08T15:38:34.579Z"
   },
   {
    "duration": 17,
    "start_time": "2022-01-08T15:39:11.499Z"
   },
   {
    "duration": 946,
    "start_time": "2022-01-08T15:39:22.362Z"
   },
   {
    "duration": 12,
    "start_time": "2022-01-08T15:39:23.309Z"
   },
   {
    "duration": 11,
    "start_time": "2022-01-08T15:39:23.323Z"
   },
   {
    "duration": 28,
    "start_time": "2022-01-08T15:39:23.336Z"
   },
   {
    "duration": 7,
    "start_time": "2022-01-08T15:39:23.366Z"
   },
   {
    "duration": 7,
    "start_time": "2022-01-08T15:39:23.374Z"
   },
   {
    "duration": 4,
    "start_time": "2022-01-08T15:39:23.383Z"
   },
   {
    "duration": 8,
    "start_time": "2022-01-08T15:39:23.389Z"
   },
   {
    "duration": 7,
    "start_time": "2022-01-08T15:39:23.398Z"
   },
   {
    "duration": 4,
    "start_time": "2022-01-08T15:39:23.427Z"
   },
   {
    "duration": 5,
    "start_time": "2022-01-08T15:39:23.432Z"
   },
   {
    "duration": 11,
    "start_time": "2022-01-08T15:39:23.439Z"
   },
   {
    "duration": 12,
    "start_time": "2022-01-08T15:39:23.452Z"
   },
   {
    "duration": 9,
    "start_time": "2022-01-08T15:39:23.465Z"
   },
   {
    "duration": 14,
    "start_time": "2022-01-08T15:39:23.475Z"
   },
   {
    "duration": 40,
    "start_time": "2022-01-08T15:39:23.490Z"
   },
   {
    "duration": 26,
    "start_time": "2022-01-08T15:39:23.531Z"
   },
   {
    "duration": 12,
    "start_time": "2022-01-08T15:39:23.558Z"
   },
   {
    "duration": 5,
    "start_time": "2022-01-08T15:39:23.572Z"
   },
   {
    "duration": 5,
    "start_time": "2022-01-08T15:39:23.579Z"
   },
   {
    "duration": 4,
    "start_time": "2022-01-08T15:39:23.586Z"
   },
   {
    "duration": 5,
    "start_time": "2022-01-08T15:39:23.591Z"
   },
   {
    "duration": 708,
    "start_time": "2022-01-08T15:39:23.599Z"
   },
   {
    "duration": 2667,
    "start_time": "2022-01-08T15:39:24.310Z"
   },
   {
    "duration": 12,
    "start_time": "2022-01-08T15:39:26.979Z"
   },
   {
    "duration": 32,
    "start_time": "2022-01-08T15:39:40.288Z"
   },
   {
    "duration": 18,
    "start_time": "2022-01-08T15:39:56.037Z"
   },
   {
    "duration": 29,
    "start_time": "2022-01-08T15:42:51.189Z"
   },
   {
    "duration": 17,
    "start_time": "2022-01-08T15:42:58.324Z"
   },
   {
    "duration": 33,
    "start_time": "2022-01-08T15:44:22.510Z"
   },
   {
    "duration": 16,
    "start_time": "2022-01-08T15:44:28.430Z"
   },
   {
    "duration": 621,
    "start_time": "2022-01-08T15:44:38.960Z"
   },
   {
    "duration": 10,
    "start_time": "2022-01-08T15:44:39.583Z"
   },
   {
    "duration": 11,
    "start_time": "2022-01-08T15:44:39.595Z"
   },
   {
    "duration": 27,
    "start_time": "2022-01-08T15:44:39.607Z"
   },
   {
    "duration": 7,
    "start_time": "2022-01-08T15:44:39.636Z"
   },
   {
    "duration": 6,
    "start_time": "2022-01-08T15:44:39.644Z"
   },
   {
    "duration": 7,
    "start_time": "2022-01-08T15:44:39.651Z"
   },
   {
    "duration": 8,
    "start_time": "2022-01-08T15:44:39.660Z"
   },
   {
    "duration": 9,
    "start_time": "2022-01-08T15:44:39.669Z"
   },
   {
    "duration": 6,
    "start_time": "2022-01-08T15:44:39.679Z"
   },
   {
    "duration": 4,
    "start_time": "2022-01-08T15:44:39.687Z"
   },
   {
    "duration": 19,
    "start_time": "2022-01-08T15:44:39.692Z"
   },
   {
    "duration": 25,
    "start_time": "2022-01-08T15:44:39.712Z"
   },
   {
    "duration": 9,
    "start_time": "2022-01-08T15:44:39.738Z"
   },
   {
    "duration": 14,
    "start_time": "2022-01-08T15:44:39.749Z"
   },
   {
    "duration": 16,
    "start_time": "2022-01-08T15:44:39.764Z"
   },
   {
    "duration": 26,
    "start_time": "2022-01-08T15:44:39.782Z"
   },
   {
    "duration": 12,
    "start_time": "2022-01-08T15:44:39.827Z"
   },
   {
    "duration": 4,
    "start_time": "2022-01-08T15:44:39.840Z"
   },
   {
    "duration": 5,
    "start_time": "2022-01-08T15:44:39.845Z"
   },
   {
    "duration": 3,
    "start_time": "2022-01-08T15:44:39.852Z"
   },
   {
    "duration": 3,
    "start_time": "2022-01-08T15:44:39.856Z"
   },
   {
    "duration": 631,
    "start_time": "2022-01-08T15:44:39.862Z"
   },
   {
    "duration": 2865,
    "start_time": "2022-01-08T15:44:40.495Z"
   },
   {
    "duration": 12,
    "start_time": "2022-01-08T15:44:43.362Z"
   },
   {
    "duration": 94,
    "start_time": "2022-01-08T16:15:49.074Z"
   },
   {
    "duration": 104,
    "start_time": "2022-01-08T16:15:57.708Z"
   },
   {
    "duration": 35,
    "start_time": "2022-01-08T16:16:26.707Z"
   },
   {
    "duration": 15,
    "start_time": "2022-01-08T16:16:34.626Z"
   },
   {
    "duration": 18,
    "start_time": "2022-01-08T16:17:07.699Z"
   },
   {
    "duration": 15,
    "start_time": "2022-01-08T16:17:09.535Z"
   },
   {
    "duration": 462,
    "start_time": "2022-01-08T20:03:21.158Z"
   },
   {
    "duration": 901,
    "start_time": "2022-01-08T20:03:34.364Z"
   },
   {
    "duration": 20,
    "start_time": "2022-01-08T20:03:35.269Z"
   },
   {
    "duration": 20,
    "start_time": "2022-01-08T20:03:35.293Z"
   },
   {
    "duration": 88,
    "start_time": "2022-01-08T20:03:35.315Z"
   },
   {
    "duration": 16,
    "start_time": "2022-01-08T20:03:35.406Z"
   },
   {
    "duration": 9,
    "start_time": "2022-01-08T20:03:35.424Z"
   },
   {
    "duration": 32,
    "start_time": "2022-01-08T20:03:35.436Z"
   },
   {
    "duration": 14,
    "start_time": "2022-01-08T20:03:35.473Z"
   },
   {
    "duration": 11,
    "start_time": "2022-01-08T20:03:35.490Z"
   },
   {
    "duration": 9,
    "start_time": "2022-01-08T20:03:35.504Z"
   },
   {
    "duration": 5,
    "start_time": "2022-01-08T20:03:35.515Z"
   },
   {
    "duration": 57,
    "start_time": "2022-01-08T20:03:35.522Z"
   },
   {
    "duration": 19,
    "start_time": "2022-01-08T20:03:35.581Z"
   },
   {
    "duration": 29,
    "start_time": "2022-01-08T20:03:35.602Z"
   },
   {
    "duration": 38,
    "start_time": "2022-01-08T20:03:35.634Z"
   },
   {
    "duration": 24,
    "start_time": "2022-01-08T20:03:35.674Z"
   },
   {
    "duration": 29,
    "start_time": "2022-01-08T20:03:35.700Z"
   },
   {
    "duration": 58,
    "start_time": "2022-01-08T20:03:35.732Z"
   },
   {
    "duration": 26,
    "start_time": "2022-01-08T20:03:35.792Z"
   },
   {
    "duration": 7,
    "start_time": "2022-01-08T20:03:35.821Z"
   },
   {
    "duration": 39,
    "start_time": "2022-01-08T20:03:35.830Z"
   },
   {
    "duration": 6,
    "start_time": "2022-01-08T20:03:35.872Z"
   },
   {
    "duration": 7,
    "start_time": "2022-01-08T20:03:35.882Z"
   },
   {
    "duration": 1165,
    "start_time": "2022-01-08T20:03:35.891Z"
   },
   {
    "duration": 3723,
    "start_time": "2022-01-08T20:03:37.066Z"
   },
   {
    "duration": 23,
    "start_time": "2022-01-08T20:03:40.791Z"
   },
   {
    "duration": 6,
    "start_time": "2022-01-08T20:03:52.118Z"
   },
   {
    "duration": 22,
    "start_time": "2022-01-08T20:04:11.274Z"
   },
   {
    "duration": 5,
    "start_time": "2022-01-08T20:05:11.441Z"
   },
   {
    "duration": 892,
    "start_time": "2022-01-08T20:05:20.469Z"
   },
   {
    "duration": 20,
    "start_time": "2022-01-08T20:05:21.364Z"
   },
   {
    "duration": 17,
    "start_time": "2022-01-08T20:05:21.388Z"
   },
   {
    "duration": 82,
    "start_time": "2022-01-08T20:05:21.407Z"
   },
   {
    "duration": 15,
    "start_time": "2022-01-08T20:05:21.491Z"
   },
   {
    "duration": 9,
    "start_time": "2022-01-08T20:05:21.509Z"
   },
   {
    "duration": 46,
    "start_time": "2022-01-08T20:05:21.521Z"
   },
   {
    "duration": 14,
    "start_time": "2022-01-08T20:05:21.573Z"
   },
   {
    "duration": 11,
    "start_time": "2022-01-08T20:05:21.591Z"
   },
   {
    "duration": 11,
    "start_time": "2022-01-08T20:05:21.605Z"
   },
   {
    "duration": 48,
    "start_time": "2022-01-08T20:05:21.619Z"
   },
   {
    "duration": 16,
    "start_time": "2022-01-08T20:05:21.670Z"
   },
   {
    "duration": 11,
    "start_time": "2022-01-08T20:05:21.689Z"
   },
   {
    "duration": 5,
    "start_time": "2022-01-08T20:05:21.703Z"
   },
   {
    "duration": 27,
    "start_time": "2022-01-08T20:05:21.711Z"
   },
   {
    "duration": 28,
    "start_time": "2022-01-08T20:05:21.768Z"
   },
   {
    "duration": 17,
    "start_time": "2022-01-08T20:05:21.799Z"
   },
   {
    "duration": 51,
    "start_time": "2022-01-08T20:05:21.818Z"
   },
   {
    "duration": 29,
    "start_time": "2022-01-08T20:05:21.871Z"
   },
   {
    "duration": 27,
    "start_time": "2022-01-08T20:05:21.903Z"
   },
   {
    "duration": 54,
    "start_time": "2022-01-08T20:05:21.933Z"
   },
   {
    "duration": 6,
    "start_time": "2022-01-08T20:05:21.990Z"
   },
   {
    "duration": 7,
    "start_time": "2022-01-08T20:05:22.002Z"
   },
   {
    "duration": 5,
    "start_time": "2022-01-08T20:05:22.011Z"
   },
   {
    "duration": 48,
    "start_time": "2022-01-08T20:05:22.019Z"
   },
   {
    "duration": 1027,
    "start_time": "2022-01-08T20:05:22.070Z"
   },
   {
    "duration": 3718,
    "start_time": "2022-01-08T20:05:23.100Z"
   },
   {
    "duration": 46,
    "start_time": "2022-01-08T20:05:26.821Z"
   },
   {
    "duration": 572,
    "start_time": "2022-01-08T20:17:54.169Z"
   },
   {
    "duration": 428,
    "start_time": "2022-01-08T20:18:06.497Z"
   },
   {
    "duration": 341,
    "start_time": "2022-01-08T20:18:43.878Z"
   },
   {
    "duration": 298,
    "start_time": "2022-01-08T20:18:54.480Z"
   },
   {
    "duration": 361,
    "start_time": "2022-01-08T20:28:06.772Z"
   },
   {
    "duration": 632,
    "start_time": "2022-01-08T20:28:15.523Z"
   },
   {
    "duration": 312,
    "start_time": "2022-01-08T20:28:32.955Z"
   },
   {
    "duration": 338,
    "start_time": "2022-01-08T20:28:40.580Z"
   },
   {
    "duration": 317,
    "start_time": "2022-01-08T20:28:58.540Z"
   },
   {
    "duration": 292,
    "start_time": "2022-01-08T20:29:10.803Z"
   },
   {
    "duration": 326,
    "start_time": "2022-01-08T20:29:22.646Z"
   },
   {
    "duration": 392,
    "start_time": "2022-01-08T20:30:07.129Z"
   },
   {
    "duration": 335,
    "start_time": "2022-01-08T20:31:29.217Z"
   },
   {
    "duration": 10,
    "start_time": "2022-01-08T20:34:18.476Z"
   },
   {
    "duration": 5,
    "start_time": "2022-01-08T20:35:29.407Z"
   },
   {
    "duration": 107,
    "start_time": "2022-01-08T20:36:20.406Z"
   },
   {
    "duration": 11,
    "start_time": "2022-01-08T20:36:30.122Z"
   },
   {
    "duration": 22,
    "start_time": "2022-01-08T20:37:12.482Z"
   },
   {
    "duration": 16,
    "start_time": "2022-01-08T20:38:47.845Z"
   },
   {
    "duration": 6,
    "start_time": "2022-01-08T20:38:53.685Z"
   },
   {
    "duration": 22,
    "start_time": "2022-01-08T20:39:00.409Z"
   },
   {
    "duration": 12,
    "start_time": "2022-01-08T20:39:07.150Z"
   },
   {
    "duration": 920,
    "start_time": "2022-01-08T20:39:33.442Z"
   },
   {
    "duration": 20,
    "start_time": "2022-01-08T20:39:34.364Z"
   },
   {
    "duration": 16,
    "start_time": "2022-01-08T20:39:34.386Z"
   },
   {
    "duration": 72,
    "start_time": "2022-01-08T20:39:34.405Z"
   },
   {
    "duration": 13,
    "start_time": "2022-01-08T20:39:34.479Z"
   },
   {
    "duration": 8,
    "start_time": "2022-01-08T20:39:34.495Z"
   },
   {
    "duration": 7,
    "start_time": "2022-01-08T20:39:34.505Z"
   },
   {
    "duration": 12,
    "start_time": "2022-01-08T20:39:34.514Z"
   },
   {
    "duration": 10,
    "start_time": "2022-01-08T20:39:34.569Z"
   },
   {
    "duration": 10,
    "start_time": "2022-01-08T20:39:34.583Z"
   },
   {
    "duration": 8,
    "start_time": "2022-01-08T20:39:34.595Z"
   },
   {
    "duration": 17,
    "start_time": "2022-01-08T20:39:34.605Z"
   },
   {
    "duration": 10,
    "start_time": "2022-01-08T20:39:34.624Z"
   },
   {
    "duration": 6,
    "start_time": "2022-01-08T20:39:34.668Z"
   },
   {
    "duration": 23,
    "start_time": "2022-01-08T20:39:34.676Z"
   },
   {
    "duration": 460,
    "start_time": "2022-01-08T20:39:34.701Z"
   },
   {
    "duration": 350,
    "start_time": "2022-01-08T20:39:35.167Z"
   },
   {
    "duration": 14,
    "start_time": "2022-01-08T20:39:35.519Z"
   },
   {
    "duration": 5,
    "start_time": "2022-01-08T20:39:35.535Z"
   },
   {
    "duration": 43,
    "start_time": "2022-01-08T20:39:35.542Z"
   },
   {
    "duration": 13,
    "start_time": "2022-01-08T20:39:35.587Z"
   },
   {
    "duration": 26,
    "start_time": "2022-01-08T20:39:35.602Z"
   },
   {
    "duration": 46,
    "start_time": "2022-01-08T20:39:35.631Z"
   },
   {
    "duration": 22,
    "start_time": "2022-01-08T20:39:35.679Z"
   },
   {
    "duration": 36,
    "start_time": "2022-01-08T20:39:35.704Z"
   },
   {
    "duration": 51,
    "start_time": "2022-01-08T20:39:35.742Z"
   },
   {
    "duration": 23,
    "start_time": "2022-01-08T20:39:35.798Z"
   },
   {
    "duration": 8,
    "start_time": "2022-01-08T20:39:35.824Z"
   },
   {
    "duration": 37,
    "start_time": "2022-01-08T20:39:35.835Z"
   },
   {
    "duration": 5,
    "start_time": "2022-01-08T20:39:35.874Z"
   },
   {
    "duration": 17,
    "start_time": "2022-01-08T20:39:35.882Z"
   },
   {
    "duration": 961,
    "start_time": "2022-01-08T20:39:35.901Z"
   },
   {
    "duration": 3736,
    "start_time": "2022-01-08T20:39:36.868Z"
   },
   {
    "duration": 22,
    "start_time": "2022-01-08T20:39:40.606Z"
   },
   {
    "duration": 5,
    "start_time": "2022-01-08T21:05:21.959Z"
   },
   {
    "duration": 22,
    "start_time": "2022-01-08T21:05:49.443Z"
   },
   {
    "duration": 933,
    "start_time": "2022-01-08T21:08:09.037Z"
   },
   {
    "duration": 19,
    "start_time": "2022-01-08T21:08:09.972Z"
   },
   {
    "duration": 15,
    "start_time": "2022-01-08T21:08:09.994Z"
   },
   {
    "duration": 80,
    "start_time": "2022-01-08T21:08:10.012Z"
   },
   {
    "duration": 12,
    "start_time": "2022-01-08T21:08:10.094Z"
   },
   {
    "duration": 10,
    "start_time": "2022-01-08T21:08:10.108Z"
   },
   {
    "duration": 10,
    "start_time": "2022-01-08T21:08:10.121Z"
   },
   {
    "duration": 13,
    "start_time": "2022-01-08T21:08:10.167Z"
   },
   {
    "duration": 10,
    "start_time": "2022-01-08T21:08:10.184Z"
   },
   {
    "duration": 9,
    "start_time": "2022-01-08T21:08:10.196Z"
   },
   {
    "duration": 5,
    "start_time": "2022-01-08T21:08:10.208Z"
   },
   {
    "duration": 57,
    "start_time": "2022-01-08T21:08:10.216Z"
   },
   {
    "duration": 9,
    "start_time": "2022-01-08T21:08:10.276Z"
   },
   {
    "duration": 5,
    "start_time": "2022-01-08T21:08:10.287Z"
   },
   {
    "duration": 22,
    "start_time": "2022-01-08T21:08:10.294Z"
   },
   {
    "duration": 429,
    "start_time": "2022-01-08T21:08:10.318Z"
   },
   {
    "duration": 348,
    "start_time": "2022-01-08T21:08:10.749Z"
   },
   {
    "duration": 11,
    "start_time": "2022-01-08T21:08:11.100Z"
   },
   {
    "duration": 4,
    "start_time": "2022-01-08T21:08:11.114Z"
   },
   {
    "duration": 47,
    "start_time": "2022-01-08T21:08:11.120Z"
   },
   {
    "duration": 11,
    "start_time": "2022-01-08T21:08:11.169Z"
   },
   {
    "duration": 5,
    "start_time": "2022-01-08T21:08:11.182Z"
   },
   {
    "duration": 18,
    "start_time": "2022-01-08T21:08:11.192Z"
   },
   {
    "duration": 59,
    "start_time": "2022-01-08T21:08:11.212Z"
   },
   {
    "duration": 16,
    "start_time": "2022-01-08T21:08:11.273Z"
   },
   {
    "duration": 24,
    "start_time": "2022-01-08T21:08:11.291Z"
   },
   {
    "duration": 51,
    "start_time": "2022-01-08T21:08:11.317Z"
   },
   {
    "duration": 29,
    "start_time": "2022-01-08T21:08:11.371Z"
   },
   {
    "duration": 22,
    "start_time": "2022-01-08T21:08:11.403Z"
   },
   {
    "duration": 9,
    "start_time": "2022-01-08T21:08:11.427Z"
   },
   {
    "duration": 35,
    "start_time": "2022-01-08T21:08:11.438Z"
   },
   {
    "duration": 4,
    "start_time": "2022-01-08T21:08:11.476Z"
   },
   {
    "duration": 5,
    "start_time": "2022-01-08T21:08:11.483Z"
   },
   {
    "duration": 988,
    "start_time": "2022-01-08T21:08:11.490Z"
   },
   {
    "duration": 3735,
    "start_time": "2022-01-08T21:08:12.480Z"
   },
   {
    "duration": 21,
    "start_time": "2022-01-08T21:08:16.217Z"
   },
   {
    "duration": 17,
    "start_time": "2022-01-08T21:14:04.238Z"
   },
   {
    "duration": 7,
    "start_time": "2022-01-08T21:18:49.233Z"
   },
   {
    "duration": 859,
    "start_time": "2022-01-08T21:18:56.397Z"
   },
   {
    "duration": 21,
    "start_time": "2022-01-08T21:18:57.258Z"
   },
   {
    "duration": 18,
    "start_time": "2022-01-08T21:18:57.283Z"
   },
   {
    "duration": 77,
    "start_time": "2022-01-08T21:18:57.305Z"
   },
   {
    "duration": 14,
    "start_time": "2022-01-08T21:18:57.385Z"
   },
   {
    "duration": 10,
    "start_time": "2022-01-08T21:18:57.402Z"
   },
   {
    "duration": 9,
    "start_time": "2022-01-08T21:18:57.415Z"
   },
   {
    "duration": 13,
    "start_time": "2022-01-08T21:18:57.468Z"
   },
   {
    "duration": 10,
    "start_time": "2022-01-08T21:18:57.484Z"
   },
   {
    "duration": 10,
    "start_time": "2022-01-08T21:18:57.497Z"
   },
   {
    "duration": 7,
    "start_time": "2022-01-08T21:18:57.509Z"
   },
   {
    "duration": 53,
    "start_time": "2022-01-08T21:18:57.518Z"
   },
   {
    "duration": 9,
    "start_time": "2022-01-08T21:18:57.574Z"
   },
   {
    "duration": 4,
    "start_time": "2022-01-08T21:18:57.586Z"
   },
   {
    "duration": 21,
    "start_time": "2022-01-08T21:18:57.593Z"
   },
   {
    "duration": 444,
    "start_time": "2022-01-08T21:18:57.616Z"
   },
   {
    "duration": 352,
    "start_time": "2022-01-08T21:18:58.063Z"
   },
   {
    "duration": 13,
    "start_time": "2022-01-08T21:18:58.418Z"
   },
   {
    "duration": 4,
    "start_time": "2022-01-08T21:18:58.434Z"
   },
   {
    "duration": 43,
    "start_time": "2022-01-08T21:18:58.440Z"
   },
   {
    "duration": 10,
    "start_time": "2022-01-08T21:18:58.486Z"
   },
   {
    "duration": 5,
    "start_time": "2022-01-08T21:18:58.498Z"
   },
   {
    "duration": 20,
    "start_time": "2022-01-08T21:18:58.509Z"
   },
   {
    "duration": 62,
    "start_time": "2022-01-08T21:18:58.532Z"
   },
   {
    "duration": 19,
    "start_time": "2022-01-08T21:18:58.597Z"
   },
   {
    "duration": 58,
    "start_time": "2022-01-08T21:18:58.618Z"
   },
   {
    "duration": 28,
    "start_time": "2022-01-08T21:18:58.680Z"
   },
   {
    "duration": 58,
    "start_time": "2022-01-08T21:18:58.711Z"
   },
   {
    "duration": 25,
    "start_time": "2022-01-08T21:18:58.772Z"
   },
   {
    "duration": 9,
    "start_time": "2022-01-08T21:18:58.800Z"
   },
   {
    "duration": 10,
    "start_time": "2022-01-08T21:18:58.812Z"
   },
   {
    "duration": 45,
    "start_time": "2022-01-08T21:18:58.825Z"
   },
   {
    "duration": 4,
    "start_time": "2022-01-08T21:18:58.874Z"
   },
   {
    "duration": 1013,
    "start_time": "2022-01-08T21:18:58.881Z"
   },
   {
    "duration": 3800,
    "start_time": "2022-01-08T21:18:59.898Z"
   },
   {
    "duration": 23,
    "start_time": "2022-01-08T21:19:03.701Z"
   },
   {
    "duration": 6,
    "start_time": "2022-01-08T21:19:03.726Z"
   },
   {
    "duration": 469,
    "start_time": "2022-01-08T21:20:48.335Z"
   },
   {
    "duration": 667,
    "start_time": "2022-01-08T21:21:10.137Z"
   },
   {
    "duration": 14,
    "start_time": "2022-01-08T21:22:33.152Z"
   },
   {
    "duration": 4,
    "start_time": "2022-01-08T21:26:13.936Z"
   },
   {
    "duration": 6,
    "start_time": "2022-01-08T21:26:56.555Z"
   },
   {
    "duration": 8,
    "start_time": "2022-01-08T21:29:11.991Z"
   },
   {
    "duration": 327,
    "start_time": "2022-01-08T21:29:47.014Z"
   },
   {
    "duration": 8,
    "start_time": "2022-01-08T21:30:03.830Z"
   },
   {
    "duration": 5,
    "start_time": "2022-01-08T21:31:45.652Z"
   },
   {
    "duration": 6,
    "start_time": "2022-01-08T21:32:16.048Z"
   },
   {
    "duration": 4,
    "start_time": "2022-01-08T21:47:06.173Z"
   },
   {
    "duration": 13,
    "start_time": "2022-01-08T21:49:18.060Z"
   },
   {
    "duration": 22,
    "start_time": "2022-01-08T21:49:38.542Z"
   },
   {
    "duration": 20,
    "start_time": "2022-01-08T21:58:23.037Z"
   },
   {
    "duration": 15,
    "start_time": "2022-01-08T21:58:40.796Z"
   },
   {
    "duration": 123,
    "start_time": "2022-01-08T22:09:13.912Z"
   },
   {
    "duration": 11,
    "start_time": "2022-01-08T22:09:18.682Z"
   },
   {
    "duration": 16,
    "start_time": "2022-01-08T22:14:13.925Z"
   },
   {
    "duration": 16,
    "start_time": "2022-01-08T22:14:46.894Z"
   },
   {
    "duration": 9,
    "start_time": "2022-01-08T22:17:43.754Z"
   },
   {
    "duration": 11,
    "start_time": "2022-01-08T22:26:26.964Z"
   },
   {
    "duration": 323,
    "start_time": "2022-01-08T22:28:58.018Z"
   },
   {
    "duration": 11,
    "start_time": "2022-01-08T22:29:08.676Z"
   },
   {
    "duration": 15199,
    "start_time": "2022-01-08T22:46:00.763Z"
   },
   {
    "duration": 25,
    "start_time": "2022-01-08T22:46:20.183Z"
   },
   {
    "duration": 9,
    "start_time": "2022-01-08T22:51:30.947Z"
   },
   {
    "duration": 111,
    "start_time": "2022-01-08T23:03:17.491Z"
   },
   {
    "duration": 128,
    "start_time": "2022-01-08T23:03:44.430Z"
   },
   {
    "duration": 318,
    "start_time": "2022-01-08T23:05:21.202Z"
   },
   {
    "duration": 13,
    "start_time": "2022-01-08T23:06:20.557Z"
   },
   {
    "duration": 25,
    "start_time": "2022-01-08T23:06:41.925Z"
   },
   {
    "duration": 898,
    "start_time": "2022-01-08T23:07:35.878Z"
   },
   {
    "duration": 19,
    "start_time": "2022-01-08T23:07:36.778Z"
   },
   {
    "duration": 22,
    "start_time": "2022-01-08T23:07:36.801Z"
   },
   {
    "duration": 88,
    "start_time": "2022-01-08T23:07:36.827Z"
   },
   {
    "duration": 13,
    "start_time": "2022-01-08T23:07:36.917Z"
   },
   {
    "duration": 14,
    "start_time": "2022-01-08T23:07:36.932Z"
   },
   {
    "duration": 10,
    "start_time": "2022-01-08T23:07:36.967Z"
   },
   {
    "duration": 13,
    "start_time": "2022-01-08T23:07:36.981Z"
   },
   {
    "duration": 10,
    "start_time": "2022-01-08T23:07:36.998Z"
   },
   {
    "duration": 10,
    "start_time": "2022-01-08T23:07:37.010Z"
   },
   {
    "duration": 44,
    "start_time": "2022-01-08T23:07:37.023Z"
   },
   {
    "duration": 18,
    "start_time": "2022-01-08T23:07:37.069Z"
   },
   {
    "duration": 10,
    "start_time": "2022-01-08T23:07:37.090Z"
   },
   {
    "duration": 4,
    "start_time": "2022-01-08T23:07:37.102Z"
   },
   {
    "duration": 58,
    "start_time": "2022-01-08T23:07:37.109Z"
   },
   {
    "duration": 430,
    "start_time": "2022-01-08T23:07:37.170Z"
   },
   {
    "duration": 366,
    "start_time": "2022-01-08T23:07:37.603Z"
   },
   {
    "duration": 14,
    "start_time": "2022-01-08T23:07:37.972Z"
   },
   {
    "duration": 6,
    "start_time": "2022-01-08T23:07:37.988Z"
   },
   {
    "duration": 28,
    "start_time": "2022-01-08T23:07:37.996Z"
   },
   {
    "duration": 41,
    "start_time": "2022-01-08T23:07:38.026Z"
   },
   {
    "duration": 6,
    "start_time": "2022-01-08T23:07:38.069Z"
   },
   {
    "duration": 20,
    "start_time": "2022-01-08T23:07:38.083Z"
   },
   {
    "duration": 28,
    "start_time": "2022-01-08T23:07:38.107Z"
   },
   {
    "duration": 17,
    "start_time": "2022-01-08T23:07:38.169Z"
   },
   {
    "duration": 31,
    "start_time": "2022-01-08T23:07:38.189Z"
   },
   {
    "duration": 70,
    "start_time": "2022-01-08T23:07:38.223Z"
   },
   {
    "duration": 41,
    "start_time": "2022-01-08T23:07:38.296Z"
   },
   {
    "duration": 55,
    "start_time": "2022-01-08T23:07:38.340Z"
   },
   {
    "duration": 10,
    "start_time": "2022-01-08T23:07:38.397Z"
   },
   {
    "duration": 10,
    "start_time": "2022-01-08T23:07:38.410Z"
   },
   {
    "duration": 6,
    "start_time": "2022-01-08T23:07:38.423Z"
   },
   {
    "duration": 4,
    "start_time": "2022-01-08T23:07:38.432Z"
   },
   {
    "duration": 983,
    "start_time": "2022-01-08T23:07:38.468Z"
   },
   {
    "duration": 3688,
    "start_time": "2022-01-08T23:07:39.454Z"
   },
   {
    "duration": 31,
    "start_time": "2022-01-08T23:07:43.144Z"
   },
   {
    "duration": 6,
    "start_time": "2022-01-08T23:07:43.178Z"
   },
   {
    "duration": 14,
    "start_time": "2022-01-08T23:07:43.186Z"
   },
   {
    "duration": 3,
    "start_time": "2022-01-08T23:07:43.202Z"
   },
   {
    "duration": 6,
    "start_time": "2022-01-08T23:07:43.208Z"
   },
   {
    "duration": 51,
    "start_time": "2022-01-08T23:07:43.217Z"
   },
   {
    "duration": 8,
    "start_time": "2022-01-08T23:07:43.271Z"
   },
   {
    "duration": 8,
    "start_time": "2022-01-08T23:07:43.281Z"
   },
   {
    "duration": 12,
    "start_time": "2022-01-08T23:07:43.291Z"
   },
   {
    "duration": 61,
    "start_time": "2022-01-08T23:07:43.306Z"
   },
   {
    "duration": 22,
    "start_time": "2022-01-08T23:07:43.369Z"
   },
   {
    "duration": 10,
    "start_time": "2022-01-08T23:07:43.393Z"
   },
   {
    "duration": 3,
    "start_time": "2022-01-08T23:07:43.405Z"
   },
   {
    "duration": 11,
    "start_time": "2022-01-08T23:07:43.411Z"
   },
   {
    "duration": 54,
    "start_time": "2022-01-08T23:07:43.425Z"
   },
   {
    "duration": 25,
    "start_time": "2022-01-08T23:07:43.482Z"
   },
   {
    "duration": 10,
    "start_time": "2022-01-08T23:08:50.660Z"
   },
   {
    "duration": 131,
    "start_time": "2022-01-09T17:23:10.317Z"
   },
   {
    "duration": 861,
    "start_time": "2022-01-09T17:23:28.047Z"
   },
   {
    "duration": 18,
    "start_time": "2022-01-09T17:23:28.911Z"
   },
   {
    "duration": 15,
    "start_time": "2022-01-09T17:23:28.932Z"
   },
   {
    "duration": 68,
    "start_time": "2022-01-09T17:23:28.950Z"
   },
   {
    "duration": 12,
    "start_time": "2022-01-09T17:23:29.021Z"
   },
   {
    "duration": 8,
    "start_time": "2022-01-09T17:23:29.035Z"
   },
   {
    "duration": 8,
    "start_time": "2022-01-09T17:23:29.045Z"
   },
   {
    "duration": 11,
    "start_time": "2022-01-09T17:23:29.057Z"
   },
   {
    "duration": 50,
    "start_time": "2022-01-09T17:23:29.071Z"
   },
   {
    "duration": 9,
    "start_time": "2022-01-09T17:23:29.123Z"
   },
   {
    "duration": 7,
    "start_time": "2022-01-09T17:23:29.135Z"
   },
   {
    "duration": 16,
    "start_time": "2022-01-09T17:23:29.145Z"
   },
   {
    "duration": 9,
    "start_time": "2022-01-09T17:23:29.164Z"
   },
   {
    "duration": 5,
    "start_time": "2022-01-09T17:23:29.175Z"
   },
   {
    "duration": 20,
    "start_time": "2022-01-09T17:23:29.217Z"
   },
   {
    "duration": 420,
    "start_time": "2022-01-09T17:23:29.240Z"
   },
   {
    "duration": 321,
    "start_time": "2022-01-09T17:23:29.663Z"
   },
   {
    "duration": 11,
    "start_time": "2022-01-09T17:23:29.987Z"
   },
   {
    "duration": 18,
    "start_time": "2022-01-09T17:23:30.001Z"
   },
   {
    "duration": 33,
    "start_time": "2022-01-09T17:23:30.021Z"
   },
   {
    "duration": 13,
    "start_time": "2022-01-09T17:23:30.057Z"
   },
   {
    "duration": 8,
    "start_time": "2022-01-09T17:23:30.072Z"
   },
   {
    "duration": 39,
    "start_time": "2022-01-09T17:23:30.085Z"
   },
   {
    "duration": 27,
    "start_time": "2022-01-09T17:23:30.127Z"
   },
   {
    "duration": 17,
    "start_time": "2022-01-09T17:23:30.156Z"
   },
   {
    "duration": 53,
    "start_time": "2022-01-09T17:23:30.176Z"
   },
   {
    "duration": 30,
    "start_time": "2022-01-09T17:23:30.232Z"
   },
   {
    "duration": 28,
    "start_time": "2022-01-09T17:23:30.264Z"
   },
   {
    "duration": 38,
    "start_time": "2022-01-09T17:23:30.294Z"
   },
   {
    "duration": 8,
    "start_time": "2022-01-09T17:23:30.334Z"
   },
   {
    "duration": 6,
    "start_time": "2022-01-09T17:23:30.345Z"
   },
   {
    "duration": 5,
    "start_time": "2022-01-09T17:23:30.354Z"
   },
   {
    "duration": 8,
    "start_time": "2022-01-09T17:23:30.361Z"
   },
   {
    "duration": 1050,
    "start_time": "2022-01-09T17:23:30.371Z"
   },
   {
    "duration": 3459,
    "start_time": "2022-01-09T17:23:31.424Z"
   },
   {
    "duration": 34,
    "start_time": "2022-01-09T17:23:34.885Z"
   },
   {
    "duration": 6,
    "start_time": "2022-01-09T17:23:34.921Z"
   },
   {
    "duration": 12,
    "start_time": "2022-01-09T17:23:34.929Z"
   },
   {
    "duration": 2,
    "start_time": "2022-01-09T17:23:34.944Z"
   },
   {
    "duration": 6,
    "start_time": "2022-01-09T17:23:34.949Z"
   },
   {
    "duration": 9,
    "start_time": "2022-01-09T17:23:34.958Z"
   },
   {
    "duration": 52,
    "start_time": "2022-01-09T17:23:34.969Z"
   },
   {
    "duration": 7,
    "start_time": "2022-01-09T17:23:35.024Z"
   },
   {
    "duration": 10,
    "start_time": "2022-01-09T17:23:35.034Z"
   },
   {
    "duration": 21,
    "start_time": "2022-01-09T17:23:35.046Z"
   },
   {
    "duration": 65,
    "start_time": "2022-01-09T17:23:35.069Z"
   },
   {
    "duration": 9,
    "start_time": "2022-01-09T17:23:35.136Z"
   },
   {
    "duration": 4,
    "start_time": "2022-01-09T17:23:35.148Z"
   },
   {
    "duration": 18,
    "start_time": "2022-01-09T17:23:35.154Z"
   },
   {
    "duration": 16,
    "start_time": "2022-01-09T17:23:35.174Z"
   },
   {
    "duration": 45,
    "start_time": "2022-01-09T17:23:35.192Z"
   },
   {
    "duration": 12,
    "start_time": "2022-01-09T17:23:35.240Z"
   },
   {
    "duration": 98,
    "start_time": "2022-01-09T17:23:35.255Z"
   },
   {
    "duration": 17,
    "start_time": "2022-01-09T17:24:58.666Z"
   },
   {
    "duration": 14,
    "start_time": "2022-01-09T17:31:46.997Z"
   },
   {
    "duration": 862,
    "start_time": "2022-01-09T17:32:05.289Z"
   },
   {
    "duration": 19,
    "start_time": "2022-01-09T17:32:06.154Z"
   },
   {
    "duration": 16,
    "start_time": "2022-01-09T17:32:06.176Z"
   },
   {
    "duration": 65,
    "start_time": "2022-01-09T17:32:06.195Z"
   },
   {
    "duration": 13,
    "start_time": "2022-01-09T17:32:06.262Z"
   },
   {
    "duration": 8,
    "start_time": "2022-01-09T17:32:06.277Z"
   },
   {
    "duration": 34,
    "start_time": "2022-01-09T17:32:06.288Z"
   },
   {
    "duration": 12,
    "start_time": "2022-01-09T17:32:06.326Z"
   },
   {
    "duration": 9,
    "start_time": "2022-01-09T17:32:06.341Z"
   },
   {
    "duration": 8,
    "start_time": "2022-01-09T17:32:06.353Z"
   },
   {
    "duration": 8,
    "start_time": "2022-01-09T17:32:06.363Z"
   },
   {
    "duration": 53,
    "start_time": "2022-01-09T17:32:06.373Z"
   },
   {
    "duration": 10,
    "start_time": "2022-01-09T17:32:06.428Z"
   },
   {
    "duration": 4,
    "start_time": "2022-01-09T17:32:06.440Z"
   },
   {
    "duration": 22,
    "start_time": "2022-01-09T17:32:06.447Z"
   },
   {
    "duration": 441,
    "start_time": "2022-01-09T17:32:06.471Z"
   },
   {
    "duration": 337,
    "start_time": "2022-01-09T17:32:06.917Z"
   },
   {
    "duration": 13,
    "start_time": "2022-01-09T17:32:07.257Z"
   },
   {
    "duration": 9,
    "start_time": "2022-01-09T17:32:07.273Z"
   },
   {
    "duration": 41,
    "start_time": "2022-01-09T17:32:07.284Z"
   },
   {
    "duration": 11,
    "start_time": "2022-01-09T17:32:07.328Z"
   },
   {
    "duration": 5,
    "start_time": "2022-01-09T17:32:07.342Z"
   },
   {
    "duration": 19,
    "start_time": "2022-01-09T17:32:07.352Z"
   },
   {
    "duration": 62,
    "start_time": "2022-01-09T17:32:07.375Z"
   },
   {
    "duration": 16,
    "start_time": "2022-01-09T17:32:07.440Z"
   },
   {
    "duration": 23,
    "start_time": "2022-01-09T17:32:07.459Z"
   },
   {
    "duration": 47,
    "start_time": "2022-01-09T17:32:07.485Z"
   },
   {
    "duration": 25,
    "start_time": "2022-01-09T17:32:07.535Z"
   },
   {
    "duration": 22,
    "start_time": "2022-01-09T17:32:07.563Z"
   },
   {
    "duration": 37,
    "start_time": "2022-01-09T17:32:07.587Z"
   },
   {
    "duration": 18,
    "start_time": "2022-01-09T17:32:07.627Z"
   },
   {
    "duration": 7,
    "start_time": "2022-01-09T17:32:07.648Z"
   },
   {
    "duration": 4,
    "start_time": "2022-01-09T17:32:07.658Z"
   },
   {
    "duration": 975,
    "start_time": "2022-01-09T17:32:07.665Z"
   },
   {
    "duration": 3828,
    "start_time": "2022-01-09T17:32:08.643Z"
   },
   {
    "duration": 20,
    "start_time": "2022-01-09T17:32:12.473Z"
   },
   {
    "duration": 22,
    "start_time": "2022-01-09T17:32:12.496Z"
   },
   {
    "duration": 11,
    "start_time": "2022-01-09T17:32:12.521Z"
   },
   {
    "duration": 2,
    "start_time": "2022-01-09T17:32:12.535Z"
   },
   {
    "duration": 15,
    "start_time": "2022-01-09T17:32:12.539Z"
   },
   {
    "duration": 13,
    "start_time": "2022-01-09T17:32:12.557Z"
   },
   {
    "duration": 6,
    "start_time": "2022-01-09T17:32:12.572Z"
   },
   {
    "duration": 38,
    "start_time": "2022-01-09T17:32:12.580Z"
   },
   {
    "duration": 11,
    "start_time": "2022-01-09T17:32:12.629Z"
   },
   {
    "duration": 29,
    "start_time": "2022-01-09T17:32:12.642Z"
   },
   {
    "duration": 13,
    "start_time": "2022-01-09T17:32:12.674Z"
   },
   {
    "duration": 20,
    "start_time": "2022-01-09T17:32:12.718Z"
   },
   {
    "duration": 10,
    "start_time": "2022-01-09T17:32:12.741Z"
   },
   {
    "duration": 6,
    "start_time": "2022-01-09T17:32:12.754Z"
   },
   {
    "duration": 20,
    "start_time": "2022-01-09T17:32:12.762Z"
   },
   {
    "duration": 13,
    "start_time": "2022-01-09T17:32:12.818Z"
   },
   {
    "duration": 24,
    "start_time": "2022-01-09T17:32:12.834Z"
   },
   {
    "duration": 13,
    "start_time": "2022-01-09T17:32:12.860Z"
   },
   {
    "duration": 50,
    "start_time": "2022-01-09T17:32:12.875Z"
   },
   {
    "duration": 105,
    "start_time": "2022-01-09T18:06:34.044Z"
   },
   {
    "duration": 122,
    "start_time": "2022-01-09T18:06:53.986Z"
   },
   {
    "duration": 406,
    "start_time": "2022-01-09T18:07:18.011Z"
   },
   {
    "duration": 607,
    "start_time": "2022-01-09T18:08:28.543Z"
   },
   {
    "duration": 48,
    "start_time": "2022-01-09T18:10:30.606Z"
   },
   {
    "duration": 31,
    "start_time": "2022-01-09T18:11:45.582Z"
   },
   {
    "duration": 242,
    "start_time": "2022-01-10T11:15:28.876Z"
   },
   {
    "duration": 678,
    "start_time": "2022-01-10T11:15:38.652Z"
   },
   {
    "duration": 12,
    "start_time": "2022-01-10T11:15:39.333Z"
   },
   {
    "duration": 25,
    "start_time": "2022-01-10T11:15:39.348Z"
   },
   {
    "duration": 42,
    "start_time": "2022-01-10T11:15:39.376Z"
   },
   {
    "duration": 10,
    "start_time": "2022-01-10T11:15:39.420Z"
   },
   {
    "duration": 9,
    "start_time": "2022-01-10T11:15:39.431Z"
   },
   {
    "duration": 5,
    "start_time": "2022-01-10T11:15:39.442Z"
   },
   {
    "duration": 17,
    "start_time": "2022-01-10T11:15:39.450Z"
   },
   {
    "duration": 7,
    "start_time": "2022-01-10T11:15:39.470Z"
   },
   {
    "duration": 7,
    "start_time": "2022-01-10T11:15:39.479Z"
   },
   {
    "duration": 4,
    "start_time": "2022-01-10T11:15:39.487Z"
   },
   {
    "duration": 12,
    "start_time": "2022-01-10T11:15:39.493Z"
   },
   {
    "duration": 4,
    "start_time": "2022-01-10T11:15:39.507Z"
   },
   {
    "duration": 3,
    "start_time": "2022-01-10T11:15:39.513Z"
   },
   {
    "duration": 47,
    "start_time": "2022-01-10T11:15:39.517Z"
   },
   {
    "duration": 255,
    "start_time": "2022-01-10T11:15:39.566Z"
   },
   {
    "duration": 205,
    "start_time": "2022-01-10T11:15:39.822Z"
   },
   {
    "duration": 9,
    "start_time": "2022-01-10T11:15:40.029Z"
   },
   {
    "duration": 4,
    "start_time": "2022-01-10T11:15:40.040Z"
   },
   {
    "duration": 29,
    "start_time": "2022-01-10T11:15:40.046Z"
   },
   {
    "duration": 8,
    "start_time": "2022-01-10T11:15:40.077Z"
   },
   {
    "duration": 3,
    "start_time": "2022-01-10T11:15:40.087Z"
   },
   {
    "duration": 12,
    "start_time": "2022-01-10T11:15:40.094Z"
   },
   {
    "duration": 20,
    "start_time": "2022-01-10T11:15:40.108Z"
   },
   {
    "duration": 40,
    "start_time": "2022-01-10T11:15:40.130Z"
   },
   {
    "duration": 21,
    "start_time": "2022-01-10T11:15:40.172Z"
   },
   {
    "duration": 20,
    "start_time": "2022-01-10T11:15:40.195Z"
   },
   {
    "duration": 43,
    "start_time": "2022-01-10T11:15:40.217Z"
   },
   {
    "duration": 18,
    "start_time": "2022-01-10T11:15:40.262Z"
   },
   {
    "duration": 7,
    "start_time": "2022-01-10T11:15:40.282Z"
   },
   {
    "duration": 7,
    "start_time": "2022-01-10T11:15:40.291Z"
   },
   {
    "duration": 5,
    "start_time": "2022-01-10T11:15:40.300Z"
   },
   {
    "duration": 3,
    "start_time": "2022-01-10T11:15:40.307Z"
   },
   {
    "duration": 707,
    "start_time": "2022-01-10T11:15:40.312Z"
   },
   {
    "duration": 2892,
    "start_time": "2022-01-10T11:15:41.022Z"
   },
   {
    "duration": 16,
    "start_time": "2022-01-10T11:15:43.916Z"
   },
   {
    "duration": 26,
    "start_time": "2022-01-10T11:15:43.934Z"
   },
   {
    "duration": 11,
    "start_time": "2022-01-10T11:15:43.962Z"
   },
   {
    "duration": 3,
    "start_time": "2022-01-10T11:15:43.975Z"
   },
   {
    "duration": 5,
    "start_time": "2022-01-10T11:15:43.980Z"
   },
   {
    "duration": 7,
    "start_time": "2022-01-10T11:15:43.987Z"
   },
   {
    "duration": 4,
    "start_time": "2022-01-10T11:15:43.996Z"
   },
   {
    "duration": 5,
    "start_time": "2022-01-10T11:15:44.002Z"
   },
   {
    "duration": 54,
    "start_time": "2022-01-10T11:15:44.009Z"
   },
   {
    "duration": 16,
    "start_time": "2022-01-10T11:15:44.065Z"
   },
   {
    "duration": 9,
    "start_time": "2022-01-10T11:15:44.083Z"
   },
   {
    "duration": 17,
    "start_time": "2022-01-10T11:15:44.094Z"
   },
   {
    "duration": 6,
    "start_time": "2022-01-10T11:15:44.113Z"
   },
   {
    "duration": 3,
    "start_time": "2022-01-10T11:15:44.121Z"
   },
   {
    "duration": 37,
    "start_time": "2022-01-10T11:15:44.126Z"
   },
   {
    "duration": 8,
    "start_time": "2022-01-10T11:15:44.165Z"
   },
   {
    "duration": 17,
    "start_time": "2022-01-10T11:15:44.175Z"
   },
   {
    "duration": 8,
    "start_time": "2022-01-10T11:15:44.193Z"
   },
   {
    "duration": 11,
    "start_time": "2022-01-10T11:15:44.203Z"
   },
   {
    "duration": 512,
    "start_time": "2022-01-10T11:15:44.215Z"
   },
   {
    "duration": 22,
    "start_time": "2022-01-10T11:16:06.773Z"
   },
   {
    "duration": 21,
    "start_time": "2022-01-10T11:17:08.825Z"
   },
   {
    "duration": 22,
    "start_time": "2022-01-10T11:17:14.740Z"
   },
   {
    "duration": 22,
    "start_time": "2022-01-10T11:30:23.502Z"
   },
   {
    "duration": 19,
    "start_time": "2022-01-10T11:30:42.288Z"
   },
   {
    "duration": 22,
    "start_time": "2022-01-10T11:30:54.992Z"
   },
   {
    "duration": 87,
    "start_time": "2022-01-10T20:37:10.523Z"
   },
   {
    "duration": 394,
    "start_time": "2022-01-10T20:37:53.324Z"
   },
   {
    "duration": 747,
    "start_time": "2022-01-10T20:38:06.164Z"
   },
   {
    "duration": 14,
    "start_time": "2022-01-10T20:38:06.913Z"
   },
   {
    "duration": 25,
    "start_time": "2022-01-10T20:38:06.932Z"
   },
   {
    "duration": 51,
    "start_time": "2022-01-10T20:38:06.958Z"
   },
   {
    "duration": 8,
    "start_time": "2022-01-10T20:38:07.011Z"
   },
   {
    "duration": 18,
    "start_time": "2022-01-10T20:38:07.021Z"
   },
   {
    "duration": 22,
    "start_time": "2022-01-10T20:38:07.042Z"
   },
   {
    "duration": 12,
    "start_time": "2022-01-10T20:38:07.067Z"
   },
   {
    "duration": 19,
    "start_time": "2022-01-10T20:38:07.081Z"
   },
   {
    "duration": 12,
    "start_time": "2022-01-10T20:38:07.102Z"
   },
   {
    "duration": 20,
    "start_time": "2022-01-10T20:38:07.115Z"
   },
   {
    "duration": 17,
    "start_time": "2022-01-10T20:38:07.136Z"
   },
   {
    "duration": 18,
    "start_time": "2022-01-10T20:38:07.155Z"
   },
   {
    "duration": 5,
    "start_time": "2022-01-10T20:38:07.175Z"
   },
   {
    "duration": 18,
    "start_time": "2022-01-10T20:38:07.181Z"
   },
   {
    "duration": 244,
    "start_time": "2022-01-10T20:38:07.201Z"
   },
   {
    "duration": 174,
    "start_time": "2022-01-10T20:38:07.446Z"
   },
   {
    "duration": 11,
    "start_time": "2022-01-10T20:38:07.621Z"
   },
   {
    "duration": 12,
    "start_time": "2022-01-10T20:38:07.633Z"
   },
   {
    "duration": 18,
    "start_time": "2022-01-10T20:38:07.647Z"
   },
   {
    "duration": 16,
    "start_time": "2022-01-10T20:38:07.666Z"
   },
   {
    "duration": 15,
    "start_time": "2022-01-10T20:38:07.685Z"
   },
   {
    "duration": 16,
    "start_time": "2022-01-10T20:38:07.702Z"
   },
   {
    "duration": 20,
    "start_time": "2022-01-10T20:38:07.720Z"
   },
   {
    "duration": 10,
    "start_time": "2022-01-10T20:38:07.741Z"
   },
   {
    "duration": 20,
    "start_time": "2022-01-10T20:38:07.752Z"
   },
   {
    "duration": 27,
    "start_time": "2022-01-10T20:38:07.773Z"
   },
   {
    "duration": 17,
    "start_time": "2022-01-10T20:38:07.801Z"
   },
   {
    "duration": 15,
    "start_time": "2022-01-10T20:38:07.819Z"
   },
   {
    "duration": 7,
    "start_time": "2022-01-10T20:38:07.835Z"
   },
   {
    "duration": 18,
    "start_time": "2022-01-10T20:38:07.843Z"
   },
   {
    "duration": 3,
    "start_time": "2022-01-10T20:38:07.863Z"
   },
   {
    "duration": 18,
    "start_time": "2022-01-10T20:38:07.867Z"
   },
   {
    "duration": 631,
    "start_time": "2022-01-10T20:38:07.887Z"
   },
   {
    "duration": 2958,
    "start_time": "2022-01-10T20:38:08.520Z"
   },
   {
    "duration": 12,
    "start_time": "2022-01-10T20:38:11.479Z"
   },
   {
    "duration": 6,
    "start_time": "2022-01-10T20:38:11.493Z"
   },
   {
    "duration": 9,
    "start_time": "2022-01-10T20:38:11.501Z"
   },
   {
    "duration": 2,
    "start_time": "2022-01-10T20:38:11.527Z"
   },
   {
    "duration": 5,
    "start_time": "2022-01-10T20:38:11.530Z"
   },
   {
    "duration": 8,
    "start_time": "2022-01-10T20:38:11.537Z"
   },
   {
    "duration": 4,
    "start_time": "2022-01-10T20:38:11.547Z"
   },
   {
    "duration": 5,
    "start_time": "2022-01-10T20:38:11.552Z"
   },
   {
    "duration": 8,
    "start_time": "2022-01-10T20:38:11.558Z"
   },
   {
    "duration": 16,
    "start_time": "2022-01-10T20:38:11.567Z"
   },
   {
    "duration": 11,
    "start_time": "2022-01-10T20:38:11.585Z"
   },
   {
    "duration": 34,
    "start_time": "2022-01-10T20:38:11.597Z"
   },
   {
    "duration": 6,
    "start_time": "2022-01-10T20:38:11.632Z"
   },
   {
    "duration": 5,
    "start_time": "2022-01-10T20:38:11.639Z"
   },
   {
    "duration": 9,
    "start_time": "2022-01-10T20:38:11.645Z"
   },
   {
    "duration": 8,
    "start_time": "2022-01-10T20:38:11.656Z"
   },
   {
    "duration": 14,
    "start_time": "2022-01-10T20:38:11.665Z"
   },
   {
    "duration": 10,
    "start_time": "2022-01-10T20:38:11.680Z"
   },
   {
    "duration": 41,
    "start_time": "2022-01-10T20:38:11.691Z"
   },
   {
    "duration": 554,
    "start_time": "2022-01-10T20:38:11.733Z"
   },
   {
    "duration": 19,
    "start_time": "2022-01-10T20:38:12.289Z"
   },
   {
    "duration": 19,
    "start_time": "2022-01-10T20:38:12.310Z"
   },
   {
    "duration": 29,
    "start_time": "2022-01-10T20:38:47.150Z"
   },
   {
    "duration": 654,
    "start_time": "2022-01-10T20:39:35.356Z"
   },
   {
    "duration": 11,
    "start_time": "2022-01-10T20:39:36.012Z"
   },
   {
    "duration": 13,
    "start_time": "2022-01-10T20:39:36.025Z"
   },
   {
    "duration": 29,
    "start_time": "2022-01-10T20:39:36.039Z"
   },
   {
    "duration": 8,
    "start_time": "2022-01-10T20:39:36.069Z"
   },
   {
    "duration": 6,
    "start_time": "2022-01-10T20:39:36.079Z"
   },
   {
    "duration": 4,
    "start_time": "2022-01-10T20:39:36.087Z"
   },
   {
    "duration": 8,
    "start_time": "2022-01-10T20:39:36.094Z"
   },
   {
    "duration": 28,
    "start_time": "2022-01-10T20:39:36.104Z"
   },
   {
    "duration": 6,
    "start_time": "2022-01-10T20:39:36.133Z"
   },
   {
    "duration": 4,
    "start_time": "2022-01-10T20:39:36.141Z"
   },
   {
    "duration": 11,
    "start_time": "2022-01-10T20:39:36.146Z"
   },
   {
    "duration": 3,
    "start_time": "2022-01-10T20:39:36.159Z"
   },
   {
    "duration": 3,
    "start_time": "2022-01-10T20:39:36.164Z"
   },
   {
    "duration": 15,
    "start_time": "2022-01-10T20:39:36.169Z"
   },
   {
    "duration": 250,
    "start_time": "2022-01-10T20:39:36.185Z"
   },
   {
    "duration": 183,
    "start_time": "2022-01-10T20:39:36.437Z"
   },
   {
    "duration": 12,
    "start_time": "2022-01-10T20:39:36.621Z"
   },
   {
    "duration": 3,
    "start_time": "2022-01-10T20:39:36.635Z"
   },
   {
    "duration": 13,
    "start_time": "2022-01-10T20:39:36.639Z"
   },
   {
    "duration": 7,
    "start_time": "2022-01-10T20:39:36.654Z"
   },
   {
    "duration": 3,
    "start_time": "2022-01-10T20:39:36.662Z"
   },
   {
    "duration": 10,
    "start_time": "2022-01-10T20:39:36.669Z"
   },
   {
    "duration": 54,
    "start_time": "2022-01-10T20:39:36.681Z"
   },
   {
    "duration": 10,
    "start_time": "2022-01-10T20:39:36.736Z"
   },
   {
    "duration": 15,
    "start_time": "2022-01-10T20:39:36.747Z"
   },
   {
    "duration": 16,
    "start_time": "2022-01-10T20:39:36.764Z"
   },
   {
    "duration": 20,
    "start_time": "2022-01-10T20:39:36.781Z"
   },
   {
    "duration": 34,
    "start_time": "2022-01-10T20:39:36.802Z"
   },
   {
    "duration": 7,
    "start_time": "2022-01-10T20:39:36.838Z"
   },
   {
    "duration": 7,
    "start_time": "2022-01-10T20:39:36.846Z"
   },
   {
    "duration": 4,
    "start_time": "2022-01-10T20:39:36.854Z"
   },
   {
    "duration": 6,
    "start_time": "2022-01-10T20:39:36.859Z"
   },
   {
    "duration": 646,
    "start_time": "2022-01-10T20:39:36.866Z"
   },
   {
    "duration": 2938,
    "start_time": "2022-01-10T20:39:37.514Z"
   },
   {
    "duration": 16,
    "start_time": "2022-01-10T20:39:40.454Z"
   },
   {
    "duration": 15,
    "start_time": "2022-01-10T20:39:40.471Z"
   },
   {
    "duration": 11,
    "start_time": "2022-01-10T20:39:40.488Z"
   },
   {
    "duration": 2,
    "start_time": "2022-01-10T20:39:40.500Z"
   },
   {
    "duration": 7,
    "start_time": "2022-01-10T20:39:40.503Z"
   },
   {
    "duration": 18,
    "start_time": "2022-01-10T20:39:40.512Z"
   },
   {
    "duration": 7,
    "start_time": "2022-01-10T20:39:40.532Z"
   },
   {
    "duration": 7,
    "start_time": "2022-01-10T20:39:40.541Z"
   },
   {
    "duration": 6,
    "start_time": "2022-01-10T20:39:40.549Z"
   },
   {
    "duration": 16,
    "start_time": "2022-01-10T20:39:40.557Z"
   },
   {
    "duration": 7,
    "start_time": "2022-01-10T20:39:40.574Z"
   },
   {
    "duration": 12,
    "start_time": "2022-01-10T20:39:40.583Z"
   },
   {
    "duration": 30,
    "start_time": "2022-01-10T20:39:40.597Z"
   },
   {
    "duration": 4,
    "start_time": "2022-01-10T20:39:40.628Z"
   },
   {
    "duration": 8,
    "start_time": "2022-01-10T20:39:40.633Z"
   },
   {
    "duration": 9,
    "start_time": "2022-01-10T20:39:40.642Z"
   },
   {
    "duration": 15,
    "start_time": "2022-01-10T20:39:40.653Z"
   },
   {
    "duration": 8,
    "start_time": "2022-01-10T20:39:40.669Z"
   },
   {
    "duration": 13,
    "start_time": "2022-01-10T20:39:40.678Z"
   },
   {
    "duration": 593,
    "start_time": "2022-01-10T20:39:40.693Z"
   },
   {
    "duration": 19,
    "start_time": "2022-01-10T20:39:41.287Z"
   },
   {
    "duration": 18,
    "start_time": "2022-01-10T20:39:41.307Z"
   },
   {
    "duration": 26,
    "start_time": "2022-01-10T20:40:22.655Z"
   },
   {
    "duration": 351,
    "start_time": "2022-01-10T20:47:38.931Z"
   },
   {
    "duration": 19,
    "start_time": "2022-01-10T20:48:03.608Z"
   },
   {
    "duration": 847,
    "start_time": "2022-01-12T10:02:11.816Z"
   },
   {
    "duration": 20,
    "start_time": "2022-01-12T10:02:12.667Z"
   },
   {
    "duration": 41,
    "start_time": "2022-01-12T10:02:12.690Z"
   },
   {
    "duration": 45,
    "start_time": "2022-01-12T10:02:12.733Z"
   },
   {
    "duration": 16,
    "start_time": "2022-01-12T10:02:12.780Z"
   },
   {
    "duration": 30,
    "start_time": "2022-01-12T10:02:12.798Z"
   },
   {
    "duration": 7,
    "start_time": "2022-01-12T10:02:12.830Z"
   },
   {
    "duration": 11,
    "start_time": "2022-01-12T10:02:12.841Z"
   },
   {
    "duration": 9,
    "start_time": "2022-01-12T10:02:12.855Z"
   },
   {
    "duration": 9,
    "start_time": "2022-01-12T10:02:12.866Z"
   },
   {
    "duration": 45,
    "start_time": "2022-01-12T10:02:12.878Z"
   },
   {
    "duration": 16,
    "start_time": "2022-01-12T10:02:12.927Z"
   },
   {
    "duration": 10,
    "start_time": "2022-01-12T10:02:12.946Z"
   },
   {
    "duration": 6,
    "start_time": "2022-01-12T10:02:12.958Z"
   },
   {
    "duration": 67,
    "start_time": "2022-01-12T10:02:12.967Z"
   },
   {
    "duration": 436,
    "start_time": "2022-01-12T10:02:13.037Z"
   },
   {
    "duration": 313,
    "start_time": "2022-01-12T10:02:13.475Z"
   },
   {
    "duration": 11,
    "start_time": "2022-01-12T10:02:13.790Z"
   },
   {
    "duration": 20,
    "start_time": "2022-01-12T10:02:13.803Z"
   },
   {
    "duration": 18,
    "start_time": "2022-01-12T10:02:13.825Z"
   },
   {
    "duration": 11,
    "start_time": "2022-01-12T10:02:13.845Z"
   },
   {
    "duration": 6,
    "start_time": "2022-01-12T10:02:13.858Z"
   },
   {
    "duration": 19,
    "start_time": "2022-01-12T10:02:13.870Z"
   },
   {
    "duration": 26,
    "start_time": "2022-01-12T10:02:13.925Z"
   },
   {
    "duration": 16,
    "start_time": "2022-01-12T10:02:13.954Z"
   },
   {
    "duration": 53,
    "start_time": "2022-01-12T10:02:13.973Z"
   },
   {
    "duration": 27,
    "start_time": "2022-01-12T10:02:14.029Z"
   },
   {
    "duration": 65,
    "start_time": "2022-01-12T10:02:14.059Z"
   },
   {
    "duration": 25,
    "start_time": "2022-01-12T10:02:14.126Z"
   },
   {
    "duration": 9,
    "start_time": "2022-01-12T10:02:14.153Z"
   },
   {
    "duration": 7,
    "start_time": "2022-01-12T10:02:14.165Z"
   },
   {
    "duration": 8,
    "start_time": "2022-01-12T10:02:14.174Z"
   },
   {
    "duration": 4,
    "start_time": "2022-01-12T10:02:14.185Z"
   },
   {
    "duration": 893,
    "start_time": "2022-01-12T10:02:14.224Z"
   },
   {
    "duration": 3909,
    "start_time": "2022-01-12T10:02:15.124Z"
   },
   {
    "duration": 22,
    "start_time": "2022-01-12T10:02:19.036Z"
   },
   {
    "duration": 8,
    "start_time": "2022-01-12T10:02:19.060Z"
   },
   {
    "duration": 13,
    "start_time": "2022-01-12T10:02:19.070Z"
   },
   {
    "duration": 3,
    "start_time": "2022-01-12T10:02:19.085Z"
   },
   {
    "duration": 36,
    "start_time": "2022-01-12T10:02:19.090Z"
   },
   {
    "duration": 13,
    "start_time": "2022-01-12T10:02:19.128Z"
   },
   {
    "duration": 5,
    "start_time": "2022-01-12T10:02:19.144Z"
   },
   {
    "duration": 9,
    "start_time": "2022-01-12T10:02:19.152Z"
   },
   {
    "duration": 17,
    "start_time": "2022-01-12T10:02:19.164Z"
   },
   {
    "duration": 23,
    "start_time": "2022-01-12T10:02:19.223Z"
   },
   {
    "duration": 14,
    "start_time": "2022-01-12T10:02:19.249Z"
   },
   {
    "duration": 19,
    "start_time": "2022-01-12T10:02:19.266Z"
   },
   {
    "duration": 38,
    "start_time": "2022-01-12T10:02:19.287Z"
   },
   {
    "duration": 12,
    "start_time": "2022-01-12T10:02:19.327Z"
   },
   {
    "duration": 20,
    "start_time": "2022-01-12T10:02:19.341Z"
   },
   {
    "duration": 19,
    "start_time": "2022-01-12T10:02:19.363Z"
   },
   {
    "duration": 29,
    "start_time": "2022-01-12T10:02:19.384Z"
   },
   {
    "duration": 28,
    "start_time": "2022-01-12T10:02:19.416Z"
   },
   {
    "duration": 38,
    "start_time": "2022-01-12T10:02:19.446Z"
   },
   {
    "duration": 1215,
    "start_time": "2022-01-12T10:02:19.486Z"
   },
   {
    "duration": 39,
    "start_time": "2022-01-12T10:02:20.703Z"
   },
   {
    "duration": 31,
    "start_time": "2022-01-12T10:02:20.745Z"
   },
   {
    "duration": 53,
    "start_time": "2022-01-12T10:02:20.779Z"
   },
   {
    "duration": 131,
    "start_time": "2022-01-12T10:03:31.632Z"
   },
   {
    "duration": 137,
    "start_time": "2022-01-12T10:05:00.738Z"
   },
   {
    "duration": 118,
    "start_time": "2022-01-12T10:06:06.235Z"
   },
   {
    "duration": 120,
    "start_time": "2022-01-12T10:06:35.848Z"
   },
   {
    "duration": 129,
    "start_time": "2022-01-12T10:07:40.118Z"
   },
   {
    "duration": 132,
    "start_time": "2022-01-12T10:11:23.809Z"
   },
   {
    "duration": 119,
    "start_time": "2022-01-12T12:12:37.544Z"
   },
   {
    "duration": 111,
    "start_time": "2022-01-12T12:13:01.083Z"
   },
   {
    "duration": 106,
    "start_time": "2022-01-12T12:13:24.500Z"
   },
   {
    "duration": 96,
    "start_time": "2022-01-12T12:15:09.968Z"
   },
   {
    "duration": 109,
    "start_time": "2022-01-12T12:16:27.024Z"
   },
   {
    "duration": 144,
    "start_time": "2022-01-12T12:21:41.958Z"
   },
   {
    "duration": 119,
    "start_time": "2022-01-12T12:21:51.960Z"
   },
   {
    "duration": 112,
    "start_time": "2022-01-12T12:22:25.919Z"
   },
   {
    "duration": 115,
    "start_time": "2022-01-12T12:23:04.702Z"
   },
   {
    "duration": 935,
    "start_time": "2022-01-12T12:23:22.829Z"
   },
   {
    "duration": 18,
    "start_time": "2022-01-12T12:23:23.767Z"
   },
   {
    "duration": 35,
    "start_time": "2022-01-12T12:23:23.788Z"
   },
   {
    "duration": 55,
    "start_time": "2022-01-12T12:23:23.826Z"
   },
   {
    "duration": 40,
    "start_time": "2022-01-12T12:23:23.883Z"
   },
   {
    "duration": 10,
    "start_time": "2022-01-12T12:23:23.925Z"
   },
   {
    "duration": 8,
    "start_time": "2022-01-12T12:23:23.938Z"
   },
   {
    "duration": 16,
    "start_time": "2022-01-12T12:23:23.951Z"
   },
   {
    "duration": 9,
    "start_time": "2022-01-12T12:23:23.970Z"
   },
   {
    "duration": 43,
    "start_time": "2022-01-12T12:23:23.981Z"
   },
   {
    "duration": 5,
    "start_time": "2022-01-12T12:23:24.026Z"
   },
   {
    "duration": 18,
    "start_time": "2022-01-12T12:23:24.034Z"
   },
   {
    "duration": 23,
    "start_time": "2022-01-12T12:23:24.055Z"
   },
   {
    "duration": 5,
    "start_time": "2022-01-12T12:23:24.080Z"
   },
   {
    "duration": 53,
    "start_time": "2022-01-12T12:23:24.087Z"
   },
   {
    "duration": 409,
    "start_time": "2022-01-12T12:23:24.142Z"
   },
   {
    "duration": 355,
    "start_time": "2022-01-12T12:23:24.554Z"
   },
   {
    "duration": 17,
    "start_time": "2022-01-12T12:23:24.911Z"
   },
   {
    "duration": 4,
    "start_time": "2022-01-12T12:23:24.931Z"
   },
   {
    "duration": 23,
    "start_time": "2022-01-12T12:23:24.937Z"
   },
   {
    "duration": 14,
    "start_time": "2022-01-12T12:23:24.962Z"
   },
   {
    "duration": 4,
    "start_time": "2022-01-12T12:23:24.979Z"
   },
   {
    "duration": 20,
    "start_time": "2022-01-12T12:23:25.025Z"
   },
   {
    "duration": 33,
    "start_time": "2022-01-12T12:23:25.048Z"
   },
   {
    "duration": 48,
    "start_time": "2022-01-12T12:23:25.084Z"
   },
   {
    "duration": 28,
    "start_time": "2022-01-12T12:23:25.135Z"
   },
   {
    "duration": 28,
    "start_time": "2022-01-12T12:23:25.166Z"
   },
   {
    "duration": 52,
    "start_time": "2022-01-12T12:23:25.196Z"
   },
   {
    "duration": 22,
    "start_time": "2022-01-12T12:23:25.250Z"
   },
   {
    "duration": 71,
    "start_time": "2022-01-12T12:23:25.275Z"
   },
   {
    "duration": 9,
    "start_time": "2022-01-12T12:23:25.348Z"
   },
   {
    "duration": 7,
    "start_time": "2022-01-12T12:23:25.359Z"
   },
   {
    "duration": 20,
    "start_time": "2022-01-12T12:23:25.369Z"
   },
   {
    "duration": 931,
    "start_time": "2022-01-12T12:23:25.392Z"
   },
   {
    "duration": 4158,
    "start_time": "2022-01-12T12:23:26.325Z"
   },
   {
    "duration": 21,
    "start_time": "2022-01-12T12:23:30.486Z"
   },
   {
    "duration": 13,
    "start_time": "2022-01-12T12:23:30.524Z"
   },
   {
    "duration": 22,
    "start_time": "2022-01-12T12:23:30.540Z"
   },
   {
    "duration": 4,
    "start_time": "2022-01-12T12:23:30.565Z"
   },
   {
    "duration": 44,
    "start_time": "2022-01-12T12:23:30.572Z"
   },
   {
    "duration": 30,
    "start_time": "2022-01-12T12:23:30.620Z"
   },
   {
    "duration": 16,
    "start_time": "2022-01-12T12:23:30.652Z"
   },
   {
    "duration": 21,
    "start_time": "2022-01-12T12:23:30.671Z"
   },
   {
    "duration": 20,
    "start_time": "2022-01-12T12:23:30.694Z"
   },
   {
    "duration": 37,
    "start_time": "2022-01-12T12:23:30.716Z"
   },
   {
    "duration": 24,
    "start_time": "2022-01-12T12:23:30.756Z"
   },
   {
    "duration": 43,
    "start_time": "2022-01-12T12:23:30.783Z"
   },
   {
    "duration": 8,
    "start_time": "2022-01-12T12:23:30.828Z"
   },
   {
    "duration": 19,
    "start_time": "2022-01-12T12:23:30.839Z"
   },
   {
    "duration": 40,
    "start_time": "2022-01-12T12:23:30.861Z"
   },
   {
    "duration": 20,
    "start_time": "2022-01-12T12:23:30.904Z"
   },
   {
    "duration": 25,
    "start_time": "2022-01-12T12:23:30.928Z"
   },
   {
    "duration": 33,
    "start_time": "2022-01-12T12:23:30.956Z"
   },
   {
    "duration": 22,
    "start_time": "2022-01-12T12:23:30.992Z"
   },
   {
    "duration": 1570,
    "start_time": "2022-01-12T12:23:31.024Z"
   },
   {
    "duration": 39,
    "start_time": "2022-01-12T12:23:32.597Z"
   },
   {
    "duration": 30,
    "start_time": "2022-01-12T12:23:32.638Z"
   },
   {
    "duration": 59,
    "start_time": "2022-01-12T12:23:32.671Z"
   },
   {
    "duration": 192,
    "start_time": "2022-01-12T12:23:32.733Z"
   },
   {
    "duration": 95,
    "start_time": "2022-01-12T12:23:32.833Z"
   },
   {
    "duration": 201,
    "start_time": "2022-01-12T12:23:37.445Z"
   },
   {
    "duration": 175,
    "start_time": "2022-01-12T12:23:43.238Z"
   },
   {
    "duration": 927,
    "start_time": "2022-01-12T13:46:16.949Z"
   },
   {
    "duration": 23,
    "start_time": "2022-01-12T13:46:17.879Z"
   },
   {
    "duration": 30,
    "start_time": "2022-01-12T13:46:17.905Z"
   },
   {
    "duration": 47,
    "start_time": "2022-01-12T13:46:17.938Z"
   },
   {
    "duration": 37,
    "start_time": "2022-01-12T13:46:17.987Z"
   },
   {
    "duration": 12,
    "start_time": "2022-01-12T13:46:18.027Z"
   },
   {
    "duration": 14,
    "start_time": "2022-01-12T13:46:18.042Z"
   },
   {
    "duration": 36,
    "start_time": "2022-01-12T13:46:18.059Z"
   },
   {
    "duration": 27,
    "start_time": "2022-01-12T13:46:18.098Z"
   },
   {
    "duration": 13,
    "start_time": "2022-01-12T13:46:18.128Z"
   },
   {
    "duration": 9,
    "start_time": "2022-01-12T13:46:18.144Z"
   },
   {
    "duration": 25,
    "start_time": "2022-01-12T13:46:18.156Z"
   },
   {
    "duration": 6,
    "start_time": "2022-01-12T13:46:18.184Z"
   },
   {
    "duration": 32,
    "start_time": "2022-01-12T13:46:18.192Z"
   },
   {
    "duration": 32,
    "start_time": "2022-01-12T13:46:18.227Z"
   },
   {
    "duration": 422,
    "start_time": "2022-01-12T13:46:18.261Z"
   },
   {
    "duration": 346,
    "start_time": "2022-01-12T13:46:18.685Z"
   },
   {
    "duration": 13,
    "start_time": "2022-01-12T13:46:19.033Z"
   },
   {
    "duration": 5,
    "start_time": "2022-01-12T13:46:19.048Z"
   },
   {
    "duration": 25,
    "start_time": "2022-01-12T13:46:19.055Z"
   },
   {
    "duration": 41,
    "start_time": "2022-01-12T13:46:19.082Z"
   },
   {
    "duration": 5,
    "start_time": "2022-01-12T13:46:19.126Z"
   },
   {
    "duration": 21,
    "start_time": "2022-01-12T13:46:19.136Z"
   },
   {
    "duration": 30,
    "start_time": "2022-01-12T13:46:19.161Z"
   },
   {
    "duration": 39,
    "start_time": "2022-01-12T13:46:19.194Z"
   },
   {
    "duration": 21,
    "start_time": "2022-01-12T13:46:19.236Z"
   },
   {
    "duration": 30,
    "start_time": "2022-01-12T13:46:19.259Z"
   },
   {
    "duration": 51,
    "start_time": "2022-01-12T13:46:19.292Z"
   },
   {
    "duration": 21,
    "start_time": "2022-01-12T13:46:19.346Z"
   },
   {
    "duration": 10,
    "start_time": "2022-01-12T13:46:19.369Z"
   },
   {
    "duration": 11,
    "start_time": "2022-01-12T13:46:19.381Z"
   },
   {
    "duration": 30,
    "start_time": "2022-01-12T13:46:19.394Z"
   },
   {
    "duration": 2,
    "start_time": "2022-01-12T13:46:19.427Z"
   },
   {
    "duration": 895,
    "start_time": "2022-01-12T13:46:19.432Z"
   },
   {
    "duration": 4079,
    "start_time": "2022-01-12T13:46:20.330Z"
   },
   {
    "duration": 31,
    "start_time": "2022-01-12T13:46:24.411Z"
   },
   {
    "duration": 6,
    "start_time": "2022-01-12T13:46:24.445Z"
   },
   {
    "duration": 18,
    "start_time": "2022-01-12T13:46:24.454Z"
   },
   {
    "duration": 3,
    "start_time": "2022-01-12T13:46:24.474Z"
   },
   {
    "duration": 45,
    "start_time": "2022-01-12T13:46:24.479Z"
   },
   {
    "duration": 8,
    "start_time": "2022-01-12T13:46:24.527Z"
   },
   {
    "duration": 6,
    "start_time": "2022-01-12T13:46:24.537Z"
   },
   {
    "duration": 8,
    "start_time": "2022-01-12T13:46:24.545Z"
   },
   {
    "duration": 12,
    "start_time": "2022-01-12T13:46:24.556Z"
   },
   {
    "duration": 57,
    "start_time": "2022-01-12T13:46:24.571Z"
   },
   {
    "duration": 9,
    "start_time": "2022-01-12T13:46:24.631Z"
   },
   {
    "duration": 18,
    "start_time": "2022-01-12T13:46:24.643Z"
   },
   {
    "duration": 9,
    "start_time": "2022-01-12T13:46:24.664Z"
   },
   {
    "duration": 3,
    "start_time": "2022-01-12T13:46:24.676Z"
   },
   {
    "duration": 48,
    "start_time": "2022-01-12T13:46:24.682Z"
   },
   {
    "duration": 13,
    "start_time": "2022-01-12T13:46:24.732Z"
   },
   {
    "duration": 30,
    "start_time": "2022-01-12T13:46:24.747Z"
   },
   {
    "duration": 11,
    "start_time": "2022-01-12T13:46:24.779Z"
   },
   {
    "duration": 41,
    "start_time": "2022-01-12T13:46:24.792Z"
   },
   {
    "duration": 1239,
    "start_time": "2022-01-12T13:46:24.836Z"
   },
   {
    "duration": 45,
    "start_time": "2022-01-12T13:46:26.078Z"
   },
   {
    "duration": 66,
    "start_time": "2022-01-12T13:46:26.125Z"
   },
   {
    "duration": 88,
    "start_time": "2022-01-12T13:46:26.193Z"
   },
   {
    "duration": 10,
    "start_time": "2022-01-26T19:21:49.999Z"
   }
  ],
  "kernelspec": {
   "display_name": "Python 3 (ipykernel)",
   "language": "python",
   "name": "python3"
  },
  "language_info": {
   "codemirror_mode": {
    "name": "ipython",
    "version": 3
   },
   "file_extension": ".py",
   "mimetype": "text/x-python",
   "name": "python",
   "nbconvert_exporter": "python",
   "pygments_lexer": "ipython3",
   "version": "3.9.7"
  },
  "toc": {
   "base_numbering": 1,
   "nav_menu": {},
   "number_sections": true,
   "sideBar": true,
   "skip_h1_title": true,
   "title_cell": "Table of Contents",
   "title_sidebar": "Contents",
   "toc_cell": false,
   "toc_position": {},
   "toc_section_display": true,
   "toc_window_display": false
  }
 },
 "nbformat": 4,
 "nbformat_minor": 2
}
