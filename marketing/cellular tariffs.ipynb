{
 "cells": [
  {
   "cell_type": "markdown",
   "metadata": {},
   "source": [
    "## Исследование для оператора сотовой связи. \n",
    "## Нужно проанализировать поведение клиентов и сделать вывод — какой тариф лучше.\n"
   ]
  },
  {
   "cell_type": "markdown",
   "metadata": {
    "id": "SXZjUSturiGD"
   },
   "source": [
    "# 1. Откроем файлы с данными и изучим информацию."
   ]
  },
  {
   "cell_type": "code",
   "execution_count": 1,
   "metadata": {
    "id": "oI0cWC_1MD2m"
   },
   "outputs": [],
   "source": [
    "import pandas as pd\n",
    "import math \n",
    "import numpy as np\n",
    "import matplotlib.pyplot as plt\n",
    "from scipy import stats as st\n"
   ]
  },
  {
   "cell_type": "markdown",
   "metadata": {
    "id": "vau2uq-6rs1L"
   },
   "source": [
    "**Изучим отдельно каждый датасет отдельно.**\n",
    "\n",
    "Начнем с calls. \n",
    "\n",
    "* id — уникальный номер звонка\n",
    "\n",
    "* call_date — дата звонка\n",
    "\n",
    "* duration — длительность звонка в минутах\n",
    "* user_id — идентификатор пользователя, сделавшего звонок"
   ]
  },
  {
   "cell_type": "code",
   "execution_count": 2,
   "metadata": {
    "colab": {
     "base_uri": "https://localhost:8080/",
     "height": 363
    },
    "id": "jhtylVAQ7mri",
    "outputId": "8f0bf1e0-d7f4-4ce3-a9bf-71fdc9a5b9da"
   },
   "outputs": [
    {
     "data": {
      "text/html": [
       "<div>\n",
       "<style scoped>\n",
       "    .dataframe tbody tr th:only-of-type {\n",
       "        vertical-align: middle;\n",
       "    }\n",
       "\n",
       "    .dataframe tbody tr th {\n",
       "        vertical-align: top;\n",
       "    }\n",
       "\n",
       "    .dataframe thead th {\n",
       "        text-align: right;\n",
       "    }\n",
       "</style>\n",
       "<table border=\"1\" class=\"dataframe\">\n",
       "  <thead>\n",
       "    <tr style=\"text-align: right;\">\n",
       "      <th></th>\n",
       "      <th>id</th>\n",
       "      <th>call_date</th>\n",
       "      <th>duration</th>\n",
       "      <th>user_id</th>\n",
       "    </tr>\n",
       "  </thead>\n",
       "  <tbody>\n",
       "    <tr>\n",
       "      <th>0</th>\n",
       "      <td>1000_0</td>\n",
       "      <td>2018-07-25</td>\n",
       "      <td>0.00</td>\n",
       "      <td>1000</td>\n",
       "    </tr>\n",
       "    <tr>\n",
       "      <th>1</th>\n",
       "      <td>1000_1</td>\n",
       "      <td>2018-08-17</td>\n",
       "      <td>0.00</td>\n",
       "      <td>1000</td>\n",
       "    </tr>\n",
       "    <tr>\n",
       "      <th>2</th>\n",
       "      <td>1000_2</td>\n",
       "      <td>2018-06-11</td>\n",
       "      <td>2.85</td>\n",
       "      <td>1000</td>\n",
       "    </tr>\n",
       "    <tr>\n",
       "      <th>3</th>\n",
       "      <td>1000_3</td>\n",
       "      <td>2018-09-21</td>\n",
       "      <td>13.80</td>\n",
       "      <td>1000</td>\n",
       "    </tr>\n",
       "    <tr>\n",
       "      <th>4</th>\n",
       "      <td>1000_4</td>\n",
       "      <td>2018-12-15</td>\n",
       "      <td>5.18</td>\n",
       "      <td>1000</td>\n",
       "    </tr>\n",
       "    <tr>\n",
       "      <th>5</th>\n",
       "      <td>1000_5</td>\n",
       "      <td>2018-11-02</td>\n",
       "      <td>0.00</td>\n",
       "      <td>1000</td>\n",
       "    </tr>\n",
       "    <tr>\n",
       "      <th>6</th>\n",
       "      <td>1000_6</td>\n",
       "      <td>2018-10-18</td>\n",
       "      <td>0.00</td>\n",
       "      <td>1000</td>\n",
       "    </tr>\n",
       "    <tr>\n",
       "      <th>7</th>\n",
       "      <td>1000_7</td>\n",
       "      <td>2018-08-22</td>\n",
       "      <td>18.31</td>\n",
       "      <td>1000</td>\n",
       "    </tr>\n",
       "    <tr>\n",
       "      <th>8</th>\n",
       "      <td>1000_8</td>\n",
       "      <td>2018-09-15</td>\n",
       "      <td>18.44</td>\n",
       "      <td>1000</td>\n",
       "    </tr>\n",
       "    <tr>\n",
       "      <th>9</th>\n",
       "      <td>1000_9</td>\n",
       "      <td>2018-08-15</td>\n",
       "      <td>0.00</td>\n",
       "      <td>1000</td>\n",
       "    </tr>\n",
       "  </tbody>\n",
       "</table>\n",
       "</div>"
      ],
      "text/plain": [
       "       id   call_date  duration  user_id\n",
       "0  1000_0  2018-07-25      0.00     1000\n",
       "1  1000_1  2018-08-17      0.00     1000\n",
       "2  1000_2  2018-06-11      2.85     1000\n",
       "3  1000_3  2018-09-21     13.80     1000\n",
       "4  1000_4  2018-12-15      5.18     1000\n",
       "5  1000_5  2018-11-02      0.00     1000\n",
       "6  1000_6  2018-10-18      0.00     1000\n",
       "7  1000_7  2018-08-22     18.31     1000\n",
       "8  1000_8  2018-09-15     18.44     1000\n",
       "9  1000_9  2018-08-15      0.00     1000"
      ]
     },
     "execution_count": 2,
     "metadata": {},
     "output_type": "execute_result"
    }
   ],
   "source": [
    "calls = pd.read_csv('/datasets/calls.csv')\n",
    "calls.head(10)"
   ]
  },
  {
   "cell_type": "code",
   "execution_count": 3,
   "metadata": {
    "colab": {
     "base_uri": "https://localhost:8080/",
     "height": 206
    },
    "id": "v4y6RK-ntYa-",
    "outputId": "0a4fa9c4-e5a8-4147-8870-e6997319a900"
   },
   "outputs": [
    {
     "data": {
      "text/html": [
       "<div>\n",
       "<style scoped>\n",
       "    .dataframe tbody tr th:only-of-type {\n",
       "        vertical-align: middle;\n",
       "    }\n",
       "\n",
       "    .dataframe tbody tr th {\n",
       "        vertical-align: top;\n",
       "    }\n",
       "\n",
       "    .dataframe thead th {\n",
       "        text-align: right;\n",
       "    }\n",
       "</style>\n",
       "<table border=\"1\" class=\"dataframe\">\n",
       "  <thead>\n",
       "    <tr style=\"text-align: right;\">\n",
       "      <th></th>\n",
       "      <th>id</th>\n",
       "      <th>call_date</th>\n",
       "      <th>duration</th>\n",
       "      <th>user_id</th>\n",
       "    </tr>\n",
       "  </thead>\n",
       "  <tbody>\n",
       "    <tr>\n",
       "      <th>202602</th>\n",
       "      <td>1499_215</td>\n",
       "      <td>2018-12-26</td>\n",
       "      <td>0.76</td>\n",
       "      <td>1499</td>\n",
       "    </tr>\n",
       "    <tr>\n",
       "      <th>202603</th>\n",
       "      <td>1499_216</td>\n",
       "      <td>2018-10-18</td>\n",
       "      <td>18.83</td>\n",
       "      <td>1499</td>\n",
       "    </tr>\n",
       "    <tr>\n",
       "      <th>202604</th>\n",
       "      <td>1499_217</td>\n",
       "      <td>2018-11-10</td>\n",
       "      <td>10.81</td>\n",
       "      <td>1499</td>\n",
       "    </tr>\n",
       "    <tr>\n",
       "      <th>202605</th>\n",
       "      <td>1499_218</td>\n",
       "      <td>2018-10-06</td>\n",
       "      <td>4.27</td>\n",
       "      <td>1499</td>\n",
       "    </tr>\n",
       "    <tr>\n",
       "      <th>202606</th>\n",
       "      <td>1499_219</td>\n",
       "      <td>2018-12-14</td>\n",
       "      <td>19.62</td>\n",
       "      <td>1499</td>\n",
       "    </tr>\n",
       "  </tbody>\n",
       "</table>\n",
       "</div>"
      ],
      "text/plain": [
       "              id   call_date  duration  user_id\n",
       "202602  1499_215  2018-12-26      0.76     1499\n",
       "202603  1499_216  2018-10-18     18.83     1499\n",
       "202604  1499_217  2018-11-10     10.81     1499\n",
       "202605  1499_218  2018-10-06      4.27     1499\n",
       "202606  1499_219  2018-12-14     19.62     1499"
      ]
     },
     "execution_count": 3,
     "metadata": {},
     "output_type": "execute_result"
    }
   ],
   "source": [
    "calls.tail()"
   ]
  },
  {
   "cell_type": "code",
   "execution_count": 4,
   "metadata": {
    "colab": {
     "base_uri": "https://localhost:8080/"
    },
    "id": "i--5ldFLtOcU",
    "outputId": "adbc5926-c11c-4f7e-b50f-8b5a5c318661"
   },
   "outputs": [
    {
     "name": "stdout",
     "output_type": "stream",
     "text": [
      "<class 'pandas.core.frame.DataFrame'>\n",
      "RangeIndex: 202607 entries, 0 to 202606\n",
      "Data columns (total 4 columns):\n",
      " #   Column     Non-Null Count   Dtype  \n",
      "---  ------     --------------   -----  \n",
      " 0   id         202607 non-null  object \n",
      " 1   call_date  202607 non-null  object \n",
      " 2   duration   202607 non-null  float64\n",
      " 3   user_id    202607 non-null  int64  \n",
      "dtypes: float64(1), int64(1), object(2)\n",
      "memory usage: 6.2+ MB\n"
     ]
    }
   ],
   "source": [
    "calls.info()"
   ]
  },
  {
   "cell_type": "code",
   "execution_count": 5,
   "metadata": {
    "colab": {
     "base_uri": "https://localhost:8080/",
     "height": 300
    },
    "id": "uYSKhnORttvR",
    "outputId": "82ef60d0-17bd-4429-d8e5-b2741303b0ef"
   },
   "outputs": [
    {
     "data": {
      "text/html": [
       "<div>\n",
       "<style scoped>\n",
       "    .dataframe tbody tr th:only-of-type {\n",
       "        vertical-align: middle;\n",
       "    }\n",
       "\n",
       "    .dataframe tbody tr th {\n",
       "        vertical-align: top;\n",
       "    }\n",
       "\n",
       "    .dataframe thead th {\n",
       "        text-align: right;\n",
       "    }\n",
       "</style>\n",
       "<table border=\"1\" class=\"dataframe\">\n",
       "  <thead>\n",
       "    <tr style=\"text-align: right;\">\n",
       "      <th></th>\n",
       "      <th>duration</th>\n",
       "      <th>user_id</th>\n",
       "    </tr>\n",
       "  </thead>\n",
       "  <tbody>\n",
       "    <tr>\n",
       "      <th>count</th>\n",
       "      <td>202607.000000</td>\n",
       "      <td>202607.000000</td>\n",
       "    </tr>\n",
       "    <tr>\n",
       "      <th>mean</th>\n",
       "      <td>6.755887</td>\n",
       "      <td>1253.940619</td>\n",
       "    </tr>\n",
       "    <tr>\n",
       "      <th>std</th>\n",
       "      <td>5.843365</td>\n",
       "      <td>144.722751</td>\n",
       "    </tr>\n",
       "    <tr>\n",
       "      <th>min</th>\n",
       "      <td>0.000000</td>\n",
       "      <td>1000.000000</td>\n",
       "    </tr>\n",
       "    <tr>\n",
       "      <th>25%</th>\n",
       "      <td>1.300000</td>\n",
       "      <td>1126.000000</td>\n",
       "    </tr>\n",
       "    <tr>\n",
       "      <th>50%</th>\n",
       "      <td>6.000000</td>\n",
       "      <td>1260.000000</td>\n",
       "    </tr>\n",
       "    <tr>\n",
       "      <th>75%</th>\n",
       "      <td>10.700000</td>\n",
       "      <td>1379.000000</td>\n",
       "    </tr>\n",
       "    <tr>\n",
       "      <th>max</th>\n",
       "      <td>38.000000</td>\n",
       "      <td>1499.000000</td>\n",
       "    </tr>\n",
       "  </tbody>\n",
       "</table>\n",
       "</div>"
      ],
      "text/plain": [
       "            duration        user_id\n",
       "count  202607.000000  202607.000000\n",
       "mean        6.755887    1253.940619\n",
       "std         5.843365     144.722751\n",
       "min         0.000000    1000.000000\n",
       "25%         1.300000    1126.000000\n",
       "50%         6.000000    1260.000000\n",
       "75%        10.700000    1379.000000\n",
       "max        38.000000    1499.000000"
      ]
     },
     "execution_count": 5,
     "metadata": {},
     "output_type": "execute_result"
    }
   ],
   "source": [
    "calls.describe()"
   ]
  },
  {
   "cell_type": "markdown",
   "metadata": {
    "id": "B86duYDuzYJY"
   },
   "source": [
    "Приведем call_date к типу даты, duration округлим в большую сторону."
   ]
  },
  {
   "cell_type": "code",
   "execution_count": 6,
   "metadata": {
    "id": "TtGK2vonzuE7"
   },
   "outputs": [],
   "source": [
    "calls['call_date'] = pd.to_datetime(calls['call_date'], format=\"%Y-%m-%d\")\n",
    "calls['duration'] = calls['duration'].apply(math.ceil)"
   ]
  },
  {
   "cell_type": "code",
   "execution_count": 7,
   "metadata": {
    "colab": {
     "base_uri": "https://localhost:8080/"
    },
    "id": "IWXPj08z1cbV",
    "outputId": "6230b05d-152f-4491-ca8b-32cc00543518"
   },
   "outputs": [
    {
     "name": "stdout",
     "output_type": "stream",
     "text": [
      "<class 'pandas.core.frame.DataFrame'>\n",
      "RangeIndex: 202607 entries, 0 to 202606\n",
      "Data columns (total 4 columns):\n",
      " #   Column     Non-Null Count   Dtype         \n",
      "---  ------     --------------   -----         \n",
      " 0   id         202607 non-null  object        \n",
      " 1   call_date  202607 non-null  datetime64[ns]\n",
      " 2   duration   202607 non-null  int64         \n",
      " 3   user_id    202607 non-null  int64         \n",
      "dtypes: datetime64[ns](1), int64(2), object(1)\n",
      "memory usage: 6.2+ MB\n"
     ]
    }
   ],
   "source": [
    "#проверим\n",
    "calls.info()"
   ]
  },
  {
   "cell_type": "code",
   "execution_count": 8,
   "metadata": {
    "colab": {
     "base_uri": "https://localhost:8080/",
     "height": 206
    },
    "id": "WFsP0Wll1pnr",
    "outputId": "c7677660-932e-4f2b-d59e-3a9026a30131"
   },
   "outputs": [
    {
     "data": {
      "text/html": [
       "<div>\n",
       "<style scoped>\n",
       "    .dataframe tbody tr th:only-of-type {\n",
       "        vertical-align: middle;\n",
       "    }\n",
       "\n",
       "    .dataframe tbody tr th {\n",
       "        vertical-align: top;\n",
       "    }\n",
       "\n",
       "    .dataframe thead th {\n",
       "        text-align: right;\n",
       "    }\n",
       "</style>\n",
       "<table border=\"1\" class=\"dataframe\">\n",
       "  <thead>\n",
       "    <tr style=\"text-align: right;\">\n",
       "      <th></th>\n",
       "      <th>id</th>\n",
       "      <th>call_date</th>\n",
       "      <th>duration</th>\n",
       "      <th>user_id</th>\n",
       "    </tr>\n",
       "  </thead>\n",
       "  <tbody>\n",
       "    <tr>\n",
       "      <th>0</th>\n",
       "      <td>1000_0</td>\n",
       "      <td>2018-07-25</td>\n",
       "      <td>0</td>\n",
       "      <td>1000</td>\n",
       "    </tr>\n",
       "    <tr>\n",
       "      <th>1</th>\n",
       "      <td>1000_1</td>\n",
       "      <td>2018-08-17</td>\n",
       "      <td>0</td>\n",
       "      <td>1000</td>\n",
       "    </tr>\n",
       "    <tr>\n",
       "      <th>2</th>\n",
       "      <td>1000_2</td>\n",
       "      <td>2018-06-11</td>\n",
       "      <td>3</td>\n",
       "      <td>1000</td>\n",
       "    </tr>\n",
       "    <tr>\n",
       "      <th>3</th>\n",
       "      <td>1000_3</td>\n",
       "      <td>2018-09-21</td>\n",
       "      <td>14</td>\n",
       "      <td>1000</td>\n",
       "    </tr>\n",
       "    <tr>\n",
       "      <th>4</th>\n",
       "      <td>1000_4</td>\n",
       "      <td>2018-12-15</td>\n",
       "      <td>6</td>\n",
       "      <td>1000</td>\n",
       "    </tr>\n",
       "  </tbody>\n",
       "</table>\n",
       "</div>"
      ],
      "text/plain": [
       "       id  call_date  duration  user_id\n",
       "0  1000_0 2018-07-25         0     1000\n",
       "1  1000_1 2018-08-17         0     1000\n",
       "2  1000_2 2018-06-11         3     1000\n",
       "3  1000_3 2018-09-21        14     1000\n",
       "4  1000_4 2018-12-15         6     1000"
      ]
     },
     "execution_count": 8,
     "metadata": {},
     "output_type": "execute_result"
    }
   ],
   "source": [
    "calls.head()"
   ]
  },
  {
   "cell_type": "markdown",
   "metadata": {
    "id": "GjCTQpmE2Btd"
   },
   "source": [
    "C calls пока все.\n",
    "\n",
    "Теперь изучим internet.\n",
    "* id — уникальный номер сессии\n",
    "* mb_used — объём потраченного за сессию интернет-трафика (в мегабайтах)\n",
    "*  session_date — дата интернет-сессии\n",
    "* user_id — идентификатор пользователя\n"
   ]
  },
  {
   "cell_type": "code",
   "execution_count": 9,
   "metadata": {
    "colab": {
     "base_uri": "https://localhost:8080/",
     "height": 206
    },
    "id": "FqsslL4A8iAd",
    "outputId": "9c0ad582-1fa5-4608-8763-b2972b576f1e"
   },
   "outputs": [
    {
     "data": {
      "text/html": [
       "<div>\n",
       "<style scoped>\n",
       "    .dataframe tbody tr th:only-of-type {\n",
       "        vertical-align: middle;\n",
       "    }\n",
       "\n",
       "    .dataframe tbody tr th {\n",
       "        vertical-align: top;\n",
       "    }\n",
       "\n",
       "    .dataframe thead th {\n",
       "        text-align: right;\n",
       "    }\n",
       "</style>\n",
       "<table border=\"1\" class=\"dataframe\">\n",
       "  <thead>\n",
       "    <tr style=\"text-align: right;\">\n",
       "      <th></th>\n",
       "      <th>Unnamed: 0</th>\n",
       "      <th>id</th>\n",
       "      <th>mb_used</th>\n",
       "      <th>session_date</th>\n",
       "      <th>user_id</th>\n",
       "    </tr>\n",
       "  </thead>\n",
       "  <tbody>\n",
       "    <tr>\n",
       "      <th>0</th>\n",
       "      <td>0</td>\n",
       "      <td>1000_0</td>\n",
       "      <td>112.95</td>\n",
       "      <td>2018-11-25</td>\n",
       "      <td>1000</td>\n",
       "    </tr>\n",
       "    <tr>\n",
       "      <th>1</th>\n",
       "      <td>1</td>\n",
       "      <td>1000_1</td>\n",
       "      <td>1052.81</td>\n",
       "      <td>2018-09-07</td>\n",
       "      <td>1000</td>\n",
       "    </tr>\n",
       "    <tr>\n",
       "      <th>2</th>\n",
       "      <td>2</td>\n",
       "      <td>1000_2</td>\n",
       "      <td>1197.26</td>\n",
       "      <td>2018-06-25</td>\n",
       "      <td>1000</td>\n",
       "    </tr>\n",
       "    <tr>\n",
       "      <th>3</th>\n",
       "      <td>3</td>\n",
       "      <td>1000_3</td>\n",
       "      <td>550.27</td>\n",
       "      <td>2018-08-22</td>\n",
       "      <td>1000</td>\n",
       "    </tr>\n",
       "    <tr>\n",
       "      <th>4</th>\n",
       "      <td>4</td>\n",
       "      <td>1000_4</td>\n",
       "      <td>302.56</td>\n",
       "      <td>2018-09-24</td>\n",
       "      <td>1000</td>\n",
       "    </tr>\n",
       "  </tbody>\n",
       "</table>\n",
       "</div>"
      ],
      "text/plain": [
       "   Unnamed: 0      id  mb_used session_date  user_id\n",
       "0           0  1000_0   112.95   2018-11-25     1000\n",
       "1           1  1000_1  1052.81   2018-09-07     1000\n",
       "2           2  1000_2  1197.26   2018-06-25     1000\n",
       "3           3  1000_3   550.27   2018-08-22     1000\n",
       "4           4  1000_4   302.56   2018-09-24     1000"
      ]
     },
     "execution_count": 9,
     "metadata": {},
     "output_type": "execute_result"
    }
   ],
   "source": [
    "internet = pd.read_csv('https://code.s3.yandex.net/datasets/internet.csv')\n",
    "internet.head()"
   ]
  },
  {
   "cell_type": "code",
   "execution_count": 10,
   "metadata": {
    "colab": {
     "base_uri": "https://localhost:8080/"
    },
    "id": "VebEuLXK2uzY",
    "outputId": "f2748260-a957-4ee2-8d45-aa2de980c815"
   },
   "outputs": [
    {
     "name": "stdout",
     "output_type": "stream",
     "text": [
      "<class 'pandas.core.frame.DataFrame'>\n",
      "RangeIndex: 149396 entries, 0 to 149395\n",
      "Data columns (total 5 columns):\n",
      " #   Column        Non-Null Count   Dtype  \n",
      "---  ------        --------------   -----  \n",
      " 0   Unnamed: 0    149396 non-null  int64  \n",
      " 1   id            149396 non-null  object \n",
      " 2   mb_used       149396 non-null  float64\n",
      " 3   session_date  149396 non-null  object \n",
      " 4   user_id       149396 non-null  int64  \n",
      "dtypes: float64(1), int64(2), object(2)\n",
      "memory usage: 5.7+ MB\n"
     ]
    }
   ],
   "source": [
    "internet.info()"
   ]
  },
  {
   "cell_type": "code",
   "execution_count": 11,
   "metadata": {
    "colab": {
     "base_uri": "https://localhost:8080/",
     "height": 300
    },
    "id": "BDOeyePh2u4l",
    "outputId": "0f7668d4-c4ab-4a20-e55e-f5ebc03220b2"
   },
   "outputs": [
    {
     "data": {
      "text/html": [
       "<div>\n",
       "<style scoped>\n",
       "    .dataframe tbody tr th:only-of-type {\n",
       "        vertical-align: middle;\n",
       "    }\n",
       "\n",
       "    .dataframe tbody tr th {\n",
       "        vertical-align: top;\n",
       "    }\n",
       "\n",
       "    .dataframe thead th {\n",
       "        text-align: right;\n",
       "    }\n",
       "</style>\n",
       "<table border=\"1\" class=\"dataframe\">\n",
       "  <thead>\n",
       "    <tr style=\"text-align: right;\">\n",
       "      <th></th>\n",
       "      <th>Unnamed: 0</th>\n",
       "      <th>mb_used</th>\n",
       "      <th>user_id</th>\n",
       "    </tr>\n",
       "  </thead>\n",
       "  <tbody>\n",
       "    <tr>\n",
       "      <th>count</th>\n",
       "      <td>149396.000000</td>\n",
       "      <td>149396.000000</td>\n",
       "      <td>149396.000000</td>\n",
       "    </tr>\n",
       "    <tr>\n",
       "      <th>mean</th>\n",
       "      <td>74697.500000</td>\n",
       "      <td>370.192426</td>\n",
       "      <td>1252.099842</td>\n",
       "    </tr>\n",
       "    <tr>\n",
       "      <th>std</th>\n",
       "      <td>43127.054745</td>\n",
       "      <td>278.300951</td>\n",
       "      <td>144.050823</td>\n",
       "    </tr>\n",
       "    <tr>\n",
       "      <th>min</th>\n",
       "      <td>0.000000</td>\n",
       "      <td>0.000000</td>\n",
       "      <td>1000.000000</td>\n",
       "    </tr>\n",
       "    <tr>\n",
       "      <th>25%</th>\n",
       "      <td>37348.750000</td>\n",
       "      <td>138.187500</td>\n",
       "      <td>1130.000000</td>\n",
       "    </tr>\n",
       "    <tr>\n",
       "      <th>50%</th>\n",
       "      <td>74697.500000</td>\n",
       "      <td>348.015000</td>\n",
       "      <td>1251.000000</td>\n",
       "    </tr>\n",
       "    <tr>\n",
       "      <th>75%</th>\n",
       "      <td>112046.250000</td>\n",
       "      <td>559.552500</td>\n",
       "      <td>1380.000000</td>\n",
       "    </tr>\n",
       "    <tr>\n",
       "      <th>max</th>\n",
       "      <td>149395.000000</td>\n",
       "      <td>1724.830000</td>\n",
       "      <td>1499.000000</td>\n",
       "    </tr>\n",
       "  </tbody>\n",
       "</table>\n",
       "</div>"
      ],
      "text/plain": [
       "          Unnamed: 0        mb_used        user_id\n",
       "count  149396.000000  149396.000000  149396.000000\n",
       "mean    74697.500000     370.192426    1252.099842\n",
       "std     43127.054745     278.300951     144.050823\n",
       "min         0.000000       0.000000    1000.000000\n",
       "25%     37348.750000     138.187500    1130.000000\n",
       "50%     74697.500000     348.015000    1251.000000\n",
       "75%    112046.250000     559.552500    1380.000000\n",
       "max    149395.000000    1724.830000    1499.000000"
      ]
     },
     "execution_count": 11,
     "metadata": {},
     "output_type": "execute_result"
    }
   ],
   "source": [
    "internet.describe()"
   ]
  },
  {
   "cell_type": "markdown",
   "metadata": {
    "id": "WZWXAQFPG2cC"
   },
   "source": [
    "Также поправим формат даты. Объем потраченного за сессию пока не трогаем\n"
   ]
  },
  {
   "cell_type": "code",
   "execution_count": 12,
   "metadata": {
    "id": "OgyM-XquHvbY"
   },
   "outputs": [],
   "source": [
    "internet['session_date'] = pd.to_datetime(internet['session_date'], format=\"%Y-%m-%d\")"
   ]
  },
  {
   "cell_type": "code",
   "execution_count": 13,
   "metadata": {
    "colab": {
     "base_uri": "https://localhost:8080/"
    },
    "id": "s-ht3zboIFIc",
    "outputId": "aaf0ce17-3d84-4d23-de9f-18f17f50b864"
   },
   "outputs": [
    {
     "name": "stdout",
     "output_type": "stream",
     "text": [
      "<class 'pandas.core.frame.DataFrame'>\n",
      "RangeIndex: 149396 entries, 0 to 149395\n",
      "Data columns (total 5 columns):\n",
      " #   Column        Non-Null Count   Dtype         \n",
      "---  ------        --------------   -----         \n",
      " 0   Unnamed: 0    149396 non-null  int64         \n",
      " 1   id            149396 non-null  object        \n",
      " 2   mb_used       149396 non-null  float64       \n",
      " 3   session_date  149396 non-null  datetime64[ns]\n",
      " 4   user_id       149396 non-null  int64         \n",
      "dtypes: datetime64[ns](1), float64(1), int64(2), object(1)\n",
      "memory usage: 5.7+ MB\n"
     ]
    }
   ],
   "source": [
    "#проверим\n",
    "internet.info()"
   ]
  },
  {
   "cell_type": "markdown",
   "metadata": {
    "id": "j-fcC_RdILnS"
   },
   "source": [
    "ОК.\n",
    "\n",
    "Теперь посмотрм на сообщения.\n",
    "\n",
    "\n",
    "* d — уникальный номер сообщения\n",
    "* message_date — дата сообщения\n",
    "* user_id — идентификатор пользователя, отправившего сообщение\n"
   ]
  },
  {
   "cell_type": "code",
   "execution_count": 14,
   "metadata": {
    "colab": {
     "base_uri": "https://localhost:8080/",
     "height": 206
    },
    "id": "jT_v5UkZ9hMA",
    "outputId": "e70a0be1-af6c-4939-d0c3-6ee9b53ed2b5"
   },
   "outputs": [
    {
     "data": {
      "text/html": [
       "<div>\n",
       "<style scoped>\n",
       "    .dataframe tbody tr th:only-of-type {\n",
       "        vertical-align: middle;\n",
       "    }\n",
       "\n",
       "    .dataframe tbody tr th {\n",
       "        vertical-align: top;\n",
       "    }\n",
       "\n",
       "    .dataframe thead th {\n",
       "        text-align: right;\n",
       "    }\n",
       "</style>\n",
       "<table border=\"1\" class=\"dataframe\">\n",
       "  <thead>\n",
       "    <tr style=\"text-align: right;\">\n",
       "      <th></th>\n",
       "      <th>id</th>\n",
       "      <th>message_date</th>\n",
       "      <th>user_id</th>\n",
       "    </tr>\n",
       "  </thead>\n",
       "  <tbody>\n",
       "    <tr>\n",
       "      <th>0</th>\n",
       "      <td>1000_0</td>\n",
       "      <td>2018-06-27</td>\n",
       "      <td>1000</td>\n",
       "    </tr>\n",
       "    <tr>\n",
       "      <th>1</th>\n",
       "      <td>1000_1</td>\n",
       "      <td>2018-10-08</td>\n",
       "      <td>1000</td>\n",
       "    </tr>\n",
       "    <tr>\n",
       "      <th>2</th>\n",
       "      <td>1000_2</td>\n",
       "      <td>2018-08-04</td>\n",
       "      <td>1000</td>\n",
       "    </tr>\n",
       "    <tr>\n",
       "      <th>3</th>\n",
       "      <td>1000_3</td>\n",
       "      <td>2018-06-16</td>\n",
       "      <td>1000</td>\n",
       "    </tr>\n",
       "    <tr>\n",
       "      <th>4</th>\n",
       "      <td>1000_4</td>\n",
       "      <td>2018-12-05</td>\n",
       "      <td>1000</td>\n",
       "    </tr>\n",
       "  </tbody>\n",
       "</table>\n",
       "</div>"
      ],
      "text/plain": [
       "       id message_date  user_id\n",
       "0  1000_0   2018-06-27     1000\n",
       "1  1000_1   2018-10-08     1000\n",
       "2  1000_2   2018-08-04     1000\n",
       "3  1000_3   2018-06-16     1000\n",
       "4  1000_4   2018-12-05     1000"
      ]
     },
     "execution_count": 14,
     "metadata": {},
     "output_type": "execute_result"
    }
   ],
   "source": [
    "messages = pd.read_csv('https://code.s3.yandex.net/datasets/messages.csv')\n",
    "messages.head()"
   ]
  },
  {
   "cell_type": "code",
   "execution_count": 15,
   "metadata": {
    "colab": {
     "base_uri": "https://localhost:8080/"
    },
    "id": "TnhXGRMqIk7e",
    "outputId": "b9e3b02a-a093-4e8b-f785-4628852a2ba4"
   },
   "outputs": [
    {
     "name": "stdout",
     "output_type": "stream",
     "text": [
      "<class 'pandas.core.frame.DataFrame'>\n",
      "RangeIndex: 123036 entries, 0 to 123035\n",
      "Data columns (total 3 columns):\n",
      " #   Column        Non-Null Count   Dtype \n",
      "---  ------        --------------   ----- \n",
      " 0   id            123036 non-null  object\n",
      " 1   message_date  123036 non-null  object\n",
      " 2   user_id       123036 non-null  int64 \n",
      "dtypes: int64(1), object(2)\n",
      "memory usage: 2.8+ MB\n"
     ]
    }
   ],
   "source": [
    "messages.info() "
   ]
  },
  {
   "cell_type": "markdown",
   "metadata": {
    "id": "Q6ojHu32I4Yu"
   },
   "source": [
    "Здесь также нужно поправиь дату."
   ]
  },
  {
   "cell_type": "code",
   "execution_count": 16,
   "metadata": {
    "id": "-TMDpp_EI-eD"
   },
   "outputs": [],
   "source": [
    "messages['message_date'] = pd.to_datetime(messages['message_date'], format=\"%Y-%m-%d\")"
   ]
  },
  {
   "cell_type": "code",
   "execution_count": 17,
   "metadata": {
    "colab": {
     "base_uri": "https://localhost:8080/"
    },
    "id": "xaBdBOitJK8D",
    "outputId": "923c62ff-4dc8-420f-d596-7966ae7379ab"
   },
   "outputs": [
    {
     "name": "stdout",
     "output_type": "stream",
     "text": [
      "<class 'pandas.core.frame.DataFrame'>\n",
      "RangeIndex: 123036 entries, 0 to 123035\n",
      "Data columns (total 3 columns):\n",
      " #   Column        Non-Null Count   Dtype         \n",
      "---  ------        --------------   -----         \n",
      " 0   id            123036 non-null  object        \n",
      " 1   message_date  123036 non-null  datetime64[ns]\n",
      " 2   user_id       123036 non-null  int64         \n",
      "dtypes: datetime64[ns](1), int64(1), object(1)\n",
      "memory usage: 2.8+ MB\n"
     ]
    }
   ],
   "source": [
    "#проверим\n",
    "messages.info()"
   ]
  },
  {
   "cell_type": "markdown",
   "metadata": {
    "id": "rhYqzdxAJW1A"
   },
   "source": [
    "Хорошо.\n",
    "Теперь изучим тарифы.\n",
    "\n",
    "* tariff_name — название тарифа\n",
    "* rub_monthly_fee — ежемесячная абонентская плата в рублях\n",
    "* minutes_included — количество минут разговора в месяц, включённых в абонентскую плату\n",
    "* messages_included — количество сообщений в месяц, включённых в абонентскую плату\n",
    "* mb_per_month_included — объём интернет-трафика, включённого в абонентскую плату (в мегабайтах)\n",
    "* rub_per_minute — стоимость минуты разговора сверх тарифного пакета (например, если в тарифе 100 минут разговора в месяц, то со 101 минуты будет взиматься плата)\n",
    "* rub_per_message — стоимость отправки сообщения сверх тарифного пакета\n",
    "* rub_per_gb — стоимость дополнительного гигабайта интернет-трафика сверх тарифного пакета (1 гигабайт = 1024 мегабайта)\n"
   ]
  },
  {
   "cell_type": "code",
   "execution_count": 18,
   "metadata": {
    "colab": {
     "base_uri": "https://localhost:8080/",
     "height": 176
    },
    "id": "SE0zuIzR9h57",
    "outputId": "1954c58c-0c4e-43a2-f55c-5d40a73ef508"
   },
   "outputs": [
    {
     "data": {
      "text/html": [
       "<div>\n",
       "<style scoped>\n",
       "    .dataframe tbody tr th:only-of-type {\n",
       "        vertical-align: middle;\n",
       "    }\n",
       "\n",
       "    .dataframe tbody tr th {\n",
       "        vertical-align: top;\n",
       "    }\n",
       "\n",
       "    .dataframe thead th {\n",
       "        text-align: right;\n",
       "    }\n",
       "</style>\n",
       "<table border=\"1\" class=\"dataframe\">\n",
       "  <thead>\n",
       "    <tr style=\"text-align: right;\">\n",
       "      <th></th>\n",
       "      <th>messages_included</th>\n",
       "      <th>mb_per_month_included</th>\n",
       "      <th>minutes_included</th>\n",
       "      <th>rub_monthly_fee</th>\n",
       "      <th>rub_per_gb</th>\n",
       "      <th>rub_per_message</th>\n",
       "      <th>rub_per_minute</th>\n",
       "      <th>tariff_name</th>\n",
       "    </tr>\n",
       "  </thead>\n",
       "  <tbody>\n",
       "    <tr>\n",
       "      <th>0</th>\n",
       "      <td>50</td>\n",
       "      <td>15360</td>\n",
       "      <td>500</td>\n",
       "      <td>550</td>\n",
       "      <td>200</td>\n",
       "      <td>3</td>\n",
       "      <td>3</td>\n",
       "      <td>smart</td>\n",
       "    </tr>\n",
       "    <tr>\n",
       "      <th>1</th>\n",
       "      <td>1000</td>\n",
       "      <td>30720</td>\n",
       "      <td>3000</td>\n",
       "      <td>1950</td>\n",
       "      <td>150</td>\n",
       "      <td>1</td>\n",
       "      <td>1</td>\n",
       "      <td>ultra</td>\n",
       "    </tr>\n",
       "  </tbody>\n",
       "</table>\n",
       "</div>"
      ],
      "text/plain": [
       "   messages_included  mb_per_month_included  minutes_included  \\\n",
       "0                 50                  15360               500   \n",
       "1               1000                  30720              3000   \n",
       "\n",
       "   rub_monthly_fee  rub_per_gb  rub_per_message  rub_per_minute tariff_name  \n",
       "0              550         200                3               3       smart  \n",
       "1             1950         150                1               1       ultra  "
      ]
     },
     "execution_count": 18,
     "metadata": {},
     "output_type": "execute_result"
    }
   ],
   "source": [
    "tariffs = pd.read_csv('https://code.s3.yandex.net/datasets/tariffs.csv')\n",
    "tariffs.head()"
   ]
  },
  {
   "cell_type": "code",
   "execution_count": 19,
   "metadata": {
    "colab": {
     "base_uri": "https://localhost:8080/"
    },
    "id": "ycz0JCwVKanu",
    "outputId": "09d9fb01-552a-4cb9-ab21-cae1b957ff30"
   },
   "outputs": [
    {
     "name": "stdout",
     "output_type": "stream",
     "text": [
      "<class 'pandas.core.frame.DataFrame'>\n",
      "RangeIndex: 2 entries, 0 to 1\n",
      "Data columns (total 8 columns):\n",
      " #   Column                 Non-Null Count  Dtype \n",
      "---  ------                 --------------  ----- \n",
      " 0   messages_included      2 non-null      int64 \n",
      " 1   mb_per_month_included  2 non-null      int64 \n",
      " 2   minutes_included       2 non-null      int64 \n",
      " 3   rub_monthly_fee        2 non-null      int64 \n",
      " 4   rub_per_gb             2 non-null      int64 \n",
      " 5   rub_per_message        2 non-null      int64 \n",
      " 6   rub_per_minute         2 non-null      int64 \n",
      " 7   tariff_name            2 non-null      object\n",
      "dtypes: int64(7), object(1)\n",
      "memory usage: 256.0+ bytes\n"
     ]
    }
   ],
   "source": [
    "tariffs.info()"
   ]
  },
  {
   "cell_type": "markdown",
   "metadata": {
    "id": "977thb34O0Ds"
   },
   "source": [
    "Здесь меня пока ничего не смущает."
   ]
  },
  {
   "cell_type": "markdown",
   "metadata": {
    "id": "syzB-QHgPCUa"
   },
   "source": [
    "Теперь пользователи\n",
    "* user_id — уникальный идентификатор пользователя\n",
    "* first_name — имя пользователя\n",
    "* last_name — фамилия пользователя\n",
    "* age — возраст пользователя (годы)\n",
    "* reg_date — дата подключения тарифа (день, месяц, год)\n",
    "* churn_date — дата прекращения пользования тарифом (если значение пропущено, то тариф ещё действовал на момент выгрузки данных)\n",
    "* city — город проживания пользователя\n",
    "* tarif — название тарифного плана\n",
    "\n",
    "\n",
    "\n",
    "\n"
   ]
  },
  {
   "cell_type": "code",
   "execution_count": 20,
   "metadata": {
    "colab": {
     "base_uri": "https://localhost:8080/",
     "height": 206
    },
    "id": "58H92sNt9jBf",
    "outputId": "c3cdbc9d-d9c5-4922-da7e-909cf8ff8781"
   },
   "outputs": [
    {
     "data": {
      "text/html": [
       "<div>\n",
       "<style scoped>\n",
       "    .dataframe tbody tr th:only-of-type {\n",
       "        vertical-align: middle;\n",
       "    }\n",
       "\n",
       "    .dataframe tbody tr th {\n",
       "        vertical-align: top;\n",
       "    }\n",
       "\n",
       "    .dataframe thead th {\n",
       "        text-align: right;\n",
       "    }\n",
       "</style>\n",
       "<table border=\"1\" class=\"dataframe\">\n",
       "  <thead>\n",
       "    <tr style=\"text-align: right;\">\n",
       "      <th></th>\n",
       "      <th>user_id</th>\n",
       "      <th>age</th>\n",
       "      <th>churn_date</th>\n",
       "      <th>city</th>\n",
       "      <th>first_name</th>\n",
       "      <th>last_name</th>\n",
       "      <th>reg_date</th>\n",
       "      <th>tariff</th>\n",
       "    </tr>\n",
       "  </thead>\n",
       "  <tbody>\n",
       "    <tr>\n",
       "      <th>0</th>\n",
       "      <td>1000</td>\n",
       "      <td>52</td>\n",
       "      <td>NaN</td>\n",
       "      <td>Краснодар</td>\n",
       "      <td>Рафаил</td>\n",
       "      <td>Верещагин</td>\n",
       "      <td>2018-05-25</td>\n",
       "      <td>ultra</td>\n",
       "    </tr>\n",
       "    <tr>\n",
       "      <th>1</th>\n",
       "      <td>1001</td>\n",
       "      <td>41</td>\n",
       "      <td>NaN</td>\n",
       "      <td>Москва</td>\n",
       "      <td>Иван</td>\n",
       "      <td>Ежов</td>\n",
       "      <td>2018-11-01</td>\n",
       "      <td>smart</td>\n",
       "    </tr>\n",
       "    <tr>\n",
       "      <th>2</th>\n",
       "      <td>1002</td>\n",
       "      <td>59</td>\n",
       "      <td>NaN</td>\n",
       "      <td>Стерлитамак</td>\n",
       "      <td>Евгений</td>\n",
       "      <td>Абрамович</td>\n",
       "      <td>2018-06-17</td>\n",
       "      <td>smart</td>\n",
       "    </tr>\n",
       "    <tr>\n",
       "      <th>3</th>\n",
       "      <td>1003</td>\n",
       "      <td>23</td>\n",
       "      <td>NaN</td>\n",
       "      <td>Москва</td>\n",
       "      <td>Белла</td>\n",
       "      <td>Белякова</td>\n",
       "      <td>2018-08-17</td>\n",
       "      <td>ultra</td>\n",
       "    </tr>\n",
       "    <tr>\n",
       "      <th>4</th>\n",
       "      <td>1004</td>\n",
       "      <td>68</td>\n",
       "      <td>NaN</td>\n",
       "      <td>Новокузнецк</td>\n",
       "      <td>Татьяна</td>\n",
       "      <td>Авдеенко</td>\n",
       "      <td>2018-05-14</td>\n",
       "      <td>ultra</td>\n",
       "    </tr>\n",
       "  </tbody>\n",
       "</table>\n",
       "</div>"
      ],
      "text/plain": [
       "   user_id  age churn_date         city first_name  last_name    reg_date  \\\n",
       "0     1000   52        NaN    Краснодар     Рафаил  Верещагин  2018-05-25   \n",
       "1     1001   41        NaN       Москва       Иван       Ежов  2018-11-01   \n",
       "2     1002   59        NaN  Стерлитамак    Евгений  Абрамович  2018-06-17   \n",
       "3     1003   23        NaN       Москва      Белла   Белякова  2018-08-17   \n",
       "4     1004   68        NaN  Новокузнецк    Татьяна   Авдеенко  2018-05-14   \n",
       "\n",
       "  tariff  \n",
       "0  ultra  \n",
       "1  smart  \n",
       "2  smart  \n",
       "3  ultra  \n",
       "4  ultra  "
      ]
     },
     "execution_count": 20,
     "metadata": {},
     "output_type": "execute_result"
    }
   ],
   "source": [
    "users = pd.read_csv('https://code.s3.yandex.net/datasets/users.csv')\n",
    "users.head()"
   ]
  },
  {
   "cell_type": "code",
   "execution_count": 21,
   "metadata": {
    "colab": {
     "base_uri": "https://localhost:8080/"
    },
    "id": "V1SVPbFmDFrZ",
    "outputId": "ce2c428a-a67e-4899-fb95-1909bf5c7f0f"
   },
   "outputs": [
    {
     "name": "stdout",
     "output_type": "stream",
     "text": [
      "<class 'pandas.core.frame.DataFrame'>\n",
      "RangeIndex: 500 entries, 0 to 499\n",
      "Data columns (total 8 columns):\n",
      " #   Column      Non-Null Count  Dtype \n",
      "---  ------      --------------  ----- \n",
      " 0   user_id     500 non-null    int64 \n",
      " 1   age         500 non-null    int64 \n",
      " 2   churn_date  38 non-null     object\n",
      " 3   city        500 non-null    object\n",
      " 4   first_name  500 non-null    object\n",
      " 5   last_name   500 non-null    object\n",
      " 6   reg_date    500 non-null    object\n",
      " 7   tariff      500 non-null    object\n",
      "dtypes: int64(2), object(6)\n",
      "memory usage: 31.4+ KB\n"
     ]
    }
   ],
   "source": [
    "users.info()"
   ]
  },
  {
   "cell_type": "markdown",
   "metadata": {
    "id": "l-aGoBzKRU_u"
   },
   "source": [
    "Поправим тип в датах."
   ]
  },
  {
   "cell_type": "code",
   "execution_count": 22,
   "metadata": {
    "id": "UEJa9g85RbrF"
   },
   "outputs": [],
   "source": [
    "users['churn_date'] = pd.to_datetime(users['churn_date'], format=\"%Y-%m-%d\")\n",
    "users['reg_date'] = pd.to_datetime(users['reg_date'], format=\"%Y-%m-%d\")"
   ]
  },
  {
   "cell_type": "code",
   "execution_count": 23,
   "metadata": {
    "colab": {
     "base_uri": "https://localhost:8080/"
    },
    "id": "A1gDEoUYR3Uu",
    "outputId": "8d0a661e-4825-4a6d-b9fb-6475c8804ca1"
   },
   "outputs": [
    {
     "name": "stdout",
     "output_type": "stream",
     "text": [
      "<class 'pandas.core.frame.DataFrame'>\n",
      "RangeIndex: 500 entries, 0 to 499\n",
      "Data columns (total 8 columns):\n",
      " #   Column      Non-Null Count  Dtype         \n",
      "---  ------      --------------  -----         \n",
      " 0   user_id     500 non-null    int64         \n",
      " 1   age         500 non-null    int64         \n",
      " 2   churn_date  38 non-null     datetime64[ns]\n",
      " 3   city        500 non-null    object        \n",
      " 4   first_name  500 non-null    object        \n",
      " 5   last_name   500 non-null    object        \n",
      " 6   reg_date    500 non-null    datetime64[ns]\n",
      " 7   tariff      500 non-null    object        \n",
      "dtypes: datetime64[ns](2), int64(2), object(4)\n",
      "memory usage: 31.4+ KB\n"
     ]
    }
   ],
   "source": [
    "#проверим\n",
    "users.info()"
   ]
  },
  {
   "cell_type": "markdown",
   "metadata": {
    "id": "gIMyFz0S9EZY"
   },
   "source": [
    "# 2. Подготовка данных.\n"
   ]
  },
  {
   "cell_type": "markdown",
   "metadata": {
    "id": "cHaw2cZ89UsZ"
   },
   "source": [
    "**Посчитайте для каждого пользователя:**\n",
    "\n",
    "* количество сделанных звонков и израсходованных минут разговора по месяцам\n",
    "* количество отправленных сообщений по месяцам;\n",
    "* объем израсходованного интернет-трафика по месяцам;\n",
    "* помесячную выручку с каждого пользователя (вычтите бесплатный лимит из суммарного количества звонков, сообщений и интернет-трафика; остаток умножьте на значение из тарифного плана; прибавьте абонентскую плату, соответствующую тарифному плану). \n",
    "\n",
    "\n"
   ]
  },
  {
   "cell_type": "markdown",
   "metadata": {
    "id": "QfRBS5ZD_ELs"
   },
   "source": [
    "**Количество сделанных звонков и израсходованных минут разговора по месяцам**"
   ]
  },
  {
   "cell_type": "code",
   "execution_count": 24,
   "metadata": {
    "id": "6I6wzEwaR8t5"
   },
   "outputs": [],
   "source": [
    "#добавим столбец с названием месяца\n",
    "calls['month'] = calls['call_date'].dt.month_name()"
   ]
  },
  {
   "cell_type": "code",
   "execution_count": 25,
   "metadata": {
    "colab": {
     "base_uri": "https://localhost:8080/",
     "height": 206
    },
    "id": "cP0osslF_L1s",
    "outputId": "40a84cf8-0ef8-448d-a33f-17af0a91e34d"
   },
   "outputs": [
    {
     "data": {
      "text/html": [
       "<div>\n",
       "<style scoped>\n",
       "    .dataframe tbody tr th:only-of-type {\n",
       "        vertical-align: middle;\n",
       "    }\n",
       "\n",
       "    .dataframe tbody tr th {\n",
       "        vertical-align: top;\n",
       "    }\n",
       "\n",
       "    .dataframe thead th {\n",
       "        text-align: right;\n",
       "    }\n",
       "</style>\n",
       "<table border=\"1\" class=\"dataframe\">\n",
       "  <thead>\n",
       "    <tr style=\"text-align: right;\">\n",
       "      <th></th>\n",
       "      <th>id</th>\n",
       "      <th>call_date</th>\n",
       "      <th>duration</th>\n",
       "      <th>user_id</th>\n",
       "      <th>month</th>\n",
       "    </tr>\n",
       "  </thead>\n",
       "  <tbody>\n",
       "    <tr>\n",
       "      <th>0</th>\n",
       "      <td>1000_0</td>\n",
       "      <td>2018-07-25</td>\n",
       "      <td>0</td>\n",
       "      <td>1000</td>\n",
       "      <td>July</td>\n",
       "    </tr>\n",
       "    <tr>\n",
       "      <th>1</th>\n",
       "      <td>1000_1</td>\n",
       "      <td>2018-08-17</td>\n",
       "      <td>0</td>\n",
       "      <td>1000</td>\n",
       "      <td>August</td>\n",
       "    </tr>\n",
       "    <tr>\n",
       "      <th>2</th>\n",
       "      <td>1000_2</td>\n",
       "      <td>2018-06-11</td>\n",
       "      <td>3</td>\n",
       "      <td>1000</td>\n",
       "      <td>June</td>\n",
       "    </tr>\n",
       "    <tr>\n",
       "      <th>3</th>\n",
       "      <td>1000_3</td>\n",
       "      <td>2018-09-21</td>\n",
       "      <td>14</td>\n",
       "      <td>1000</td>\n",
       "      <td>September</td>\n",
       "    </tr>\n",
       "    <tr>\n",
       "      <th>4</th>\n",
       "      <td>1000_4</td>\n",
       "      <td>2018-12-15</td>\n",
       "      <td>6</td>\n",
       "      <td>1000</td>\n",
       "      <td>December</td>\n",
       "    </tr>\n",
       "  </tbody>\n",
       "</table>\n",
       "</div>"
      ],
      "text/plain": [
       "       id  call_date  duration  user_id      month\n",
       "0  1000_0 2018-07-25         0     1000       July\n",
       "1  1000_1 2018-08-17         0     1000     August\n",
       "2  1000_2 2018-06-11         3     1000       June\n",
       "3  1000_3 2018-09-21        14     1000  September\n",
       "4  1000_4 2018-12-15         6     1000   December"
      ]
     },
     "execution_count": 25,
     "metadata": {},
     "output_type": "execute_result"
    }
   ],
   "source": [
    "# проверим\n",
    "calls.head()"
   ]
  },
  {
   "cell_type": "code",
   "execution_count": 26,
   "metadata": {
    "id": "jGfIpjlY_O3x"
   },
   "outputs": [],
   "source": [
    "users_calls = calls.groupby(['user_id', 'month']).agg({'duration': 'sum'}).reset_index()"
   ]
  },
  {
   "cell_type": "code",
   "execution_count": 27,
   "metadata": {
    "colab": {
     "base_uri": "https://localhost:8080/",
     "height": 206
    },
    "id": "Y2gCiLb95Erf",
    "outputId": "7e5c767a-4b92-4e02-8707-f534ec764eca"
   },
   "outputs": [
    {
     "data": {
      "text/html": [
       "<div>\n",
       "<style scoped>\n",
       "    .dataframe tbody tr th:only-of-type {\n",
       "        vertical-align: middle;\n",
       "    }\n",
       "\n",
       "    .dataframe tbody tr th {\n",
       "        vertical-align: top;\n",
       "    }\n",
       "\n",
       "    .dataframe thead th {\n",
       "        text-align: right;\n",
       "    }\n",
       "</style>\n",
       "<table border=\"1\" class=\"dataframe\">\n",
       "  <thead>\n",
       "    <tr style=\"text-align: right;\">\n",
       "      <th></th>\n",
       "      <th>user_id</th>\n",
       "      <th>month</th>\n",
       "      <th>duration</th>\n",
       "    </tr>\n",
       "  </thead>\n",
       "  <tbody>\n",
       "    <tr>\n",
       "      <th>0</th>\n",
       "      <td>1000</td>\n",
       "      <td>August</td>\n",
       "      <td>408</td>\n",
       "    </tr>\n",
       "    <tr>\n",
       "      <th>1</th>\n",
       "      <td>1000</td>\n",
       "      <td>December</td>\n",
       "      <td>333</td>\n",
       "    </tr>\n",
       "    <tr>\n",
       "      <th>2</th>\n",
       "      <td>1000</td>\n",
       "      <td>July</td>\n",
       "      <td>340</td>\n",
       "    </tr>\n",
       "    <tr>\n",
       "      <th>3</th>\n",
       "      <td>1000</td>\n",
       "      <td>June</td>\n",
       "      <td>172</td>\n",
       "    </tr>\n",
       "    <tr>\n",
       "      <th>4</th>\n",
       "      <td>1000</td>\n",
       "      <td>May</td>\n",
       "      <td>159</td>\n",
       "    </tr>\n",
       "  </tbody>\n",
       "</table>\n",
       "</div>"
      ],
      "text/plain": [
       "   user_id     month  duration\n",
       "0     1000    August       408\n",
       "1     1000  December       333\n",
       "2     1000      July       340\n",
       "3     1000      June       172\n",
       "4     1000       May       159"
      ]
     },
     "execution_count": 27,
     "metadata": {},
     "output_type": "execute_result"
    }
   ],
   "source": [
    "users_calls.head()"
   ]
  },
  {
   "cell_type": "markdown",
   "metadata": {
    "id": "UmO0ELK-_MWD"
   },
   "source": [
    "**Количество отправленных сообщений по месяцам**"
   ]
  },
  {
   "cell_type": "code",
   "execution_count": 28,
   "metadata": {
    "colab": {
     "base_uri": "https://localhost:8080/",
     "height": 206
    },
    "id": "uerEDHDSBsyU",
    "outputId": "f6720b03-453e-4c99-fdc3-b100a362491f"
   },
   "outputs": [
    {
     "data": {
      "text/html": [
       "<div>\n",
       "<style scoped>\n",
       "    .dataframe tbody tr th:only-of-type {\n",
       "        vertical-align: middle;\n",
       "    }\n",
       "\n",
       "    .dataframe tbody tr th {\n",
       "        vertical-align: top;\n",
       "    }\n",
       "\n",
       "    .dataframe thead th {\n",
       "        text-align: right;\n",
       "    }\n",
       "</style>\n",
       "<table border=\"1\" class=\"dataframe\">\n",
       "  <thead>\n",
       "    <tr style=\"text-align: right;\">\n",
       "      <th></th>\n",
       "      <th>id</th>\n",
       "      <th>message_date</th>\n",
       "      <th>user_id</th>\n",
       "    </tr>\n",
       "  </thead>\n",
       "  <tbody>\n",
       "    <tr>\n",
       "      <th>0</th>\n",
       "      <td>1000_0</td>\n",
       "      <td>2018-06-27</td>\n",
       "      <td>1000</td>\n",
       "    </tr>\n",
       "    <tr>\n",
       "      <th>1</th>\n",
       "      <td>1000_1</td>\n",
       "      <td>2018-10-08</td>\n",
       "      <td>1000</td>\n",
       "    </tr>\n",
       "    <tr>\n",
       "      <th>2</th>\n",
       "      <td>1000_2</td>\n",
       "      <td>2018-08-04</td>\n",
       "      <td>1000</td>\n",
       "    </tr>\n",
       "    <tr>\n",
       "      <th>3</th>\n",
       "      <td>1000_3</td>\n",
       "      <td>2018-06-16</td>\n",
       "      <td>1000</td>\n",
       "    </tr>\n",
       "    <tr>\n",
       "      <th>4</th>\n",
       "      <td>1000_4</td>\n",
       "      <td>2018-12-05</td>\n",
       "      <td>1000</td>\n",
       "    </tr>\n",
       "  </tbody>\n",
       "</table>\n",
       "</div>"
      ],
      "text/plain": [
       "       id message_date  user_id\n",
       "0  1000_0   2018-06-27     1000\n",
       "1  1000_1   2018-10-08     1000\n",
       "2  1000_2   2018-08-04     1000\n",
       "3  1000_3   2018-06-16     1000\n",
       "4  1000_4   2018-12-05     1000"
      ]
     },
     "execution_count": 28,
     "metadata": {},
     "output_type": "execute_result"
    }
   ],
   "source": [
    "messages.head()"
   ]
  },
  {
   "cell_type": "code",
   "execution_count": 29,
   "metadata": {
    "colab": {
     "base_uri": "https://localhost:8080/",
     "height": 206
    },
    "id": "LUVjqr-LBJXq",
    "outputId": "d56b39b9-7295-474b-911a-05aabf395a15"
   },
   "outputs": [
    {
     "data": {
      "text/html": [
       "<div>\n",
       "<style scoped>\n",
       "    .dataframe tbody tr th:only-of-type {\n",
       "        vertical-align: middle;\n",
       "    }\n",
       "\n",
       "    .dataframe tbody tr th {\n",
       "        vertical-align: top;\n",
       "    }\n",
       "\n",
       "    .dataframe thead th {\n",
       "        text-align: right;\n",
       "    }\n",
       "</style>\n",
       "<table border=\"1\" class=\"dataframe\">\n",
       "  <thead>\n",
       "    <tr style=\"text-align: right;\">\n",
       "      <th></th>\n",
       "      <th>id</th>\n",
       "      <th>message_date</th>\n",
       "      <th>user_id</th>\n",
       "      <th>month</th>\n",
       "    </tr>\n",
       "  </thead>\n",
       "  <tbody>\n",
       "    <tr>\n",
       "      <th>0</th>\n",
       "      <td>1000_0</td>\n",
       "      <td>2018-06-27</td>\n",
       "      <td>1000</td>\n",
       "      <td>June</td>\n",
       "    </tr>\n",
       "    <tr>\n",
       "      <th>1</th>\n",
       "      <td>1000_1</td>\n",
       "      <td>2018-10-08</td>\n",
       "      <td>1000</td>\n",
       "      <td>October</td>\n",
       "    </tr>\n",
       "    <tr>\n",
       "      <th>2</th>\n",
       "      <td>1000_2</td>\n",
       "      <td>2018-08-04</td>\n",
       "      <td>1000</td>\n",
       "      <td>August</td>\n",
       "    </tr>\n",
       "    <tr>\n",
       "      <th>3</th>\n",
       "      <td>1000_3</td>\n",
       "      <td>2018-06-16</td>\n",
       "      <td>1000</td>\n",
       "      <td>June</td>\n",
       "    </tr>\n",
       "    <tr>\n",
       "      <th>4</th>\n",
       "      <td>1000_4</td>\n",
       "      <td>2018-12-05</td>\n",
       "      <td>1000</td>\n",
       "      <td>December</td>\n",
       "    </tr>\n",
       "  </tbody>\n",
       "</table>\n",
       "</div>"
      ],
      "text/plain": [
       "       id message_date  user_id     month\n",
       "0  1000_0   2018-06-27     1000      June\n",
       "1  1000_1   2018-10-08     1000   October\n",
       "2  1000_2   2018-08-04     1000    August\n",
       "3  1000_3   2018-06-16     1000      June\n",
       "4  1000_4   2018-12-05     1000  December"
      ]
     },
     "execution_count": 29,
     "metadata": {},
     "output_type": "execute_result"
    }
   ],
   "source": [
    "#добавим столбец с названием месяца\n",
    "messages['month'] = messages['message_date'].dt.month_name()\n",
    "messages.head() #проверим"
   ]
  },
  {
   "cell_type": "code",
   "execution_count": 30,
   "metadata": {
    "colab": {
     "base_uri": "https://localhost:8080/",
     "height": 237
    },
    "id": "Rlj4H94aBJfU",
    "outputId": "c5e7bf6c-d8c5-4a1a-95e1-8f95a6286864"
   },
   "outputs": [
    {
     "data": {
      "text/html": [
       "<div>\n",
       "<style scoped>\n",
       "    .dataframe tbody tr th:only-of-type {\n",
       "        vertical-align: middle;\n",
       "    }\n",
       "\n",
       "    .dataframe tbody tr th {\n",
       "        vertical-align: top;\n",
       "    }\n",
       "\n",
       "    .dataframe thead th {\n",
       "        text-align: right;\n",
       "    }\n",
       "</style>\n",
       "<table border=\"1\" class=\"dataframe\">\n",
       "  <thead>\n",
       "    <tr style=\"text-align: right;\">\n",
       "      <th></th>\n",
       "      <th></th>\n",
       "      <th>id</th>\n",
       "    </tr>\n",
       "    <tr>\n",
       "      <th>user_id</th>\n",
       "      <th>month</th>\n",
       "      <th></th>\n",
       "    </tr>\n",
       "  </thead>\n",
       "  <tbody>\n",
       "    <tr>\n",
       "      <th rowspan=\"5\" valign=\"top\">1000</th>\n",
       "      <th>August</th>\n",
       "      <td>81</td>\n",
       "    </tr>\n",
       "    <tr>\n",
       "      <th>December</th>\n",
       "      <td>70</td>\n",
       "    </tr>\n",
       "    <tr>\n",
       "      <th>July</th>\n",
       "      <td>75</td>\n",
       "    </tr>\n",
       "    <tr>\n",
       "      <th>June</th>\n",
       "      <td>60</td>\n",
       "    </tr>\n",
       "    <tr>\n",
       "      <th>May</th>\n",
       "      <td>22</td>\n",
       "    </tr>\n",
       "  </tbody>\n",
       "</table>\n",
       "</div>"
      ],
      "text/plain": [
       "                  id\n",
       "user_id month       \n",
       "1000    August    81\n",
       "        December  70\n",
       "        July      75\n",
       "        June      60\n",
       "        May       22"
      ]
     },
     "execution_count": 30,
     "metadata": {},
     "output_type": "execute_result"
    }
   ],
   "source": [
    "users_messages = messages.groupby(['user_id', 'month']).agg({'id': 'count'})\n",
    "users_messages.head()"
   ]
  },
  {
   "cell_type": "code",
   "execution_count": 31,
   "metadata": {
    "id": "vYzQmQcfsCgU"
   },
   "outputs": [],
   "source": [
    "# переименуем id в messages\n",
    "users_messages = users_messages.rename(columns={'id':'messages'})"
   ]
  },
  {
   "cell_type": "code",
   "execution_count": 32,
   "metadata": {
    "colab": {
     "base_uri": "https://localhost:8080/",
     "height": 237
    },
    "id": "LDVX1pChtRbG",
    "outputId": "cd74d464-cd4f-496e-e68f-ef124034e752"
   },
   "outputs": [
    {
     "data": {
      "text/html": [
       "<div>\n",
       "<style scoped>\n",
       "    .dataframe tbody tr th:only-of-type {\n",
       "        vertical-align: middle;\n",
       "    }\n",
       "\n",
       "    .dataframe tbody tr th {\n",
       "        vertical-align: top;\n",
       "    }\n",
       "\n",
       "    .dataframe thead th {\n",
       "        text-align: right;\n",
       "    }\n",
       "</style>\n",
       "<table border=\"1\" class=\"dataframe\">\n",
       "  <thead>\n",
       "    <tr style=\"text-align: right;\">\n",
       "      <th></th>\n",
       "      <th></th>\n",
       "      <th>messages</th>\n",
       "    </tr>\n",
       "    <tr>\n",
       "      <th>user_id</th>\n",
       "      <th>month</th>\n",
       "      <th></th>\n",
       "    </tr>\n",
       "  </thead>\n",
       "  <tbody>\n",
       "    <tr>\n",
       "      <th rowspan=\"5\" valign=\"top\">1000</th>\n",
       "      <th>August</th>\n",
       "      <td>81</td>\n",
       "    </tr>\n",
       "    <tr>\n",
       "      <th>December</th>\n",
       "      <td>70</td>\n",
       "    </tr>\n",
       "    <tr>\n",
       "      <th>July</th>\n",
       "      <td>75</td>\n",
       "    </tr>\n",
       "    <tr>\n",
       "      <th>June</th>\n",
       "      <td>60</td>\n",
       "    </tr>\n",
       "    <tr>\n",
       "      <th>May</th>\n",
       "      <td>22</td>\n",
       "    </tr>\n",
       "  </tbody>\n",
       "</table>\n",
       "</div>"
      ],
      "text/plain": [
       "                  messages\n",
       "user_id month             \n",
       "1000    August          81\n",
       "        December        70\n",
       "        July            75\n",
       "        June            60\n",
       "        May             22"
      ]
     },
     "execution_count": 32,
     "metadata": {},
     "output_type": "execute_result"
    }
   ],
   "source": [
    "users_messages.head()"
   ]
  },
  {
   "cell_type": "markdown",
   "metadata": {
    "id": "N9_lCoQkBD8f"
   },
   "source": [
    "**Объем израсходованного интернет-трафика по месяцам**"
   ]
  },
  {
   "cell_type": "code",
   "execution_count": 33,
   "metadata": {
    "colab": {
     "base_uri": "https://localhost:8080/",
     "height": 206
    },
    "id": "qXgievJ45YG4",
    "outputId": "8fec8ff3-6e6e-4851-8065-50641609a949"
   },
   "outputs": [
    {
     "data": {
      "text/html": [
       "<div>\n",
       "<style scoped>\n",
       "    .dataframe tbody tr th:only-of-type {\n",
       "        vertical-align: middle;\n",
       "    }\n",
       "\n",
       "    .dataframe tbody tr th {\n",
       "        vertical-align: top;\n",
       "    }\n",
       "\n",
       "    .dataframe thead th {\n",
       "        text-align: right;\n",
       "    }\n",
       "</style>\n",
       "<table border=\"1\" class=\"dataframe\">\n",
       "  <thead>\n",
       "    <tr style=\"text-align: right;\">\n",
       "      <th></th>\n",
       "      <th>Unnamed: 0</th>\n",
       "      <th>id</th>\n",
       "      <th>mb_used</th>\n",
       "      <th>session_date</th>\n",
       "      <th>user_id</th>\n",
       "      <th>month</th>\n",
       "    </tr>\n",
       "  </thead>\n",
       "  <tbody>\n",
       "    <tr>\n",
       "      <th>0</th>\n",
       "      <td>0</td>\n",
       "      <td>1000_0</td>\n",
       "      <td>112.95</td>\n",
       "      <td>2018-11-25</td>\n",
       "      <td>1000</td>\n",
       "      <td>November</td>\n",
       "    </tr>\n",
       "    <tr>\n",
       "      <th>1</th>\n",
       "      <td>1</td>\n",
       "      <td>1000_1</td>\n",
       "      <td>1052.81</td>\n",
       "      <td>2018-09-07</td>\n",
       "      <td>1000</td>\n",
       "      <td>September</td>\n",
       "    </tr>\n",
       "    <tr>\n",
       "      <th>2</th>\n",
       "      <td>2</td>\n",
       "      <td>1000_2</td>\n",
       "      <td>1197.26</td>\n",
       "      <td>2018-06-25</td>\n",
       "      <td>1000</td>\n",
       "      <td>June</td>\n",
       "    </tr>\n",
       "    <tr>\n",
       "      <th>3</th>\n",
       "      <td>3</td>\n",
       "      <td>1000_3</td>\n",
       "      <td>550.27</td>\n",
       "      <td>2018-08-22</td>\n",
       "      <td>1000</td>\n",
       "      <td>August</td>\n",
       "    </tr>\n",
       "    <tr>\n",
       "      <th>4</th>\n",
       "      <td>4</td>\n",
       "      <td>1000_4</td>\n",
       "      <td>302.56</td>\n",
       "      <td>2018-09-24</td>\n",
       "      <td>1000</td>\n",
       "      <td>September</td>\n",
       "    </tr>\n",
       "  </tbody>\n",
       "</table>\n",
       "</div>"
      ],
      "text/plain": [
       "   Unnamed: 0      id  mb_used session_date  user_id      month\n",
       "0           0  1000_0   112.95   2018-11-25     1000   November\n",
       "1           1  1000_1  1052.81   2018-09-07     1000  September\n",
       "2           2  1000_2  1197.26   2018-06-25     1000       June\n",
       "3           3  1000_3   550.27   2018-08-22     1000     August\n",
       "4           4  1000_4   302.56   2018-09-24     1000  September"
      ]
     },
     "execution_count": 33,
     "metadata": {},
     "output_type": "execute_result"
    }
   ],
   "source": [
    "#добавим столбец с названием месяца\n",
    "internet['month'] = internet['session_date'].dt.month_name()\n",
    "internet.head() #проверим"
   ]
  },
  {
   "cell_type": "code",
   "execution_count": 34,
   "metadata": {
    "colab": {
     "base_uri": "https://localhost:8080/",
     "height": 206
    },
    "id": "XQPvoqXfAjta",
    "outputId": "b327ffe2-6088-46bb-ded4-caeddc0db4c3"
   },
   "outputs": [
    {
     "data": {
      "text/html": [
       "<div>\n",
       "<style scoped>\n",
       "    .dataframe tbody tr th:only-of-type {\n",
       "        vertical-align: middle;\n",
       "    }\n",
       "\n",
       "    .dataframe tbody tr th {\n",
       "        vertical-align: top;\n",
       "    }\n",
       "\n",
       "    .dataframe thead th {\n",
       "        text-align: right;\n",
       "    }\n",
       "</style>\n",
       "<table border=\"1\" class=\"dataframe\">\n",
       "  <thead>\n",
       "    <tr style=\"text-align: right;\">\n",
       "      <th></th>\n",
       "      <th>user_id</th>\n",
       "      <th>month</th>\n",
       "      <th>mb_used</th>\n",
       "    </tr>\n",
       "  </thead>\n",
       "  <tbody>\n",
       "    <tr>\n",
       "      <th>0</th>\n",
       "      <td>1000</td>\n",
       "      <td>August</td>\n",
       "      <td>14055.93</td>\n",
       "    </tr>\n",
       "    <tr>\n",
       "      <th>1</th>\n",
       "      <td>1000</td>\n",
       "      <td>December</td>\n",
       "      <td>9817.61</td>\n",
       "    </tr>\n",
       "    <tr>\n",
       "      <th>2</th>\n",
       "      <td>1000</td>\n",
       "      <td>July</td>\n",
       "      <td>14003.64</td>\n",
       "    </tr>\n",
       "    <tr>\n",
       "      <th>3</th>\n",
       "      <td>1000</td>\n",
       "      <td>June</td>\n",
       "      <td>23233.77</td>\n",
       "    </tr>\n",
       "    <tr>\n",
       "      <th>4</th>\n",
       "      <td>1000</td>\n",
       "      <td>May</td>\n",
       "      <td>2253.49</td>\n",
       "    </tr>\n",
       "  </tbody>\n",
       "</table>\n",
       "</div>"
      ],
      "text/plain": [
       "   user_id     month   mb_used\n",
       "0     1000    August  14055.93\n",
       "1     1000  December   9817.61\n",
       "2     1000      July  14003.64\n",
       "3     1000      June  23233.77\n",
       "4     1000       May   2253.49"
      ]
     },
     "execution_count": 34,
     "metadata": {},
     "output_type": "execute_result"
    }
   ],
   "source": [
    "users_internet = internet.groupby(['user_id', 'month']).agg({'mb_used': 'sum'}).reset_index()\n",
    "users_internet.head()"
   ]
  },
  {
   "cell_type": "markdown",
   "metadata": {
    "id": "AQzWxomPE0dl"
   },
   "source": [
    "**Помесячная выручка с каждого пользователя**"
   ]
  },
  {
   "cell_type": "code",
   "execution_count": 35,
   "metadata": {
    "id": "rWFwoy8oA3qQ"
   },
   "outputs": [],
   "source": [
    "#объединим таблицы\n",
    "data = users_calls.merge(users_internet, on = ['user_id', 'month'], how = 'outer').merge(users_messages, on = ['user_id', 'month'], how = 'outer').fillna(0)\n",
    "data = data.merge(users, on = 'user_id', how = 'left').merge(tariffs, left_on = 'tariff', \n",
    "                                                                 right_on = 'tariff_name', how = 'left')\n",
    "                                                                "
   ]
  },
  {
   "cell_type": "code",
   "execution_count": 36,
   "metadata": {
    "colab": {
     "base_uri": "https://localhost:8080/",
     "height": 357
    },
    "id": "v0e0mwHmRCks",
    "outputId": "5ef399c5-161b-4c8b-9335-c169878fabf6"
   },
   "outputs": [
    {
     "data": {
      "text/html": [
       "<div>\n",
       "<style scoped>\n",
       "    .dataframe tbody tr th:only-of-type {\n",
       "        vertical-align: middle;\n",
       "    }\n",
       "\n",
       "    .dataframe tbody tr th {\n",
       "        vertical-align: top;\n",
       "    }\n",
       "\n",
       "    .dataframe thead th {\n",
       "        text-align: right;\n",
       "    }\n",
       "</style>\n",
       "<table border=\"1\" class=\"dataframe\">\n",
       "  <thead>\n",
       "    <tr style=\"text-align: right;\">\n",
       "      <th></th>\n",
       "      <th>user_id</th>\n",
       "      <th>month</th>\n",
       "      <th>duration</th>\n",
       "      <th>mb_used</th>\n",
       "      <th>messages</th>\n",
       "      <th>age</th>\n",
       "      <th>churn_date</th>\n",
       "      <th>city</th>\n",
       "      <th>first_name</th>\n",
       "      <th>last_name</th>\n",
       "      <th>reg_date</th>\n",
       "      <th>tariff</th>\n",
       "      <th>messages_included</th>\n",
       "      <th>mb_per_month_included</th>\n",
       "      <th>minutes_included</th>\n",
       "      <th>rub_monthly_fee</th>\n",
       "      <th>rub_per_gb</th>\n",
       "      <th>rub_per_message</th>\n",
       "      <th>rub_per_minute</th>\n",
       "      <th>tariff_name</th>\n",
       "    </tr>\n",
       "  </thead>\n",
       "  <tbody>\n",
       "    <tr>\n",
       "      <th>0</th>\n",
       "      <td>1000</td>\n",
       "      <td>August</td>\n",
       "      <td>408.0</td>\n",
       "      <td>14055.93</td>\n",
       "      <td>81.0</td>\n",
       "      <td>52</td>\n",
       "      <td>NaT</td>\n",
       "      <td>Краснодар</td>\n",
       "      <td>Рафаил</td>\n",
       "      <td>Верещагин</td>\n",
       "      <td>2018-05-25</td>\n",
       "      <td>ultra</td>\n",
       "      <td>1000</td>\n",
       "      <td>30720</td>\n",
       "      <td>3000</td>\n",
       "      <td>1950</td>\n",
       "      <td>150</td>\n",
       "      <td>1</td>\n",
       "      <td>1</td>\n",
       "      <td>ultra</td>\n",
       "    </tr>\n",
       "    <tr>\n",
       "      <th>1</th>\n",
       "      <td>1000</td>\n",
       "      <td>December</td>\n",
       "      <td>333.0</td>\n",
       "      <td>9817.61</td>\n",
       "      <td>70.0</td>\n",
       "      <td>52</td>\n",
       "      <td>NaT</td>\n",
       "      <td>Краснодар</td>\n",
       "      <td>Рафаил</td>\n",
       "      <td>Верещагин</td>\n",
       "      <td>2018-05-25</td>\n",
       "      <td>ultra</td>\n",
       "      <td>1000</td>\n",
       "      <td>30720</td>\n",
       "      <td>3000</td>\n",
       "      <td>1950</td>\n",
       "      <td>150</td>\n",
       "      <td>1</td>\n",
       "      <td>1</td>\n",
       "      <td>ultra</td>\n",
       "    </tr>\n",
       "    <tr>\n",
       "      <th>2</th>\n",
       "      <td>1000</td>\n",
       "      <td>July</td>\n",
       "      <td>340.0</td>\n",
       "      <td>14003.64</td>\n",
       "      <td>75.0</td>\n",
       "      <td>52</td>\n",
       "      <td>NaT</td>\n",
       "      <td>Краснодар</td>\n",
       "      <td>Рафаил</td>\n",
       "      <td>Верещагин</td>\n",
       "      <td>2018-05-25</td>\n",
       "      <td>ultra</td>\n",
       "      <td>1000</td>\n",
       "      <td>30720</td>\n",
       "      <td>3000</td>\n",
       "      <td>1950</td>\n",
       "      <td>150</td>\n",
       "      <td>1</td>\n",
       "      <td>1</td>\n",
       "      <td>ultra</td>\n",
       "    </tr>\n",
       "    <tr>\n",
       "      <th>3</th>\n",
       "      <td>1000</td>\n",
       "      <td>June</td>\n",
       "      <td>172.0</td>\n",
       "      <td>23233.77</td>\n",
       "      <td>60.0</td>\n",
       "      <td>52</td>\n",
       "      <td>NaT</td>\n",
       "      <td>Краснодар</td>\n",
       "      <td>Рафаил</td>\n",
       "      <td>Верещагин</td>\n",
       "      <td>2018-05-25</td>\n",
       "      <td>ultra</td>\n",
       "      <td>1000</td>\n",
       "      <td>30720</td>\n",
       "      <td>3000</td>\n",
       "      <td>1950</td>\n",
       "      <td>150</td>\n",
       "      <td>1</td>\n",
       "      <td>1</td>\n",
       "      <td>ultra</td>\n",
       "    </tr>\n",
       "    <tr>\n",
       "      <th>4</th>\n",
       "      <td>1000</td>\n",
       "      <td>May</td>\n",
       "      <td>159.0</td>\n",
       "      <td>2253.49</td>\n",
       "      <td>22.0</td>\n",
       "      <td>52</td>\n",
       "      <td>NaT</td>\n",
       "      <td>Краснодар</td>\n",
       "      <td>Рафаил</td>\n",
       "      <td>Верещагин</td>\n",
       "      <td>2018-05-25</td>\n",
       "      <td>ultra</td>\n",
       "      <td>1000</td>\n",
       "      <td>30720</td>\n",
       "      <td>3000</td>\n",
       "      <td>1950</td>\n",
       "      <td>150</td>\n",
       "      <td>1</td>\n",
       "      <td>1</td>\n",
       "      <td>ultra</td>\n",
       "    </tr>\n",
       "  </tbody>\n",
       "</table>\n",
       "</div>"
      ],
      "text/plain": [
       "   user_id     month  duration   mb_used  messages  age churn_date       city  \\\n",
       "0     1000    August     408.0  14055.93      81.0   52        NaT  Краснодар   \n",
       "1     1000  December     333.0   9817.61      70.0   52        NaT  Краснодар   \n",
       "2     1000      July     340.0  14003.64      75.0   52        NaT  Краснодар   \n",
       "3     1000      June     172.0  23233.77      60.0   52        NaT  Краснодар   \n",
       "4     1000       May     159.0   2253.49      22.0   52        NaT  Краснодар   \n",
       "\n",
       "  first_name  last_name   reg_date tariff  messages_included  \\\n",
       "0     Рафаил  Верещагин 2018-05-25  ultra               1000   \n",
       "1     Рафаил  Верещагин 2018-05-25  ultra               1000   \n",
       "2     Рафаил  Верещагин 2018-05-25  ultra               1000   \n",
       "3     Рафаил  Верещагин 2018-05-25  ultra               1000   \n",
       "4     Рафаил  Верещагин 2018-05-25  ultra               1000   \n",
       "\n",
       "   mb_per_month_included  minutes_included  rub_monthly_fee  rub_per_gb  \\\n",
       "0                  30720              3000             1950         150   \n",
       "1                  30720              3000             1950         150   \n",
       "2                  30720              3000             1950         150   \n",
       "3                  30720              3000             1950         150   \n",
       "4                  30720              3000             1950         150   \n",
       "\n",
       "   rub_per_message  rub_per_minute tariff_name  \n",
       "0                1               1       ultra  \n",
       "1                1               1       ultra  \n",
       "2                1               1       ultra  \n",
       "3                1               1       ultra  \n",
       "4                1               1       ultra  "
      ]
     },
     "execution_count": 36,
     "metadata": {},
     "output_type": "execute_result"
    }
   ],
   "source": [
    "data.head()"
   ]
  },
  {
   "cell_type": "code",
   "execution_count": 37,
   "metadata": {
    "colab": {
     "base_uri": "https://localhost:8080/"
    },
    "id": "DXUonKNLwBnv",
    "outputId": "e457523c-dd4a-4814-c708-4487b6462bc7"
   },
   "outputs": [
    {
     "data": {
      "text/plain": [
       "user_id                     0\n",
       "month                       0\n",
       "duration                    0\n",
       "mb_used                     0\n",
       "messages                    0\n",
       "age                         0\n",
       "churn_date               3027\n",
       "city                        0\n",
       "first_name                  0\n",
       "last_name                   0\n",
       "reg_date                    0\n",
       "tariff                      0\n",
       "messages_included           0\n",
       "mb_per_month_included       0\n",
       "minutes_included            0\n",
       "rub_monthly_fee             0\n",
       "rub_per_gb                  0\n",
       "rub_per_message             0\n",
       "rub_per_minute              0\n",
       "tariff_name                 0\n",
       "dtype: int64"
      ]
     },
     "execution_count": 37,
     "metadata": {},
     "output_type": "execute_result"
    }
   ],
   "source": [
    "# проверим не потеряли ли мы что-нибудь\n",
    "data.isna().sum()"
   ]
  },
  {
   "cell_type": "code",
   "execution_count": 38,
   "metadata": {
    "id": "FllVIN9zoWRn"
   },
   "outputs": [],
   "source": [
    "#напишем функцию расчета ежемесячной выручки\n",
    "def get_fee(data):\n",
    "\n",
    "    minutes_over = (data['duration'] - data['minutes_included']) *  data['rub_per_minute']\n",
    "    mb_over = np.ceil((data['mb_used'] - data['mb_per_month_included']) / 1024) * data['rub_per_gb']\n",
    "    messages_over = (data['messages'] - data['messages_included']) * data['rub_per_message']\n",
    "\n",
    "    if minutes_over < 0: minutes_over = 0\n",
    "    if mb_over < 0: mb_over = 0\n",
    "    if messages_over < 0: messages_over = 0\n",
    "    \n",
    "    return data['rub_monthly_fee'] + minutes_over + mb_over + messages_over\n",
    "\n",
    "data['fee'] = data.apply(get_fee, axis = 1) # добавим столбец с выручкой"
   ]
  },
  {
   "cell_type": "code",
   "execution_count": 39,
   "metadata": {
    "colab": {
     "base_uri": "https://localhost:8080/",
     "height": 299
    },
    "id": "OMgvCxjyXXZm",
    "outputId": "52ee18dc-f227-4e23-81af-b560e9eb50fa"
   },
   "outputs": [
    {
     "data": {
      "text/html": [
       "<div>\n",
       "<style scoped>\n",
       "    .dataframe tbody tr th:only-of-type {\n",
       "        vertical-align: middle;\n",
       "    }\n",
       "\n",
       "    .dataframe tbody tr th {\n",
       "        vertical-align: top;\n",
       "    }\n",
       "\n",
       "    .dataframe thead th {\n",
       "        text-align: right;\n",
       "    }\n",
       "</style>\n",
       "<table border=\"1\" class=\"dataframe\">\n",
       "  <thead>\n",
       "    <tr style=\"text-align: right;\">\n",
       "      <th></th>\n",
       "      <th>user_id</th>\n",
       "      <th>month</th>\n",
       "      <th>duration</th>\n",
       "      <th>mb_used</th>\n",
       "      <th>messages</th>\n",
       "      <th>age</th>\n",
       "      <th>churn_date</th>\n",
       "      <th>city</th>\n",
       "      <th>first_name</th>\n",
       "      <th>last_name</th>\n",
       "      <th>...</th>\n",
       "      <th>tariff</th>\n",
       "      <th>messages_included</th>\n",
       "      <th>mb_per_month_included</th>\n",
       "      <th>minutes_included</th>\n",
       "      <th>rub_monthly_fee</th>\n",
       "      <th>rub_per_gb</th>\n",
       "      <th>rub_per_message</th>\n",
       "      <th>rub_per_minute</th>\n",
       "      <th>tariff_name</th>\n",
       "      <th>fee</th>\n",
       "    </tr>\n",
       "  </thead>\n",
       "  <tbody>\n",
       "    <tr>\n",
       "      <th>0</th>\n",
       "      <td>1000</td>\n",
       "      <td>August</td>\n",
       "      <td>408.0</td>\n",
       "      <td>14055.93</td>\n",
       "      <td>81.0</td>\n",
       "      <td>52</td>\n",
       "      <td>NaT</td>\n",
       "      <td>Краснодар</td>\n",
       "      <td>Рафаил</td>\n",
       "      <td>Верещагин</td>\n",
       "      <td>...</td>\n",
       "      <td>ultra</td>\n",
       "      <td>1000</td>\n",
       "      <td>30720</td>\n",
       "      <td>3000</td>\n",
       "      <td>1950</td>\n",
       "      <td>150</td>\n",
       "      <td>1</td>\n",
       "      <td>1</td>\n",
       "      <td>ultra</td>\n",
       "      <td>1950.0</td>\n",
       "    </tr>\n",
       "    <tr>\n",
       "      <th>1</th>\n",
       "      <td>1000</td>\n",
       "      <td>December</td>\n",
       "      <td>333.0</td>\n",
       "      <td>9817.61</td>\n",
       "      <td>70.0</td>\n",
       "      <td>52</td>\n",
       "      <td>NaT</td>\n",
       "      <td>Краснодар</td>\n",
       "      <td>Рафаил</td>\n",
       "      <td>Верещагин</td>\n",
       "      <td>...</td>\n",
       "      <td>ultra</td>\n",
       "      <td>1000</td>\n",
       "      <td>30720</td>\n",
       "      <td>3000</td>\n",
       "      <td>1950</td>\n",
       "      <td>150</td>\n",
       "      <td>1</td>\n",
       "      <td>1</td>\n",
       "      <td>ultra</td>\n",
       "      <td>1950.0</td>\n",
       "    </tr>\n",
       "    <tr>\n",
       "      <th>2</th>\n",
       "      <td>1000</td>\n",
       "      <td>July</td>\n",
       "      <td>340.0</td>\n",
       "      <td>14003.64</td>\n",
       "      <td>75.0</td>\n",
       "      <td>52</td>\n",
       "      <td>NaT</td>\n",
       "      <td>Краснодар</td>\n",
       "      <td>Рафаил</td>\n",
       "      <td>Верещагин</td>\n",
       "      <td>...</td>\n",
       "      <td>ultra</td>\n",
       "      <td>1000</td>\n",
       "      <td>30720</td>\n",
       "      <td>3000</td>\n",
       "      <td>1950</td>\n",
       "      <td>150</td>\n",
       "      <td>1</td>\n",
       "      <td>1</td>\n",
       "      <td>ultra</td>\n",
       "      <td>1950.0</td>\n",
       "    </tr>\n",
       "    <tr>\n",
       "      <th>3</th>\n",
       "      <td>1000</td>\n",
       "      <td>June</td>\n",
       "      <td>172.0</td>\n",
       "      <td>23233.77</td>\n",
       "      <td>60.0</td>\n",
       "      <td>52</td>\n",
       "      <td>NaT</td>\n",
       "      <td>Краснодар</td>\n",
       "      <td>Рафаил</td>\n",
       "      <td>Верещагин</td>\n",
       "      <td>...</td>\n",
       "      <td>ultra</td>\n",
       "      <td>1000</td>\n",
       "      <td>30720</td>\n",
       "      <td>3000</td>\n",
       "      <td>1950</td>\n",
       "      <td>150</td>\n",
       "      <td>1</td>\n",
       "      <td>1</td>\n",
       "      <td>ultra</td>\n",
       "      <td>1950.0</td>\n",
       "    </tr>\n",
       "    <tr>\n",
       "      <th>4</th>\n",
       "      <td>1000</td>\n",
       "      <td>May</td>\n",
       "      <td>159.0</td>\n",
       "      <td>2253.49</td>\n",
       "      <td>22.0</td>\n",
       "      <td>52</td>\n",
       "      <td>NaT</td>\n",
       "      <td>Краснодар</td>\n",
       "      <td>Рафаил</td>\n",
       "      <td>Верещагин</td>\n",
       "      <td>...</td>\n",
       "      <td>ultra</td>\n",
       "      <td>1000</td>\n",
       "      <td>30720</td>\n",
       "      <td>3000</td>\n",
       "      <td>1950</td>\n",
       "      <td>150</td>\n",
       "      <td>1</td>\n",
       "      <td>1</td>\n",
       "      <td>ultra</td>\n",
       "      <td>1950.0</td>\n",
       "    </tr>\n",
       "  </tbody>\n",
       "</table>\n",
       "<p>5 rows × 21 columns</p>\n",
       "</div>"
      ],
      "text/plain": [
       "   user_id     month  duration   mb_used  messages  age churn_date       city  \\\n",
       "0     1000    August     408.0  14055.93      81.0   52        NaT  Краснодар   \n",
       "1     1000  December     333.0   9817.61      70.0   52        NaT  Краснодар   \n",
       "2     1000      July     340.0  14003.64      75.0   52        NaT  Краснодар   \n",
       "3     1000      June     172.0  23233.77      60.0   52        NaT  Краснодар   \n",
       "4     1000       May     159.0   2253.49      22.0   52        NaT  Краснодар   \n",
       "\n",
       "  first_name  last_name  ... tariff messages_included  mb_per_month_included  \\\n",
       "0     Рафаил  Верещагин  ...  ultra              1000                  30720   \n",
       "1     Рафаил  Верещагин  ...  ultra              1000                  30720   \n",
       "2     Рафаил  Верещагин  ...  ultra              1000                  30720   \n",
       "3     Рафаил  Верещагин  ...  ultra              1000                  30720   \n",
       "4     Рафаил  Верещагин  ...  ultra              1000                  30720   \n",
       "\n",
       "   minutes_included  rub_monthly_fee  rub_per_gb  rub_per_message  \\\n",
       "0              3000             1950         150                1   \n",
       "1              3000             1950         150                1   \n",
       "2              3000             1950         150                1   \n",
       "3              3000             1950         150                1   \n",
       "4              3000             1950         150                1   \n",
       "\n",
       "   rub_per_minute  tariff_name     fee  \n",
       "0               1        ultra  1950.0  \n",
       "1               1        ultra  1950.0  \n",
       "2               1        ultra  1950.0  \n",
       "3               1        ultra  1950.0  \n",
       "4               1        ultra  1950.0  \n",
       "\n",
       "[5 rows x 21 columns]"
      ]
     },
     "execution_count": 39,
     "metadata": {},
     "output_type": "execute_result"
    }
   ],
   "source": [
    "data.head()"
   ]
  },
  {
   "cell_type": "markdown",
   "metadata": {
    "id": "n9fNBvXWZqYC"
   },
   "source": [
    "# 3. Анализ данных\n",
    "*Опишите поведение клиентов оператора, исходя из выборки. Сколько минут разговора, сколько сообщений и какой объём интернет-трафика требуется пользователям каждого тарифа в месяц? Посчитайте среднее количество, дисперсию и стандартное отклонение. Постройте гистограммы. Опишите распределения.*"
   ]
  },
  {
   "cell_type": "markdown",
   "metadata": {
    "id": "91PVYFVV-xN8"
   },
   "source": [
    "Посмотрим на тарифы"
   ]
  },
  {
   "cell_type": "code",
   "execution_count": 40,
   "metadata": {
    "colab": {
     "base_uri": "https://localhost:8080/"
    },
    "id": "Q_mg67gXXZHL",
    "outputId": "7240c938-dc55-4627-99f5-b3662848e666"
   },
   "outputs": [
    {
     "data": {
      "text/plain": [
       "count    2229.000000\n",
       "mean     1289.973531\n",
       "std       818.404367\n",
       "min       550.000000\n",
       "25%       550.000000\n",
       "50%      1023.000000\n",
       "75%      1750.000000\n",
       "max      6770.000000\n",
       "Name: fee, dtype: float64"
      ]
     },
     "execution_count": 40,
     "metadata": {},
     "output_type": "execute_result"
    }
   ],
   "source": [
    "data[data['tariff'] == 'smart']['fee'].describe()"
   ]
  },
  {
   "cell_type": "code",
   "execution_count": 41,
   "metadata": {
    "colab": {
     "base_uri": "https://localhost:8080/"
    },
    "id": "nthCFYAd8RJy",
    "outputId": "1f2b4232-71c1-4e7a-d107-d189e658d846"
   },
   "outputs": [
    {
     "data": {
      "text/plain": [
       "count     985.000000\n",
       "mean     2070.152284\n",
       "std       376.187114\n",
       "min      1950.000000\n",
       "25%      1950.000000\n",
       "50%      1950.000000\n",
       "75%      1950.000000\n",
       "max      4800.000000\n",
       "Name: fee, dtype: float64"
      ]
     },
     "execution_count": 41,
     "metadata": {},
     "output_type": "execute_result"
    }
   ],
   "source": [
    "data[data['tariff'] == 'ultra']['fee'].describe()"
   ]
  },
  {
   "cell_type": "markdown",
   "metadata": {
    "id": "nSf7WiJt-fOT"
   },
   "source": [
    "Итак, у smart клиентов больше, это можно объяснить более низкой абонентской платой, по сравнению с ultra. Но и переплачивают владельцы smart значительно чаще, видимо чего-то им явно не хватает. Посмотрим чего: изучим сколько минут, сообщений и трафика тратят клиенты.\n",
    "\n",
    "Сначала посмотрим на звонки.\n",
    "\n",
    "В smart включено 500 минут разговора.\n",
    "\n",
    "В ultra включено 3000 минут разговора."
   ]
  },
  {
   "cell_type": "code",
   "execution_count": 42,
   "metadata": {
    "colab": {
     "base_uri": "https://localhost:8080/",
     "height": 175
    },
    "id": "a4G8xCKr9LkK",
    "outputId": "4bb2615a-eadc-457e-a1a9-8f255a0f6816"
   },
   "outputs": [
    {
     "data": {
      "text/html": [
       "<style  type=\"text/css\" >\n",
       "</style><table id=\"T_e20bc_\" ><thead>    <tr>        <th class=\"blank level0\" ></th>        <th class=\"col_heading level0 col0\" colspan=\"4\">duration</th>    </tr>    <tr>        <th class=\"blank level1\" ></th>        <th class=\"col_heading level1 col0\" >median</th>        <th class=\"col_heading level1 col1\" >mean</th>        <th class=\"col_heading level1 col2\" >var</th>        <th class=\"col_heading level1 col3\" >std</th>    </tr>    <tr>        <th class=\"index_name level0\" >tariff</th>        <th class=\"blank\" ></th>        <th class=\"blank\" ></th>        <th class=\"blank\" ></th>        <th class=\"blank\" ></th>    </tr></thead><tbody>\n",
       "                <tr>\n",
       "                        <th id=\"T_e20bc_level0_row0\" class=\"row_heading level0 row0\" >smart</th>\n",
       "                        <td id=\"T_e20bc_row0_col0\" class=\"data row0 col0\" >422.00</td>\n",
       "                        <td id=\"T_e20bc_row0_col1\" class=\"data row0 col1\" >417.93</td>\n",
       "                        <td id=\"T_e20bc_row0_col2\" class=\"data row0 col2\" >36219.32</td>\n",
       "                        <td id=\"T_e20bc_row0_col3\" class=\"data row0 col3\" >190.31</td>\n",
       "            </tr>\n",
       "            <tr>\n",
       "                        <th id=\"T_e20bc_level0_row1\" class=\"row_heading level0 row1\" >ultra</th>\n",
       "                        <td id=\"T_e20bc_row1_col0\" class=\"data row1 col0\" >518.00</td>\n",
       "                        <td id=\"T_e20bc_row1_col1\" class=\"data row1 col1\" >526.62</td>\n",
       "                        <td id=\"T_e20bc_row1_col2\" class=\"data row1 col2\" >100873.63</td>\n",
       "                        <td id=\"T_e20bc_row1_col3\" class=\"data row1 col3\" >317.61</td>\n",
       "            </tr>\n",
       "    </tbody></table>"
      ],
      "text/plain": [
       "<pandas.io.formats.style.Styler at 0x7f26f51802e0>"
      ]
     },
     "execution_count": 42,
     "metadata": {},
     "output_type": "execute_result"
    }
   ],
   "source": [
    "data.groupby('tariff')\\\n",
    "  .agg({'duration':['median','mean','var','std']})\\\n",
    "  .style.format(\"{:.2f}\")"
   ]
  },
  {
   "cell_type": "code",
   "execution_count": 43,
   "metadata": {
    "colab": {
     "base_uri": "https://localhost:8080/",
     "height": 336
    },
    "id": "ioVPNziFBquk",
    "outputId": "211f44ea-0ce5-4abb-8807-89dae157de6d"
   },
   "outputs": [
    {
     "data": {
      "image/png": "[encoded data removed]",
      "text/plain": [
       "<Figure size 1080x360 with 2 Axes>"
      ]
     },
     "metadata": {
      "needs_background": "light"
     },
     "output_type": "display_data"
    }
   ],
   "source": [
    "plt.figure(figsize = (15, 5))\n",
    "data[data['tariff'] == 'smart']['duration'].plot(kind='hist', bins=50, ax = plt.subplot(1, 2, 1))\n",
    "plt.title('Смарт — Звонки в минутах в месяц')\n",
    "data[data['tariff'] == 'ultra']['duration'].plot(kind='hist', bins=50, ax = plt.subplot(1, 2, 2))\n",
    "plt.title('Ультра — Звонки в минутах в месяц');"
   ]
  },
  {
   "cell_type": "markdown",
   "metadata": {
    "id": "yxYj__P-Gz7A"
   },
   "source": [
    "На Смарте клиенты проговаривают около 422 минут, и по графику видно, что многим не хватает тарифных 500 минут, и приходится переплачивать. А вот в Ультре среднем наговаривают 518 минут, таким образом в запасе остается почти 2500 минут. За звонки на Ультре не переплачивают. На Ультре есть явный пик около 0 минут, но на статискику в общем он не влият и им можно пренебречь."
   ]
  },
  {
   "cell_type": "markdown",
   "metadata": {
    "id": "3AG0o2jRYou8"
   },
   "source": [
    "Теперь посмотроим на интернет трафик.\n",
    "\n",
    "На Смарте 15Гб трафика.\n",
    "\n",
    "На Ультре 30 Гб трафика."
   ]
  },
  {
   "cell_type": "code",
   "execution_count": 44,
   "metadata": {
    "colab": {
     "base_uri": "https://localhost:8080/",
     "height": 299
    },
    "id": "0n4_4cQcZQ1I",
    "outputId": "bd9bba58-9293-4fc6-f13c-52208ceadc7a"
   },
   "outputs": [
    {
     "data": {
      "text/html": [
       "<div>\n",
       "<style scoped>\n",
       "    .dataframe tbody tr th:only-of-type {\n",
       "        vertical-align: middle;\n",
       "    }\n",
       "\n",
       "    .dataframe tbody tr th {\n",
       "        vertical-align: top;\n",
       "    }\n",
       "\n",
       "    .dataframe thead th {\n",
       "        text-align: right;\n",
       "    }\n",
       "</style>\n",
       "<table border=\"1\" class=\"dataframe\">\n",
       "  <thead>\n",
       "    <tr style=\"text-align: right;\">\n",
       "      <th></th>\n",
       "      <th>user_id</th>\n",
       "      <th>month</th>\n",
       "      <th>duration</th>\n",
       "      <th>mb_used</th>\n",
       "      <th>messages</th>\n",
       "      <th>age</th>\n",
       "      <th>churn_date</th>\n",
       "      <th>city</th>\n",
       "      <th>first_name</th>\n",
       "      <th>last_name</th>\n",
       "      <th>...</th>\n",
       "      <th>messages_included</th>\n",
       "      <th>mb_per_month_included</th>\n",
       "      <th>minutes_included</th>\n",
       "      <th>rub_monthly_fee</th>\n",
       "      <th>rub_per_gb</th>\n",
       "      <th>rub_per_message</th>\n",
       "      <th>rub_per_minute</th>\n",
       "      <th>tariff_name</th>\n",
       "      <th>fee</th>\n",
       "      <th>gb</th>\n",
       "    </tr>\n",
       "  </thead>\n",
       "  <tbody>\n",
       "    <tr>\n",
       "      <th>0</th>\n",
       "      <td>1000</td>\n",
       "      <td>August</td>\n",
       "      <td>408.0</td>\n",
       "      <td>14055.93</td>\n",
       "      <td>81.0</td>\n",
       "      <td>52</td>\n",
       "      <td>NaT</td>\n",
       "      <td>Краснодар</td>\n",
       "      <td>Рафаил</td>\n",
       "      <td>Верещагин</td>\n",
       "      <td>...</td>\n",
       "      <td>1000</td>\n",
       "      <td>30720</td>\n",
       "      <td>3000</td>\n",
       "      <td>1950</td>\n",
       "      <td>150</td>\n",
       "      <td>1</td>\n",
       "      <td>1</td>\n",
       "      <td>ultra</td>\n",
       "      <td>1950.0</td>\n",
       "      <td>14</td>\n",
       "    </tr>\n",
       "    <tr>\n",
       "      <th>1</th>\n",
       "      <td>1000</td>\n",
       "      <td>December</td>\n",
       "      <td>333.0</td>\n",
       "      <td>9817.61</td>\n",
       "      <td>70.0</td>\n",
       "      <td>52</td>\n",
       "      <td>NaT</td>\n",
       "      <td>Краснодар</td>\n",
       "      <td>Рафаил</td>\n",
       "      <td>Верещагин</td>\n",
       "      <td>...</td>\n",
       "      <td>1000</td>\n",
       "      <td>30720</td>\n",
       "      <td>3000</td>\n",
       "      <td>1950</td>\n",
       "      <td>150</td>\n",
       "      <td>1</td>\n",
       "      <td>1</td>\n",
       "      <td>ultra</td>\n",
       "      <td>1950.0</td>\n",
       "      <td>10</td>\n",
       "    </tr>\n",
       "    <tr>\n",
       "      <th>2</th>\n",
       "      <td>1000</td>\n",
       "      <td>July</td>\n",
       "      <td>340.0</td>\n",
       "      <td>14003.64</td>\n",
       "      <td>75.0</td>\n",
       "      <td>52</td>\n",
       "      <td>NaT</td>\n",
       "      <td>Краснодар</td>\n",
       "      <td>Рафаил</td>\n",
       "      <td>Верещагин</td>\n",
       "      <td>...</td>\n",
       "      <td>1000</td>\n",
       "      <td>30720</td>\n",
       "      <td>3000</td>\n",
       "      <td>1950</td>\n",
       "      <td>150</td>\n",
       "      <td>1</td>\n",
       "      <td>1</td>\n",
       "      <td>ultra</td>\n",
       "      <td>1950.0</td>\n",
       "      <td>14</td>\n",
       "    </tr>\n",
       "    <tr>\n",
       "      <th>3</th>\n",
       "      <td>1000</td>\n",
       "      <td>June</td>\n",
       "      <td>172.0</td>\n",
       "      <td>23233.77</td>\n",
       "      <td>60.0</td>\n",
       "      <td>52</td>\n",
       "      <td>NaT</td>\n",
       "      <td>Краснодар</td>\n",
       "      <td>Рафаил</td>\n",
       "      <td>Верещагин</td>\n",
       "      <td>...</td>\n",
       "      <td>1000</td>\n",
       "      <td>30720</td>\n",
       "      <td>3000</td>\n",
       "      <td>1950</td>\n",
       "      <td>150</td>\n",
       "      <td>1</td>\n",
       "      <td>1</td>\n",
       "      <td>ultra</td>\n",
       "      <td>1950.0</td>\n",
       "      <td>23</td>\n",
       "    </tr>\n",
       "    <tr>\n",
       "      <th>4</th>\n",
       "      <td>1000</td>\n",
       "      <td>May</td>\n",
       "      <td>159.0</td>\n",
       "      <td>2253.49</td>\n",
       "      <td>22.0</td>\n",
       "      <td>52</td>\n",
       "      <td>NaT</td>\n",
       "      <td>Краснодар</td>\n",
       "      <td>Рафаил</td>\n",
       "      <td>Верещагин</td>\n",
       "      <td>...</td>\n",
       "      <td>1000</td>\n",
       "      <td>30720</td>\n",
       "      <td>3000</td>\n",
       "      <td>1950</td>\n",
       "      <td>150</td>\n",
       "      <td>1</td>\n",
       "      <td>1</td>\n",
       "      <td>ultra</td>\n",
       "      <td>1950.0</td>\n",
       "      <td>3</td>\n",
       "    </tr>\n",
       "  </tbody>\n",
       "</table>\n",
       "<p>5 rows × 22 columns</p>\n",
       "</div>"
      ],
      "text/plain": [
       "   user_id     month  duration   mb_used  messages  age churn_date       city  \\\n",
       "0     1000    August     408.0  14055.93      81.0   52        NaT  Краснодар   \n",
       "1     1000  December     333.0   9817.61      70.0   52        NaT  Краснодар   \n",
       "2     1000      July     340.0  14003.64      75.0   52        NaT  Краснодар   \n",
       "3     1000      June     172.0  23233.77      60.0   52        NaT  Краснодар   \n",
       "4     1000       May     159.0   2253.49      22.0   52        NaT  Краснодар   \n",
       "\n",
       "  first_name  last_name  ... messages_included mb_per_month_included  \\\n",
       "0     Рафаил  Верещагин  ...              1000                 30720   \n",
       "1     Рафаил  Верещагин  ...              1000                 30720   \n",
       "2     Рафаил  Верещагин  ...              1000                 30720   \n",
       "3     Рафаил  Верещагин  ...              1000                 30720   \n",
       "4     Рафаил  Верещагин  ...              1000                 30720   \n",
       "\n",
       "   minutes_included  rub_monthly_fee  rub_per_gb  rub_per_message  \\\n",
       "0              3000             1950         150                1   \n",
       "1              3000             1950         150                1   \n",
       "2              3000             1950         150                1   \n",
       "3              3000             1950         150                1   \n",
       "4              3000             1950         150                1   \n",
       "\n",
       "   rub_per_minute  tariff_name     fee  gb  \n",
       "0               1        ultra  1950.0  14  \n",
       "1               1        ultra  1950.0  10  \n",
       "2               1        ultra  1950.0  14  \n",
       "3               1        ultra  1950.0  23  \n",
       "4               1        ultra  1950.0   3  \n",
       "\n",
       "[5 rows x 22 columns]"
      ]
     },
     "execution_count": 44,
     "metadata": {},
     "output_type": "execute_result"
    }
   ],
   "source": [
    "# добавим столбец с гигабайтами\n",
    "data['gb'] = data['mb_used'] / 1024\n",
    "data['gb'] = data['gb'].apply(math.ceil)\n",
    "data.head()"
   ]
  },
  {
   "cell_type": "code",
   "execution_count": 45,
   "metadata": {
    "colab": {
     "base_uri": "https://localhost:8080/",
     "height": 175
    },
    "id": "7Q0RG82_E1sK",
    "outputId": "4769f0f3-e800-4079-b5f3-8e76614b3223"
   },
   "outputs": [
    {
     "data": {
      "text/html": [
       "<style  type=\"text/css\" >\n",
       "</style><table id=\"T_b96cf_\" ><thead>    <tr>        <th class=\"blank level0\" ></th>        <th class=\"col_heading level0 col0\" colspan=\"4\">gb</th>    </tr>    <tr>        <th class=\"blank level1\" ></th>        <th class=\"col_heading level1 col0\" >median</th>        <th class=\"col_heading level1 col1\" >mean</th>        <th class=\"col_heading level1 col2\" >var</th>        <th class=\"col_heading level1 col3\" >std</th>    </tr>    <tr>        <th class=\"index_name level0\" >tariff</th>        <th class=\"blank\" ></th>        <th class=\"blank\" ></th>        <th class=\"blank\" ></th>        <th class=\"blank\" ></th>    </tr></thead><tbody>\n",
       "                <tr>\n",
       "                        <th id=\"T_b96cf_level0_row0\" class=\"row_heading level0 row0\" >smart</th>\n",
       "                        <td id=\"T_b96cf_row0_col0\" class=\"data row0 col0\" >17.00</td>\n",
       "                        <td id=\"T_b96cf_row0_col1\" class=\"data row0 col1\" >16.33</td>\n",
       "                        <td id=\"T_b96cf_row0_col2\" class=\"data row0 col2\" >33.03</td>\n",
       "                        <td id=\"T_b96cf_row0_col3\" class=\"data row0 col3\" >5.75</td>\n",
       "            </tr>\n",
       "            <tr>\n",
       "                        <th id=\"T_b96cf_level0_row1\" class=\"row_heading level0 row1\" >ultra</th>\n",
       "                        <td id=\"T_b96cf_row1_col0\" class=\"data row1 col0\" >19.00</td>\n",
       "                        <td id=\"T_b96cf_row1_col1\" class=\"data row1 col1\" >19.49</td>\n",
       "                        <td id=\"T_b96cf_row1_col2\" class=\"data row1 col2\" >97.09</td>\n",
       "                        <td id=\"T_b96cf_row1_col3\" class=\"data row1 col3\" >9.85</td>\n",
       "            </tr>\n",
       "    </tbody></table>"
      ],
      "text/plain": [
       "<pandas.io.formats.style.Styler at 0x7f26f517f370>"
      ]
     },
     "execution_count": 45,
     "metadata": {},
     "output_type": "execute_result"
    }
   ],
   "source": [
    "data.groupby('tariff')\\\n",
    "  .agg({'gb':['median','mean','var','std']})\\\n",
    "  .style.format(\"{:.2f}\")"
   ]
  },
  {
   "cell_type": "code",
   "execution_count": 46,
   "metadata": {
    "colab": {
     "base_uri": "https://localhost:8080/",
     "height": 336
    },
    "id": "KN78XwqEHsY4",
    "outputId": "0a5b62e9-347c-4c59-e8a5-b4d375c8d191"
   },
   "outputs": [
    {
     "data": {
      "image/png": "[encoded data removed]",
      "text/plain": [
       "<Figure size 1080x360 with 2 Axes>"
      ]
     },
     "metadata": {
      "needs_background": "light"
     },
     "output_type": "display_data"
    }
   ],
   "source": [
    "plt.figure(figsize = (15, 5))\n",
    "data[data['tariff'] == 'smart']['gb'].plot(kind='hist', bins=50, ax = plt.subplot(1, 2, 1))\n",
    "plt.title('Смарт — Интернет трафик в Гб в месяц')\n",
    "data[data['tariff'] == 'ultra']['gb'].plot(kind='hist', bins=50, ax = plt.subplot(1, 2, 2))\n",
    "plt.title('Ультра — Интернет трафик в Гб в месяц');"
   ]
  },
  {
   "cell_type": "markdown",
   "metadata": {
    "id": "cppnnzSKLZQq"
   },
   "source": [
    "На Смарте клиенты тратят в среднем 17Гб, при условии 15Гб, включеннных в тариф. А вот на Ультре запас в 30Гб помогает большинству не переплачивать за дополнительный интернет, в среднем используют 19Гб."
   ]
  },
  {
   "cell_type": "markdown",
   "metadata": {
    "id": "URDUTRO2Opyf"
   },
   "source": [
    "Теперь посмотрим на сообщения.\n",
    "\n",
    "На Смарте пакет из 50 смс.\n",
    "\n",
    "На Ультре пакет из 1000 смс."
   ]
  },
  {
   "cell_type": "code",
   "execution_count": 47,
   "metadata": {
    "colab": {
     "base_uri": "https://localhost:8080/",
     "height": 175
    },
    "id": "WIJiK0IULLaM",
    "outputId": "8f032e77-861c-488a-f7bf-72635990556c"
   },
   "outputs": [
    {
     "data": {
      "text/html": [
       "<style  type=\"text/css\" >\n",
       "</style><table id=\"T_3828e_\" ><thead>    <tr>        <th class=\"blank level0\" ></th>        <th class=\"col_heading level0 col0\" colspan=\"4\">messages</th>    </tr>    <tr>        <th class=\"blank level1\" ></th>        <th class=\"col_heading level1 col0\" >median</th>        <th class=\"col_heading level1 col1\" >mean</th>        <th class=\"col_heading level1 col2\" >var</th>        <th class=\"col_heading level1 col3\" >std</th>    </tr>    <tr>        <th class=\"index_name level0\" >tariff</th>        <th class=\"blank\" ></th>        <th class=\"blank\" ></th>        <th class=\"blank\" ></th>        <th class=\"blank\" ></th>    </tr></thead><tbody>\n",
       "                <tr>\n",
       "                        <th id=\"T_3828e_level0_row0\" class=\"row_heading level0 row0\" >smart</th>\n",
       "                        <td id=\"T_3828e_row0_col0\" class=\"data row0 col0\" >28.00</td>\n",
       "                        <td id=\"T_3828e_row0_col1\" class=\"data row0 col1\" >33.38</td>\n",
       "                        <td id=\"T_3828e_row0_col2\" class=\"data row0 col2\" >796.81</td>\n",
       "                        <td id=\"T_3828e_row0_col3\" class=\"data row0 col3\" >28.23</td>\n",
       "            </tr>\n",
       "            <tr>\n",
       "                        <th id=\"T_3828e_level0_row1\" class=\"row_heading level0 row1\" >ultra</th>\n",
       "                        <td id=\"T_3828e_row1_col0\" class=\"data row1 col0\" >38.00</td>\n",
       "                        <td id=\"T_3828e_row1_col1\" class=\"data row1 col1\" >49.36</td>\n",
       "                        <td id=\"T_3828e_row1_col2\" class=\"data row1 col2\" >2285.27</td>\n",
       "                        <td id=\"T_3828e_row1_col3\" class=\"data row1 col3\" >47.80</td>\n",
       "            </tr>\n",
       "    </tbody></table>"
      ],
      "text/plain": [
       "<pandas.io.formats.style.Styler at 0x7f26f2d94f10>"
      ]
     },
     "execution_count": 47,
     "metadata": {},
     "output_type": "execute_result"
    }
   ],
   "source": [
    "data.groupby('tariff')\\\n",
    "  .agg({'messages':['median','mean','var','std']})\\\n",
    "  .style.format(\"{:.2f}\")"
   ]
  },
  {
   "cell_type": "code",
   "execution_count": 48,
   "metadata": {
    "colab": {
     "base_uri": "https://localhost:8080/",
     "height": 336
    },
    "id": "rsjR4z3qPFea",
    "outputId": "71c15642-5d59-4d4f-bc1c-e1cf26720673"
   },
   "outputs": [
    {
     "data": {
      "image/png": "[encoded data removed]",
      "text/plain": [
       "<Figure size 1080x360 with 2 Axes>"
      ]
     },
     "metadata": {
      "needs_background": "light"
     },
     "output_type": "display_data"
    }
   ],
   "source": [
    "plt.figure(figsize = (15, 5))\n",
    "data[data['tariff'] == 'smart']['messages'].plot(kind='hist', bins=50, ax = plt.subplot(1, 2, 1))\n",
    "plt.title('Смарт — Количество сообщений в месяц')\n",
    "data[data['tariff'] == 'ultra']['messages'].plot(kind='hist', bins=50, ax = plt.subplot(1, 2, 2))\n",
    "plt.title('Ультра — Количество сообщений  в месяц');"
   ]
  },
  {
   "cell_type": "markdown",
   "metadata": {
    "id": "8YbdksfEPeXp"
   },
   "source": [
    "Явные нулевые пики есть на обоих тарифах, сообщенимями почти не пользуются. На Смарте в среднем используют 28 смс, на графике видно, что есть клиенты, кому мало 50смс, включенных в пакет, они переплачивают за дополнительные. А вот на Ультре запас в 1000 смс кажется излишним, в среднем в месяц отправляют 38 смс."
   ]
  },
  {
   "cell_type": "markdown",
   "metadata": {
    "id": "nvvvEUiDWorB"
   },
   "source": [
    "# 4. Проверка гипотез\n",
    "\n",
    "**1.средняя выручка пользователей тарифов «Ультра» и «Смарт» различаются;**\n",
    "\n",
    "**2.средняя выручка пользователей из Москвы отличается от выручки пользователей из других регионов.**\n"
   ]
  },
  {
   "cell_type": "markdown",
   "metadata": {
    "id": "9CMpHhAqZVbC"
   },
   "source": [
    "**1. Сформулируем гипотезы**\n",
    "\n",
    "* H0: выручка пользователей тарифов «Ультра» и «Смарт» не различается\n",
    "\n",
    "* H1: выручка пользователей тарифов «Ультра» и «Смарт» различается"
   ]
  },
  {
   "cell_type": "markdown",
   "metadata": {
    "id": "Nw5c-j06c57t"
   },
   "source": [
    "Будем использовать t-критерий Стьюдента, так как сравниваемые выборки независимы между собой."
   ]
  },
  {
   "cell_type": "code",
   "execution_count": 49,
   "metadata": {
    "id": "hZxE73GNPUMf"
   },
   "outputs": [],
   "source": [
    "ultra = data.query('tariff == \"ultra\"')\n",
    "smart = data.query('tariff == \"smart\"')\n"
   ]
  },
  {
   "cell_type": "code",
   "execution_count": 50,
   "metadata": {
    "colab": {
     "base_uri": "https://localhost:8080/"
    },
    "id": "T9ad7K48aW8_",
    "outputId": "1d0402c1-ef37-45cb-bac5-f76c829b0252"
   },
   "outputs": [
    {
     "name": "stdout",
     "output_type": "stream",
     "text": [
      "р-значение:  4.2606313931076085e-250\n",
      "Отвергаем нулевую гипотезу\n"
     ]
    }
   ],
   "source": [
    "alpha = 0.05 # стандартный критический уровень статистической значимости\n",
    "results = st.ttest_ind(ultra['fee'], smart['fee'], equal_var = False) # значение False, так как выборки разного размера.\n",
    "print('р-значение: ', results.pvalue)\n",
    "if results.pvalue < alpha:\n",
    "    print('Отвергаем нулевую гипотезу')\n",
    "else:\n",
    "    print('Не получилось отвергнуть нулевую гипотезу')"
   ]
  },
  {
   "cell_type": "markdown",
   "metadata": {
    "id": "Z9x5yVt8ds3f"
   },
   "source": [
    "**2. Сформулируем гипотезы**\n",
    "\n",
    "* H0: средняя выручка пользователей из Москвы не отличается от выручки пользователей из других регионов\n",
    "* H1: средняя выручка пользователей из Москвы отличается от выручки пользователей из других регионов"
   ]
  },
  {
   "cell_type": "code",
   "execution_count": 51,
   "metadata": {
    "colab": {
     "base_uri": "https://localhost:8080/"
    },
    "id": "f0dq2xNCcjWH",
    "outputId": "6260eb86-cb78-4cb4-a8a5-d8e242ce9f3c"
   },
   "outputs": [
    {
     "data": {
      "text/plain": [
       "array(['Краснодар', 'Москва', 'Стерлитамак', 'Новокузнецк',\n",
       "       'Набережные Челны', 'Ульяновск', 'Челябинск', 'Пермь', 'Тюмень',\n",
       "       'Самара', 'Санкт-Петербург', 'Иваново', 'Чебоксары', 'Омск', 'Уфа',\n",
       "       'Томск', 'Чита', 'Мурманск', 'Петрозаводск', 'Тверь',\n",
       "       'Екатеринбург', 'Махачкала', 'Вологда', 'Череповец', 'Ярославль',\n",
       "       'Сочи', 'Хабаровск', 'Ставрополь', 'Рязань', 'Улан-Удэ', 'Тула',\n",
       "       'Саратов', 'Ростов-на-Дону', 'Казань', 'Иркутск', 'Курск',\n",
       "       'Калуга', 'Якутск', 'Астрахань', 'Химки', 'Владикавказ',\n",
       "       'Волгоград', 'Саранск', 'Ижевск', 'Новосибирск', 'Брянск',\n",
       "       'Тольятти', 'Нижний Тагил', 'Орёл', 'Белгород', 'Воронеж',\n",
       "       'Курган', 'Барнаул', 'Красноярск', 'Архангельск', 'Липецк',\n",
       "       'Кемерово', 'Киров', 'Сургут', 'Пенза', 'Волжский', 'Магнитогорск',\n",
       "       'Нижний Новгород', 'Кострома', 'Владивосток', 'Тамбов', 'Балашиха',\n",
       "       'Севастополь', 'Калининград', 'Оренбург', 'Смоленск',\n",
       "       'Нижневартовск', 'Владимир', 'Новороссийск', 'Грозный', 'Подольск'],\n",
       "      dtype=object)"
      ]
     },
     "execution_count": 51,
     "metadata": {},
     "output_type": "execute_result"
    }
   ],
   "source": [
    "data['city'].unique()"
   ]
  },
  {
   "cell_type": "code",
   "execution_count": 52,
   "metadata": {
    "id": "WvEZL8XLeH5g"
   },
   "outputs": [],
   "source": [
    "data['region'] = np.where(data['city'] == 'Москва', 'Москва', 'Провинция')"
   ]
  },
  {
   "cell_type": "code",
   "execution_count": 53,
   "metadata": {
    "id": "4RMSiPKIg0oO"
   },
   "outputs": [],
   "source": [
    "moscow = data[data['region'] == 'Москва']\n",
    "province = data[data['region'] == 'Провинция']"
   ]
  },
  {
   "cell_type": "code",
   "execution_count": 54,
   "metadata": {
    "colab": {
     "base_uri": "https://localhost:8080/"
    },
    "id": "9LCflgsWhOdv",
    "outputId": "59512d6e-44e6-4de6-f3f9-0f67a34cdef1"
   },
   "outputs": [
    {
     "name": "stdout",
     "output_type": "stream",
     "text": [
      "р-значение:  0.5257376663729298\n",
      "Не получилось отвергнуть нулевую гипотезу\n"
     ]
    }
   ],
   "source": [
    "alpha = 0.05 # стандартный критический уровень статистической значимости\n",
    "results = st.ttest_ind(moscow['fee'], province['fee'], equal_var = False) # значение False, так как выборки разного размера.\n",
    "print('р-значение: ', results.pvalue)\n",
    "if results.pvalue < alpha:\n",
    "    print('Отвергаем нулевую гипотезу')\n",
    "else:\n",
    "    print('Не получилось отвергнуть нулевую гипотезу')"
   ]
  },
  {
   "cell_type": "markdown",
   "metadata": {
    "id": "Oiql4bpsiWm4"
   },
   "source": [
    "С вероятностью в 52% такой результат может быть получен случайно. Значимых различий нет.\n",
    "\n"
   ]
  },
  {
   "cell_type": "markdown",
   "metadata": {
    "id": "8jw20W2si7On"
   },
   "source": [
    "# 5. Общий вывод\n",
    "Пользователям тарифа Smart часто не хватает пакета минут и Гб, поэтому им часто приходится покупать дополнительные. В среднем пользователи Smarta приносят около 1300 руб (переплата 750руб по сравнению с ежемесячной платой). Клиенты могут быть недовольны такими переплатами, ведь изначально они настраивались на 550 руб.\n",
    "\n",
    "Пользователям тарифа Ultra и минут, и Гб, и тем более смс хватает с избытком, переплаты происходят крайне редко. В среднем пользователи тарифа Ultra приносят около 2070 руб (переплата всего 120 руб по сравнению с ежемесячной платой).\n",
    "\n",
    "Гипотеза, что выручка пользователей тарифов «Ультра» и «Смарт» не различается была отвергнута, поэтому можем делать выводы по среднему.\n",
    "\n",
    "Ultra - тариф который приносит больше денег. Рекламный бюджет следует скорректировать в его пользу. \n",
    "\n",
    "\n"
   ]
  }
 ],
 "metadata": {
  "ExecuteTimeLog": [
   {
    "duration": 1421,
    "start_time": "2022-03-17T21:01:29.963Z"
   },
   {
    "duration": 382,
    "start_time": "2022-03-17T21:01:31.387Z"
   },
   {
    "duration": 13,
    "start_time": "2022-03-17T21:01:31.771Z"
   },
   {
    "duration": 42,
    "start_time": "2022-03-17T21:01:31.788Z"
   },
   {
    "duration": 64,
    "start_time": "2022-03-17T21:01:31.833Z"
   },
   {
    "duration": 138,
    "start_time": "2022-03-17T21:01:31.900Z"
   },
   {
    "duration": 35,
    "start_time": "2022-03-17T21:01:32.041Z"
   },
   {
    "duration": 15,
    "start_time": "2022-03-17T21:01:32.079Z"
   },
   {
    "duration": 480,
    "start_time": "2022-03-17T21:01:32.097Z"
   },
   {
    "duration": 33,
    "start_time": "2022-03-17T21:01:32.580Z"
   },
   {
    "duration": 61,
    "start_time": "2022-03-17T21:01:32.615Z"
   },
   {
    "duration": 50,
    "start_time": "2022-03-17T21:01:32.679Z"
   },
   {
    "duration": 48,
    "start_time": "2022-03-17T21:01:32.732Z"
   },
   {
    "duration": 264,
    "start_time": "2022-03-17T21:01:32.782Z"
   },
   {
    "duration": 27,
    "start_time": "2022-03-17T21:01:33.048Z"
   },
   {
    "duration": 29,
    "start_time": "2022-03-17T21:01:33.077Z"
   },
   {
    "duration": 21,
    "start_time": "2022-03-17T21:01:33.109Z"
   },
   {
    "duration": 104,
    "start_time": "2022-03-17T21:01:33.172Z"
   },
   {
    "duration": 19,
    "start_time": "2022-03-17T21:01:33.279Z"
   },
   {
    "duration": 82,
    "start_time": "2022-03-17T21:01:33.301Z"
   },
   {
    "duration": 21,
    "start_time": "2022-03-17T21:01:33.385Z"
   },
   {
    "duration": 9,
    "start_time": "2022-03-17T21:01:33.410Z"
   },
   {
    "duration": 48,
    "start_time": "2022-03-17T21:01:33.421Z"
   },
   {
    "duration": 108,
    "start_time": "2022-03-17T21:01:33.473Z"
   },
   {
    "duration": 13,
    "start_time": "2022-03-17T21:01:33.583Z"
   },
   {
    "duration": 51,
    "start_time": "2022-03-17T21:01:33.599Z"
   },
   {
    "duration": 10,
    "start_time": "2022-03-17T21:01:33.668Z"
   },
   {
    "duration": 16,
    "start_time": "2022-03-17T21:01:33.686Z"
   },
   {
    "duration": 93,
    "start_time": "2022-03-17T21:01:33.705Z"
   },
   {
    "duration": 37,
    "start_time": "2022-03-17T21:01:33.800Z"
   },
   {
    "duration": 4,
    "start_time": "2022-03-17T21:01:33.840Z"
   },
   {
    "duration": 11,
    "start_time": "2022-03-17T21:01:33.868Z"
   },
   {
    "duration": 108,
    "start_time": "2022-03-17T21:01:33.882Z"
   },
   {
    "duration": 44,
    "start_time": "2022-03-17T21:01:33.993Z"
   },
   {
    "duration": 58,
    "start_time": "2022-03-17T21:01:34.039Z"
   },
   {
    "duration": 26,
    "start_time": "2022-03-17T21:01:34.099Z"
   },
   {
    "duration": 12,
    "start_time": "2022-03-17T21:01:34.128Z"
   },
   {
    "duration": 224,
    "start_time": "2022-03-17T21:01:34.169Z"
   },
   {
    "duration": 35,
    "start_time": "2022-03-17T21:01:34.395Z"
   },
   {
    "duration": 36,
    "start_time": "2022-03-17T21:01:34.433Z"
   },
   {
    "duration": 15,
    "start_time": "2022-03-17T21:01:34.471Z"
   },
   {
    "duration": 92,
    "start_time": "2022-03-17T21:01:34.488Z"
   },
   {
    "duration": 678,
    "start_time": "2022-03-17T21:01:34.583Z"
   },
   {
    "duration": 40,
    "start_time": "2022-03-17T21:01:35.267Z"
   },
   {
    "duration": 17,
    "start_time": "2022-03-17T21:01:35.309Z"
   },
   {
    "duration": 645,
    "start_time": "2022-03-17T21:01:35.328Z"
   },
   {
    "duration": 17,
    "start_time": "2022-03-17T21:01:35.975Z"
   },
   {
    "duration": 877,
    "start_time": "2022-03-17T21:01:35.995Z"
   },
   {
    "duration": 17,
    "start_time": "2022-03-17T21:01:36.875Z"
   },
   {
    "duration": 11,
    "start_time": "2022-03-17T21:01:36.894Z"
   },
   {
    "duration": 7,
    "start_time": "2022-03-17T21:01:36.908Z"
   },
   {
    "duration": 50,
    "start_time": "2022-03-17T21:01:36.918Z"
   },
   {
    "duration": 14,
    "start_time": "2022-03-17T21:01:36.970Z"
   },
   {
    "duration": 8,
    "start_time": "2022-03-17T21:01:36.987Z"
   }
  ],
  "colab": {
   "collapsed_sections": [],
   "name": "Статистический анализ.ipynb",
   "provenance": [],
   "toc_visible": true
  },
  "kernelspec": {
   "display_name": "Python 3 (ipykernel)",
   "language": "python",
   "name": "python3"
  },
  "language_info": {
   "codemirror_mode": {
    "name": "ipython",
    "version": 3
   },
   "file_extension": ".py",
   "mimetype": "text/x-python",
   "name": "python",
   "nbconvert_exporter": "python",
   "pygments_lexer": "ipython3",
   "version": "3.9.7"
  },
  "toc": {
   "base_numbering": 1,
   "nav_menu": {},
   "number_sections": true,
   "sideBar": true,
   "skip_h1_title": true,
   "title_cell": "Table of Contents",
   "title_sidebar": "Contents",
   "toc_cell": false,
   "toc_position": {
    "height": "calc(100% - 180px)",
    "left": "10px",
    "top": "150px",
    "width": "425.764px"
   },
   "toc_section_display": true,
   "toc_window_display": true
  }
 },
 "nbformat": 4,
 "nbformat_minor": 1
}
